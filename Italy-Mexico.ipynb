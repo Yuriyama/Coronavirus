{
 "cells": [
  {
   "cell_type": "markdown",
   "metadata": {},
   "source": [
    "# Coronavirus: Italia -> México"
   ]
  },
  {
   "cell_type": "code",
   "execution_count": 2,
   "metadata": {},
   "outputs": [],
   "source": [
    "using DelimitedFiles"
   ]
  },
  {
   "cell_type": "code",
   "execution_count": 3,
   "metadata": {},
   "outputs": [
    {
     "data": {
      "text/plain": [
       "74×1 Array{String,2}:\n",
       " \"PSR\"\n",
       " \"ALL\"\n",
       " \"AHO\"\n",
       " \"AOI\"\n",
       " \"AOT\"\n",
       " \"QZO\"\n",
       " \"AVB\"\n",
       " \"BRI\"\n",
       " \"BLX\"\n",
       " \"BLQ\"\n",
       " \"BZO\"\n",
       " \"VBS\"\n",
       " \"BDS\"\n",
       " ⋮    \n",
       " \"TAR\"\n",
       " \"TTB\"\n",
       " \"ZIA\"\n",
       " \"TSF\"\n",
       " \"TRS\"\n",
       " \"UDN\"\n",
       " \"QVA\"\n",
       " \"VCE\"\n",
       " \"VRN\"\n",
       " \"VIC\"\n",
       " \"VIF\"\n",
       " \"TPS\""
      ]
     },
     "execution_count": 3,
     "metadata": {},
     "output_type": "execute_result"
    }
   ],
   "source": [
    "italia_aerop = readdlm(\"/Users/yuriko/Documents/UNAM/Tesis_Lic/Articulo/italia_airp.csv\", ',', String)"
   ]
  },
  {
   "cell_type": "code",
   "execution_count": 7,
   "metadata": {},
   "outputs": [
    {
     "data": {
      "text/plain": [
       "1×1 Array{Int64,2}:\n",
       " 167"
      ]
     },
     "execution_count": 7,
     "metadata": {},
     "output_type": "execute_result"
    }
   ],
   "source": [
    "num1_mx_inf = readdlm(\"/Users/yuriko/Downloads/codejulia/datart/global/caminatas/global_cantidad_inf_MX_t1.csv\", ',', Int64)\n",
    "num2_mx_inf = readdlm(\"/Users/yuriko/Downloads/codejulia/datart/global/caminatas/global_cantidad_inf_MX_t2.csv\", ',', Int64)"
   ]
  },
  {
   "cell_type": "code",
   "execution_count": 12,
   "metadata": {
    "scrolled": true
   },
   "outputs": [
    {
     "data": {
      "text/plain": [
       "85×1 Array{Int64,2}:\n",
       " 180\n",
       " 731\n",
       " 219\n",
       " 590\n",
       "  35\n",
       "  40\n",
       " 435\n",
       " 211\n",
       "  60\n",
       " 112\n",
       " 277\n",
       " 171\n",
       "   9\n",
       "   ⋮\n",
       " 822\n",
       "  84\n",
       "  33\n",
       "  55\n",
       " 327\n",
       " 132\n",
       "  36\n",
       " 210\n",
       "  67\n",
       " 248\n",
       "  21\n",
       "  56"
      ]
     },
     "execution_count": 12,
     "metadata": {},
     "output_type": "execute_result"
    }
   ],
   "source": [
    "pos1_mx_inf = readdlm(\"/Users/yuriko/Downloads/codejulia/datart/global/caminatas/global_posiciones_MX_t1.csv\", ',', Int64)"
   ]
  },
  {
   "cell_type": "code",
   "execution_count": 9,
   "metadata": {},
   "outputs": [
    {
     "data": {
      "text/plain": [
       "85×1001 Array{String,2}:\n",
       " \"WUH\"  \"SHA\"  \"URC\"  \"TPE\"  \"HKD\"  …  \"ISB\"  \"MCT\"  \"BAH\"  \"BKK\"  \"HKG\"\n",
       " \"WUH\"  \"YNT\"  \"HGH\"  \"WUH\"  \"HET\"     \"NBO\"  \"LVI\"  \"JNB\"  \"DAR\"  \"HAH\"\n",
       " \"WUH\"  \"LZH\"  \"KMG\"  \"CZX\"  \"FOC\"     \"JFK\"  \"IAD\"  \"PEK\"  \"GYD\"  \"NBC\"\n",
       " \"WUH\"  \"WNZ\"  \"CTU\"  \"KMG\"  \"CNX\"     \" \"    \" \"    \" \"    \" \"    \" \"  \n",
       " \"WUH\"  \"SIN\"  \"LOP\"  \"SUB\"  \"UPG\"     \" \"    \" \"    \" \"    \" \"    \" \"  \n",
       " \"WUH\"  \"HAK\"  \"CGD\"  \"CAN\"  \"SIN\"  …  \" \"    \" \"    \" \"    \" \"    \" \"  \n",
       " \"WUH\"  \"AQG\"  \"XMN\"  \"HAK\"  \"KMG\"     \"LPA\"  \"STR\"  \"FNC\"  \"HAJ\"  \"BHX\"\n",
       " \"WUH\"  \"XNN\"  \"URC\"  \"TBS\"  \"RIX\"     \"CLT\"  \"VPS\"  \"ATL\"  \"HSV\"  \"ATL\"\n",
       " \"WUH\"  \"SZX\"  \"HGH\"  \"HKG\"  \"DMK\"     \" \"    \" \"    \" \"    \" \"    \" \"  \n",
       " \"WUH\"  \"LYI\"  \"XIY\"  \"RLK\"  \"HET\"     \" \"    \" \"    \" \"    \" \"    \" \"  \n",
       " \"WUH\"  \"PEK\"  \"JJN\"  \"HGH\"  \"CAN\"  …  \" \"    \" \"    \" \"    \" \"    \" \"  \n",
       " \"WUH\"  \"NTG\"  \"DLC\"  \"CJU\"  \"TSN\"     \"AMS\"  \"IAH\"  \"YVR\"  \"PVR\"  \"SAN\"\n",
       " \"WUH\"  \"NNG\"  \"PEK\"  \"MRU\"  \"LHR\"     \"LEJ\"  \"HER\"  \"ATH\"  \"HER\"  \"MAN\"\n",
       " ⋮                                  ⋱                              ⋮    \n",
       " \"WUH\"  \"BAV\"  \"NAY\"  \"JIC\"  \"NAY\"     \"STR\"  \"LEJ\"  \"LPA\"  \"BHX\"  \"DBV\"\n",
       " \"WUH\"  \"LHW\"  \"CTU\"  \"CGO\"  \"KRL\"     \" \"    \" \"    \" \"    \" \"    \" \"  \n",
       " \"WUH\"  \"AQG\"  \"PEK\"  \"XIY\"  \"WXN\"  …  \"INC\"  \"URC\"  \"HET\"  \"CSX\"  \"LYI\"\n",
       " \"WUH\"  \"MFM\"  \"KIX\"  \"PUS\"  \"HGH\"     \"LHR\"  \"LAS\"  \"EUG\"  \"AZA\"  \"ATW\"\n",
       " \"WUH\"  \"INC\"  \"XUZ\"  \"SZX\"  \"KWE\"     \"ZUH\"  \"CTU\"  \"CAN\"  \"HGH\"  \"CAN\"\n",
       " \"WUH\"  \"SHE\"  \"HGH\"  \"XFN\"  \"SZX\"     \"PHE\"  \"DPS\"  \"KIX\"  \"BKK\"  \"KWI\"\n",
       " \"WUH\"  \"YTY\"  \"XIY\"  \"HRB\"  \"NZH\"     \"GOI\"  \"BOM\"  \"ZRH\"  \"SPU\"  \"MUC\"\n",
       " \"WUH\"  \"TNA\"  \"WUS\"  \"HKG\"  \"BNE\"  …  \" \"    \" \"    \" \"    \" \"    \" \"  \n",
       " \"WUH\"  \"YNZ\"  \"PEK\"  \"DAT\"  \"CIH\"     \"DAY\"  \"DTW\"  \"ORF\"  \"DCA\"  \"ORD\"\n",
       " \"WUH\"  \"HET\"  \"CTU\"  \"TXN\"  \"CSX\"     \" \"    \" \"    \" \"    \" \"    \" \"  \n",
       " \"WUH\"  \"BAV\"  \"NKG\"  \"NRT\"  \"KHV\"     \"ATL\"  \"LAS\"  \"MFE\"  \"MEX\"  \"CEN\"\n",
       " \"WUH\"  \"CIH\"  \"SHA\"  \"WUH\"  \"WNZ\"     \"FAO\"  \"SID\"  \"LIS\"  \"GIG\"  \"BEL\""
      ]
     },
     "execution_count": 9,
     "metadata": {},
     "output_type": "execute_result"
    }
   ],
   "source": [
    "mx_inf1 = readdlm(\"/Users/yuriko/Downloads/codejulia/datart/global/caminatas/global_subconj_inf_MX_t1.csv\", ',', String)"
   ]
  },
  {
   "cell_type": "code",
   "execution_count": 92,
   "metadata": {},
   "outputs": [
    {
     "data": {
      "text/plain": [
       "busca_vuelos_italia_inf (generic function with 1 method)"
      ]
     },
     "execution_count": 92,
     "metadata": {},
     "output_type": "execute_result"
    }
   ],
   "source": [
    "function busca_vuelos_italia_inf(mx_inf, pos_mx_inf, lista_it)\n",
    "\n",
    "    li = length(lista_it)\n",
    "    rw_MX = mx_inf\n",
    "    pos_mx = pos_mx_inf\n",
    "    lm = size(mx_inf)[1]\n",
    "    pos_it_rel = []\n",
    "    posicion_it = []\n",
    "    cont_it = 0\n",
    "    caminata_con_inf = []\n",
    "    min_pos_mx = []\n",
    "    contIT = 0\n",
    "    camIT = []\n",
    "\n",
    "    for i in 1:lm\n",
    "        #@show i\n",
    "\n",
    "        for j in 1:li\n",
    "            #@show j\n",
    "            pertenencia_it = lista_it[j] in rw_MX[i,:] #[2:end]\n",
    "\n",
    "                if pertenencia_it == true\n",
    "\n",
    "                    posit_rel = findfirst(x -> x == lista_it[j], rw_MX[i,:])\n",
    "                    push!(pos_it_rel, posit_rel)\n",
    "                    \n",
    "                elseif continue\n",
    "                end\n",
    "        end\n",
    "\n",
    "        if pos_it_rel != []\n",
    "\n",
    "            cont_it += 1\n",
    "            push!(posicion_it, minimum(pos_it_rel))\n",
    "            push!(caminata_con_inf, rw_MX[i,:])\n",
    "            push!(min_pos_mx, pos_mx[i])\n",
    "\n",
    "            pos_it_rel = []\n",
    "        elseif continue\n",
    "        end\n",
    "\n",
    "    end\n",
    "    \n",
    "    for k in 1:length(caminata_con_inf)\n",
    "\n",
    "\n",
    "        if posicion_it[k] < min_pos_mx[k]\n",
    "\n",
    "            contIT += 1\n",
    "            push!(camIT, caminata_con_inf[k])\n",
    "\n",
    "        end\n",
    "\n",
    "    end\n",
    "    \n",
    "    return contIT, camIT #cont_it, caminata_con_inf, posicion_it, min_pos_mx, \n",
    "end\n"
   ]
  },
  {
   "cell_type": "code",
   "execution_count": 93,
   "metadata": {
    "scrolled": false
   },
   "outputs": [
    {
     "data": {
      "text/plain": [
       "(68, Any[[\"WUH\", \"SHA\", \"URC\", \"TPE\", \"HKD\", \"TPE\", \"KOJ\", \"FSZ\", \"KOJ\", \"UKB\"  …  \"MQF\", \"SVX\", \"MRV\", \"DXB\", \"SKT\", \"ISB\", \"MCT\", \"BAH\", \"BKK\", \"HKG\"], [\"WUH\", \"YNT\", \"HGH\", \"WUH\", \"HET\", \"NZH\", \"OVB\", \"PYJ\", \"OVB\", \"EVN\"  …  \"MDK\", \"FIH\", \"FBM\", \"NBO\", \"APL\", \"NBO\", \"LVI\", \"JNB\", \"DAR\", \"HAH\"], [\"WUH\", \"LZH\", \"KMG\", \"CZX\", \"FOC\", \"MFM\", \"NKG\", \"KMG\", \"BSD\", \"KMG\"  …  \"HYD\", \"VGA\", \"HYD\", \"BKK\", \"AMM\", \"JFK\", \"IAD\", \"PEK\", \"GYD\", \"NBC\"], [\"WUH\", \"WNZ\", \"CTU\", \"KMG\", \"CNX\", \"UTH\", \"DMK\", \"NAW\", \"DMK\", \"HKG\"  …  \" \", \" \", \" \", \" \", \" \", \" \", \" \", \" \", \" \", \" \"], [\"WUH\", \"SIN\", \"LOP\", \"SUB\", \"UPG\", \"DJJ\", \"UPG\", \"KUL\", \"BKK\", \"FCO\"  …  \" \", \" \", \" \", \" \", \" \", \" \", \" \", \" \", \" \", \" \"], [\"WUH\", \"AQG\", \"XMN\", \"HAK\", \"KMG\", \"YIC\", \"KMG\", \"KHH\", \"XMN\", \"WUS\"  …  \"BGF\", \"CMN\", \"CUF\", \"CMN\", \"TFN\", \"LPA\", \"STR\", \"FNC\", \"HAJ\", \"BHX\"], [\"WUH\", \"XNN\", \"URC\", \"TBS\", \"RIX\", \"AMS\", \"INN\", \"EIN\", \"AHO\", \"AOI\"  …  \"LGA\", \"FLL\", \"LGA\", \"ATL\", \"CAK\", \"CLT\", \"VPS\", \"ATL\", \"HSV\", \"ATL\"], [\"WUH\", \"LYI\", \"XIY\", \"RLK\", \"HET\", \"TSN\", \"WUH\", \"HGH\", \"TAO\", \"BKK\"  …  \" \", \" \", \" \", \" \", \" \", \" \", \" \", \" \", \" \", \" \"], [\"WUH\", \"PEK\", \"JJN\", \"HGH\", \"CAN\", \"DEL\", \"RPR\", \"CCU\", \"HYD\", \"VTZ\"  …  \" \", \" \", \" \", \" \", \" \", \" \", \" \", \" \", \" \", \" \"], [\"WUH\", \"NTG\", \"DLC\", \"CJU\", \"TSN\", \"XNN\", \"CSX\", \"BHY\", \"CKG\", \"KRL\"  …  \"LAX\", \"CDG\", \"CPH\", \"LHR\", \"NBO\", \"AMS\", \"IAH\", \"YVR\", \"PVR\", \"SAN\"]  …  [\"WUH\", \"CGQ\", \"HFE\", \"LHW\", \"YCU\", \"WUH\", \"KHN\", \"NKG\", \"DSN\", \"SJW\"  …  \"DEN\", \"SJC\", \"SEA\", \"ABQ\", \"IAH\", \"EWR\", \"EDI\", \"BSL\", \"VCE\", \"LYS\"], [\"WUH\", \"PUS\", \"HGH\", \"JHG\", \"LJG\", \"ICN\", \"UUS\", \"HRB\", \"CIF\", \"NKG\"  …  \" \", \" \", \" \", \" \", \" \", \" \", \" \", \" \", \" \", \" \"], [\"WUH\", \"NTG\", \"CKG\", \"KWE\", \"SYX\", \"XIY\", \"KWE\", \"WUZ\", \"KWE\", \"HGH\"  …  \" \", \" \", \" \", \" \", \" \", \" \", \" \", \" \", \" \", \" \"], [\"WUH\", \"LYG\", \"HGH\", \"XMN\", \"HSN\", \"LYG\", \"PEK\", \"YCU\", \"PVG\", \"FCO\"  …  \"DTW\", \"PUJ\", \"JFK\", \"FRA\", \"HOG\", \"YYZ\", \"PUJ\", \"MAD\", \"LIM\", \"CJA\"], [\"WUH\", \"BAV\", \"NAY\", \"JIC\", \"NAY\", \"FUO\", \"NAY\", \"NDG\", \"NAY\", \"XFN\"  …  \"LPA\", \"MUC\", \"ACE\", \"LGW\", \"LPA\", \"STR\", \"LEJ\", \"LPA\", \"BHX\", \"DBV\"], [\"WUH\", \"LHW\", \"CTU\", \"CGO\", \"KRL\", \"CKG\", \"FOC\", \"TPE\", \"VIE\", \"CAI\"  …  \" \", \" \", \" \", \" \", \" \", \" \", \" \", \" \", \" \", \" \"], [\"WUH\", \"INC\", \"XUZ\", \"SZX\", \"KWE\", \"ZUH\", \"YIW\", \"CGO\", \"KHH\", \"HAN\"  …  \"XMN\", \"ZUH\", \"FOC\", \"ZUH\", \"HYN\", \"ZUH\", \"CTU\", \"CAN\", \"HGH\", \"CAN\"], [\"WUH\", \"SHE\", \"HGH\", \"XFN\", \"SZX\", \"RMQ\", \"NGB\", \"SZX\", \"HAK\", \"TPE\"  …  \"MFM\", \"FOC\", \"HFE\", \"CAN\", \"MEL\", \"PHE\", \"DPS\", \"KIX\", \"BKK\", \"KWI\"], [\"WUH\", \"YNZ\", \"PEK\", \"DAT\", \"CIH\", \"TSN\", \"ICN\", \"BKK\", \"PEK\", \"OKA\"  …  \"PHL\", \"MBJ\", \"YYZ\", \"BDA\", \"ATL\", \"DAY\", \"DTW\", \"ORF\", \"DCA\", \"ORD\"], [\"WUH\", \"HET\", \"CTU\", \"TXN\", \"CSX\", \"LJG\", \"WUH\", \"NTG\", \"PEK\", \"MDG\"  …  \" \", \" \", \" \", \" \", \" \", \" \", \" \", \" \", \" \", \" \"]])"
      ]
     },
     "execution_count": 93,
     "metadata": {},
     "output_type": "execute_result"
    }
   ],
   "source": [
    "busca_vuelos_italia_inf(mx_inf1, pos1_mx_inf, italia_aerop)"
   ]
  },
  {
   "cell_type": "code",
   "execution_count": 86,
   "metadata": {},
   "outputs": [
    {
     "data": {
      "text/plain": [
       "167×1 Array{Int64,2}:\n",
       " 180\n",
       " 731\n",
       " 219\n",
       " 590\n",
       "  35\n",
       "  40\n",
       " 435\n",
       " 211\n",
       "  60\n",
       " 112\n",
       " 277\n",
       " 171\n",
       "   9\n",
       "   ⋮\n",
       " 217\n",
       " 316\n",
       " 331\n",
       " 218\n",
       "  53\n",
       " 443\n",
       " 151\n",
       " 462\n",
       "  36\n",
       " 404\n",
       " 199\n",
       " 197"
      ]
     },
     "execution_count": 86,
     "metadata": {},
     "output_type": "execute_result"
    }
   ],
   "source": [
    "pos2_mx_inf = readdlm(\"/Users/yuriko/Downloads/codejulia/datart/global/caminatas/global_posiciones_MX_t2.csv\", ',', Int64)"
   ]
  },
  {
   "cell_type": "code",
   "execution_count": 87,
   "metadata": {},
   "outputs": [
    {
     "data": {
      "text/plain": [
       "167×1001 Array{String,2}:\n",
       " \"WUH\"  \"SHA\"  \"URC\"  \"TPE\"  \"HKD\"  …  \"ISB\"  \"MCT\"  \"BAH\"  \"BKK\"  \"HKG\"\n",
       " \"WUH\"  \"YNT\"  \"HGH\"  \"WUH\"  \"HET\"     \"NBO\"  \"LVI\"  \"JNB\"  \"DAR\"  \"HAH\"\n",
       " \"WUH\"  \"LZH\"  \"KMG\"  \"CZX\"  \"FOC\"     \"JFK\"  \"IAD\"  \"PEK\"  \"GYD\"  \"NBC\"\n",
       " \"WUH\"  \"WNZ\"  \"CTU\"  \"KMG\"  \"CNX\"     \" \"    \" \"    \" \"    \" \"    \" \"  \n",
       " \"WUH\"  \"SIN\"  \"LOP\"  \"SUB\"  \"UPG\"     \" \"    \" \"    \" \"    \" \"    \" \"  \n",
       " \"WUH\"  \"HAK\"  \"CGD\"  \"CAN\"  \"SIN\"  …  \" \"    \" \"    \" \"    \" \"    \" \"  \n",
       " \"WUH\"  \"AQG\"  \"XMN\"  \"HAK\"  \"KMG\"     \"LPA\"  \"STR\"  \"FNC\"  \"HAJ\"  \"BHX\"\n",
       " \"WUH\"  \"XNN\"  \"URC\"  \"TBS\"  \"RIX\"     \"CLT\"  \"VPS\"  \"ATL\"  \"HSV\"  \"ATL\"\n",
       " \"WUH\"  \"SZX\"  \"HGH\"  \"HKG\"  \"DMK\"     \" \"    \" \"    \" \"    \" \"    \" \"  \n",
       " \"WUH\"  \"LYI\"  \"XIY\"  \"RLK\"  \"HET\"     \" \"    \" \"    \" \"    \" \"    \" \"  \n",
       " \"WUH\"  \"PEK\"  \"JJN\"  \"HGH\"  \"CAN\"  …  \" \"    \" \"    \" \"    \" \"    \" \"  \n",
       " \"WUH\"  \"NTG\"  \"DLC\"  \"CJU\"  \"TSN\"     \"AMS\"  \"IAH\"  \"YVR\"  \"PVR\"  \"SAN\"\n",
       " \"WUH\"  \"NNG\"  \"PEK\"  \"MRU\"  \"LHR\"     \"LEJ\"  \"HER\"  \"ATH\"  \"HER\"  \"MAN\"\n",
       " ⋮                                  ⋱                              ⋮    \n",
       " \"WUH\"  \"SZX\"  \"LZO\"  \"XIY\"  \"NGB\"  …  \" \"    \" \"    \" \"    \" \"    \" \"  \n",
       " \"WUH\"  \"SIN\"  \"TGG\"  \"SIN\"  \"CGK\"     \"MZT\"  \"LAP\"  \"TIJ\"  \"CJS\"  \"TIJ\"\n",
       " \"WUH\"  \"TYN\"  \"DYG\"  \"PEK\"  \"CGK\"     \"NUE\"  \"DUS\"  \"NCE\"  \"CZL\"  \"ALG\"\n",
       " \"WUH\"  \"KMG\"  \"SHA\"  \"LYA\"  \"BHY\"     \"QUO\"  \"LOS\"  \"CMN\"  \"AMS\"  \"LPL\"\n",
       " \"WUH\"  \"SHE\"  \"HGH\"  \"KWL\"  \"CTU\"     \"WNR\"  \"BVI\"  \"BEU\"  \"BVI\"  \"BEU\"\n",
       " \"WUH\"  \"BAV\"  \"TYN\"  \"TAO\"  \"TSN\"  …  \"LPA\"  \"VLC\"  \"CRL\"  \"ALC\"  \"HAM\"\n",
       " \"WUH\"  \"WUX\"  \"CAN\"  \"CAI\"  \"BEY\"     \" \"    \" \"    \" \"    \" \"    \" \"  \n",
       " \"WUH\"  \"SIN\"  \"KWE\"  \"TYN\"  \"TSN\"     \"YIC\"  \"SHA\"  \"SWA\"  \"NGB\"  \"SWA\"\n",
       " \"WUH\"  \"SYX\"  \"NGB\"  \"SZX\"  \"DMK\"     \"DOH\"  \"CAN\"  \"YNZ\"  \"SHE\"  \"XIY\"\n",
       " \"WUH\"  \"LZH\"  \"CSX\"  \"NAY\"  \"NZH\"     \" \"    \" \"    \" \"    \" \"    \" \"  \n",
       " \"WUH\"  \"LYI\"  \"CSX\"  \"KMG\"  \"TYN\"  …  \"HAV\"  \"LGW\"  \"LPA\"  \"CRL\"  \"CLJ\"\n",
       " \"WUH\"  \"CNX\"  \"PYY\"  \"CNX\"  \"DMK\"     \" \"    \" \"    \" \"    \" \"    \" \"  "
      ]
     },
     "execution_count": 87,
     "metadata": {},
     "output_type": "execute_result"
    }
   ],
   "source": [
    "mx_inf2 = readdlm(\"/Users/yuriko/Downloads/codejulia/datart/global/caminatas/global_subconj_inf_MX_t2.csv\", ',', String)"
   ]
  },
  {
   "cell_type": "code",
   "execution_count": 94,
   "metadata": {},
   "outputs": [
    {
     "data": {
      "text/plain": [
       "(133, Any[[\"WUH\", \"SHA\", \"URC\", \"TPE\", \"HKD\", \"TPE\", \"KOJ\", \"FSZ\", \"KOJ\", \"UKB\"  …  \"MQF\", \"SVX\", \"MRV\", \"DXB\", \"SKT\", \"ISB\", \"MCT\", \"BAH\", \"BKK\", \"HKG\"], [\"WUH\", \"YNT\", \"HGH\", \"WUH\", \"HET\", \"NZH\", \"OVB\", \"PYJ\", \"OVB\", \"EVN\"  …  \"MDK\", \"FIH\", \"FBM\", \"NBO\", \"APL\", \"NBO\", \"LVI\", \"JNB\", \"DAR\", \"HAH\"], [\"WUH\", \"LZH\", \"KMG\", \"CZX\", \"FOC\", \"MFM\", \"NKG\", \"KMG\", \"BSD\", \"KMG\"  …  \"HYD\", \"VGA\", \"HYD\", \"BKK\", \"AMM\", \"JFK\", \"IAD\", \"PEK\", \"GYD\", \"NBC\"], [\"WUH\", \"WNZ\", \"CTU\", \"KMG\", \"CNX\", \"UTH\", \"DMK\", \"NAW\", \"DMK\", \"HKG\"  …  \" \", \" \", \" \", \" \", \" \", \" \", \" \", \" \", \" \", \" \"], [\"WUH\", \"SIN\", \"LOP\", \"SUB\", \"UPG\", \"DJJ\", \"UPG\", \"KUL\", \"BKK\", \"FCO\"  …  \" \", \" \", \" \", \" \", \" \", \" \", \" \", \" \", \" \", \" \"], [\"WUH\", \"AQG\", \"XMN\", \"HAK\", \"KMG\", \"YIC\", \"KMG\", \"KHH\", \"XMN\", \"WUS\"  …  \"BGF\", \"CMN\", \"CUF\", \"CMN\", \"TFN\", \"LPA\", \"STR\", \"FNC\", \"HAJ\", \"BHX\"], [\"WUH\", \"XNN\", \"URC\", \"TBS\", \"RIX\", \"AMS\", \"INN\", \"EIN\", \"AHO\", \"AOI\"  …  \"LGA\", \"FLL\", \"LGA\", \"ATL\", \"CAK\", \"CLT\", \"VPS\", \"ATL\", \"HSV\", \"ATL\"], [\"WUH\", \"LYI\", \"XIY\", \"RLK\", \"HET\", \"TSN\", \"WUH\", \"HGH\", \"TAO\", \"BKK\"  …  \" \", \" \", \" \", \" \", \" \", \" \", \" \", \" \", \" \", \" \"], [\"WUH\", \"PEK\", \"JJN\", \"HGH\", \"CAN\", \"DEL\", \"RPR\", \"CCU\", \"HYD\", \"VTZ\"  …  \" \", \" \", \" \", \" \", \" \", \" \", \" \", \" \", \" \", \" \"], [\"WUH\", \"NTG\", \"DLC\", \"CJU\", \"TSN\", \"XNN\", \"CSX\", \"BHY\", \"CKG\", \"KRL\"  …  \"LAX\", \"CDG\", \"CPH\", \"LHR\", \"NBO\", \"AMS\", \"IAH\", \"YVR\", \"PVR\", \"SAN\"]  …  [\"WUH\", \"SZX\", \"LZO\", \"XIY\", \"NGB\", \"LJG\", \"TYN\", \"XMN\", \"CIH\", \"WUH\"  …  \" \", \" \", \" \", \" \", \" \", \" \", \" \", \" \", \" \", \" \"], [\"WUH\", \"SIN\", \"TGG\", \"SIN\", \"CGK\", \"HKT\", \"SZX\", \"XUZ\", \"CTU\", \"HKT\"  …  \"CVG\", \"ATL\", \"BNA\", \"HOU\", \"LAX\", \"MZT\", \"LAP\", \"TIJ\", \"CJS\", \"TIJ\"], [\"WUH\", \"TYN\", \"DYG\", \"PEK\", \"CGK\", \"BTJ\", \"CGK\", \"JOG\", \"SUB\", \"BTH\"  …  \"ALG\", \"TUN\", \"DKR\", \"CKY\", \"CDG\", \"NUE\", \"DUS\", \"NCE\", \"CZL\", \"ALG\"], [\"WUH\", \"KMG\", \"SHA\", \"LYA\", \"BHY\", \"PVG\", \"HET\", \"TNA\", \"TYN\", \"TXN\"  …  \"PDX\", \"PDT\", \"PDX\", \"ATL\", \"LOS\", \"QUO\", \"LOS\", \"CMN\", \"AMS\", \"LPL\"], [\"WUH\", \"BAV\", \"TYN\", \"TAO\", \"TSN\", \"SHA\", \"CKG\", \"DOY\", \"PVG\", \"JZH\"  …  \"IST\", \"ADB\", \"HTY\", \"ADB\", \"CGN\", \"LPA\", \"VLC\", \"CRL\", \"ALC\", \"HAM\"], [\"WUH\", \"WUX\", \"CAN\", \"CAI\", \"BEY\", \"ALG\", \"TID\", \"ALG\", \"CAI\", \"HRG\"  …  \" \", \" \", \" \", \" \", \" \", \" \", \" \", \" \", \" \", \" \"], [\"WUH\", \"SIN\", \"KWE\", \"TYN\", \"TSN\", \"HGH\", \"LYI\", \"DLC\", \"HKG\", \"DAC\"  …  \"CGQ\", \"TYN\", \"CKG\", \"XFN\", \"SZX\", \"YIC\", \"SHA\", \"SWA\", \"NGB\", \"SWA\"], [\"WUH\", \"LZH\", \"CSX\", \"NAY\", \"NZH\", \"KJA\", \"NSK\", \"ABA\", \"IKT\", \"TAS\"  …  \" \", \" \", \" \", \" \", \" \", \" \", \" \", \" \", \" \", \" \"], [\"WUH\", \"LYI\", \"CSX\", \"KMG\", \"TYN\", \"BAV\", \"CTU\", \"TSN\", \"HET\", \"YIE\"  …  \"HAV\", \"MAD\", \"SCU\", \"HAV\", \"GAO\", \"HAV\", \"LGW\", \"LPA\", \"CRL\", \"CLJ\"], [\"WUH\", \"CNX\", \"PYY\", \"CNX\", \"DMK\", \"REP\", \"DAD\", \"KMG\", \"MDL\", \"RGN\"  …  \" \", \" \", \" \", \" \", \" \", \" \", \" \", \" \", \" \", \" \"]])"
      ]
     },
     "execution_count": 94,
     "metadata": {},
     "output_type": "execute_result"
    }
   ],
   "source": [
    "busca_vuelos_italia_inf(mx_inf2, pos2_mx_inf, italia_aerop)"
   ]
  },
  {
   "cell_type": "code",
   "execution_count": null,
   "metadata": {},
   "outputs": [],
   "source": []
  }
 ],
 "metadata": {
  "kernelspec": {
   "display_name": "Julia 1.1.0",
   "language": "julia",
   "name": "julia-1.1"
  },
  "language_info": {
   "file_extension": ".jl",
   "mimetype": "application/julia",
   "name": "julia",
   "version": "1.1.0"
  }
 },
 "nbformat": 4,
 "nbformat_minor": 2
}
