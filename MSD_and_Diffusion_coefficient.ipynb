{
 "cells": [
  {
   "cell_type": "markdown",
   "metadata": {},
   "source": [
    "# Coeficientes de Difusión"
   ]
  },
  {
   "cell_type": "code",
   "execution_count": 1,
   "metadata": {},
   "outputs": [
    {
     "data": {
      "text/plain": [
       "Plots.PyPlotBackend()"
      ]
     },
     "execution_count": 1,
     "metadata": {},
     "output_type": "execute_result"
    }
   ],
   "source": [
    "using LightGraphs\n",
    "using GraphPlot\n",
    "using Graphs\n",
    "using DelimitedFiles\n",
    "using LaTeXStrings\n",
    "using GLM\n",
    "using DataFrames\n",
    "using Plots\n",
    "pyplot()"
   ]
  },
  {
   "cell_type": "code",
   "execution_count": 2,
   "metadata": {},
   "outputs": [
    {
     "data": {
      "text/plain": [
       "30-element Array{String,1}:\n",
       " \"Airlines\"     \n",
       " \"global\"       \n",
       " \"Star_Alliance\"\n",
       " \"Sky_Team\"     \n",
       " \"oneworld\"     \n",
       " \"MU\"           \n",
       " \"CZ\"           \n",
       " \"AF\"           \n",
       " \"CA\"           \n",
       " \"KE\"           \n",
       " \"HU\"           \n",
       " \"CX\"           \n",
       " \"GS\"           \n",
       " ⋮              \n",
       " \"SC\"           \n",
       " \"HO\"           \n",
       " \"JD\"           \n",
       " \"KA\"           \n",
       " \"8L\"           \n",
       " \"MI\"           \n",
       " \"FD\"           \n",
       " \"PN\"           \n",
       " \"EU\"           \n",
       " \"NS\"           \n",
       " \"KY\"           \n",
       " \"BX\"           "
      ]
     },
     "execution_count": 2,
     "metadata": {},
     "output_type": "execute_result"
    }
   ],
   "source": [
    "info_aerolineas = readdlm(\"/Users/yuriko/Documents/UNAM/Tesis_Lic/data/aerolineas_matrices/nueva_lista_aerolineas_art.csv\", ',', String)\n",
    "lista_aerolineas = info_aerolineas[:, 2]"
   ]
  },
  {
   "cell_type": "code",
   "execution_count": 3,
   "metadata": {},
   "outputs": [
    {
     "data": {
      "text/plain": [
       "import_matrix"
      ]
     },
     "execution_count": 3,
     "metadata": {},
     "output_type": "execute_result"
    }
   ],
   "source": [
    "\"\"\"\n",
    "    import_matrix(arch::string)\n",
    "\n",
    "Función que importa el archivo de la matriz de adyacencia de R.\n",
    "\"\"\"\n",
    "function import_matrix(arch::AbstractString)\n",
    "    archivo_R = readdlm(arch, ',')\n",
    "    archivo_R = archivo_R[2:end, :]\n",
    "    matriz = archivo_R[:, 2:end]\n",
    "    nombre = convert(Array{Int64,2}, matriz)\n",
    "    return nombre\n",
    "end"
   ]
  },
  {
   "cell_type": "code",
   "execution_count": 4,
   "metadata": {},
   "outputs": [
    {
     "data": {
      "text/plain": [
       "airport_names"
      ]
     },
     "execution_count": 4,
     "metadata": {},
     "output_type": "execute_result"
    }
   ],
   "source": [
    "\"\"\"\n",
    "    airport_names(arch::AbstractString)\n",
    "\n",
    "Función que obtiene un arreglo con los nombres de aeropuertos de la matriz\n",
    "\"\"\"\n",
    "function airport_names(arch::AbstractString)\n",
    "    archivo_R = readdlm(arch, ',', String)\n",
    "    columna = archivo_R[1, :]\n",
    "    nombres = columna[2:end]\n",
    "    return nombres\n",
    "end"
   ]
  },
  {
   "cell_type": "code",
   "execution_count": 5,
   "metadata": {},
   "outputs": [
    {
     "data": {
      "text/plain": [
       "busca_WUH"
      ]
     },
     "execution_count": 5,
     "metadata": {},
     "output_type": "execute_result"
    }
   ],
   "source": [
    "\"\"\"\n",
    "\n",
    "    busca_WUH(list_aerop::Array{String, 1})\n",
    "\n",
    "La función busca_WUH tiene como parámetros:\n",
    "list_aerop, lista de aeropuertos de la aerolínea\n",
    "La función lee la lista de aeropuertos de la aerolínea, busca el índice del aeropuerto WUH.\n",
    "Regresa el índice del aeropuerto WUH.\n",
    "\"\"\"\n",
    "function busca_WUH(list_aerop::Array{String, 1})\n",
    "\n",
    "    i = 1\n",
    "    while list_aerop[i] != \"WUH\"\n",
    "        i +=1\n",
    "    end\n",
    "    i\n",
    "end"
   ]
  },
  {
   "cell_type": "code",
   "execution_count": 6,
   "metadata": {},
   "outputs": [
    {
     "data": {
      "text/plain": [
       "my_graph"
      ]
     },
     "execution_count": 6,
     "metadata": {},
     "output_type": "execute_result"
    }
   ],
   "source": [
    "\"\"\"\n",
    "    my_graph(M::Array{Int64,2}, airline_code::String)\n",
    "\n",
    "Función que hace el grafo de la red aérea dirigida.\n",
    "\"\"\"\n",
    "function my_graph(M::Array{Int64,2}, airline_code::String)\n",
    "\n",
    "    grafo = DiGraph(M)\n",
    "\n",
    "end"
   ]
  },
  {
   "cell_type": "markdown",
   "metadata": {},
   "source": [
    "## Coeficiente de Difusión\n",
    "\n",
    "$$<x^2> = \\frac{1}{N} \\sum_{i=1}^{N} |x^{(i)} (t) - x_0|^2$$\n",
    "\n",
    "$$ D = \\frac{<x^2>}{2t}$$\n"
   ]
  },
  {
   "cell_type": "code",
   "execution_count": 7,
   "metadata": {},
   "outputs": [
    {
     "data": {
      "text/plain": [
       "difusion_coeff2 (generic function with 1 method)"
      ]
     },
     "execution_count": 7,
     "metadata": {},
     "output_type": "execute_result"
    }
   ],
   "source": [
    "function difusion_coeff2(num_airline_code::Int64)\n",
    "\n",
    "NN = 0\n",
    "Ls = []\n",
    "#coefs_dif2 = []\n",
    "DMS = []\n",
    "\n",
    "for k = num_airline_code #2:length(lista_aerolineas)\n",
    "       #@show k\n",
    "    \n",
    "    airline_code = lista_aerolineas[k] \n",
    "    #@show airline_code\n",
    "    aerolinea_carpeta = airline_code\n",
    "    \n",
    "    archivo_caminata_original = string(airline_code, \"_WUH_random_walk.csv\")\n",
    "    rwn = readdlm(\"/Users/yuriko/Downloads/codejulia/datart/$aerolinea_carpeta/caminatas/originales/$archivo_caminata_original\", ',', Int64)\n",
    "    \n",
    "    aerolinea_matriz = string(airline_code, \"_import_matrix.csv\") \n",
    "    multiplex = readdlm(\"/Users/yuriko/Downloads/codejulia/datart/$aerolinea_carpeta/matriz/$aerolinea_matriz\", ',', Int64)\n",
    "    \n",
    "    red_multiplex = my_graph(multiplex, airline_code)\n",
    "    \n",
    "    #index_wuh = string(airline_code, \"_WUH_index.csv\") \n",
    "    #indice_wuh = readdlm(\"/Users/yuriko/Downloads/codejulia/datart/$aerolinea_carpeta/matriz/$index_wuh\", ',', Int64)\n",
    "    #@show indice_wuh\n",
    "    \n",
    "    \n",
    "    for i =1:1001 #tiempo\n",
    "        \n",
    "        NN = 0\n",
    "        Ls = []\n",
    "        col = rwn[:,i]\n",
    "            #@show col\n",
    "            \n",
    "        for j in 1:1000 #num. de iteraciones/renglones\n",
    "                #@show j\n",
    "                \n",
    "                indice_aerop = col[j]\n",
    "               \n",
    "            if indice_aerop != 0\n",
    "                    \n",
    "                spls = LightGraphs.dijkstra_shortest_paths(red_multiplex, indice_aerop)\n",
    "                dist_media = spls.dists[282]\n",
    "          \n",
    "                L = (dist_media)^2\n",
    "                NN += 1\n",
    "                #@show NN\n",
    "            elseif indice_aerop == 0\n",
    "                L = 0\n",
    "                 #   @show NN\n",
    "                #N = N - 1\n",
    "            end\n",
    "            \n",
    "            push!(Ls, L) #para un mismo tiempo\n",
    "            #@show Ls\n",
    "            L = 0\n",
    "            dist_media = 0\n",
    "        end\n",
    "        \n",
    "        dms2 = (sum(Ls))/NN\n",
    "        push!(DMS, dms2)\n",
    "        \n",
    "        \n",
    "        #D2 = dms2/(2*i)\n",
    "        #push!(coefs_dif2, D2)\n",
    "        #@show D2\n",
    "    end\n",
    "    \n",
    "end\n",
    "#coefs_dif2 = convert(Array{Float64, 1}, coefs_dif2)\n",
    "DMS = convert(Array{Float64, 1}, DMS)\n",
    "return DMS #, coefs_dif2\n",
    "end"
   ]
  },
  {
   "cell_type": "code",
   "execution_count": 8,
   "metadata": {
    "scrolled": false
   },
   "outputs": [
    {
     "data": {
      "text/plain": [
       "1001-element Array{Float64,1}:\n",
       " 0.0               \n",
       " 1.0               \n",
       " 2.024             \n",
       " 2.415             \n",
       " 2.649             \n",
       " 2.872             \n",
       " 3.036             \n",
       " 3.376             \n",
       " 3.3753753753753752\n",
       " 3.67967967967968  \n",
       " 3.765765765765766 \n",
       " 4.019019019019019 \n",
       " 4.08008008008008  \n",
       " ⋮                 \n",
       " 7.444277108433735 \n",
       " 7.326807228915663 \n",
       " 7.406626506024097 \n",
       " 7.233433734939759 \n",
       " 7.313253012048193 \n",
       " 7.52790346907994  \n",
       " 7.478129713423831 \n",
       " 7.441930618401207 \n",
       " 7.44947209653092  \n",
       " 7.467571644042232 \n",
       " 7.506787330316742 \n",
       " 7.7631975867269984"
      ]
     },
     "execution_count": 8,
     "metadata": {},
     "output_type": "execute_result"
    }
   ],
   "source": [
    "difusion_coeff2(2)"
   ]
  },
  {
   "cell_type": "code",
   "execution_count": 9,
   "metadata": {},
   "outputs": [
    {
     "data": {
      "text/plain": [
       "1001-element Array{Float64,1}:\n",
       " 0.0               \n",
       " 1.0               \n",
       " 2.024             \n",
       " 2.415             \n",
       " 2.649             \n",
       " 2.872             \n",
       " 3.036             \n",
       " 3.376             \n",
       " 3.3753753753753752\n",
       " 3.67967967967968  \n",
       " 3.765765765765766 \n",
       " 4.019019019019019 \n",
       " 4.08008008008008  \n",
       " ⋮                 \n",
       " 7.444277108433735 \n",
       " 7.326807228915663 \n",
       " 7.406626506024097 \n",
       " 7.233433734939759 \n",
       " 7.313253012048193 \n",
       " 7.52790346907994  \n",
       " 7.478129713423831 \n",
       " 7.441930618401207 \n",
       " 7.44947209653092  \n",
       " 7.467571644042232 \n",
       " 7.506787330316742 \n",
       " 7.7631975867269984"
      ]
     },
     "execution_count": 9,
     "metadata": {},
     "output_type": "execute_result"
    }
   ],
   "source": [
    "desp_medio = ans"
   ]
  },
  {
   "cell_type": "code",
   "execution_count": 11,
   "metadata": {},
   "outputs": [
    {
     "data": {
      "image/png": "[encoded data removed]"
     },
     "execution_count": 11,
     "metadata": {},
     "output_type": "execute_result"
    }
   ],
   "source": [
    "\n",
    "xs = collect(0:1000)\n",
    "ys = desp_medio\n",
    "\n",
    "g1 =scatter(xs, ys,\n",
    "    xticks =:0:100:1000,\n",
    "    yticks =:0:1:8,\n",
    "    title = \"Diffusion\",\n",
    "    xlabel = L\"t\",\n",
    "    ylabel = L\"<x^2>\",\n",
    "    legend = false,\n",
    "    markercolor = \"#712670\",\n",
    "    markerstrokewidth = 0,\n",
    "    markersize = 2,\n",
    "    gridalpha = 0.05)"
   ]
  },
  {
   "cell_type": "code",
   "execution_count": 30,
   "metadata": {},
   "outputs": [
    {
     "data": {
      "image/png": "[encoded data removed]"
     },
     "execution_count": 30,
     "metadata": {},
     "output_type": "execute_result"
    }
   ],
   "source": [
    "f(x) = x^(0.005)\n",
    "Plots.plot(f, 0, 5) "
   ]
  },
  {
   "cell_type": "code",
   "execution_count": null,
   "metadata": {},
   "outputs": [],
   "source": []
  }
 ],
 "metadata": {
  "@webio": {
   "lastCommId": null,
   "lastKernelId": null
  },
  "kernelspec": {
   "display_name": "Julia 1.1.0",
   "language": "julia",
   "name": "julia-1.1"
  },
  "language_info": {
   "file_extension": ".jl",
   "mimetype": "application/julia",
   "name": "julia",
   "version": "1.1.0"
  }
 },
 "nbformat": 4,
 "nbformat_minor": 2
}
