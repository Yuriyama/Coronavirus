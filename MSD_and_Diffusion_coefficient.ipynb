{
 "cells": [
  {
   "cell_type": "markdown",
   "metadata": {},
   "source": [
    "# Coeficientes de Difusión"
   ]
  },
  {
   "cell_type": "code",
   "execution_count": 1,
   "metadata": {},
   "outputs": [
    {
     "data": {
      "text/plain": [
       "Plots.PyPlotBackend()"
      ]
     },
     "execution_count": 1,
     "metadata": {},
     "output_type": "execute_result"
    }
   ],
   "source": [
    "using LightGraphs\n",
    "using GraphPlot\n",
    "using Graphs\n",
    "using DelimitedFiles\n",
    "using LaTeXStrings\n",
    "using GLM\n",
    "using DataFrames\n",
    "using Plots\n",
    "pyplot()"
   ]
  },
  {
   "cell_type": "code",
   "execution_count": 58,
   "metadata": {},
   "outputs": [
    {
     "name": "stderr",
     "output_type": "stream",
     "text": [
      "┌ Info: Precompiling LsqFit [2fda8390-95c7-5789-9bda-21331edee243]\n",
      "└ @ Base loading.jl:1186\n"
     ]
    }
   ],
   "source": [
    "using LsqFit"
   ]
  },
  {
   "cell_type": "code",
   "execution_count": 69,
   "metadata": {},
   "outputs": [],
   "source": [
    "using StatsBase"
   ]
  },
  {
   "cell_type": "code",
   "execution_count": 71,
   "metadata": {},
   "outputs": [],
   "source": [
    "using Distributions\n",
    "using GLM\n",
    "using DataFrames"
   ]
  },
  {
   "cell_type": "code",
   "execution_count": 2,
   "metadata": {},
   "outputs": [
    {
     "data": {
      "text/plain": [
       "30-element Array{String,1}:\n",
       " \"Airlines\"     \n",
       " \"global\"       \n",
       " \"Star_Alliance\"\n",
       " \"Sky_Team\"     \n",
       " \"oneworld\"     \n",
       " \"MU\"           \n",
       " \"CZ\"           \n",
       " \"AF\"           \n",
       " \"CA\"           \n",
       " \"KE\"           \n",
       " \"HU\"           \n",
       " \"CX\"           \n",
       " \"GS\"           \n",
       " ⋮              \n",
       " \"SC\"           \n",
       " \"HO\"           \n",
       " \"JD\"           \n",
       " \"KA\"           \n",
       " \"8L\"           \n",
       " \"MI\"           \n",
       " \"FD\"           \n",
       " \"PN\"           \n",
       " \"EU\"           \n",
       " \"NS\"           \n",
       " \"KY\"           \n",
       " \"BX\"           "
      ]
     },
     "execution_count": 2,
     "metadata": {},
     "output_type": "execute_result"
    }
   ],
   "source": [
    "info_aerolineas = readdlm(\"/Users/yuriko/Documents/UNAM/Tesis_Lic/data/aerolineas_matrices/nueva_lista_aerolineas_art.csv\", ',', String)\n",
    "lista_aerolineas = info_aerolineas[:, 2]"
   ]
  },
  {
   "cell_type": "code",
   "execution_count": 3,
   "metadata": {},
   "outputs": [
    {
     "data": {
      "text/plain": [
       "import_matrix"
      ]
     },
     "execution_count": 3,
     "metadata": {},
     "output_type": "execute_result"
    }
   ],
   "source": [
    "\"\"\"\n",
    "    import_matrix(arch::string)\n",
    "\n",
    "Función que importa el archivo de la matriz de adyacencia de R.\n",
    "\"\"\"\n",
    "function import_matrix(arch::AbstractString)\n",
    "    archivo_R = readdlm(arch, ',')\n",
    "    archivo_R = archivo_R[2:end, :]\n",
    "    matriz = archivo_R[:, 2:end]\n",
    "    nombre = convert(Array{Int64,2}, matriz)\n",
    "    return nombre\n",
    "end"
   ]
  },
  {
   "cell_type": "code",
   "execution_count": 4,
   "metadata": {},
   "outputs": [
    {
     "data": {
      "text/plain": [
       "airport_names"
      ]
     },
     "execution_count": 4,
     "metadata": {},
     "output_type": "execute_result"
    }
   ],
   "source": [
    "\"\"\"\n",
    "    airport_names(arch::AbstractString)\n",
    "\n",
    "Función que obtiene un arreglo con los nombres de aeropuertos de la matriz\n",
    "\"\"\"\n",
    "function airport_names(arch::AbstractString)\n",
    "    archivo_R = readdlm(arch, ',', String)\n",
    "    columna = archivo_R[1, :]\n",
    "    nombres = columna[2:end]\n",
    "    return nombres\n",
    "end"
   ]
  },
  {
   "cell_type": "code",
   "execution_count": 5,
   "metadata": {},
   "outputs": [
    {
     "data": {
      "text/plain": [
       "busca_WUH"
      ]
     },
     "execution_count": 5,
     "metadata": {},
     "output_type": "execute_result"
    }
   ],
   "source": [
    "\"\"\"\n",
    "\n",
    "    busca_WUH(list_aerop::Array{String, 1})\n",
    "\n",
    "La función busca_WUH tiene como parámetros:\n",
    "list_aerop, lista de aeropuertos de la aerolínea\n",
    "La función lee la lista de aeropuertos de la aerolínea, busca el índice del aeropuerto WUH.\n",
    "Regresa el índice del aeropuerto WUH.\n",
    "\"\"\"\n",
    "function busca_WUH(list_aerop::Array{String, 1})\n",
    "\n",
    "    i = 1\n",
    "    while list_aerop[i] != \"WUH\"\n",
    "        i +=1\n",
    "    end\n",
    "    i\n",
    "end"
   ]
  },
  {
   "cell_type": "code",
   "execution_count": 6,
   "metadata": {},
   "outputs": [
    {
     "data": {
      "text/plain": [
       "my_graph"
      ]
     },
     "execution_count": 6,
     "metadata": {},
     "output_type": "execute_result"
    }
   ],
   "source": [
    "\"\"\"\n",
    "    my_graph(M::Array{Int64,2}, airline_code::String)\n",
    "\n",
    "Función que hace el grafo de la red aérea dirigida.\n",
    "\"\"\"\n",
    "function my_graph(M::Array{Int64,2}, airline_code::String)\n",
    "\n",
    "    grafo = DiGraph(M)\n",
    "\n",
    "end"
   ]
  },
  {
   "cell_type": "markdown",
   "metadata": {},
   "source": [
    "## Coeficiente de Difusión\n",
    "\n",
    "$$<x^2> = \\frac{1}{N} \\sum_{i=1}^{N} |x^{(i)} (t) - x_0|^2$$\n",
    "\n",
    "$$ D = \\frac{<x^2>}{2t}$$\n"
   ]
  },
  {
   "cell_type": "code",
   "execution_count": 7,
   "metadata": {},
   "outputs": [
    {
     "data": {
      "text/plain": [
       "difusion_coeff2 (generic function with 1 method)"
      ]
     },
     "execution_count": 7,
     "metadata": {},
     "output_type": "execute_result"
    }
   ],
   "source": [
    "function difusion_coeff2(num_airline_code::Int64)\n",
    "\n",
    "NN = 0\n",
    "Ls = []\n",
    "#coefs_dif2 = []\n",
    "DMS = []\n",
    "\n",
    "for k = num_airline_code #2:length(lista_aerolineas)\n",
    "       #@show k\n",
    "    \n",
    "    airline_code = lista_aerolineas[k] \n",
    "    #@show airline_code\n",
    "    aerolinea_carpeta = airline_code\n",
    "    \n",
    "    archivo_caminata_original = string(airline_code, \"_WUH_random_walk.csv\")\n",
    "    rwn = readdlm(\"/Users/yuriko/Downloads/codejulia/datart/$aerolinea_carpeta/caminatas/originales/$archivo_caminata_original\", ',', Int64)\n",
    "    \n",
    "    aerolinea_matriz = string(airline_code, \"_import_matrix.csv\") \n",
    "    multiplex = readdlm(\"/Users/yuriko/Downloads/codejulia/datart/$aerolinea_carpeta/matriz/$aerolinea_matriz\", ',', Int64)\n",
    "    \n",
    "    red_multiplex = my_graph(multiplex, airline_code)\n",
    "    \n",
    "    #index_wuh = string(airline_code, \"_WUH_index.csv\") \n",
    "    #indice_wuh = readdlm(\"/Users/yuriko/Downloads/codejulia/datart/$aerolinea_carpeta/matriz/$index_wuh\", ',', Int64)\n",
    "    #@show indice_wuh\n",
    "    \n",
    "    \n",
    "    for i =1:1001 #tiempo\n",
    "        \n",
    "        NN = 0\n",
    "        Ls = []\n",
    "        col = rwn[:,i]\n",
    "            #@show col\n",
    "            \n",
    "        for j in 1:1000 #num. de iteraciones/renglones\n",
    "                #@show j\n",
    "                \n",
    "                indice_aerop = col[j]\n",
    "               \n",
    "            if indice_aerop != 0\n",
    "                    \n",
    "                spls = LightGraphs.dijkstra_shortest_paths(red_multiplex, indice_aerop)\n",
    "                dist_media = spls.dists[282]\n",
    "          \n",
    "                L = (dist_media)^2\n",
    "                NN += 1\n",
    "                #@show NN\n",
    "            elseif indice_aerop == 0\n",
    "                L = 0\n",
    "                 #   @show NN\n",
    "                #N = N - 1\n",
    "            end\n",
    "            \n",
    "            push!(Ls, L) #para un mismo tiempo\n",
    "            #@show Ls\n",
    "            L = 0\n",
    "            dist_media = 0\n",
    "        end\n",
    "        \n",
    "        dms2 = (sum(Ls))/NN\n",
    "        push!(DMS, dms2)\n",
    "        \n",
    "        \n",
    "        #D2 = dms2/(2*i)\n",
    "        #push!(coefs_dif2, D2)\n",
    "        #@show D2\n",
    "    end\n",
    "    \n",
    "end\n",
    "#coefs_dif2 = convert(Array{Float64, 1}, coefs_dif2)\n",
    "DMS = convert(Array{Float64, 1}, DMS)\n",
    "return DMS #, coefs_dif2\n",
    "end"
   ]
  },
  {
   "cell_type": "code",
   "execution_count": 8,
   "metadata": {
    "scrolled": false
   },
   "outputs": [
    {
     "data": {
      "text/plain": [
       "1001-element Array{Float64,1}:\n",
       " 0.0               \n",
       " 1.0               \n",
       " 2.024             \n",
       " 2.415             \n",
       " 2.649             \n",
       " 2.872             \n",
       " 3.036             \n",
       " 3.376             \n",
       " 3.3753753753753752\n",
       " 3.67967967967968  \n",
       " 3.765765765765766 \n",
       " 4.019019019019019 \n",
       " 4.08008008008008  \n",
       " ⋮                 \n",
       " 7.444277108433735 \n",
       " 7.326807228915663 \n",
       " 7.406626506024097 \n",
       " 7.233433734939759 \n",
       " 7.313253012048193 \n",
       " 7.52790346907994  \n",
       " 7.478129713423831 \n",
       " 7.441930618401207 \n",
       " 7.44947209653092  \n",
       " 7.467571644042232 \n",
       " 7.506787330316742 \n",
       " 7.7631975867269984"
      ]
     },
     "execution_count": 8,
     "metadata": {},
     "output_type": "execute_result"
    }
   ],
   "source": [
    "difusion_coeff2(2)"
   ]
  },
  {
   "cell_type": "code",
   "execution_count": 9,
   "metadata": {},
   "outputs": [
    {
     "data": {
      "text/plain": [
       "1001-element Array{Float64,1}:\n",
       " 0.0               \n",
       " 1.0               \n",
       " 2.024             \n",
       " 2.415             \n",
       " 2.649             \n",
       " 2.872             \n",
       " 3.036             \n",
       " 3.376             \n",
       " 3.3753753753753752\n",
       " 3.67967967967968  \n",
       " 3.765765765765766 \n",
       " 4.019019019019019 \n",
       " 4.08008008008008  \n",
       " ⋮                 \n",
       " 7.444277108433735 \n",
       " 7.326807228915663 \n",
       " 7.406626506024097 \n",
       " 7.233433734939759 \n",
       " 7.313253012048193 \n",
       " 7.52790346907994  \n",
       " 7.478129713423831 \n",
       " 7.441930618401207 \n",
       " 7.44947209653092  \n",
       " 7.467571644042232 \n",
       " 7.506787330316742 \n",
       " 7.7631975867269984"
      ]
     },
     "execution_count": 9,
     "metadata": {},
     "output_type": "execute_result"
    }
   ],
   "source": [
    "desp_medio = ans"
   ]
  },
  {
   "cell_type": "code",
   "execution_count": 48,
   "metadata": {},
   "outputs": [
    {
     "data": {
      "image/png": "[encoded data removed]"
     },
     "execution_count": 48,
     "metadata": {},
     "output_type": "execute_result"
    }
   ],
   "source": [
    "\n",
    "xs = collect(0:1000)\n",
    "ys = desp_medio\n",
    "\n",
    "g1 =scatter(xs, ys,\n",
    "    xticks =:0:100:1000,\n",
    "    yticks =:0:1:8,\n",
    "    xtickfont = font(12, \"Courier\"),\n",
    "    ytickfont = font(12, \"Courier\"),\n",
    "    guidefontsize = 13,\n",
    "    #title = \"Diffusion\",\n",
    "    xlabel = \"t [steps]\",\n",
    "    ylabel = L\"<x^2>\",\n",
    "    legend = false,\n",
    "    markercolor = \"#712670\",\n",
    "    markerstrokewidth = 0,\n",
    "    markersize = 2,\n",
    "    gridalpha = 0.05)"
   ]
  },
  {
   "cell_type": "code",
   "execution_count": 80,
   "metadata": {},
   "outputs": [
    {
     "data": {
      "image/png": "[encoded data removed]"
     },
     "execution_count": 80,
     "metadata": {},
     "output_type": "execute_result"
    }
   ],
   "source": [
    "xs100 = collect(0:100)\n",
    "ys100 = desp_medio[1:101]\n",
    "xs100s = collect(1:100)\n",
    "ys100s = desp_medio[2:101]\n",
    "\n",
    "g100 =scatter(xs100s, ys100s,\n",
    "    #xticks =:0:10:100,\n",
    "    #yticks =:0:1:8,\n",
    "    xscale =(:log10),\n",
    "    yscale =(:log10),\n",
    "    xtickfont = font(10, \"Courier\"),\n",
    "    ytickfont = font(10, \"Courier\"),\n",
    "    guidefontsize = 13,\n",
    "    #title = \"Diffusion\",\n",
    "    xlabel = \"t [steps]\",\n",
    "    ylabel = L\"<x^2>\",\n",
    "    legend = false,\n",
    "    markercolor = \"#712670\",\n",
    "    markerstrokewidth = 0,\n",
    "    markersize = 2,\n",
    "    gridalpha = 0.05)"
   ]
  },
  {
   "cell_type": "code",
   "execution_count": 82,
   "metadata": {},
   "outputs": [
    {
     "data": {
      "text/html": [
       "<table class=\"data-frame\"><thead><tr><th></th><th>x1</th><th>x2</th></tr><tr><th></th><th>Float64</th><th>Float64</th></tr></thead><tbody><p>100 rows × 2 columns</p><tr><th>1</th><td>1.0</td><td>1.0</td></tr><tr><th>2</th><td>2.0</td><td>2.024</td></tr><tr><th>3</th><td>3.0</td><td>2.415</td></tr><tr><th>4</th><td>4.0</td><td>2.649</td></tr><tr><th>5</th><td>5.0</td><td>2.872</td></tr><tr><th>6</th><td>6.0</td><td>3.036</td></tr><tr><th>7</th><td>7.0</td><td>3.376</td></tr><tr><th>8</th><td>8.0</td><td>3.37538</td></tr><tr><th>9</th><td>9.0</td><td>3.67968</td></tr><tr><th>10</th><td>10.0</td><td>3.76577</td></tr><tr><th>11</th><td>11.0</td><td>4.01902</td></tr><tr><th>12</th><td>12.0</td><td>4.08008</td></tr><tr><th>13</th><td>13.0</td><td>4.28729</td></tr><tr><th>14</th><td>14.0</td><td>4.35135</td></tr><tr><th>15</th><td>15.0</td><td>4.37938</td></tr><tr><th>16</th><td>16.0</td><td>4.58158</td></tr><tr><th>17</th><td>17.0</td><td>4.43186</td></tr><tr><th>18</th><td>18.0</td><td>4.60721</td></tr><tr><th>19</th><td>19.0</td><td>4.82766</td></tr><tr><th>20</th><td>20.0</td><td>4.72445</td></tr><tr><th>21</th><td>21.0</td><td>4.97395</td></tr><tr><th>22</th><td>22.0</td><td>5.14729</td></tr><tr><th>23</th><td>23.0</td><td>5.1002</td></tr><tr><th>24</th><td>24.0</td><td>4.97595</td></tr><tr><th>25</th><td>25.0</td><td>5.08617</td></tr><tr><th>26</th><td>26.0</td><td>5.23347</td></tr><tr><th>27</th><td>27.0</td><td>5.36473</td></tr><tr><th>28</th><td>28.0</td><td>5.27108</td></tr><tr><th>29</th><td>29.0</td><td>5.38253</td></tr><tr><th>30</th><td>30.0</td><td>5.46185</td></tr><tr><th>&vellip;</th><td>&vellip;</td><td>&vellip;</td></tr></tbody></table>"
      ],
      "text/latex": [
       "\\begin{tabular}{r|cc}\n",
       "\t& x1 & x2\\\\\n",
       "\t\\hline\n",
       "\t& Float64 & Float64\\\\\n",
       "\t\\hline\n",
       "\t1 & 1.0 & 1.0 \\\\\n",
       "\t2 & 2.0 & 2.024 \\\\\n",
       "\t3 & 3.0 & 2.415 \\\\\n",
       "\t4 & 4.0 & 2.649 \\\\\n",
       "\t5 & 5.0 & 2.872 \\\\\n",
       "\t6 & 6.0 & 3.036 \\\\\n",
       "\t7 & 7.0 & 3.376 \\\\\n",
       "\t8 & 8.0 & 3.37538 \\\\\n",
       "\t9 & 9.0 & 3.67968 \\\\\n",
       "\t10 & 10.0 & 3.76577 \\\\\n",
       "\t11 & 11.0 & 4.01902 \\\\\n",
       "\t12 & 12.0 & 4.08008 \\\\\n",
       "\t13 & 13.0 & 4.28729 \\\\\n",
       "\t14 & 14.0 & 4.35135 \\\\\n",
       "\t15 & 15.0 & 4.37938 \\\\\n",
       "\t16 & 16.0 & 4.58158 \\\\\n",
       "\t17 & 17.0 & 4.43186 \\\\\n",
       "\t18 & 18.0 & 4.60721 \\\\\n",
       "\t19 & 19.0 & 4.82766 \\\\\n",
       "\t20 & 20.0 & 4.72445 \\\\\n",
       "\t21 & 21.0 & 4.97395 \\\\\n",
       "\t22 & 22.0 & 5.14729 \\\\\n",
       "\t23 & 23.0 & 5.1002 \\\\\n",
       "\t24 & 24.0 & 4.97595 \\\\\n",
       "\t25 & 25.0 & 5.08617 \\\\\n",
       "\t26 & 26.0 & 5.23347 \\\\\n",
       "\t27 & 27.0 & 5.36473 \\\\\n",
       "\t28 & 28.0 & 5.27108 \\\\\n",
       "\t29 & 29.0 & 5.38253 \\\\\n",
       "\t30 & 30.0 & 5.46185 \\\\\n",
       "\t$\\dots$ & $\\dots$ & $\\dots$ \\\\\n",
       "\\end{tabular}\n"
      ],
      "text/plain": [
       "100×2 DataFrame\n",
       "│ Row │ x1      │ x2      │\n",
       "│     │ \u001b[90mFloat64\u001b[39m │ \u001b[90mFloat64\u001b[39m │\n",
       "├─────┼─────────┼─────────┤\n",
       "│ 1   │ 1.0     │ 1.0     │\n",
       "│ 2   │ 2.0     │ 2.024   │\n",
       "│ 3   │ 3.0     │ 2.415   │\n",
       "│ 4   │ 4.0     │ 2.649   │\n",
       "│ 5   │ 5.0     │ 2.872   │\n",
       "│ 6   │ 6.0     │ 3.036   │\n",
       "│ 7   │ 7.0     │ 3.376   │\n",
       "│ 8   │ 8.0     │ 3.37538 │\n",
       "│ 9   │ 9.0     │ 3.67968 │\n",
       "│ 10  │ 10.0    │ 3.76577 │\n",
       "⋮\n",
       "│ 90  │ 90.0    │ 6.21708 │\n",
       "│ 91  │ 91.0    │ 6.28498 │\n",
       "│ 92  │ 92.0    │ 6.63749 │\n",
       "│ 93  │ 93.0    │ 6.40371 │\n",
       "│ 94  │ 94.0    │ 6.37526 │\n",
       "│ 95  │ 95.0    │ 6.37668 │\n",
       "│ 96  │ 96.0    │ 6.37229 │\n",
       "│ 97  │ 97.0    │ 6.34643 │\n",
       "│ 98  │ 98.0    │ 6.36025 │\n",
       "│ 99  │ 99.0    │ 6.43257 │\n",
       "│ 100 │ 100.0   │ 6.23444 │"
      ]
     },
     "execution_count": 82,
     "metadata": {},
     "output_type": "execute_result"
    }
   ],
   "source": [
    "# Hago una tabla lineal\n",
    "\n",
    "df = hcat(xs100s, ys100s)\n",
    "df = convert(DataFrame, df)"
   ]
  },
  {
   "cell_type": "code",
   "execution_count": 83,
   "metadata": {},
   "outputs": [
    {
     "data": {
      "text/plain": [
       "100-element Array{Float64,1}:\n",
       " 0.0               \n",
       " 0.6931471805599453\n",
       " 1.0986122886681098\n",
       " 1.3862943611198906\n",
       " 1.6094379124341003\n",
       " 1.791759469228055 \n",
       " 1.9459101490553132\n",
       " 2.0794415416798357\n",
       " 2.1972245773362196\n",
       " 2.302585092994046 \n",
       " 2.3978952727983707\n",
       " 2.4849066497880004\n",
       " 2.5649493574615367\n",
       " ⋮                 \n",
       " 4.48863636973214  \n",
       " 4.499809670330265 \n",
       " 4.51085950651685  \n",
       " 4.5217885770490405\n",
       " 4.532599493153256 \n",
       " 4.543294782270004 \n",
       " 4.553876891600541 \n",
       " 4.564348191467836 \n",
       " 4.574710978503383 \n",
       " 4.584967478670572 \n",
       " 4.59511985013459  \n",
       " 4.605170185988092 "
      ]
     },
     "execution_count": 83,
     "metadata": {},
     "output_type": "execute_result"
    }
   ],
   "source": [
    "#Obtengo log_x\n",
    "log_x = log.(df.x1)"
   ]
  },
  {
   "cell_type": "code",
   "execution_count": 84,
   "metadata": {},
   "outputs": [
    {
     "data": {
      "text/plain": [
       "100-element Array{Float64,1}:\n",
       " 0.0               \n",
       " 0.7050757514252192\n",
       " 0.881699287104536 \n",
       " 0.9741822102899327\n",
       " 1.0550086511859778\n",
       " 1.1105408595333834\n",
       " 1.2166915767337108\n",
       " 1.2165065404731925\n",
       " 1.3028257048270242\n",
       " 1.3259512312124222\n",
       " 1.3910378477323087\n",
       " 1.4061166156940619\n",
       " 1.4556541989668175\n",
       " ⋮                 \n",
       " 1.832416841145255 \n",
       " 1.8273000519011195\n",
       " 1.8381625681893279\n",
       " 1.8927334470819628\n",
       " 1.8568771223273743\n",
       " 1.8524245187698294\n",
       " 1.8526471131702134\n",
       " 1.8519581837033188\n",
       " 1.8478928069358027\n",
       " 1.85006744061499  \n",
       " 1.8613745537393325\n",
       " 1.8300887329187077"
      ]
     },
     "execution_count": 84,
     "metadata": {},
     "output_type": "execute_result"
    }
   ],
   "source": [
    "#Obtengo log_y\n",
    "log_y = log.(df.x2)"
   ]
  },
  {
   "cell_type": "code",
   "execution_count": 190,
   "metadata": {},
   "outputs": [
    {
     "data": {
      "text/html": [
       "<table class=\"data-frame\"><thead><tr><th></th><th>x1</th><th>x2</th></tr><tr><th></th><th>Float64</th><th>Float64</th></tr></thead><tbody><p>100 rows × 2 columns</p><tr><th>1</th><td>0.0</td><td>0.0</td></tr><tr><th>2</th><td>0.693147</td><td>0.705076</td></tr><tr><th>3</th><td>1.09861</td><td>0.881699</td></tr><tr><th>4</th><td>1.38629</td><td>0.974182</td></tr><tr><th>5</th><td>1.60944</td><td>1.05501</td></tr><tr><th>6</th><td>1.79176</td><td>1.11054</td></tr><tr><th>7</th><td>1.94591</td><td>1.21669</td></tr><tr><th>8</th><td>2.07944</td><td>1.21651</td></tr><tr><th>9</th><td>2.19722</td><td>1.30283</td></tr><tr><th>10</th><td>2.30259</td><td>1.32595</td></tr><tr><th>11</th><td>2.3979</td><td>1.39104</td></tr><tr><th>12</th><td>2.48491</td><td>1.40612</td></tr><tr><th>13</th><td>2.56495</td><td>1.45565</td></tr><tr><th>14</th><td>2.63906</td><td>1.47049</td></tr><tr><th>15</th><td>2.70805</td><td>1.47691</td></tr><tr><th>16</th><td>2.77259</td><td>1.52204</td></tr><tr><th>17</th><td>2.83321</td><td>1.48882</td></tr><tr><th>18</th><td>2.89037</td><td>1.52762</td></tr><tr><th>19</th><td>2.94444</td><td>1.57436</td></tr><tr><th>20</th><td>2.99573</td><td>1.55275</td></tr><tr><th>21</th><td>3.04452</td><td>1.60421</td></tr><tr><th>22</th><td>3.09104</td><td>1.63847</td></tr><tr><th>23</th><td>3.13549</td><td>1.62928</td></tr><tr><th>24</th><td>3.17805</td><td>1.60462</td></tr><tr><th>25</th><td>3.21888</td><td>1.62653</td></tr><tr><th>26</th><td>3.2581</td><td>1.65507</td></tr><tr><th>27</th><td>3.29584</td><td>1.67985</td></tr><tr><th>28</th><td>3.3322</td><td>1.66224</td></tr><tr><th>29</th><td>3.3673</td><td>1.68316</td></tr><tr><th>30</th><td>3.4012</td><td>1.69779</td></tr><tr><th>&vellip;</th><td>&vellip;</td><td>&vellip;</td></tr></tbody></table>"
      ],
      "text/latex": [
       "\\begin{tabular}{r|cc}\n",
       "\t& x1 & x2\\\\\n",
       "\t\\hline\n",
       "\t& Float64 & Float64\\\\\n",
       "\t\\hline\n",
       "\t1 & 0.0 & 0.0 \\\\\n",
       "\t2 & 0.693147 & 0.705076 \\\\\n",
       "\t3 & 1.09861 & 0.881699 \\\\\n",
       "\t4 & 1.38629 & 0.974182 \\\\\n",
       "\t5 & 1.60944 & 1.05501 \\\\\n",
       "\t6 & 1.79176 & 1.11054 \\\\\n",
       "\t7 & 1.94591 & 1.21669 \\\\\n",
       "\t8 & 2.07944 & 1.21651 \\\\\n",
       "\t9 & 2.19722 & 1.30283 \\\\\n",
       "\t10 & 2.30259 & 1.32595 \\\\\n",
       "\t11 & 2.3979 & 1.39104 \\\\\n",
       "\t12 & 2.48491 & 1.40612 \\\\\n",
       "\t13 & 2.56495 & 1.45565 \\\\\n",
       "\t14 & 2.63906 & 1.47049 \\\\\n",
       "\t15 & 2.70805 & 1.47691 \\\\\n",
       "\t16 & 2.77259 & 1.52204 \\\\\n",
       "\t17 & 2.83321 & 1.48882 \\\\\n",
       "\t18 & 2.89037 & 1.52762 \\\\\n",
       "\t19 & 2.94444 & 1.57436 \\\\\n",
       "\t20 & 2.99573 & 1.55275 \\\\\n",
       "\t21 & 3.04452 & 1.60421 \\\\\n",
       "\t22 & 3.09104 & 1.63847 \\\\\n",
       "\t23 & 3.13549 & 1.62928 \\\\\n",
       "\t24 & 3.17805 & 1.60462 \\\\\n",
       "\t25 & 3.21888 & 1.62653 \\\\\n",
       "\t26 & 3.2581 & 1.65507 \\\\\n",
       "\t27 & 3.29584 & 1.67985 \\\\\n",
       "\t28 & 3.3322 & 1.66224 \\\\\n",
       "\t29 & 3.3673 & 1.68316 \\\\\n",
       "\t30 & 3.4012 & 1.69779 \\\\\n",
       "\t$\\dots$ & $\\dots$ & $\\dots$ \\\\\n",
       "\\end{tabular}\n"
      ],
      "text/plain": [
       "100×2 DataFrame\n",
       "│ Row │ x1       │ x2       │\n",
       "│     │ \u001b[90mFloat64\u001b[39m  │ \u001b[90mFloat64\u001b[39m  │\n",
       "├─────┼──────────┼──────────┤\n",
       "│ 1   │ 0.0      │ 0.0      │\n",
       "│ 2   │ 0.693147 │ 0.705076 │\n",
       "│ 3   │ 1.09861  │ 0.881699 │\n",
       "│ 4   │ 1.38629  │ 0.974182 │\n",
       "│ 5   │ 1.60944  │ 1.05501  │\n",
       "│ 6   │ 1.79176  │ 1.11054  │\n",
       "│ 7   │ 1.94591  │ 1.21669  │\n",
       "│ 8   │ 2.07944  │ 1.21651  │\n",
       "│ 9   │ 2.19722  │ 1.30283  │\n",
       "│ 10  │ 2.30259  │ 1.32595  │\n",
       "⋮\n",
       "│ 90  │ 4.49981  │ 1.8273   │\n",
       "│ 91  │ 4.51086  │ 1.83816  │\n",
       "│ 92  │ 4.52179  │ 1.89273  │\n",
       "│ 93  │ 4.5326   │ 1.85688  │\n",
       "│ 94  │ 4.54329  │ 1.85242  │\n",
       "│ 95  │ 4.55388  │ 1.85265  │\n",
       "│ 96  │ 4.56435  │ 1.85196  │\n",
       "│ 97  │ 4.57471  │ 1.84789  │\n",
       "│ 98  │ 4.58497  │ 1.85007  │\n",
       "│ 99  │ 4.59512  │ 1.86137  │\n",
       "│ 100 │ 4.60517  │ 1.83009  │"
      ]
     },
     "execution_count": 190,
     "metadata": {},
     "output_type": "execute_result"
    }
   ],
   "source": [
    "#Lo convierto en un data frame log-log\n",
    "\n",
    "df_log = hcat(log_x, log_y)\n",
    "df_log = convert(DataFrame, df_log)"
   ]
  },
  {
   "cell_type": "code",
   "execution_count": 191,
   "metadata": {},
   "outputs": [
    {
     "data": {
      "image/png": "[encoded data removed]"
     },
     "execution_count": 191,
     "metadata": {},
     "output_type": "execute_result"
    }
   ],
   "source": [
    "gl =scatter(df_log[!,1], df_log[!,2],\n",
    "    xtickfont = font(12, \"Courier\"),\n",
    "    ytickfont = font(12, \"Courier\"),\n",
    "    guidefontsize = 13,\n",
    "    xlabel = \"ln(t)\",\n",
    "    ylabel = L\"ln<x^2>\",\n",
    "    legend = false,\n",
    "    markercolor = \"#712670\",\n",
    "    markerstrokewidth = 0,\n",
    "    markersize = 2,\n",
    "    gridalpha = 0.05)"
   ]
  },
  {
   "cell_type": "code",
   "execution_count": 188,
   "metadata": {},
   "outputs": [
    {
     "data": {
      "text/html": [
       "<table class=\"data-frame\"><thead><tr><th></th><th>x1</th><th>x2</th></tr><tr><th></th><th>Float64</th><th>Float64</th></tr></thead><tbody><p>100 rows × 2 columns</p><tr><th>1</th><td>1.0</td><td>0.0</td></tr><tr><th>2</th><td>2.0</td><td>0.705076</td></tr><tr><th>3</th><td>3.0</td><td>0.881699</td></tr><tr><th>4</th><td>4.0</td><td>0.974182</td></tr><tr><th>5</th><td>5.0</td><td>1.05501</td></tr><tr><th>6</th><td>6.0</td><td>1.11054</td></tr><tr><th>7</th><td>7.0</td><td>1.21669</td></tr><tr><th>8</th><td>8.0</td><td>1.21651</td></tr><tr><th>9</th><td>9.0</td><td>1.30283</td></tr><tr><th>10</th><td>10.0</td><td>1.32595</td></tr><tr><th>11</th><td>11.0</td><td>1.39104</td></tr><tr><th>12</th><td>12.0</td><td>1.40612</td></tr><tr><th>13</th><td>13.0</td><td>1.45565</td></tr><tr><th>14</th><td>14.0</td><td>1.47049</td></tr><tr><th>15</th><td>15.0</td><td>1.47691</td></tr><tr><th>16</th><td>16.0</td><td>1.52204</td></tr><tr><th>17</th><td>17.0</td><td>1.48882</td></tr><tr><th>18</th><td>18.0</td><td>1.52762</td></tr><tr><th>19</th><td>19.0</td><td>1.57436</td></tr><tr><th>20</th><td>20.0</td><td>1.55275</td></tr><tr><th>21</th><td>21.0</td><td>1.60421</td></tr><tr><th>22</th><td>22.0</td><td>1.63847</td></tr><tr><th>23</th><td>23.0</td><td>1.62928</td></tr><tr><th>24</th><td>24.0</td><td>1.60462</td></tr><tr><th>25</th><td>25.0</td><td>1.62653</td></tr><tr><th>26</th><td>26.0</td><td>1.65507</td></tr><tr><th>27</th><td>27.0</td><td>1.67985</td></tr><tr><th>28</th><td>28.0</td><td>1.66224</td></tr><tr><th>29</th><td>29.0</td><td>1.68316</td></tr><tr><th>30</th><td>30.0</td><td>1.69779</td></tr><tr><th>&vellip;</th><td>&vellip;</td><td>&vellip;</td></tr></tbody></table>"
      ],
      "text/latex": [
       "\\begin{tabular}{r|cc}\n",
       "\t& x1 & x2\\\\\n",
       "\t\\hline\n",
       "\t& Float64 & Float64\\\\\n",
       "\t\\hline\n",
       "\t1 & 1.0 & 0.0 \\\\\n",
       "\t2 & 2.0 & 0.705076 \\\\\n",
       "\t3 & 3.0 & 0.881699 \\\\\n",
       "\t4 & 4.0 & 0.974182 \\\\\n",
       "\t5 & 5.0 & 1.05501 \\\\\n",
       "\t6 & 6.0 & 1.11054 \\\\\n",
       "\t7 & 7.0 & 1.21669 \\\\\n",
       "\t8 & 8.0 & 1.21651 \\\\\n",
       "\t9 & 9.0 & 1.30283 \\\\\n",
       "\t10 & 10.0 & 1.32595 \\\\\n",
       "\t11 & 11.0 & 1.39104 \\\\\n",
       "\t12 & 12.0 & 1.40612 \\\\\n",
       "\t13 & 13.0 & 1.45565 \\\\\n",
       "\t14 & 14.0 & 1.47049 \\\\\n",
       "\t15 & 15.0 & 1.47691 \\\\\n",
       "\t16 & 16.0 & 1.52204 \\\\\n",
       "\t17 & 17.0 & 1.48882 \\\\\n",
       "\t18 & 18.0 & 1.52762 \\\\\n",
       "\t19 & 19.0 & 1.57436 \\\\\n",
       "\t20 & 20.0 & 1.55275 \\\\\n",
       "\t21 & 21.0 & 1.60421 \\\\\n",
       "\t22 & 22.0 & 1.63847 \\\\\n",
       "\t23 & 23.0 & 1.62928 \\\\\n",
       "\t24 & 24.0 & 1.60462 \\\\\n",
       "\t25 & 25.0 & 1.62653 \\\\\n",
       "\t26 & 26.0 & 1.65507 \\\\\n",
       "\t27 & 27.0 & 1.67985 \\\\\n",
       "\t28 & 28.0 & 1.66224 \\\\\n",
       "\t29 & 29.0 & 1.68316 \\\\\n",
       "\t30 & 30.0 & 1.69779 \\\\\n",
       "\t$\\dots$ & $\\dots$ & $\\dots$ \\\\\n",
       "\\end{tabular}\n"
      ],
      "text/plain": [
       "100×2 DataFrame\n",
       "│ Row │ x1      │ x2       │\n",
       "│     │ \u001b[90mFloat64\u001b[39m │ \u001b[90mFloat64\u001b[39m  │\n",
       "├─────┼─────────┼──────────┤\n",
       "│ 1   │ 1.0     │ 0.0      │\n",
       "│ 2   │ 2.0     │ 0.705076 │\n",
       "│ 3   │ 3.0     │ 0.881699 │\n",
       "│ 4   │ 4.0     │ 0.974182 │\n",
       "│ 5   │ 5.0     │ 1.05501  │\n",
       "│ 6   │ 6.0     │ 1.11054  │\n",
       "│ 7   │ 7.0     │ 1.21669  │\n",
       "│ 8   │ 8.0     │ 1.21651  │\n",
       "│ 9   │ 9.0     │ 1.30283  │\n",
       "│ 10  │ 10.0    │ 1.32595  │\n",
       "⋮\n",
       "│ 90  │ 90.0    │ 1.8273   │\n",
       "│ 91  │ 91.0    │ 1.83816  │\n",
       "│ 92  │ 92.0    │ 1.89273  │\n",
       "│ 93  │ 93.0    │ 1.85688  │\n",
       "│ 94  │ 94.0    │ 1.85242  │\n",
       "│ 95  │ 95.0    │ 1.85265  │\n",
       "│ 96  │ 96.0    │ 1.85196  │\n",
       "│ 97  │ 97.0    │ 1.84789  │\n",
       "│ 98  │ 98.0    │ 1.85007  │\n",
       "│ 99  │ 99.0    │ 1.86137  │\n",
       "│ 100 │ 100.0   │ 1.83009  │"
      ]
     },
     "execution_count": 188,
     "metadata": {},
     "output_type": "execute_result"
    }
   ],
   "source": [
    "#Lo convierto en un data frame semilog\n",
    "\n",
    "df_slog = hcat(xs100s, log_y)\n",
    "df_slog = convert(DataFrame, df_slog)"
   ]
  },
  {
   "cell_type": "code",
   "execution_count": 189,
   "metadata": {},
   "outputs": [
    {
     "data": {
      "image/png": "[encoded data removed]"
     },
     "execution_count": 189,
     "metadata": {},
     "output_type": "execute_result"
    }
   ],
   "source": [
    "gsl =scatter(df_slog[!,1], df_slog[!,2],\n",
    "    xtickfont = font(10, \"Courier\"),\n",
    "    ytickfont = font(10, \"Courier\"),\n",
    "    guidefontsize = 13,\n",
    "    xlabel = \"t [steps]\",\n",
    "    ylabel = L\"ln<x^2>\",\n",
    "    legend = false,\n",
    "    markercolor = \"#712670\",\n",
    "    markerstrokewidth = 0,\n",
    "    markersize = 2,\n",
    "    gridalpha = 0.05)"
   ]
  },
  {
   "cell_type": "code",
   "execution_count": 192,
   "metadata": {},
   "outputs": [
    {
     "data": {
      "text/plain": [
       "StatsModels.DataFrameRegressionModel{LinearModel{LmResp{Array{Float64,1}},DensePredChol{Float64,LinearAlgebra.Cholesky{Float64,Array{Float64,2}}}},Array{Float64,2}}\n",
       "\n",
       "Formula: x2 ~ 1 + x1\n",
       "\n",
       "Coefficients:\n",
       "────────────────────────────────────────────────────\n",
       "             Estimate   Std.Error  t value  Pr(>|t|)\n",
       "────────────────────────────────────────────────────\n",
       "(Intercept)  0.619945  0.0363497   17.055     <1e-30\n",
       "x1           0.289205  0.00968608  29.8578    <1e-50\n",
       "────────────────────────────────────────────────────"
      ]
     },
     "execution_count": 192,
     "metadata": {},
     "output_type": "execute_result"
    }
   ],
   "source": [
    "#Ajustamos una recta x2 = log(y) y x1=log(x)\n",
    "ajuste_log = lm(@formula(x2 ~ x1), df_log)"
   ]
  },
  {
   "cell_type": "code",
   "execution_count": 193,
   "metadata": {
    "scrolled": true
   },
   "outputs": [
    {
     "data": {
      "text/plain": [
       "2-element Array{Float64,1}:\n",
       " 0.61995\n",
       " 0.2892 "
      ]
     },
     "execution_count": 193,
     "metadata": {},
     "output_type": "execute_result"
    }
   ],
   "source": [
    "coeficientes_dc = round.(coef(ajuste_log), digits=5)"
   ]
  },
  {
   "cell_type": "code",
   "execution_count": 194,
   "metadata": {},
   "outputs": [
    {
     "data": {
      "text/plain": [
       "0.90096"
      ]
     },
     "execution_count": 194,
     "metadata": {},
     "output_type": "execute_result"
    }
   ],
   "source": [
    "r_2 = round.(r2(ajuste_log), digits=5)"
   ]
  },
  {
   "cell_type": "code",
   "execution_count": 209,
   "metadata": {},
   "outputs": [
    {
     "data": {
      "image/png": "[encoded data removed]"
     },
     "execution_count": 209,
     "metadata": {},
     "output_type": "execute_result"
    }
   ],
   "source": [
    "eq_l(x) = 0.2892(x) + 0.61995\n",
    "g2 =scatter(df_log[!,1], df_log[!,2],\n",
    "    #xticks =:0:10:100,\n",
    "    #yticks =:0:1:8,\n",
    "    xtickfont = font(12, \"Courier\"),\n",
    "    ytickfont = font(12, \"Courier\"),\n",
    "    guidefontsize = 13,\n",
    "    xlabel = \"ln(t) [steps]\",\n",
    "    ylabel = L\"ln<x^2>\",\n",
    "    label = L\"ln<x^2(t)>\",\n",
    "    markercolor = \"#712670\",\n",
    "    markerstrokewidth = 0,\n",
    "    markersize = 2,\n",
    "    gridalpha = 0.05)\n",
    "Plots.plot!(eq_l,\n",
    "    legend = true,\n",
    "    label = \"$r_2\",\n",
    "    linecolor = :red)"
   ]
  },
  {
   "cell_type": "code",
   "execution_count": 222,
   "metadata": {},
   "outputs": [
    {
     "data": {
      "image/png": "[encoded data removed]"
     },
     "execution_count": 222,
     "metadata": {},
     "output_type": "execute_result"
    }
   ],
   "source": [
    "xt = collect(0:0.01:100)\n",
    "eq(xt) = 1.8588*(xt)^(0.2892)\n",
    "Plots.plot(xt, eq)\n",
    "    #xlim=(0,9),\n",
    "    #ylim=(0,6))"
   ]
  },
  {
   "cell_type": "code",
   "execution_count": null,
   "metadata": {},
   "outputs": [],
   "source": []
  },
  {
   "cell_type": "code",
   "execution_count": 233,
   "metadata": {
    "scrolled": false
   },
   "outputs": [
    {
     "data": {
      "image/png": "[encoded data removed]"
     },
     "execution_count": 233,
     "metadata": {},
     "output_type": "execute_result"
    }
   ],
   "source": [
    "xs100 = collect(0:100)\n",
    "ys100 = desp_medio[1:101]\n",
    "xs100s = collect(1:100)\n",
    "ys100s = desp_medio[2:101]\n",
    "\n",
    "xt = collect(0:0.01:100)\n",
    "eq(xt) = 1.8588*(xt)^(0.2892)\n",
    "\n",
    "g100 =scatter(xs100, ys100,\n",
    "    xticks =:0:10:100,\n",
    "    yticks =:0:1:8,\n",
    "    xtickfont = font(12, \"Courier\"),\n",
    "    ytickfont = font(12, \"Courier\"),\n",
    "    guidefontsize = 13,\n",
    "    xlabel = \"t [steps]\",\n",
    "    ylabel = L\"<x^2>\",\n",
    "    legend = true,\n",
    "    label = L\"<x^2(t)>\",\n",
    "    markercolor = \"#712670\",\n",
    "    markerstrokewidth = 0,\n",
    "    markersize = 2,\n",
    "    gridalpha = 0.05)\n",
    "Plots.plot!(xt, eq,\n",
    "    label = \"$r_2\",\n",
    "    linecolor =:red)"
   ]
  },
  {
   "cell_type": "code",
   "execution_count": 225,
   "metadata": {},
   "outputs": [
    {
     "data": {
      "text/plain": [
       "1001-element Array{Float64,1}:\n",
       " 0.0               \n",
       " 1.0               \n",
       " 2.024             \n",
       " 2.415             \n",
       " 2.649             \n",
       " 2.872             \n",
       " 3.036             \n",
       " 3.376             \n",
       " 3.3753753753753752\n",
       " 3.67967967967968  \n",
       " 3.765765765765766 \n",
       " 4.019019019019019 \n",
       " 4.08008008008008  \n",
       " ⋮                 \n",
       " 7.444277108433735 \n",
       " 7.326807228915663 \n",
       " 7.406626506024097 \n",
       " 7.233433734939759 \n",
       " 7.313253012048193 \n",
       " 7.52790346907994  \n",
       " 7.478129713423831 \n",
       " 7.441930618401207 \n",
       " 7.44947209653092  \n",
       " 7.467571644042232 \n",
       " 7.506787330316742 \n",
       " 7.7631975867269984"
      ]
     },
     "execution_count": 225,
     "metadata": {},
     "output_type": "execute_result"
    }
   ],
   "source": [
    "desp_medio"
   ]
  },
  {
   "cell_type": "code",
   "execution_count": 226,
   "metadata": {},
   "outputs": [
    {
     "data": {
      "text/html": [
       "<table class=\"data-frame\"><thead><tr><th></th><th>x1</th><th>x2</th></tr><tr><th></th><th>Float64</th><th>Float64</th></tr></thead><tbody><p>900 rows × 2 columns</p><tr><th>1</th><td>101.0</td><td>6.45842</td></tr><tr><th>2</th><td>102.0</td><td>6.18815</td></tr><tr><th>3</th><td>103.0</td><td>6.18835</td></tr><tr><th>4</th><td>104.0</td><td>6.06035</td></tr><tr><th>5</th><td>105.0</td><td>6.49792</td></tr><tr><th>6</th><td>106.0</td><td>6.30312</td></tr><tr><th>7</th><td>107.0</td><td>6.47083</td></tr><tr><th>8</th><td>108.0</td><td>6.21771</td></tr><tr><th>9</th><td>109.0</td><td>6.29614</td></tr><tr><th>10</th><td>110.0</td><td>6.29645</td></tr><tr><th>11</th><td>111.0</td><td>6.17954</td></tr><tr><th>12</th><td>112.0</td><td>6.37683</td></tr><tr><th>13</th><td>113.0</td><td>6.5261</td></tr><tr><th>14</th><td>114.0</td><td>6.46451</td></tr><tr><th>15</th><td>115.0</td><td>6.34864</td></tr><tr><th>16</th><td>116.0</td><td>6.43111</td></tr><tr><th>17</th><td>117.0</td><td>6.41441</td></tr><tr><th>18</th><td>118.0</td><td>6.26722</td></tr><tr><th>19</th><td>119.0</td><td>6.34134</td></tr><tr><th>20</th><td>120.0</td><td>6.27871</td></tr><tr><th>21</th><td>121.0</td><td>6.28706</td></tr><tr><th>22</th><td>122.0</td><td>6.22756</td></tr><tr><th>23</th><td>123.0</td><td>6.63703</td></tr><tr><th>24</th><td>124.0</td><td>6.24791</td></tr><tr><th>25</th><td>125.0</td><td>6.2712</td></tr><tr><th>26</th><td>126.0</td><td>6.26205</td></tr><tr><th>27</th><td>127.0</td><td>6.35744</td></tr><tr><th>28</th><td>128.0</td><td>6.43022</td></tr><tr><th>29</th><td>129.0</td><td>6.47584</td></tr><tr><th>30</th><td>130.0</td><td>6.56408</td></tr><tr><th>&vellip;</th><td>&vellip;</td><td>&vellip;</td></tr></tbody></table>"
      ],
      "text/latex": [
       "\\begin{tabular}{r|cc}\n",
       "\t& x1 & x2\\\\\n",
       "\t\\hline\n",
       "\t& Float64 & Float64\\\\\n",
       "\t\\hline\n",
       "\t1 & 101.0 & 6.45842 \\\\\n",
       "\t2 & 102.0 & 6.18815 \\\\\n",
       "\t3 & 103.0 & 6.18835 \\\\\n",
       "\t4 & 104.0 & 6.06035 \\\\\n",
       "\t5 & 105.0 & 6.49792 \\\\\n",
       "\t6 & 106.0 & 6.30312 \\\\\n",
       "\t7 & 107.0 & 6.47083 \\\\\n",
       "\t8 & 108.0 & 6.21771 \\\\\n",
       "\t9 & 109.0 & 6.29614 \\\\\n",
       "\t10 & 110.0 & 6.29645 \\\\\n",
       "\t11 & 111.0 & 6.17954 \\\\\n",
       "\t12 & 112.0 & 6.37683 \\\\\n",
       "\t13 & 113.0 & 6.5261 \\\\\n",
       "\t14 & 114.0 & 6.46451 \\\\\n",
       "\t15 & 115.0 & 6.34864 \\\\\n",
       "\t16 & 116.0 & 6.43111 \\\\\n",
       "\t17 & 117.0 & 6.41441 \\\\\n",
       "\t18 & 118.0 & 6.26722 \\\\\n",
       "\t19 & 119.0 & 6.34134 \\\\\n",
       "\t20 & 120.0 & 6.27871 \\\\\n",
       "\t21 & 121.0 & 6.28706 \\\\\n",
       "\t22 & 122.0 & 6.22756 \\\\\n",
       "\t23 & 123.0 & 6.63703 \\\\\n",
       "\t24 & 124.0 & 6.24791 \\\\\n",
       "\t25 & 125.0 & 6.2712 \\\\\n",
       "\t26 & 126.0 & 6.26205 \\\\\n",
       "\t27 & 127.0 & 6.35744 \\\\\n",
       "\t28 & 128.0 & 6.43022 \\\\\n",
       "\t29 & 129.0 & 6.47584 \\\\\n",
       "\t30 & 130.0 & 6.56408 \\\\\n",
       "\t$\\dots$ & $\\dots$ & $\\dots$ \\\\\n",
       "\\end{tabular}\n"
      ],
      "text/plain": [
       "900×2 DataFrame\n",
       "│ Row │ x1      │ x2      │\n",
       "│     │ \u001b[90mFloat64\u001b[39m │ \u001b[90mFloat64\u001b[39m │\n",
       "├─────┼─────────┼─────────┤\n",
       "│ 1   │ 101.0   │ 6.45842 │\n",
       "│ 2   │ 102.0   │ 6.18815 │\n",
       "│ 3   │ 103.0   │ 6.18835 │\n",
       "│ 4   │ 104.0   │ 6.06035 │\n",
       "│ 5   │ 105.0   │ 6.49792 │\n",
       "│ 6   │ 106.0   │ 6.30312 │\n",
       "│ 7   │ 107.0   │ 6.47083 │\n",
       "│ 8   │ 108.0   │ 6.21771 │\n",
       "│ 9   │ 109.0   │ 6.29614 │\n",
       "│ 10  │ 110.0   │ 6.29645 │\n",
       "⋮\n",
       "│ 890 │ 990.0   │ 7.32681 │\n",
       "│ 891 │ 991.0   │ 7.40663 │\n",
       "│ 892 │ 992.0   │ 7.23343 │\n",
       "│ 893 │ 993.0   │ 7.31325 │\n",
       "│ 894 │ 994.0   │ 7.5279  │\n",
       "│ 895 │ 995.0   │ 7.47813 │\n",
       "│ 896 │ 996.0   │ 7.44193 │\n",
       "│ 897 │ 997.0   │ 7.44947 │\n",
       "│ 898 │ 998.0   │ 7.46757 │\n",
       "│ 899 │ 999.0   │ 7.50679 │\n",
       "│ 900 │ 1000.0  │ 7.7632  │"
      ]
     },
     "execution_count": 226,
     "metadata": {},
     "output_type": "execute_result"
    }
   ],
   "source": [
    "#Lo convierto en un data frame lineal segunda sección\n",
    "\n",
    "xs900 = collect(101:1000)\n",
    "ys900 = desp_medio[102:1001]\n",
    "\n",
    "df_900 = hcat(xs900, ys900)\n",
    "df_900 = convert(DataFrame, df_900)"
   ]
  },
  {
   "cell_type": "code",
   "execution_count": 228,
   "metadata": {
    "scrolled": true
   },
   "outputs": [
    {
     "data": {
      "text/plain": [
       "StatsModels.DataFrameRegressionModel{LinearModel{LmResp{Array{Float64,1}},DensePredChol{Float64,LinearAlgebra.Cholesky{Float64,Array{Float64,2}}}},Array{Float64,2}}\n",
       "\n",
       "Formula: x2 ~ 1 + x1\n",
       "\n",
       "Coefficients:\n",
       "───────────────────────────────────────────────────────\n",
       "               Estimate   Std.Error   t value  Pr(>|t|)\n",
       "───────────────────────────────────────────────────────\n",
       "(Intercept)  6.19485     0.0116221   533.021     <1e-99\n",
       "x1           0.00124641  1.90925e-5   65.2825    <1e-99\n",
       "───────────────────────────────────────────────────────"
      ]
     },
     "execution_count": 228,
     "metadata": {},
     "output_type": "execute_result"
    }
   ],
   "source": [
    "#Ajustamos una recta \n",
    "ajuste_900 = lm(@formula(x2 ~ x1), df_900)"
   ]
  },
  {
   "cell_type": "code",
   "execution_count": 229,
   "metadata": {
    "scrolled": true
   },
   "outputs": [
    {
     "data": {
      "text/plain": [
       "2-element Array{Float64,1}:\n",
       " 6.19485\n",
       " 0.00125"
      ]
     },
     "execution_count": 229,
     "metadata": {},
     "output_type": "execute_result"
    }
   ],
   "source": [
    "coeficientes_dc900 = round.(coef(ajuste_900), digits=5)"
   ]
  },
  {
   "cell_type": "code",
   "execution_count": 230,
   "metadata": {},
   "outputs": [
    {
     "data": {
      "text/plain": [
       "0.82596"
      ]
     },
     "execution_count": 230,
     "metadata": {},
     "output_type": "execute_result"
    }
   ],
   "source": [
    "r_2_900 = round.(r2(ajuste_900), digits=5)"
   ]
  },
  {
   "cell_type": "code",
   "execution_count": 234,
   "metadata": {},
   "outputs": [
    {
     "data": {
      "image/png": "[encoded data removed]"
     },
     "execution_count": 234,
     "metadata": {},
     "output_type": "execute_result"
    }
   ],
   "source": [
    "#xt = collect(0:0.01:100)\n",
    "eq900(x) = 0.00125(x) + 6.19485\n",
    "\n",
    "g900 =scatter(xs900, ys900,\n",
    "    xticks =:100:100:1000,\n",
    "    yticks =:0:1:8,\n",
    "    xtickfont = font(12, \"Courier\"),\n",
    "    ytickfont = font(12, \"Courier\"),\n",
    "    guidefontsize = 13,\n",
    "    #title = \"Diffusion\",\n",
    "    xlabel = \"t [steps]\",\n",
    "    ylabel = L\"<x^2>\",\n",
    "    legend = true,\n",
    "    label = L\"<x^2(t)>\",\n",
    "    markercolor = \"#712670\",\n",
    "    markerstrokewidth = 0,\n",
    "    markersize = 2,\n",
    "    gridalpha = 0.05)\n",
    "Plots.plot!(eq900,\n",
    "    label = \"$r_2_900\",\n",
    "    linecolor =:red)"
   ]
  },
  {
   "cell_type": "code",
   "execution_count": null,
   "metadata": {},
   "outputs": [],
   "source": []
  },
  {
   "cell_type": "code",
   "execution_count": 299,
   "metadata": {},
   "outputs": [
    {
     "data": {
      "image/png": "[encoded data removed]"
     },
     "execution_count": 299,
     "metadata": {},
     "output_type": "execute_result"
    }
   ],
   "source": [
    "xs100 = collect(0:100)\n",
    "ys100 = desp_medio[1:101]\n",
    "xs100s = collect(1:100)\n",
    "ys100s = desp_medio[2:101]\n",
    "\n",
    "xt = collect(0:0.01:100)\n",
    "eq(xt) = 1.8588*(xt)^(0.2892)\n",
    "eq900(x) = 0.00125(x) + 6.19485\n",
    "\n",
    "gtodo =scatter(xs, ys,\n",
    "    xticks =:0:100:1000,\n",
    "    yticks =:0:1:8,\n",
    "    xtickfont = font(12, \"Courier\"),\n",
    "    ytickfont = font(12, \"Courier\"),\n",
    "    guidefontsize = 13,\n",
    "    xlabel = \"t [steps]\",\n",
    "    ylabel = L\"<x^2(t)>\",\n",
    "    legend = true,\n",
    "    legendfontsize = 11,\n",
    "    label = L\"<x^2(t)>\",\n",
    "    markercolor = \"#263030\",\n",
    "    markerstrokewidth = 0,\n",
    "    markerstrokealpha = 0,\n",
    "    markersize = 2,\n",
    "    gridalpha = 0.05)\n",
    "Plots.plot!(xt, eq,\n",
    "    label = L\"r^2=0.825\",\n",
    "    linewidth = 1.5,\n",
    "    linecolor = \"#DF2ECD\")\n",
    "Plots.plot!(eq900,\n",
    "    label = L\"r^2=0.900\",\n",
    "    linewidth = 1.7,\n",
    "    linecolor = \"#2EDFA7\")  #2BBBD8 #2A73EC #2EDFA7"
   ]
  },
  {
   "cell_type": "code",
   "execution_count": null,
   "metadata": {},
   "outputs": [],
   "source": []
  }
 ],
 "metadata": {
  "@webio": {
   "lastCommId": null,
   "lastKernelId": null
  },
  "kernelspec": {
   "display_name": "Julia 1.1.0",
   "language": "julia",
   "name": "julia-1.1"
  },
  "language_info": {
   "file_extension": ".jl",
   "mimetype": "application/julia",
   "name": "julia",
   "version": "1.1.0"
  }
 },
 "nbformat": 4,
 "nbformat_minor": 2
}
