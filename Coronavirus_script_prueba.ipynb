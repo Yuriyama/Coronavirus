{
 "cells": [
  {
   "cell_type": "markdown",
   "metadata": {},
   "source": [
    "# Coronavirus"
   ]
  },
  {
   "cell_type": "code",
   "execution_count": 3,
   "metadata": {},
   "outputs": [],
   "source": [
    "#Paquetes\n",
    "using DelimitedFiles\n",
    "using StatsBase\n",
    "using RandomNumbers.Xorshifts\n",
    "using Plots\n",
    "pyplot()\n",
    "using LightGraphs\n",
    "using GraphPlot"
   ]
  },
  {
   "cell_type": "code",
   "execution_count": 2,
   "metadata": {},
   "outputs": [
    {
     "data": {
      "text/plain": [
       "30-element Array{String,1}:\n",
       " \"Airlines\"     \n",
       " \"global\"       \n",
       " \"Star_Alliance\"\n",
       " \"Sky_Team\"     \n",
       " \"oneworld\"     \n",
       " \"MU\"           \n",
       " \"CZ\"           \n",
       " \"AF\"           \n",
       " \"CA\"           \n",
       " \"KE\"           \n",
       " \"HU\"           \n",
       " \"CX\"           \n",
       " \"GS\"           \n",
       " ⋮              \n",
       " \"SC\"           \n",
       " \"HO\"           \n",
       " \"JD\"           \n",
       " \"KA\"           \n",
       " \"8L\"           \n",
       " \"MI\"           \n",
       " \"FD\"           \n",
       " \"PN\"           \n",
       " \"EU\"           \n",
       " \"NS\"           \n",
       " \"KY\"           \n",
       " \"BX\"           "
      ]
     },
     "execution_count": 2,
     "metadata": {},
     "output_type": "execute_result"
    }
   ],
   "source": [
    "info_aerolineas = readdlm(\"/Users/yuriko/Documents/UNAM/Tesis_Lic/data/aerolineas_matrices/nueva_lista_aerolineas_art.csv\", ',', String)\n",
    "lista_aerolineas = info_aerolineas[:, 2]"
   ]
  },
  {
   "cell_type": "code",
   "execution_count": 3,
   "metadata": {},
   "outputs": [
    {
     "data": {
      "text/plain": [
       "3073×527 Array{Any,2}:\n",
       "     \"\"  \"global_airports\"      \"global_num\"  …  \"4K_num\"  \"4D_num\"  \"4B_num\"\n",
       "    1    \"AER\"                 1                 \"NA\"      \"NA\"      \"NA\"    \n",
       "    2    \"ASF\"                 2                 \"NA\"      \"NA\"      \"NA\"    \n",
       "    3    \"CEK\"                 3                 \"NA\"      \"NA\"      \"NA\"    \n",
       "    4    \"DME\"                 4                 \"NA\"      \"NA\"      \"NA\"    \n",
       "    5    \"EGO\"                 5              …  \"NA\"      \"NA\"      \"NA\"    \n",
       "    6    \"GYD\"                 6                 \"NA\"      \"NA\"      \"NA\"    \n",
       "    7    \"KGD\"                 7                 \"NA\"      \"NA\"      \"NA\"    \n",
       "    8    \"KZN\"                 8                 \"NA\"      \"NA\"      \"NA\"    \n",
       "    9    \"LED\"                 9                 \"NA\"      \"NA\"      \"NA\"    \n",
       "   10    \"MRV\"                10              …  \"NA\"      \"NA\"      \"NA\"    \n",
       "   11    \"NBC\"                11                 \"NA\"      \"NA\"      \"NA\"    \n",
       "   12    \"NJC\"                12                 \"NA\"      \"NA\"      \"NA\"    \n",
       "    ⋮                                         ⋱            ⋮                 \n",
       " 3061    \"KZI\"              3061                 \"NA\"      \"NA\"      \"NA\"    \n",
       " 3062    \"KOT\"              3062                 \"NA\"      \"NA\"      \"NA\"    \n",
       " 3063    \"PSJ\"              3063                 \"NA\"      \"NA\"      \"NA\"    \n",
       " 3064    \"LPS\"              3064                 \"NA\"      \"NA\"      \"NA\"    \n",
       " 3065    \"ORX\"              3065              …  \"NA\"      \"NA\"      \"NA\"    \n",
       " 3066    \"BVS\"              3066                 \"NA\"      \"NA\"      \"NA\"    \n",
       " 3067    \"MTE\"              3067                 \"NA\"      \"NA\"      \"NA\"    \n",
       " 3068    \"DLZ\"              3068                 \"NA\"      \"NA\"      \"NA\"    \n",
       " 3069    \"UII\"              3069                 \"NA\"      \"NA\"      \"NA\"    \n",
       " 3070    \"ZBF\"              3070              …  \"NA\"      \"NA\"      \"NA\"    \n",
       " 3071    \"CMP\"              3071                 \"NA\"      \"NA\"      \"NA\"    \n",
       " 3072    \"BSS\"              3072                 \"NA\"      \"NA\"      \"NA\"    "
      ]
     },
     "execution_count": 3,
     "metadata": {},
     "output_type": "execute_result"
    }
   ],
   "source": [
    "#SE LEE DICCIONARIO\n",
    "archivo_dicc = readdlm(\"/Users/yuriko/Documents/UNAM/Tesis_Lic/data/diccionarios/dictionary_final.csv\", ',')"
   ]
  },
  {
   "cell_type": "code",
   "execution_count": 4,
   "metadata": {},
   "outputs": [
    {
     "data": {
      "text/plain": [
       "76-element Array{String,1}:\n",
       " \"MEX\"\n",
       " \"ACA\"\n",
       " \"TIJ\"\n",
       " \"GDL\"\n",
       " \"CUN\"\n",
       " \"MTY\"\n",
       " \"NTR\"\n",
       " \"AGU\"\n",
       " \"HUX\"\n",
       " \"CVJ\"\n",
       " \"ACN\"\n",
       " \"CME\"\n",
       " \"NCG\"\n",
       " ⋮    \n",
       " \"VSA\"\n",
       " \"VER\"\n",
       " \"ZCL\"\n",
       " \"ZIH\"\n",
       " \"ZMM\"\n",
       " \"ZLO\"\n",
       " \"CYW\"\n",
       " \"CUA\"\n",
       " \"GUB\"\n",
       " \"JAL\"\n",
       " \"CZA\"\n",
       " \"PQM\""
      ]
     },
     "execution_count": 4,
     "metadata": {},
     "output_type": "execute_result"
    }
   ],
   "source": [
    "listamx = [\"MEX\", \"ACA\", \"TIJ\", \"GDL\", \"CUN\", \"MTY\", \"NTR\", \"AGU\", \"HUX\", \"CVJ\", \"ACN\", \"CME\", \"NCG\", \"CUL\", \"CTM\", \n",
    "    \"CEN\", \"CPE\", \"CJS\", \"CUU\", \"CVM\", \"CZM\", \"DGO\", \"TPQ\", \"ESE\", \"GYM\", \"TCN\", \"HMO\", \"CLQ\", \"ISJ\", \"SLW\", \"IZT\", \n",
    "    \"LZC\", \"LMM\", \"BJX\", \"LAP\", \"LTO\", \"MAM\", \"MID\", \"MXL\", \"MLM\", \"MTT\", \"LOV\", \"MZT\", \"NOG\", \"NLD\", \"OAX\", \"PAZ\", \n",
    "    \"PBC\", \"PPE\", \"PDS\", \"UPN\", \"PVR\", \"PXM\", \"QRO\", \"REX\", \"SJD\", \"SFH\", \"SLP\", \"TRC\", \"TGZ\", \"TAM\", \"TSL\", \"TLC\", \n",
    "    \"TAP\", \"VSA\", \"VER\", \"ZCL\", \"ZIH\", \"ZMM\", \"ZLO\", \"CYW\", \"CUA\", \"GUB\", \"JAL\", \"CZA\", \"PQM\"]"
   ]
  },
  {
   "cell_type": "code",
   "execution_count": 5,
   "metadata": {},
   "outputs": [
    {
     "data": {
      "text/plain": [
       "78-element Array{String,1}:\n",
       " \"BOD\"\n",
       " \"LBG\"\n",
       " \"CDG\"\n",
       " \"ORY\"\n",
       " \"MZG\"\n",
       " \"TPE\"\n",
       " \"NRT\"\n",
       " \"HND\"\n",
       " \"GMP\"\n",
       " \"HKG\"\n",
       " \"MFM\"\n",
       " \"KTM\"\n",
       " \"DMK\"\n",
       " ⋮    \n",
       " \"WUZ\"\n",
       " \"TEN\"\n",
       " \"CGX\"\n",
       " \"YIC\"\n",
       " \"OCW\"\n",
       " \"RIZ\"\n",
       " \"CAN\"\n",
       " \"PKX\"\n",
       " \"HGH\"\n",
       " \"DFW\"\n",
       " \"HAN\"\n",
       " \"WUH\""
      ]
     },
     "execution_count": 5,
     "metadata": {},
     "output_type": "execute_result"
    }
   ],
   "source": [
    "listainf = [\"BOD\", \"LBG\", \"CDG\", \"ORY\", \"MZG\", \"TPE\", \"NRT\", \"HND\", \"GMP\", \"HKG\", \"MFM\", \"KTM\", \"DMK\", \"HKT\", \"SGN\",\n",
    "    \"JHB\", \"SIN\", \"MEB\", \"MBW\", \"MEL\", \"BWU\", \"SYD\", \"PEK\", \"TSN\", \"TYN\", \"CSX\", \"KWL\", \"CGO\", \"KMG\", \"FOC\", \"TAO\", \n",
    "    \"SHA\", \"KWE\", \"CTU\", \"HRB\", \"MDG\", \"DLC\", \"PVG\", \"SFO\", \"LAX\", \"DCA\", \"SEA\", \"ATL\", \"IAD\", \"MDW\", \"JFK\", \"UGN\", \n",
    "    \"ORD\", \"SNA\", \"BKK\", \"ICN\", \"CNX\", \"SYX\", \"INC\", \"HAK\", \"SHE\", \"LYA\", \"XUZ\", \"CEB\", \"CGQ\", \"NAY\", \"BHY\", \"WEH\", \n",
    "    \"WUX\", \"WUS\", \"JGN\", \"WUZ\", \"TEN\", \"CGX\", \"YIC\", \"OCW\", \"RIZ\", \"CAN\", \"PKX\", \"HGH\", \"DFW\", \"HAN\", \"WUH\"]"
   ]
  },
  {
   "cell_type": "code",
   "execution_count": 6,
   "metadata": {},
   "outputs": [
    {
     "data": {
      "text/plain": [
       "import_matrix"
      ]
     },
     "execution_count": 6,
     "metadata": {},
     "output_type": "execute_result"
    }
   ],
   "source": [
    "\"\"\"\n",
    "    import_matrix(arch::string)\n",
    "\n",
    "Función que importa el archivo de la matriz de adyacencia de R.\n",
    "\"\"\"\n",
    "function import_matrix(arch::AbstractString)\n",
    "    archivo_R = readdlm(arch, ',')\n",
    "    archivo_R = archivo_R[2:end, :]\n",
    "    matriz = archivo_R[:, 2:end]\n",
    "    nombre = convert(Array{Int64,2}, matriz)\n",
    "    return nombre\n",
    "end"
   ]
  },
  {
   "cell_type": "code",
   "execution_count": 7,
   "metadata": {},
   "outputs": [
    {
     "data": {
      "text/plain": [
       "airport_names"
      ]
     },
     "execution_count": 7,
     "metadata": {},
     "output_type": "execute_result"
    }
   ],
   "source": [
    "\"\"\"\n",
    "    airport_names(arch::AbstractString)\n",
    "\n",
    "Función que obtiene un arreglo con los nombres de aeropuertos de la matriz\n",
    "\"\"\"\n",
    "function airport_names(arch::AbstractString)\n",
    "    archivo_R = readdlm(arch, ',', String)\n",
    "    columna = archivo_R[1, :]\n",
    "    nombres = columna[2:end]\n",
    "    return nombres\n",
    "end"
   ]
  },
  {
   "cell_type": "code",
   "execution_count": 8,
   "metadata": {},
   "outputs": [
    {
     "data": {
      "text/plain": [
       "my_graph"
      ]
     },
     "execution_count": 8,
     "metadata": {},
     "output_type": "execute_result"
    }
   ],
   "source": [
    "\"\"\"\n",
    "    my_graph(M::Array{Int64,2}, airline_code::String)\n",
    "\n",
    "Función que hace el grafo de la red aérea dirigida.\n",
    "\"\"\"\n",
    "function my_graph(M::Array{Int64,2}, airline_code::String)\n",
    "\n",
    "    grafo = DiGraph(M)\n",
    "\n",
    "end"
   ]
  },
  {
   "cell_type": "code",
   "execution_count": 9,
   "metadata": {},
   "outputs": [
    {
     "data": {
      "text/plain": [
       "plot_net"
      ]
     },
     "execution_count": 9,
     "metadata": {},
     "output_type": "execute_result"
    }
   ],
   "source": [
    "\"\"\"\n",
    "    plot_net(M::Array{Int64,2}, airline_code::String)\n",
    "\n",
    "Función que hace el grafo de la red aérea dirigida.\n",
    "\"\"\"\n",
    "function plot_net(M::Array{Int64,2}, airline_code::String)\n",
    "\n",
    "    grafo = DiGraph(M)\n",
    "    red = gplot(grafo)\n",
    "\n",
    "    return red\n",
    "\n",
    "end"
   ]
  },
  {
   "cell_type": "code",
   "execution_count": 10,
   "metadata": {},
   "outputs": [
    {
     "data": {
      "text/plain": [
       "n_in_degree"
      ]
     },
     "execution_count": 10,
     "metadata": {},
     "output_type": "execute_result"
    }
   ],
   "source": [
    "\"\"\"\n",
    "\n",
    "    n_in_degree(M::Array{Int64,2}, n::Int64)\n",
    "\n",
    "Función que obtiene el grado de entrada de un cierto nodo n de la red representada por la matriz de adyacencia M.\n",
    "\n",
    "Parámetros:\n",
    "M matriz de adyacencia que acepta un arreglo de tipo Array{Int64,2}\n",
    "n nodo a evaluar de tipo Int64\n",
    "\n",
    "Resultado:\n",
    "Grado de entrada del nodo n representado por un valor numérico de tipo Int64\n",
    "\n",
    "Implementación\n",
    "\n",
    "#### Ejemplos\n",
    "\"\"\"\n",
    "function n_in_degree(M::Array{Int64,2}, n::Int64)\n",
    "    grado_entrada = sum(M[n, :])\n",
    "end"
   ]
  },
  {
   "cell_type": "code",
   "execution_count": 11,
   "metadata": {},
   "outputs": [
    {
     "data": {
      "text/plain": [
       "in_degree"
      ]
     },
     "execution_count": 11,
     "metadata": {},
     "output_type": "execute_result"
    }
   ],
   "source": [
    "\"\"\"\n",
    "    in_degree(M::Array{Int64,2})\n",
    "\n",
    "Función que obtiene el grado de entrada de una red representada por la matriz de adyacencia M.\n",
    "\n",
    "Parámetros:\n",
    "* M matriz de adyacencia que acepta un arreglo de tipo Array{Int64,2}\n",
    "\n",
    "Resultado:\n",
    "Devuelve un arreglo de tipo Array{Int64,2} que contiene los grados de entrada de todos los nodos n de la red.\n",
    "\n",
    "## Implementación\n",
    "\n",
    "### Ejemplos\n",
    "\"\"\"\n",
    "function in_degree(M::Array{Int64,2})\n",
    "    grados_entrada = sum(M, dims = 2)\n",
    "end"
   ]
  },
  {
   "cell_type": "code",
   "execution_count": 12,
   "metadata": {},
   "outputs": [
    {
     "data": {
      "text/plain": [
       "n_out_degree (generic function with 1 method)"
      ]
     },
     "execution_count": 12,
     "metadata": {},
     "output_type": "execute_result"
    }
   ],
   "source": [
    "\"\"\"\n",
    "    n_out_degree(M::Array{Int64,2}, n::Int64)\n",
    "\n",
    "Función que obtiene el grado de salida de un cierto nodo n de la red representada por la matriz de adyacencia M.\n",
    "\n",
    "Parámetros:\n",
    "* M matriz de adyacencia que acepta un arreglo de tipo Array{Int64,2}\n",
    "* n nodo a evaluar de tipo Int64\n",
    "\n",
    "Resultado:\n",
    "Grado de salida del nodo n representado por un valor numérico de tipo Int64\n",
    "\n",
    "## Implementación\n",
    "\n",
    "### Ejemplos\n",
    "\"\"\"\n",
    "\n",
    "function n_out_degree(M::Array{Int64,2}, n::Int64)\n",
    "    grado_salida = sum(M[:, n])\n",
    "end"
   ]
  },
  {
   "cell_type": "code",
   "execution_count": 13,
   "metadata": {},
   "outputs": [
    {
     "data": {
      "text/plain": [
       "out_degree"
      ]
     },
     "execution_count": 13,
     "metadata": {},
     "output_type": "execute_result"
    }
   ],
   "source": [
    "\"\"\"\n",
    "    out_degree(M::Array{Int64,2})\n",
    "\n",
    "Función que obtiene el grado de salida de una red representada por la matriz de adyacencia M.\n",
    "\n",
    "Parámetros:\n",
    "* M matriz de adyacencia que acepta un arreglo de tipo Array{Int64,2}\n",
    "\n",
    "Resultado:\n",
    "Devuelve un arreglo de tipo Array{Int64,2} que contiene los grados de salida de todos los nodos n de la red.\n",
    "\n",
    "## Implementación\n",
    "\n",
    "### Ejemplos\n",
    "\"\"\"\n",
    "function out_degree(M::Array{Int64,2})\n",
    "    grados_salida = sum(M, dims = 1)\n",
    "end"
   ]
  },
  {
   "cell_type": "code",
   "execution_count": 14,
   "metadata": {},
   "outputs": [
    {
     "data": {
      "text/plain": [
       "distrib_in_degree"
      ]
     },
     "execution_count": 14,
     "metadata": {},
     "output_type": "execute_result"
    }
   ],
   "source": [
    "#Distribución de grado\n",
    "\"\"\"\n",
    "Función de distribución de grado de entrada\n",
    "\"\"\"\n",
    "function distrib_in_degree(M::Array{Int64,2})\n",
    "    x = in_degree(M)\n",
    "    degree_count = counts(x)\n",
    "    return degree_count\n",
    "end"
   ]
  },
  {
   "cell_type": "code",
   "execution_count": 15,
   "metadata": {},
   "outputs": [
    {
     "data": {
      "text/plain": [
       "distrib_out_degree"
      ]
     },
     "execution_count": 15,
     "metadata": {},
     "output_type": "execute_result"
    }
   ],
   "source": [
    "\"\"\"\n",
    "Función de distribución de grado de salida\n",
    "\"\"\"\n",
    "function distrib_out_degree(M::Array)\n",
    "    x = out_degree(M)\n",
    "    degree_count = counts(x)\n",
    "    return degree_count\n",
    "end"
   ]
  },
  {
   "cell_type": "code",
   "execution_count": 16,
   "metadata": {},
   "outputs": [
    {
     "data": {
      "text/plain": [
       "plot_distrib"
      ]
     },
     "execution_count": 16,
     "metadata": {},
     "output_type": "execute_result"
    }
   ],
   "source": [
    "\"\"\"\n",
    "    plot_distrib(M::Array{Int64,2}, tipo::String, titulo::String, color::String)\n",
    "\n",
    "Función con parámetros:\n",
    "M = matriz\n",
    "tipo = \"in\" o \"out\"\n",
    "titulo = acepta el título del gráfico\n",
    "color = color de las barras\n",
    "\n",
    "que regresa un histograma de la distribución de grado, entrada o salida.\n",
    "\"\"\"\n",
    "function plot_distrib(M::Array{Int64,2}, tipo::String, titulo::String, color::String)\n",
    "\n",
    "    #pyplot()\n",
    "\n",
    "    if tipo == \"in\"\n",
    "        distribucion = distrib_in_degree(M::Array)\n",
    "    elseif tipo == \"out\"\n",
    "        distribucion = distrib_out_degree(M::Array)\n",
    "    end\n",
    "    distribucion\n",
    "\n",
    "    graph = bar(distribucion, fillcolor = color, markersize = 3, linealpha = 0.5,\n",
    "    title = titulo,\n",
    "    xlabel = \"Grado\",\n",
    "    ylabel = \"Frecuencia\",\n",
    "    xlims = (-10,250), #obtener límites\n",
    "    ylims = (-10,100)) #obtener límites\n",
    "end"
   ]
  },
  {
   "cell_type": "code",
   "execution_count": 17,
   "metadata": {},
   "outputs": [
    {
     "data": {
      "text/plain": [
       "my_betweenness_centrality"
      ]
     },
     "execution_count": 17,
     "metadata": {},
     "output_type": "execute_result"
    }
   ],
   "source": [
    "#BETWEENNESS\n",
    "\"\"\"\n",
    "    my_betweenness_centrality(M::Array{Int64,2}, airline_code::String)\n",
    "\n",
    "Función que hace el grafo de la red aérea dirigida.\n",
    "\"\"\"\n",
    "function my_betweenness_centrality(M::Array{Int64,2}, airline_code::String)\n",
    "\n",
    "    grafo = DiGraph(M)\n",
    "    res = betweenness_centrality(grafo)\n",
    "\n",
    "    return res\n",
    "\n",
    "end"
   ]
  },
  {
   "cell_type": "code",
   "execution_count": 18,
   "metadata": {},
   "outputs": [
    {
     "data": {
      "text/plain": [
       "neighbours"
      ]
     },
     "execution_count": 18,
     "metadata": {},
     "output_type": "execute_result"
    }
   ],
   "source": [
    "#Vecinos\n",
    "\"\"\"\n",
    "    neighbours(M::Array{Int64,2})\n",
    "\n",
    "Función que obtiene un conjunto de arreglos con los vecinos de cada nodo.\n",
    "\"\"\"\n",
    "function neighbours(M::Array{Int64,2})\n",
    "\n",
    "    nodos = size(M, 1) #aeropuertos\n",
    "    vecindades = []\n",
    "\n",
    "    for i in 1:nodos\n",
    "        vecinos = findall(x -> x != 0, M[i, :])\n",
    "        push!(vecindades, vecinos)\n",
    "    end\n",
    "    vecindades\n",
    "end"
   ]
  },
  {
   "cell_type": "code",
   "execution_count": 19,
   "metadata": {},
   "outputs": [
    {
     "data": {
      "text/plain": [
       "busca_WUH"
      ]
     },
     "execution_count": 19,
     "metadata": {},
     "output_type": "execute_result"
    }
   ],
   "source": [
    "\"\"\"\n",
    "\n",
    "    busca_WUH(list_aerop::Array{String, 1})\n",
    "\n",
    "La función busca_WUH tiene como parámetros:\n",
    "list_aerop, lista de aeropuertos de la aerolínea\n",
    "La función lee la lista de aeropuertos de la aerolínea, busca el índice del aeropuerto WUH.\n",
    "Regresa el índice del aeropuerto WUH.\n",
    "\"\"\"\n",
    "function busca_WUH(list_aerop::Array{String, 1})\n",
    "\n",
    "    i = 1\n",
    "    while list_aerop[i] != \"WUH\"\n",
    "        i +=1\n",
    "    end\n",
    "    i\n",
    "end"
   ]
  },
  {
   "cell_type": "code",
   "execution_count": 57,
   "metadata": {},
   "outputs": [
    {
     "data": {
      "text/plain": [
       "r_walks"
      ]
     },
     "execution_count": 57,
     "metadata": {},
     "output_type": "execute_result"
    }
   ],
   "source": [
    "\"\"\"\n",
    "\n",
    "    r_walks(M::Array{Int64,2}, f::Int64, steps::Int64, iter::Int64)\n",
    "\n",
    "La función r_walks tiene como parámetros:\n",
    "M, matriz de adyacencia de tipo Array{Int64,2}\n",
    "f, nodo inicial de tipo Int64\n",
    "steps, número de pasos de tipo Int64\n",
    "iter, número de iteraciones de tipo Int64.\n",
    "La función crea un caminante aleatorio sobre la matriz, el cual tiene igual probabilidad de avanzar\n",
    "hacia cualquiera de sus vecinos.\n",
    "Regresa un arreglo que contiene todas las trayectorias que tomó el caminante aleatorio.\n",
    "\"\"\"\n",
    "function r_walks(M::Array{Int64,2}, f::Int64, steps::Int64, iter::Int64, seed=1)\n",
    "\n",
    "    paths = zeros(Int64, (iter, steps + 1))\n",
    "    s = f\n",
    "    #seed = 1\n",
    "    vecindades = neighbours(M)\n",
    "\n",
    "    for i in 1:iter\n",
    "        paths[i, 1] = f\n",
    "\n",
    "        for p in 1:steps\n",
    "            vecindad = vecindades[s]\n",
    "\n",
    "            if vecindad == []\n",
    "                break\n",
    "            else\n",
    "                a = sample(Xoroshiro128Plus(seed), vecindad)\n",
    "                paths[i, p + 1] = a\n",
    "                s = a\n",
    "                seed += 1\n",
    "            end\n",
    "\n",
    "        end\n",
    "        s = f\n",
    "\n",
    "    end\n",
    "\n",
    "    return paths\n",
    "end"
   ]
  },
  {
   "cell_type": "code",
   "execution_count": 21,
   "metadata": {},
   "outputs": [
    {
     "data": {
      "text/plain": [
       "visited_vertices"
      ]
     },
     "execution_count": 21,
     "metadata": {},
     "output_type": "execute_result"
    }
   ],
   "source": [
    "#Nodos/aeropuertos visitados\n",
    "\"\"\"\n",
    "    visited_vertices(W::Array{Any,1})\n",
    "\n",
    "La función caminos tiene como parámetro W que es un arreglo con las iteraciones de WUH.\n",
    "Regresa los nodos diferentes a los que llega el caminante.\n",
    "\"\"\"\n",
    "function visited_vertices(W::Array{Int64,2}) #(W::Array{Any,1})\n",
    "\n",
    "    cobert = []\n",
    "    #v = length(W) #tamaño de la matriz, número de nodos\n",
    "    s = size(W, 1) #lo puedo sacar, para todos es el mismo. Es el número de iteraciones\n",
    "    t = size(W, 2) #número de pasos, no necesario\n",
    "    visit = []\n",
    "\n",
    "    #for i = 1 #in 1:v\n",
    "        for j in 1:s\n",
    "            u = unique(W[j, :])\n",
    "            push!(visit, u)\n",
    "        end\n",
    "\n",
    "        push!(cobert, visit)\n",
    "        visit = []\n",
    "    #end\n",
    "\n",
    "    return cobert\n",
    "end"
   ]
  },
  {
   "cell_type": "code",
   "execution_count": 22,
   "metadata": {},
   "outputs": [
    {
     "data": {
      "text/plain": [
       "walk_names"
      ]
     },
     "execution_count": 22,
     "metadata": {},
     "output_type": "execute_result"
    }
   ],
   "source": [
    "#Random walks con nombres\n",
    "\"\"\"\n",
    "    walk_names(W::Array{Any,1}, airline_code::String, v::Int64)\n",
    "\n",
    "Función que cambia las caminatas del número de nodo asociado a la aerolínea a nombres de aeropuertos.\n",
    "Parámetros:\n",
    "W = caminatas aleatorias (arreglo de matrices)\n",
    "airline_code = código de la aerolínea\n",
    "v = nodo inicial\n",
    "\"\"\"\n",
    "function walk_names(W::Array{Int64,2}, airline_code::String, v::Int64, dicc)\n",
    "\n",
    "    #Ahora se usa la función para obtener los nodos diferentes\n",
    "    nodos_diferentes = visited_vertices(W)\n",
    "    m = size(W, 1) #renglones\n",
    "    n = size(W, 2) #columnas\n",
    "\n",
    "    #Se lee el diccionario\n",
    "    #archivo_dicc = readdlm(\"/Users/yuriko/Documents/UNAM/Tesis_Lic/data/diccionarios/dictionary_final.csv\", ',')\n",
    "    archivo_dicc = dicc\n",
    "\n",
    "    aerol_col = string(airline_code, \"_num\") #Nombre de la columna\n",
    "    coord_aerol = findall(x -> x == aerol_col, archivo_dicc) #Busco las coordenadas de la columna\n",
    "    col_aerol = coord_aerol[1][2] #Segunda coordenada de la posición (columna)\n",
    "    columna_aerol = archivo_dicc[:, col_aerol] #Obtengo la columna con el nombre del aeropuerto al que corresponde\n",
    "    walk_nothing = Array{Any}(undef, m, n)#Array{Union{Nothing, String}}(nothing, m, n) #archivo vacío de una matriz para un nodo inicial\n",
    "    #@show walk_nothing\n",
    "\n",
    "    for k = v #nodo inicial v\n",
    "        arreglo_visitas = nodos_diferentes[k]\n",
    "        caminatas_nodo = W#[k]\n",
    "\n",
    "        for i in 1:m #voy por las iteraciones\n",
    "            nodos_dif = arreglo_visitas[i, :] #array/caminata única de los nodos que buscará\n",
    "\n",
    "            for j in 1:length(nodos_dif[]) #para cada uno de los nodos diferentes visitados\n",
    "                nodo_original = nodos_dif[][j] #tomo el nodo original visitado\n",
    "\n",
    "                #Busco la posición original del aeropuerto visitado en la columna de la aerolínea\n",
    "                posicion_original = findall(x -> x == nodo_original, archivo_dicc[:, col_aerol])\n",
    "\n",
    "                #Ahora busco dónde se colocará el nombre en las posiciones correctas del arreglo vacío\n",
    "                #Busco el primer nodo diferente en la iteración i\n",
    "                #Encuentra todas las coordenadas de los nodos dif en la iteración original\n",
    "                coords_ys = findall(x -> x == nodo_original, caminatas_nodo[i, :])\n",
    "\n",
    "\n",
    "                for q in 1:length(coords_ys) #Se itera sobre las posiciones en las caminatas\n",
    "\n",
    "                    pos_actual = coords_ys[q]\n",
    "\n",
    "                    if isempty(posicion_original) == false\n",
    "\n",
    "                        #Se busca el nombre del aeropuerto\n",
    "                        nombre_asignado = archivo_dicc[posicion_original, 2] #y=2 porque esa es la columna de los nombres\n",
    "\n",
    "                        walk_nothing[i, pos_actual] = nombre_asignado[] #asigno valor de diccionario al arreglo vacío i, pos_actual\n",
    "\n",
    "                        else walk_nothing[i, pos_actual] = \" \" #break\n",
    "                    end\n",
    "                end\n",
    "\n",
    "            end\n",
    "\n",
    "        end\n",
    "\n",
    "    end\n",
    "    return walk_nothing\n",
    "end"
   ]
  },
  {
   "cell_type": "code",
   "execution_count": 23,
   "metadata": {},
   "outputs": [],
   "source": [
    "#rw_eg = [\"WUH\" \"HE\" \"WW\" \"UU\" \"VG\" \"SJ\"\n",
    "#         \"WUH\" \"JI\" \"YU\" \"HF\" \"MEX\" \"B\"\n",
    "#         \"WUH\" \"HJ\" \"SHA\" \"Y\" \"NRT\" \"B\"\n",
    "#         \"WUH\" \"JH\" \"SHA\" \"B\" \"CUN\" \"S\"\n",
    "#         \"WUH\" \"NV\" \"ACA\" \"H\" \"SHA\" \"D\"]"
   ]
  },
  {
   "cell_type": "code",
   "execution_count": 24,
   "metadata": {},
   "outputs": [
    {
     "data": {
      "text/plain": [
       "busca_vuelos_WUH_MX (generic function with 1 method)"
      ]
     },
     "execution_count": 24,
     "metadata": {},
     "output_type": "execute_result"
    }
   ],
   "source": [
    "#CORRECTO, BUSCA CUÁLES TIENEN MX\n",
    "########### NUEVA FUNCIÓN QUE BUSQUE VUELOS DESDE WUH HASTA ALGUNO DE MEX\n",
    "\n",
    "function busca_vuelos_WUH_MX(archivo_caminatas_WUH, lista_mx::Array{String, 1})\n",
    "\n",
    "    archivo_caminatas_WUH = archivo_caminatas_WUH #readdlm(archivo_caminatas_WUH, ',', String)\n",
    "    iter = size(archivo_caminatas_WUH, 1) #renglones de la matriz, ie, iteraciones\n",
    "    lm = length(lista_mx)\n",
    "    #li = length(lista_inf)\n",
    "    contador_mx = 0\n",
    "    caminatas_WUH_MX = []\n",
    "    posiciones_final = []\n",
    "    posiciones_rel = []\n",
    "    posiciones_inf = []\n",
    "    posiciones_inf_rel = []\n",
    "\n",
    "    for i in 1:iter #camino por todas las caminatas\n",
    "\n",
    "        #Busco si algún aeropuerto de lista_mx está en la caminata iterada.\n",
    "        for j in 1:lm\n",
    "\n",
    "            pertenencia = lista_mx[j] in archivo_caminatas_WUH[i,:]\n",
    "\n",
    "            if pertenencia == true\n",
    "\n",
    "                posmx_rel = findfirst(x -> x == lista_mx[j], archivo_caminatas_WUH[i,:])\n",
    "                push!(posiciones_rel, posmx_rel)\n",
    "                \n",
    "            elseif continue\n",
    "            end\n",
    "        end\n",
    "\n",
    "        if posiciones_rel != []\n",
    "            contador_mx += 1\n",
    "            push!(caminatas_WUH_MX, archivo_caminatas_WUH[i, :])\n",
    "            push!(posiciones_final, minimum(posiciones_rel))\n",
    "            posiciones_rel = []\n",
    "        end\n",
    "   \n",
    "    end\n",
    "\n",
    "    return contador_mx, caminatas_WUH_MX, posiciones_final#, posiciones_inf\n",
    "end"
   ]
  },
  {
   "cell_type": "code",
   "execution_count": 25,
   "metadata": {},
   "outputs": [],
   "source": [
    "#r1 = busca_vuelos_WUH_MX(rw_eg, listamx)"
   ]
  },
  {
   "cell_type": "code",
   "execution_count": 26,
   "metadata": {},
   "outputs": [
    {
     "data": {
      "text/plain": [
       "busca_vuelos_pasa_inf (generic function with 1 method)"
      ]
     },
     "execution_count": 26,
     "metadata": {},
     "output_type": "execute_result"
    }
   ],
   "source": [
    "##CORRECTA. FUNCIÓN QUE DEVUELVE CUÁNTAS CAMINATAS Y LAS CAMINATAS QUE PASAN EN ALGÚN MOMENTO POR UN \n",
    "#AEROPUERTO INFECTADO Y LA POSICIÓN DEL PRIMER INFECTADO.\n",
    "function busca_vuelos_pasa_inf(rw_wuh_mx, lista_inf)    \n",
    "    \n",
    "    li = length(lista_inf)\n",
    "    rw_MX = rw_wuh_mx[2]\n",
    "    pos_mx = rw_wuh_mx[3]\n",
    "    lm = length(rw_MX)\n",
    "    pos_inf_rel = []\n",
    "    posicion_inf = []\n",
    "    cont_inf = 0\n",
    "    caminata_con_inf = []\n",
    "    min_pos_mx = []\n",
    "    \n",
    "    for i in 1:lm\n",
    "        #@show i\n",
    "    \n",
    "        for j in 1:li\n",
    "            #@show j\n",
    "            pertenencia_inf = lista_inf[j] in rw_MX[i][2:end]\n",
    "\n",
    "                if pertenencia_inf == true\n",
    "\n",
    "                    posinf_rel = findfirst(x -> x == lista_inf[j], rw_MX[i][2:end])\n",
    "                    push!(pos_inf_rel, posinf_rel)\n",
    "                \n",
    "                elseif continue\n",
    "                end\n",
    "        end\n",
    "        #@show pos_inf_rel\n",
    "\n",
    "        if pos_inf_rel != []\n",
    "            \n",
    "            cont_inf += 1\n",
    "            push!(posicion_inf, minimum(pos_inf_rel)+1)\n",
    "            push!(caminata_con_inf, rw_MX[i])\n",
    "            push!(min_pos_mx, pos_mx[i])\n",
    "        \n",
    "            pos_inf_rel = []\n",
    "        elseif continue\n",
    "        end\n",
    "        \n",
    "    end\n",
    "    return cont_inf, caminata_con_inf, posicion_inf, min_pos_mx\n",
    "end"
   ]
  },
  {
   "cell_type": "code",
   "execution_count": 27,
   "metadata": {
    "scrolled": false
   },
   "outputs": [],
   "source": [
    "#r2 = busca_vuelos_pasa_inf(r1, listainf)"
   ]
  },
  {
   "cell_type": "code",
   "execution_count": 28,
   "metadata": {},
   "outputs": [
    {
     "data": {
      "text/plain": [
       "busca_vuelos_INF_MX (generic function with 1 method)"
      ]
     },
     "execution_count": 28,
     "metadata": {},
     "output_type": "execute_result"
    }
   ],
   "source": [
    "#CORRECTO\n",
    "#func que me diga los que pasan primero por uno inf y luego mx\n",
    "\n",
    "function busca_vuelos_INF_MX(rw_inf, rw_wuh_mx)\n",
    "   \n",
    "    caminata_con_inf = rw_inf[2] #caminata con inf\n",
    "    pos_min_inf = rw_inf[3] #posiciones min inf\n",
    "    pos_min_mx = rw_inf[4] #posiciones min mex\n",
    "    \n",
    "    \n",
    "    \n",
    "    caminata_INF_MX = []\n",
    "    contINF = 0\n",
    "    camINF = []\n",
    "    \n",
    "    \n",
    "    for i in 1:length(caminata_con_inf)\n",
    "        \n",
    "        if pos_min_inf[i] < pos_min_mx[i]\n",
    "            \n",
    "            contINF += 1\n",
    "            push!(camINF, caminata_con_inf[i])\n",
    "            \n",
    "        end\n",
    "        \n",
    "    end\n",
    "    \n",
    "    return contINF, camINF\n",
    "    \n",
    "end"
   ]
  },
  {
   "cell_type": "code",
   "execution_count": 29,
   "metadata": {
    "scrolled": true
   },
   "outputs": [],
   "source": [
    "#r3 = busca_vuelos_INF_MX(r2, r1)"
   ]
  },
  {
   "cell_type": "code",
   "execution_count": 30,
   "metadata": {
    "scrolled": false
   },
   "outputs": [
    {
     "data": {
      "text/plain": [
       "busca_directos_MX (generic function with 1 method)"
      ]
     },
     "execution_count": 30,
     "metadata": {},
     "output_type": "execute_result"
    }
   ],
   "source": [
    "# CORRECTO. ME DA SOOOLO LOS QUE LLEGAN DIRECTO A MX SIN PASAR POR INFECTADOS\n",
    "function busca_directos_MX(rw_wuh_mx, lista_inf)\n",
    "    \n",
    "    li = length(lista_inf)\n",
    "    ll = length(rw_wuh_mx[2])\n",
    "    contMX = 0\n",
    "    min_posmx = rw_wuh_mx[3]\n",
    "    rw_mx = rw_wuh_mx[2]\n",
    "    camMX = []\n",
    "    pertrel = []\n",
    "    \n",
    "    \n",
    "    \n",
    "    for i in 1:ll #camina por tooodas las caminatas\n",
    " #@show ll\n",
    "        \n",
    "        for j in 1:li\n",
    "            #@show j\n",
    "            pert = lista_inf[j] in rw_wuh_mx[2][i][2:end] #sin contar WUH\n",
    "   \n",
    "            push!(pertrel, pert)\n",
    "\n",
    "        end\n",
    "    #@show pertrel\n",
    "        \n",
    "        if true in pertrel #si existe un true / infectado... nada\n",
    "            \n",
    "            continue\n",
    "            else contMX += 1 #si no existe un infectado/false...\n",
    "          #@show contMX\n",
    "            push!(camMX, rw_wuh_mx[2][i]) #guardo la caminata directa\n",
    "            pertrel = []\n",
    "        end\n",
    "        \n",
    "        pertrel = []\n",
    "        #@show pertrel\n",
    "    end\n",
    "    return contMX, camMX\n",
    "end"
   ]
  },
  {
   "cell_type": "code",
   "execution_count": 31,
   "metadata": {},
   "outputs": [],
   "source": [
    "#r4 = busca_directos_MX(r1, listainf)"
   ]
  },
  {
   "cell_type": "code",
   "execution_count": 32,
   "metadata": {},
   "outputs": [
    {
     "data": {
      "text/plain": [
       "busca_vuelos_MX_INF (generic function with 1 method)"
      ]
     },
     "execution_count": 32,
     "metadata": {},
     "output_type": "execute_result"
    }
   ],
   "source": [
    "#CORRECTO\n",
    "#func que me diga los que pasan primero por mx y luego  uno inf y los directos\n",
    "\n",
    "function busca_vuelos_MX_INF(rw_inf, rw_wuh_mx, res_dir)\n",
    "   \n",
    "\n",
    "    \n",
    "    caminata_con_inf = rw_inf[2]\n",
    "    pos_min_inf = rw_inf[3]\n",
    "    pos_min_mx = rw_inf[4]\n",
    "    cont_dir = res_dir[1]\n",
    "    cam_dir = res_dir[2]\n",
    "    \n",
    "    \n",
    "    caminata_directa = cam_dir\n",
    "    contMX = 0\n",
    "    camMX = []\n",
    "   \n",
    "    \n",
    "    \n",
    "    \n",
    "    for i in 1:length(caminata_con_inf)\n",
    "      \n",
    "        \n",
    "        if pos_min_inf[i] > pos_min_mx[i]\n",
    "            \n",
    "            contMX += 1\n",
    "            push!(camMX, caminata_con_inf[i])\n",
    "           \n",
    "        end\n",
    " \n",
    "    end\n",
    "   \n",
    "    contador_directo = contMX + cont_dir\n",
    "\n",
    "    push!(caminata_directa, camMX)\n",
    "    \n",
    "\n",
    "    return contador_directo, caminata_directa\n",
    "    \n",
    "end"
   ]
  },
  {
   "cell_type": "code",
   "execution_count": 33,
   "metadata": {},
   "outputs": [],
   "source": [
    "#r5 = busca_vuelos_MX_INF(r2, r1, r4)"
   ]
  },
  {
   "cell_type": "code",
   "execution_count": 34,
   "metadata": {},
   "outputs": [],
   "source": [
    "#r2[2]"
   ]
  },
  {
   "cell_type": "code",
   "execution_count": null,
   "metadata": {},
   "outputs": [],
   "source": []
  },
  {
   "cell_type": "code",
   "execution_count": null,
   "metadata": {},
   "outputs": [],
   "source": []
  },
  {
   "cell_type": "code",
   "execution_count": 35,
   "metadata": {},
   "outputs": [
    {
     "data": {
      "text/plain": [
       "walk_length"
      ]
     },
     "execution_count": 35,
     "metadata": {},
     "output_type": "execute_result"
    }
   ],
   "source": [
    "\"\"\"\n",
    "    walk_length(W::Array{Int64,2})\n",
    "\n",
    "La función walk_length tiene como parámetros:\n",
    "RW, arreglo de arreglos de tipo Array{Any,1} que corresponde al arreglo de caminatas aleatorias.\n",
    "La función regresa un arreglo de arreglos que contiene las longitudes de todas las trayectorias que tomó el\n",
    "caminante aleatorio para cada nodo inicial de la red.\n",
    "\"\"\"\n",
    "function walk_length(W::Array{Int64,2})\n",
    "\n",
    "    longitudes = Array[]\n",
    "\n",
    "    #v = length(W) #tamaño de la matriz, número de nodos\n",
    "    s = size(W, 1) #Es el número de iteraciones\n",
    "    longitud = zeros(Int64, s)\n",
    "\n",
    "    for i = 1 #in 1:v\n",
    "\n",
    "        for j in 1:s\n",
    "\n",
    "            longitud[j] = findlast(x -> x != 0, W[j, :])\n",
    "\n",
    "        end\n",
    "         push!(longitudes, longitud)\n",
    "\n",
    "        longitud = zeros(Int64, s)\n",
    "    end\n",
    "    return longitudes\n",
    "\n",
    "end"
   ]
  },
  {
   "cell_type": "code",
   "execution_count": 36,
   "metadata": {},
   "outputs": [
    {
     "data": {
      "text/plain": [
       "walk_av_length"
      ]
     },
     "execution_count": 36,
     "metadata": {},
     "output_type": "execute_result"
    }
   ],
   "source": [
    "\"\"\"\n",
    "    walk_av_length(W::Array{Array,1})\n",
    "\n",
    "La función walk_av_length tiene como parámetro W, que es un arreglo de arreglos (que se puede obtener de la\n",
    "función walk_length).\n",
    "Regresa un arreglo con entradas correspondientes al promedio de las longitudes de\n",
    "las caminatas aleatorias para cada nodo de inicio antes de caer en un nodo con grado de salida 0.\n",
    "\"\"\"\n",
    "function walk_av_length(W::Array{Int64,2}) #Llamar a función\n",
    "\n",
    "    #proms = Array{Float64}(undef, 0)\n",
    "    wlength = walk_length(W)[]\n",
    "\n",
    "    #for i in 1:length(wlength)\n",
    "        av = mean(wlength)\n",
    "        #push!(proms, av)\n",
    "    #end\n",
    "    av\n",
    "end"
   ]
  },
  {
   "cell_type": "markdown",
   "metadata": {},
   "source": [
    "### Global"
   ]
  },
  {
   "cell_type": "code",
   "execution_count": 51,
   "metadata": {},
   "outputs": [
    {
     "data": {
      "text/plain": [
       "\"Star_Alliance\""
      ]
     },
     "execution_count": 51,
     "metadata": {},
     "output_type": "execute_result"
    }
   ],
   "source": [
    "i = 3\n",
    "airline_code = lista_aerolineas[i]"
   ]
  },
  {
   "cell_type": "code",
   "execution_count": 52,
   "metadata": {},
   "outputs": [
    {
     "data": {
      "text/plain": [
       "\"Star_Alliance_matriz_du.csv\""
      ]
     },
     "execution_count": 52,
     "metadata": {},
     "output_type": "execute_result"
    }
   ],
   "source": [
    "aerolinea_matriz = string(airline_code, \"_matriz_du.csv\")"
   ]
  },
  {
   "cell_type": "code",
   "execution_count": 53,
   "metadata": {},
   "outputs": [
    {
     "name": "stdout",
     "output_type": "stream",
     "text": [
      "  0.542913 seconds (3.42 M allocations: 120.618 MiB, 51.49% gc time)\n"
     ]
    },
    {
     "data": {
      "text/plain": [
       "934×934 Array{Int64,2}:\n",
       " 0  0  1  0  0  0  0  0  0  0  0  0  0  …  0  0  0  0  0  0  0  0  0  0  0  0\n",
       " 0  0  1  0  0  1  0  0  1  0  0  1  0     0  0  0  0  0  0  0  0  0  0  0  0\n",
       " 1  1  0  1  1  1  1  0  1  1  1  1  1     0  0  0  0  0  0  0  0  0  0  0  0\n",
       " 0  0  1  0  0  0  0  0  0  0  1  0  0     0  0  0  0  0  0  0  0  0  0  0  0\n",
       " 0  0  1  0  0  0  0  0  0  0  0  0  0     0  0  0  0  0  0  0  0  0  0  0  0\n",
       " 0  1  1  0  0  0  0  0  1  0  1  0  0  …  0  0  0  0  0  0  0  0  0  0  0  0\n",
       " 0  0  1  0  0  0  0  0  0  0  0  0  0     0  0  0  0  0  0  0  0  0  0  0  0\n",
       " 0  0  0  0  0  0  0  0  0  0  0  0  0     0  0  0  0  0  0  0  0  0  0  0  0\n",
       " 0  1  1  0  0  1  0  0  0  1  1  1  0     0  0  0  0  0  0  0  0  0  0  0  0\n",
       " 0  0  1  0  0  0  0  0  1  0  1  0  0     0  0  0  0  0  0  0  0  0  0  0  0\n",
       " 0  0  1  1  0  1  0  0  1  1  0  1  0  …  0  0  0  0  0  0  0  0  0  0  0  0\n",
       " 0  1  1  0  0  0  0  0  1  0  1  0  0     0  0  0  0  0  0  0  0  0  0  0  0\n",
       " 0  0  1  0  0  0  0  0  0  0  0  0  0     0  0  0  0  0  0  0  0  0  0  0  0\n",
       " ⋮              ⋮              ⋮        ⋱           ⋮              ⋮         \n",
       " 0  0  0  0  0  0  0  0  0  0  0  0  0     0  0  0  0  0  0  0  0  0  0  0  0\n",
       " 0  0  0  0  0  0  0  0  0  0  0  0  0     0  0  0  0  0  0  0  0  0  0  0  0\n",
       " 0  0  0  0  0  0  0  0  0  0  0  0  0     0  0  0  0  0  0  0  0  0  0  0  0\n",
       " 0  0  0  0  0  0  0  0  0  0  0  0  0  …  0  0  0  0  0  0  0  0  0  0  0  0\n",
       " 0  0  0  0  0  0  0  0  0  0  0  0  0     0  0  0  0  0  0  0  0  0  0  0  0\n",
       " 0  0  0  0  0  0  0  0  0  0  0  0  0     0  0  0  0  0  0  0  0  0  0  0  0\n",
       " 0  0  0  0  0  0  0  0  0  0  0  0  0     0  0  0  0  0  0  0  0  0  0  0  0\n",
       " 0  0  0  0  0  0  0  0  0  0  0  0  0     0  0  0  0  0  0  0  0  0  0  0  0\n",
       " 0  0  0  0  0  0  0  0  0  0  0  0  0  …  0  0  0  0  0  0  0  0  0  0  0  0\n",
       " 0  0  0  0  0  0  0  0  0  0  0  0  0     0  0  0  0  0  0  0  0  0  0  0  0\n",
       " 0  0  0  0  0  0  0  0  0  0  0  0  0     0  0  0  0  0  0  0  0  0  0  0  0\n",
       " 0  0  0  0  0  0  0  0  0  0  0  0  0     0  0  0  0  0  0  0  0  0  0  0  0"
      ]
     },
     "execution_count": 53,
     "metadata": {},
     "output_type": "execute_result"
    }
   ],
   "source": [
    "multiplex = @time import_matrix(\"/Users/yuriko/Documents/UNAM/Tesis_Lic/data/aerolineas_matrices/$aerolinea_matriz\")"
   ]
  },
  {
   "cell_type": "code",
   "execution_count": 54,
   "metadata": {},
   "outputs": [
    {
     "name": "stdout",
     "output_type": "stream",
     "text": [
      "  0.243416 seconds (3.42 M allocations: 107.292 MiB, 34.25% gc time)\n"
     ]
    },
    {
     "data": {
      "text/plain": [
       "934-element Array{String,1}:\n",
       " \"AOK\"\n",
       " \"ARN\"\n",
       " \"ATH\"\n",
       " \"AUH\"\n",
       " \"AXD\"\n",
       " \"BCN\"\n",
       " \"BEG\"\n",
       " \"BOD\"\n",
       " \"BRU\"\n",
       " \"BUD\"\n",
       " \"CAI\"\n",
       " \"CDG\"\n",
       " \"CFU\"\n",
       " ⋮    \n",
       " \"STL\"\n",
       " \"STT\"\n",
       " \"SYR\"\n",
       " \"TKK\"\n",
       " \"YAP\"\n",
       " \"HSN\"\n",
       " \"JUZ\"\n",
       " \"YIC\"\n",
       " \"GLF\"\n",
       " \"TMU\"\n",
       " \"GET\"\n",
       " \"PWM\""
      ]
     },
     "execution_count": 54,
     "metadata": {},
     "output_type": "execute_result"
    }
   ],
   "source": [
    "data_names_multiplex = @time airport_names(\"/Users/yuriko/Documents/UNAM/Tesis_Lic/data/aerolineas_matrices/$aerolinea_matriz\")"
   ]
  },
  {
   "cell_type": "code",
   "execution_count": 55,
   "metadata": {},
   "outputs": [
    {
     "name": "stdout",
     "output_type": "stream",
     "text": [
      "  0.000006 seconds (4 allocations: 160 bytes)\n"
     ]
    },
    {
     "data": {
      "text/plain": [
       "408"
      ]
     },
     "execution_count": 55,
     "metadata": {},
     "output_type": "execute_result"
    }
   ],
   "source": [
    "#BUSCA AEROPUERTO WUH\n",
    "index_wuh = @time busca_WUH(data_names_multiplex)"
   ]
  },
  {
   "cell_type": "code",
   "execution_count": 58,
   "metadata": {},
   "outputs": [
    {
     "name": "stdout",
     "output_type": "stream",
     "text": [
      "  0.271959 seconds (1.92 M allocations: 106.997 MiB, 8.56% gc time)\n"
     ]
    },
    {
     "data": {
      "text/plain": [
       "1000×1001 Array{Int64,2}:\n",
       " 408  119   45   11   54   26   62   44  …    0    0    0    0    0    0    0\n",
       " 408   98  300  926  300  100  102  132     224  457  136  106  318  311  318\n",
       " 408  309  385  309  408  392  296  347       0    0    0    0    0    0    0\n",
       " 408   98  174  611   99  640   99  616     749    2  576    2  555    2  542\n",
       " 408  327  408  332  119   55   11    9     324  292  331  427  357  427  331\n",
       " 408  385  302  346  396  425  396  315  …   54   19  152  107  263   86  263\n",
       " 408  119  294  403  364  296  365   26       0    0    0    0    0    0    0\n",
       " 408  392   19  541   19  562   19  571     469  484  469  484  322  474  322\n",
       " 408  396  317  102   26  184  223  184      72   49  553  430  276  105  276\n",
       " 408  423  414  292  349  102  387  618       0    0    0    0    0    0    0\n",
       " 408  415  174   98  408   98  235  318  …  491  322  187  184  169  219  604\n",
       " 408  296  415  386  415  174  230  115       0    0    0    0    0    0    0\n",
       " 408   98  184  119  358  327  358  414       0    0    0    0    0    0    0\n",
       "   ⋮                        ⋮            ⋱         ⋮                        ⋮\n",
       " 408  327  119  423  119  401  367  302     549   19  235  184  202  203  184\n",
       " 408  396  235  224  457  136  235  396       0    0    0    0    0    0    0\n",
       " 408  416  119   73   48  566   18  566  …   83  511  542  566  542  561   73\n",
       " 408  309  126   73   45  262   18  322      19  514   26   50   54  566  371\n",
       " 408  396  296  396  361  302  339  396      96  669  429  661  659  661  659\n",
       " 408  409  408  416  119  409  392  401     818   26  575   54   39   16  115\n",
       " 408   98   99  297  115  262   83   21     132  913  117   86   87  897  132\n",
       " 408  396  359  292  417  292  235  126  …  263  432  276  431  276  267  251\n",
       " 408  385  427  344  296  349  396  408     102  309  401  304  414  384  333\n",
       " 408  327  423  102  317  292  331  414     115   83  576   72  579   72   55\n",
       " 408  296   98  408  327  398  396  384     252  134  263  133  132  897  132\n",
       " 408  385  294  370  333  384  102  302     263  131  867  131  132  447  653"
      ]
     },
     "execution_count": 58,
     "metadata": {},
     "output_type": "execute_result"
    }
   ],
   "source": [
    "#RANDOM WALKS\n",
    "random_walk_multiplex = @time r_walks(multiplex, index_wuh, 1000, 1000, 1)"
   ]
  },
  {
   "cell_type": "code",
   "execution_count": 59,
   "metadata": {},
   "outputs": [
    {
     "name": "stdout",
     "output_type": "stream",
     "text": [
      " 57.390557 seconds (1.83 G allocations: 50.219 GiB, 15.27% gc time)\n"
     ]
    },
    {
     "data": {
      "text/plain": [
       "1000×1001 Array{Any,2}:\n",
       " \"WUH\"  \"PEK\"  \"LHR\"  \"CAI\"  \"MUC\"  …  \" \"    \" \"    \" \"    \" \"    \" \"  \n",
       " \"WUH\"  \"HKG\"  \"GUM\"  \"TKK\"  \"GUM\"     \"SYD\"  \"LAX\"  \"TPE\"  \"PNH\"  \"TPE\"\n",
       " \"WUH\"  \"MFM\"  \"NNG\"  \"MFM\"  \"WUH\"     \" \"    \" \"    \" \"    \" \"    \" \"  \n",
       " \"WUH\"  \"HKG\"  \"BKK\"  \"HAN\"  \"HND\"     \"VNO\"  \"ARN\"  \"MLA\"  \"ARN\"  \"GOT\"\n",
       " \"WUH\"  \"CGQ\"  \"WUH\"  \"CNX\"  \"PEK\"     \"CKG\"  \"ZUH\"  \"HYN\"  \"ZUH\"  \"CKG\"\n",
       " \"WUH\"  \"NNG\"  \"HGH\"  \"GYS\"  \"SZX\"  …  \"YUL\"  \"LGA\"  \"IAH\"  \"DCA\"  \"IAH\"\n",
       " \"WUH\"  \"PEK\"  \"CGO\"  \"URC\"  \"KHG\"     \" \"    \" \"    \" \"    \" \"    \" \"  \n",
       " \"WUH\"  \"SHE\"  \"FRA\"  \"GOJ\"  \"FRA\"     \"GDQ\"  \"LLI\"  \"ADD\"  \"JIJ\"  \"ADD\"\n",
       " \"WUH\"  \"SZX\"  \"TNA\"  \"ICN\"  \"IST\"     \"LIS\"  \"CNF\"  \"PTY\"  \"LAS\"  \"PTY\"\n",
       " \"WUH\"  \"YNT\"  \"XIY\"  \"CAN\"  \"HFE\"     \" \"    \" \"    \" \"    \" \"    \" \"  \n",
       " \"WUH\"  \"XMN\"  \"BKK\"  \"HKG\"  \"WUH\"  …  \"DMM\"  \"DEL\"  \"BAH\"  \"KWI\"  \"SSH\"\n",
       " \"WUH\"  \"CTU\"  \"XMN\"  \"NTG\"  \"XMN\"     \" \"    \" \"    \" \"    \" \"    \" \"  \n",
       " \"WUH\"  \"HKG\"  \"DEL\"  \"PEK\"  \"INC\"     \" \"    \" \"    \" \"    \" \"    \" \"  \n",
       " ⋮                                  ⋱                              ⋮    \n",
       " \"WUH\"  \"CGQ\"  \"PEK\"  \"YNT\"  \"PEK\"     \"SIN\"  \"DEL\"  \"IXJ\"  \"IXL\"  \"DEL\"\n",
       " \"WUH\"  \"SZX\"  \"SIN\"  \"MEL\"  \"CHC\"     \" \"    \" \"    \" \"    \" \"    \" \"  \n",
       " \"WUH\"  \"XNN\"  \"PEK\"  \"ZRH\"  \"LYS\"  …  \"GOT\"  \"SPU\"  \"GOT\"  \"PMI\"  \"ZRH\"\n",
       " \"WUH\"  \"MFM\"  \"PVG\"  \"ZRH\"  \"LHR\"     \"IST\"  \"MAN\"  \"MUC\"  \"SPU\"  \"LGW\"\n",
       " \"WUH\"  \"SZX\"  \"CTU\"  \"SZX\"  \"JJN\"     \"BSB\"  \"CGR\"  \"CGB\"  \"CGR\"  \"CGB\"\n",
       " \"WUH\"  \"WUX\"  \"WUH\"  \"XNN\"  \"PEK\"     \"VLC\"  \"MUC\"  \"KLX\"  \"DUS\"  \"NRT\"\n",
       " \"WUH\"  \"HKG\"  \"HND\"  \"DPS\"  \"NRT\"     \"ORD\"  \"DCA\"  \"DEN\"  \"LIH\"  \"SFO\"\n",
       " \"WUH\"  \"SZX\"  \"JDZ\"  \"CAN\"  \"YBP\"  …  \"PTY\"  \"COR\"  \"PTY\"  \"MDE\"  \"CLO\"\n",
       " \"WUH\"  \"NNG\"  \"ZUH\"  \"FOC\"  \"CTU\"     \"TYN\"  \"HRB\"  \"XIY\"  \"NKG\"  \"CSX\"\n",
       " \"WUH\"  \"CGQ\"  \"YNT\"  \"ICN\"  \"TNA\"     \"VNO\"  \"WAW\"  \"EVN\"  \"WAW\"  \"MXP\"\n",
       " \"WUH\"  \"CTU\"  \"HKG\"  \"WUH\"  \"CGQ\"     \"IAH\"  \"SJD\"  \"SFO\"  \"LIH\"  \"SFO\"\n",
       " \"WUH\"  \"NNG\"  \"CGO\"  \"KWE\"  \"CSX\"     \"ANC\"  \"SEA\"  \"SFO\"  \"AKL\"  \"RAR\""
      ]
     },
     "execution_count": 59,
     "metadata": {},
     "output_type": "execute_result"
    }
   ],
   "source": [
    "#CAMINATAS CON NOMBRES\n",
    "walk_names_multiplex = @time walk_names(random_walk_multiplex, airline_code, 1, archivo_dicc)"
   ]
  },
  {
   "cell_type": "code",
   "execution_count": 60,
   "metadata": {},
   "outputs": [
    {
     "data": {
      "text/plain": [
       "1001-element Array{Any,1}:\n",
       " \"WUH\"\n",
       " \"SZX\"\n",
       " \"TNA\"\n",
       " \"ICN\"\n",
       " \"IST\"\n",
       " \"DEL\"\n",
       " \"MCT\"\n",
       " \"DEL\"\n",
       " \"COK\"\n",
       " \"AGX\"\n",
       " \"COK\"\n",
       " \"TRV\"\n",
       " \"RUH\"\n",
       " ⋮    \n",
       " \"OTP\"\n",
       " \"FRA\"\n",
       " \"BUD\"\n",
       " \"DUS\"\n",
       " \"LED\"\n",
       " \"WAW\"\n",
       " \"MAD\"\n",
       " \"LIS\"\n",
       " \"CNF\"\n",
       " \"PTY\"\n",
       " \"LAS\"\n",
       " \"PTY\""
      ]
     },
     "execution_count": 60,
     "metadata": {},
     "output_type": "execute_result"
    }
   ],
   "source": [
    "walk_names_multiplex[9,:]"
   ]
  },
  {
   "cell_type": "code",
   "execution_count": 61,
   "metadata": {},
   "outputs": [
    {
     "name": "stdout",
     "output_type": "stream",
     "text": [
      "  6.824321 seconds (123.10 M allocations: 6.111 GiB, 13.58% gc time)\n"
     ]
    },
    {
     "data": {
      "text/plain": [
       "(936, Any[Any[\"WUH\", \"HKG\", \"GUM\", \"TKK\", \"GUM\", \"HNL\", \"ICN\", \"SFO\", \"ORD\", \"SNA\"  …  \"RSW\", \"YYZ\", \"PVG\", \"MEL\", \"CHC\", \"SYD\", \"LAX\", \"TPE\", \"PNH\", \"TPE\"], Any[\"WUH\", \"MFM\", \"NNG\", \"MFM\", \"WUH\", \"SHE\", \"CTU\", \"HAK\", \"TSN\", \"KMG\"  …  \" \", \" \", \" \", \" \", \" \", \" \", \" \", \" \", \" \", \" \"], Any[\"WUH\", \"HKG\", \"BKK\", \"HAN\", \"HND\", \"UKB\", \"HND\", \"IWK\", \"HND\", \"SIN\"  …  \"MAN\", \"MUC\", \"OSL\", \"TRD\", \"ARN\", \"VNO\", \"ARN\", \"MLA\", \"ARN\", \"GOT\"], Any[\"WUH\", \"CGQ\", \"WUH\", \"CNX\", \"PEK\", \"MXP\", \"CAI\", \"BRU\", \"OUA\", \"BRU\"  …  \"PEK\", \"WUX\", \"CAN\", \"BAV\", \"CAN\", \"CKG\", \"ZUH\", \"HYN\", \"ZUH\", \"CKG\"], Any[\"WUH\", \"NNG\", \"HGH\", \"GYS\", \"SZX\", \"YTY\", \"SZX\", \"SHA\", \"TSN\", \"TPE\"  …  \"HEL\", \"MUC\", \"SJJ\", \"MUC\", \"FRA\", \"YUL\", \"LGA\", \"IAH\", \"DCA\", \"IAH\"], Any[\"WUH\", \"PEK\", \"CGO\", \"URC\", \"KHG\", \"CTU\", \"KHI\", \"IST\", \"ICN\", \"LHR\"  …  \" \", \" \", \" \", \" \", \" \", \" \", \" \", \" \", \" \", \" \"], Any[\"WUH\", \"SHE\", \"FRA\", \"GOJ\", \"FRA\", \"POZ\", \"FRA\", \"TSE\", \"FRA\", \"DME\"  …  \"SVG\", \"LHR\", \"ADD\", \"GDQ\", \"LLI\", \"GDQ\", \"LLI\", \"ADD\", \"JIJ\", \"ADD\"], Any[\"WUH\", \"SZX\", \"TNA\", \"ICN\", \"IST\", \"DEL\", \"MCT\", \"DEL\", \"COK\", \"AGX\"  …  \"BUD\", \"DUS\", \"LED\", \"WAW\", \"MAD\", \"LIS\", \"CNF\", \"PTY\", \"LAS\", \"PTY\"], Any[\"WUH\", \"YNT\", \"XIY\", \"CAN\", \"HFE\", \"ICN\", \"OKA\", \"KIJ\", \"ITM\", \"KIJ\"  …  \" \", \" \", \" \", \" \", \" \", \" \", \" \", \" \", \" \", \" \"], Any[\"WUH\", \"XMN\", \"BKK\", \"HKG\", \"WUH\", \"HKG\", \"SIN\", \"TPE\", \"PEK\", \"YTY\"  …  \"BRU\", \"BJM\", \"KGL\", \"NBO\", \"ADD\", \"DMM\", \"DEL\", \"BAH\", \"KWI\", \"SSH\"]  …  Any[\"WUH\", \"XNN\", \"PEK\", \"ZRH\", \"LYS\", \"SPU\", \"FCO\", \"SPU\", \"LHR\", \"WAW\"  …  \"MRS\", \"FRA\", \"BRE\", \"CPH\", \"AGP\", \"GOT\", \"SPU\", \"GOT\", \"PMI\", \"ZRH\"], Any[\"WUH\", \"MFM\", \"PVG\", \"ZRH\", \"LHR\", \"IAD\", \"FCO\", \"ADD\", \"FRA\", \"DTW\"  …  \"NRT\", \"OKA\", \"NGO\", \"FRA\", \"AMM\", \"IST\", \"MAN\", \"MUC\", \"SPU\", \"LGW\"], Any[\"WUH\", \"SZX\", \"CTU\", \"SZX\", \"JJN\", \"HGH\", \"DLC\", \"SZX\", \"SHE\", \"WUX\"  …  \"EBB\", \"BRU\", \"IAD\", \"GRU\", \"NAT\", \"BSB\", \"CGR\", \"CGB\", \"CGR\", \"CGB\"], Any[\"WUH\", \"WUX\", \"WUH\", \"XNN\", \"PEK\", \"WUX\", \"SHE\", \"TYN\", \"SZX\", \"WNZ\"  …  \"AKL\", \"HKG\", \"IST\", \"KZR\", \"IST\", \"VLC\", \"MUC\", \"KLX\", \"DUS\", \"NRT\"], Any[\"WUH\", \"HKG\", \"HND\", \"DPS\", \"NRT\", \"IAD\", \"CPH\", \"HAJ\", \"MUC\", \"ZAG\"  …  \"CCS\", \"IAH\", \"GDL\", \"SFO\", \"RDU\", \"ORD\", \"DCA\", \"DEN\", \"LIH\", \"SFO\"], Any[\"WUH\", \"SZX\", \"JDZ\", \"CAN\", \"YBP\", \"CAN\", \"SIN\", \"PVG\", \"SYD\", \"PEK\"  …  \"BQN\", \"EWR\", \"DFW\", \"IAH\", \"GDL\", \"PTY\", \"COR\", \"PTY\", \"MDE\", \"CLO\"], Any[\"WUH\", \"NNG\", \"ZUH\", \"FOC\", \"CTU\", \"HFE\", \"SZX\", \"WUH\", \"NNG\", \"ZUH\"  …  \"YHZ\", \"YOW\", \"YVR\", \"ICN\", \"MFM\", \"TYN\", \"HRB\", \"XIY\", \"NKG\", \"CSX\"], Any[\"WUH\", \"CGQ\", \"YNT\", \"ICN\", \"TNA\", \"CAN\", \"CKG\", \"XIY\", \"NKG\", \"YNT\"  …  \"HET\", \"SHE\", \"TAO\", \"NRT\", \"CPH\", \"VNO\", \"WAW\", \"EVN\", \"WAW\", \"MXP\"], Any[\"WUH\", \"CTU\", \"HKG\", \"WUH\", \"CGQ\", \"TAO\", \"SZX\", \"NKG\", \"CTU\", \"CAN\"  …  \"ARN\", \"BCN\", \"MUC\", \"CLT\", \"SJO\", \"IAH\", \"SJD\", \"SFO\", \"LIH\", \"SFO\"], Any[\"WUH\", \"NNG\", \"CGO\", \"KWE\", \"CSX\", \"NKG\", \"ICN\", \"HGH\", \"KIX\", \"CGK\"  …  \"SAN\", \"SFO\", \"PHX\", \"IAH\", \"SEA\", \"ANC\", \"SEA\", \"SFO\", \"AKL\", \"RAR\"]], Any[15, 165, 40, 170, 37, 192, 170, 82, 43, 202  …  78, 91, 143, 58, 43, 101, 231, 350, 360, 69])"
      ]
     },
     "execution_count": 61,
     "metadata": {},
     "output_type": "execute_result"
    }
   ],
   "source": [
    "rw_MX = @time busca_vuelos_WUH_MX(walk_names_multiplex, listamx)"
   ]
  },
  {
   "cell_type": "code",
   "execution_count": 62,
   "metadata": {},
   "outputs": [
    {
     "name": "stdout",
     "output_type": "stream",
     "text": [
      "  4.759742 seconds (94.84 M allocations: 5.066 GiB, 15.79% gc time)\n"
     ]
    },
    {
     "data": {
      "text/plain": [
       "(936, Any[Any[\"WUH\", \"HKG\", \"GUM\", \"TKK\", \"GUM\", \"HNL\", \"ICN\", \"SFO\", \"ORD\", \"SNA\"  …  \"RSW\", \"YYZ\", \"PVG\", \"MEL\", \"CHC\", \"SYD\", \"LAX\", \"TPE\", \"PNH\", \"TPE\"], Any[\"WUH\", \"MFM\", \"NNG\", \"MFM\", \"WUH\", \"SHE\", \"CTU\", \"HAK\", \"TSN\", \"KMG\"  …  \" \", \" \", \" \", \" \", \" \", \" \", \" \", \" \", \" \", \" \"], Any[\"WUH\", \"HKG\", \"BKK\", \"HAN\", \"HND\", \"UKB\", \"HND\", \"IWK\", \"HND\", \"SIN\"  …  \"MAN\", \"MUC\", \"OSL\", \"TRD\", \"ARN\", \"VNO\", \"ARN\", \"MLA\", \"ARN\", \"GOT\"], Any[\"WUH\", \"CGQ\", \"WUH\", \"CNX\", \"PEK\", \"MXP\", \"CAI\", \"BRU\", \"OUA\", \"BRU\"  …  \"PEK\", \"WUX\", \"CAN\", \"BAV\", \"CAN\", \"CKG\", \"ZUH\", \"HYN\", \"ZUH\", \"CKG\"], Any[\"WUH\", \"NNG\", \"HGH\", \"GYS\", \"SZX\", \"YTY\", \"SZX\", \"SHA\", \"TSN\", \"TPE\"  …  \"HEL\", \"MUC\", \"SJJ\", \"MUC\", \"FRA\", \"YUL\", \"LGA\", \"IAH\", \"DCA\", \"IAH\"], Any[\"WUH\", \"PEK\", \"CGO\", \"URC\", \"KHG\", \"CTU\", \"KHI\", \"IST\", \"ICN\", \"LHR\"  …  \" \", \" \", \" \", \" \", \" \", \" \", \" \", \" \", \" \", \" \"], Any[\"WUH\", \"SHE\", \"FRA\", \"GOJ\", \"FRA\", \"POZ\", \"FRA\", \"TSE\", \"FRA\", \"DME\"  …  \"SVG\", \"LHR\", \"ADD\", \"GDQ\", \"LLI\", \"GDQ\", \"LLI\", \"ADD\", \"JIJ\", \"ADD\"], Any[\"WUH\", \"SZX\", \"TNA\", \"ICN\", \"IST\", \"DEL\", \"MCT\", \"DEL\", \"COK\", \"AGX\"  …  \"BUD\", \"DUS\", \"LED\", \"WAW\", \"MAD\", \"LIS\", \"CNF\", \"PTY\", \"LAS\", \"PTY\"], Any[\"WUH\", \"YNT\", \"XIY\", \"CAN\", \"HFE\", \"ICN\", \"OKA\", \"KIJ\", \"ITM\", \"KIJ\"  …  \" \", \" \", \" \", \" \", \" \", \" \", \" \", \" \", \" \", \" \"], Any[\"WUH\", \"XMN\", \"BKK\", \"HKG\", \"WUH\", \"HKG\", \"SIN\", \"TPE\", \"PEK\", \"YTY\"  …  \"BRU\", \"BJM\", \"KGL\", \"NBO\", \"ADD\", \"DMM\", \"DEL\", \"BAH\", \"KWI\", \"SSH\"]  …  Any[\"WUH\", \"XNN\", \"PEK\", \"ZRH\", \"LYS\", \"SPU\", \"FCO\", \"SPU\", \"LHR\", \"WAW\"  …  \"MRS\", \"FRA\", \"BRE\", \"CPH\", \"AGP\", \"GOT\", \"SPU\", \"GOT\", \"PMI\", \"ZRH\"], Any[\"WUH\", \"MFM\", \"PVG\", \"ZRH\", \"LHR\", \"IAD\", \"FCO\", \"ADD\", \"FRA\", \"DTW\"  …  \"NRT\", \"OKA\", \"NGO\", \"FRA\", \"AMM\", \"IST\", \"MAN\", \"MUC\", \"SPU\", \"LGW\"], Any[\"WUH\", \"SZX\", \"CTU\", \"SZX\", \"JJN\", \"HGH\", \"DLC\", \"SZX\", \"SHE\", \"WUX\"  …  \"EBB\", \"BRU\", \"IAD\", \"GRU\", \"NAT\", \"BSB\", \"CGR\", \"CGB\", \"CGR\", \"CGB\"], Any[\"WUH\", \"WUX\", \"WUH\", \"XNN\", \"PEK\", \"WUX\", \"SHE\", \"TYN\", \"SZX\", \"WNZ\"  …  \"AKL\", \"HKG\", \"IST\", \"KZR\", \"IST\", \"VLC\", \"MUC\", \"KLX\", \"DUS\", \"NRT\"], Any[\"WUH\", \"HKG\", \"HND\", \"DPS\", \"NRT\", \"IAD\", \"CPH\", \"HAJ\", \"MUC\", \"ZAG\"  …  \"CCS\", \"IAH\", \"GDL\", \"SFO\", \"RDU\", \"ORD\", \"DCA\", \"DEN\", \"LIH\", \"SFO\"], Any[\"WUH\", \"SZX\", \"JDZ\", \"CAN\", \"YBP\", \"CAN\", \"SIN\", \"PVG\", \"SYD\", \"PEK\"  …  \"BQN\", \"EWR\", \"DFW\", \"IAH\", \"GDL\", \"PTY\", \"COR\", \"PTY\", \"MDE\", \"CLO\"], Any[\"WUH\", \"NNG\", \"ZUH\", \"FOC\", \"CTU\", \"HFE\", \"SZX\", \"WUH\", \"NNG\", \"ZUH\"  …  \"YHZ\", \"YOW\", \"YVR\", \"ICN\", \"MFM\", \"TYN\", \"HRB\", \"XIY\", \"NKG\", \"CSX\"], Any[\"WUH\", \"CGQ\", \"YNT\", \"ICN\", \"TNA\", \"CAN\", \"CKG\", \"XIY\", \"NKG\", \"YNT\"  …  \"HET\", \"SHE\", \"TAO\", \"NRT\", \"CPH\", \"VNO\", \"WAW\", \"EVN\", \"WAW\", \"MXP\"], Any[\"WUH\", \"CTU\", \"HKG\", \"WUH\", \"CGQ\", \"TAO\", \"SZX\", \"NKG\", \"CTU\", \"CAN\"  …  \"ARN\", \"BCN\", \"MUC\", \"CLT\", \"SJO\", \"IAH\", \"SJD\", \"SFO\", \"LIH\", \"SFO\"], Any[\"WUH\", \"NNG\", \"CGO\", \"KWE\", \"CSX\", \"NKG\", \"ICN\", \"HGH\", \"KIX\", \"CGK\"  …  \"SAN\", \"SFO\", \"PHX\", \"IAH\", \"SEA\", \"ANC\", \"SEA\", \"SFO\", \"AKL\", \"RAR\"]], Any[2, 2, 2, 2, 3, 2, 2, 4, 4, 3  …  3, 2, 3, 2, 2, 4, 4, 2, 2, 3], Any[15, 165, 40, 170, 37, 192, 170, 82, 43, 202  …  78, 91, 143, 58, 43, 101, 231, 350, 360, 69])"
      ]
     },
     "execution_count": 62,
     "metadata": {},
     "output_type": "execute_result"
    }
   ],
   "source": [
    "rw_pasa_inf = @time busca_vuelos_pasa_inf(rw_MX, listainf)"
   ]
  },
  {
   "cell_type": "code",
   "execution_count": 63,
   "metadata": {},
   "outputs": [
    {
     "name": "stdout",
     "output_type": "stream",
     "text": [
      "  0.000179 seconds (16 allocations: 16.656 KiB)\n"
     ]
    },
    {
     "data": {
      "text/plain": [
       "(936, Any[Any[\"WUH\", \"HKG\", \"GUM\", \"TKK\", \"GUM\", \"HNL\", \"ICN\", \"SFO\", \"ORD\", \"SNA\"  …  \"RSW\", \"YYZ\", \"PVG\", \"MEL\", \"CHC\", \"SYD\", \"LAX\", \"TPE\", \"PNH\", \"TPE\"], Any[\"WUH\", \"MFM\", \"NNG\", \"MFM\", \"WUH\", \"SHE\", \"CTU\", \"HAK\", \"TSN\", \"KMG\"  …  \" \", \" \", \" \", \" \", \" \", \" \", \" \", \" \", \" \", \" \"], Any[\"WUH\", \"HKG\", \"BKK\", \"HAN\", \"HND\", \"UKB\", \"HND\", \"IWK\", \"HND\", \"SIN\"  …  \"MAN\", \"MUC\", \"OSL\", \"TRD\", \"ARN\", \"VNO\", \"ARN\", \"MLA\", \"ARN\", \"GOT\"], Any[\"WUH\", \"CGQ\", \"WUH\", \"CNX\", \"PEK\", \"MXP\", \"CAI\", \"BRU\", \"OUA\", \"BRU\"  …  \"PEK\", \"WUX\", \"CAN\", \"BAV\", \"CAN\", \"CKG\", \"ZUH\", \"HYN\", \"ZUH\", \"CKG\"], Any[\"WUH\", \"NNG\", \"HGH\", \"GYS\", \"SZX\", \"YTY\", \"SZX\", \"SHA\", \"TSN\", \"TPE\"  …  \"HEL\", \"MUC\", \"SJJ\", \"MUC\", \"FRA\", \"YUL\", \"LGA\", \"IAH\", \"DCA\", \"IAH\"], Any[\"WUH\", \"PEK\", \"CGO\", \"URC\", \"KHG\", \"CTU\", \"KHI\", \"IST\", \"ICN\", \"LHR\"  …  \" \", \" \", \" \", \" \", \" \", \" \", \" \", \" \", \" \", \" \"], Any[\"WUH\", \"SHE\", \"FRA\", \"GOJ\", \"FRA\", \"POZ\", \"FRA\", \"TSE\", \"FRA\", \"DME\"  …  \"SVG\", \"LHR\", \"ADD\", \"GDQ\", \"LLI\", \"GDQ\", \"LLI\", \"ADD\", \"JIJ\", \"ADD\"], Any[\"WUH\", \"SZX\", \"TNA\", \"ICN\", \"IST\", \"DEL\", \"MCT\", \"DEL\", \"COK\", \"AGX\"  …  \"BUD\", \"DUS\", \"LED\", \"WAW\", \"MAD\", \"LIS\", \"CNF\", \"PTY\", \"LAS\", \"PTY\"], Any[\"WUH\", \"YNT\", \"XIY\", \"CAN\", \"HFE\", \"ICN\", \"OKA\", \"KIJ\", \"ITM\", \"KIJ\"  …  \" \", \" \", \" \", \" \", \" \", \" \", \" \", \" \", \" \", \" \"], Any[\"WUH\", \"XMN\", \"BKK\", \"HKG\", \"WUH\", \"HKG\", \"SIN\", \"TPE\", \"PEK\", \"YTY\"  …  \"BRU\", \"BJM\", \"KGL\", \"NBO\", \"ADD\", \"DMM\", \"DEL\", \"BAH\", \"KWI\", \"SSH\"]  …  Any[\"WUH\", \"XNN\", \"PEK\", \"ZRH\", \"LYS\", \"SPU\", \"FCO\", \"SPU\", \"LHR\", \"WAW\"  …  \"MRS\", \"FRA\", \"BRE\", \"CPH\", \"AGP\", \"GOT\", \"SPU\", \"GOT\", \"PMI\", \"ZRH\"], Any[\"WUH\", \"MFM\", \"PVG\", \"ZRH\", \"LHR\", \"IAD\", \"FCO\", \"ADD\", \"FRA\", \"DTW\"  …  \"NRT\", \"OKA\", \"NGO\", \"FRA\", \"AMM\", \"IST\", \"MAN\", \"MUC\", \"SPU\", \"LGW\"], Any[\"WUH\", \"SZX\", \"CTU\", \"SZX\", \"JJN\", \"HGH\", \"DLC\", \"SZX\", \"SHE\", \"WUX\"  …  \"EBB\", \"BRU\", \"IAD\", \"GRU\", \"NAT\", \"BSB\", \"CGR\", \"CGB\", \"CGR\", \"CGB\"], Any[\"WUH\", \"WUX\", \"WUH\", \"XNN\", \"PEK\", \"WUX\", \"SHE\", \"TYN\", \"SZX\", \"WNZ\"  …  \"AKL\", \"HKG\", \"IST\", \"KZR\", \"IST\", \"VLC\", \"MUC\", \"KLX\", \"DUS\", \"NRT\"], Any[\"WUH\", \"HKG\", \"HND\", \"DPS\", \"NRT\", \"IAD\", \"CPH\", \"HAJ\", \"MUC\", \"ZAG\"  …  \"CCS\", \"IAH\", \"GDL\", \"SFO\", \"RDU\", \"ORD\", \"DCA\", \"DEN\", \"LIH\", \"SFO\"], Any[\"WUH\", \"SZX\", \"JDZ\", \"CAN\", \"YBP\", \"CAN\", \"SIN\", \"PVG\", \"SYD\", \"PEK\"  …  \"BQN\", \"EWR\", \"DFW\", \"IAH\", \"GDL\", \"PTY\", \"COR\", \"PTY\", \"MDE\", \"CLO\"], Any[\"WUH\", \"NNG\", \"ZUH\", \"FOC\", \"CTU\", \"HFE\", \"SZX\", \"WUH\", \"NNG\", \"ZUH\"  …  \"YHZ\", \"YOW\", \"YVR\", \"ICN\", \"MFM\", \"TYN\", \"HRB\", \"XIY\", \"NKG\", \"CSX\"], Any[\"WUH\", \"CGQ\", \"YNT\", \"ICN\", \"TNA\", \"CAN\", \"CKG\", \"XIY\", \"NKG\", \"YNT\"  …  \"HET\", \"SHE\", \"TAO\", \"NRT\", \"CPH\", \"VNO\", \"WAW\", \"EVN\", \"WAW\", \"MXP\"], Any[\"WUH\", \"CTU\", \"HKG\", \"WUH\", \"CGQ\", \"TAO\", \"SZX\", \"NKG\", \"CTU\", \"CAN\"  …  \"ARN\", \"BCN\", \"MUC\", \"CLT\", \"SJO\", \"IAH\", \"SJD\", \"SFO\", \"LIH\", \"SFO\"], Any[\"WUH\", \"NNG\", \"CGO\", \"KWE\", \"CSX\", \"NKG\", \"ICN\", \"HGH\", \"KIX\", \"CGK\"  …  \"SAN\", \"SFO\", \"PHX\", \"IAH\", \"SEA\", \"ANC\", \"SEA\", \"SFO\", \"AKL\", \"RAR\"]])"
      ]
     },
     "execution_count": 63,
     "metadata": {},
     "output_type": "execute_result"
    }
   ],
   "source": [
    "rw_inf_MX = @time busca_vuelos_INF_MX(rw_pasa_inf, rw_MX)"
   ]
  },
  {
   "cell_type": "code",
   "execution_count": 64,
   "metadata": {},
   "outputs": [
    {
     "name": "stdout",
     "output_type": "stream",
     "text": [
      "  3.747347 seconds (76.22 M allocations: 3.955 GiB, 15.62% gc time)\n"
     ]
    },
    {
     "data": {
      "text/plain": [
       "(0, Any[])"
      ]
     },
     "execution_count": 64,
     "metadata": {},
     "output_type": "execute_result"
    }
   ],
   "source": [
    "rw_dir_MX = @time busca_directos_MX(rw_MX, listainf)"
   ]
  },
  {
   "cell_type": "code",
   "execution_count": 65,
   "metadata": {},
   "outputs": [
    {
     "name": "stdout",
     "output_type": "stream",
     "text": [
      "  0.000036 seconds (7 allocations: 320 bytes)\n"
     ]
    },
    {
     "data": {
      "text/plain": [
       "(0, Any[Any[]])"
      ]
     },
     "execution_count": 65,
     "metadata": {},
     "output_type": "execute_result"
    }
   ],
   "source": [
    "rw_MX_INF = @time busca_vuelos_MX_INF(rw_pasa_inf, rw_MX, rw_dir_MX)"
   ]
  },
  {
   "cell_type": "markdown",
   "metadata": {},
   "source": [
    "## Caminatas"
   ]
  },
  {
   "cell_type": "code",
   "execution_count": 19,
   "metadata": {},
   "outputs": [
    {
     "data": {
      "text/plain": [
       "1000×1001 Array{String,2}:\n",
       " \"WUH\"  \"PUS\"  \"TPE\"  \"PUS\"  \"MFM\"  …  \"REP\"  \"PUS\"  \"TPE\"  \"PUS\"  \"XIY\"\n",
       " \"WUH\"  \"PUS\"  \"CSX\"  \"PUS\"  \"HKG\"     \"NRT\"  \"PUS\"  \"TAO\"  \"PUS\"  \"TPE\"\n",
       " \"WUH\"  \"PUS\"  \"WUH\"  \"PUS\"  \"CEB\"     \"KIX\"  \"PUS\"  \"CSX\"  \"PUS\"  \"REP\"\n",
       " \"WUH\"  \"PUS\"  \"KHH\"  \"PUS\"  \"WUH\"     \"FUK\"  \"PUS\"  \"TPE\"  \"PUS\"  \"NRT\"\n",
       " \"WUH\"  \"PUS\"  \"HKG\"  \"PUS\"  \"TYN\"     \"TPE\"  \"PUS\"  \"FUK\"  \"PUS\"  \"CSX\"\n",
       " \"WUH\"  \"PUS\"  \"NRT\"  \"PUS\"  \"HKG\"  …  \"CSX\"  \"PUS\"  \"CSX\"  \"PUS\"  \"CEB\"\n",
       " \"WUH\"  \"PUS\"  \"WUH\"  \"PUS\"  \"MFM\"     \"TAO\"  \"PUS\"  \"NRT\"  \"PUS\"  \"TPE\"\n",
       " \"WUH\"  \"PUS\"  \"REP\"  \"PUS\"  \"CEB\"     \"MFM\"  \"PUS\"  \"WUH\"  \"PUS\"  \"CSX\"\n",
       " \"WUH\"  \"PUS\"  \"XIY\"  \"PUS\"  \"NRT\"     \"WUH\"  \"PUS\"  \"REP\"  \"PUS\"  \"NRT\"\n",
       " \"WUH\"  \"PUS\"  \"HKG\"  \"PUS\"  \"NRT\"     \"KIX\"  \"PUS\"  \"CSX\"  \"PUS\"  \"CEB\"\n",
       " \"WUH\"  \"PUS\"  \"TPE\"  \"PUS\"  \"WUH\"  …  \"KIX\"  \"PUS\"  \"NRT\"  \"PUS\"  \"KHH\"\n",
       " \"WUH\"  \"PUS\"  \"MFM\"  \"PUS\"  \"FUK\"     \"CEB\"  \"PUS\"  \"CEB\"  \"PUS\"  \"CSX\"\n",
       " \"WUH\"  \"PUS\"  \"HKG\"  \"PUS\"  \"TYN\"     \"REP\"  \"PUS\"  \"MFM\"  \"PUS\"  \"TAO\"\n",
       " ⋮                                  ⋱                              ⋮    \n",
       " \"WUH\"  \"PUS\"  \"KIX\"  \"PUS\"  \"XIY\"     \"CSX\"  \"PUS\"  \"XIY\"  \"PUS\"  \"WUH\"\n",
       " \"WUH\"  \"PUS\"  \"TPE\"  \"PUS\"  \"FUK\"     \"CSX\"  \"PUS\"  \"NRT\"  \"PUS\"  \"FUK\"\n",
       " \"WUH\"  \"PUS\"  \"MFM\"  \"PUS\"  \"MFM\"  …  \"REP\"  \"PUS\"  \"CEB\"  \"PUS\"  \"HKG\"\n",
       " \"WUH\"  \"PUS\"  \"TAO\"  \"PUS\"  \"NRT\"     \"KHH\"  \"PUS\"  \"WUH\"  \"PUS\"  \"KIX\"\n",
       " \"WUH\"  \"PUS\"  \"NRT\"  \"PUS\"  \"CSX\"     \"NRT\"  \"PUS\"  \"CSX\"  \"PUS\"  \"KHH\"\n",
       " \"WUH\"  \"PUS\"  \"WUH\"  \"PUS\"  \"CEB\"     \"KIX\"  \"PUS\"  \"XIY\"  \"PUS\"  \"CEB\"\n",
       " \"WUH\"  \"PUS\"  \"REP\"  \"PUS\"  \"REP\"     \"KHH\"  \"PUS\"  \"MFM\"  \"PUS\"  \"XIY\"\n",
       " \"WUH\"  \"PUS\"  \"CSX\"  \"PUS\"  \"TAO\"  …  \"WUH\"  \"PUS\"  \"KHH\"  \"PUS\"  \"HKG\"\n",
       " \"WUH\"  \"PUS\"  \"NRT\"  \"PUS\"  \"TYN\"     \"NRT\"  \"PUS\"  \"XIY\"  \"PUS\"  \"KHH\"\n",
       " \"WUH\"  \"PUS\"  \"TPE\"  \"PUS\"  \"CEB\"     \"HKG\"  \"PUS\"  \"CSX\"  \"PUS\"  \"MFM\"\n",
       " \"WUH\"  \"PUS\"  \"FUK\"  \"PUS\"  \"FUK\"     \"WUH\"  \"PUS\"  \"TPE\"  \"PUS\"  \"KIX\"\n",
       " \"WUH\"  \"PUS\"  \"HKG\"  \"PUS\"  \"HKG\"     \"KHH\"  \"PUS\"  \"WUH\"  \"PUS\"  \"HKG\""
      ]
     },
     "execution_count": 19,
     "metadata": {},
     "output_type": "execute_result"
    }
   ],
   "source": [
    "#Leo las caminatas de todos los aeropuertos\n",
    "\n",
    "archivo_caminatas_nombres = string(\"BX\", \"_WUH_walk_names.csv\")\n",
    "#readdlm(\"/Users/yuriko/Downloads/codejulia/datart/$aerolinea_carpeta/caminatas/nombres/$archivo_caminatas_nombres\", ',', String)\n",
    "readdlm(\"/Users/yuriko/Downloads/codejulia/datart/BX/caminatas/nombres/$archivo_caminatas_nombres\", ',', String)"
   ]
  },
  {
   "cell_type": "code",
   "execution_count": 20,
   "metadata": {},
   "outputs": [
    {
     "data": {
      "text/plain": [
       "1000×1001 Array{String,2}:\n",
       " \"WUH\"  \"PUS\"  \"TPE\"  \"PUS\"  \"MFM\"  …  \"REP\"  \"PUS\"  \"TPE\"  \"PUS\"  \"XIY\"\n",
       " \"WUH\"  \"PUS\"  \"CSX\"  \"PUS\"  \"HKG\"     \"NRT\"  \"PUS\"  \"TAO\"  \"PUS\"  \"TPE\"\n",
       " \"WUH\"  \"PUS\"  \"WUH\"  \"PUS\"  \"CEB\"     \"KIX\"  \"PUS\"  \"CSX\"  \"PUS\"  \"REP\"\n",
       " \"WUH\"  \"PUS\"  \"KHH\"  \"PUS\"  \"WUH\"     \"FUK\"  \"PUS\"  \"TPE\"  \"PUS\"  \"NRT\"\n",
       " \"WUH\"  \"PUS\"  \"HKG\"  \"PUS\"  \"TYN\"     \"TPE\"  \"PUS\"  \"FUK\"  \"PUS\"  \"CSX\"\n",
       " \"WUH\"  \"PUS\"  \"NRT\"  \"PUS\"  \"HKG\"  …  \"CSX\"  \"PUS\"  \"CSX\"  \"PUS\"  \"CEB\"\n",
       " \"WUH\"  \"PUS\"  \"WUH\"  \"PUS\"  \"MFM\"     \"TAO\"  \"PUS\"  \"NRT\"  \"PUS\"  \"TPE\"\n",
       " \"WUH\"  \"PUS\"  \"REP\"  \"PUS\"  \"CEB\"     \"MFM\"  \"PUS\"  \"WUH\"  \"PUS\"  \"CSX\"\n",
       " \"WUH\"  \"PUS\"  \"XIY\"  \"PUS\"  \"NRT\"     \"WUH\"  \"PUS\"  \"REP\"  \"PUS\"  \"NRT\"\n",
       " \"WUH\"  \"PUS\"  \"HKG\"  \"PUS\"  \"NRT\"     \"KIX\"  \"PUS\"  \"CSX\"  \"PUS\"  \"CEB\"\n",
       " \"WUH\"  \"PUS\"  \"TPE\"  \"PUS\"  \"WUH\"  …  \"KIX\"  \"PUS\"  \"NRT\"  \"PUS\"  \"KHH\"\n",
       " \"WUH\"  \"PUS\"  \"MFM\"  \"PUS\"  \"FUK\"     \"CEB\"  \"PUS\"  \"CEB\"  \"PUS\"  \"CSX\"\n",
       " \"WUH\"  \"PUS\"  \"HKG\"  \"PUS\"  \"TYN\"     \"REP\"  \"PUS\"  \"MFM\"  \"PUS\"  \"TAO\"\n",
       " ⋮                                  ⋱                              ⋮    \n",
       " \"WUH\"  \"PUS\"  \"KIX\"  \"PUS\"  \"XIY\"     \"CSX\"  \"PUS\"  \"XIY\"  \"PUS\"  \"WUH\"\n",
       " \"WUH\"  \"PUS\"  \"TPE\"  \"PUS\"  \"FUK\"     \"CSX\"  \"PUS\"  \"NRT\"  \"PUS\"  \"FUK\"\n",
       " \"WUH\"  \"PUS\"  \"MFM\"  \"PUS\"  \"MFM\"  …  \"REP\"  \"PUS\"  \"CEB\"  \"PUS\"  \"HKG\"\n",
       " \"WUH\"  \"PUS\"  \"TAO\"  \"PUS\"  \"NRT\"     \"KHH\"  \"PUS\"  \"WUH\"  \"PUS\"  \"KIX\"\n",
       " \"WUH\"  \"PUS\"  \"NRT\"  \"PUS\"  \"CSX\"     \"NRT\"  \"PUS\"  \"CSX\"  \"PUS\"  \"KHH\"\n",
       " \"WUH\"  \"PUS\"  \"WUH\"  \"PUS\"  \"CEB\"     \"KIX\"  \"PUS\"  \"XIY\"  \"PUS\"  \"CEB\"\n",
       " \"WUH\"  \"PUS\"  \"REP\"  \"PUS\"  \"REP\"     \"KHH\"  \"PUS\"  \"MFM\"  \"PUS\"  \"XIY\"\n",
       " \"WUH\"  \"PUS\"  \"CSX\"  \"PUS\"  \"TAO\"  …  \"WUH\"  \"PUS\"  \"KHH\"  \"PUS\"  \"HKG\"\n",
       " \"WUH\"  \"PUS\"  \"NRT\"  \"PUS\"  \"TYN\"     \"NRT\"  \"PUS\"  \"XIY\"  \"PUS\"  \"KHH\"\n",
       " \"WUH\"  \"PUS\"  \"TPE\"  \"PUS\"  \"CEB\"     \"HKG\"  \"PUS\"  \"CSX\"  \"PUS\"  \"MFM\"\n",
       " \"WUH\"  \"PUS\"  \"FUK\"  \"PUS\"  \"FUK\"     \"WUH\"  \"PUS\"  \"TPE\"  \"PUS\"  \"KIX\"\n",
       " \"WUH\"  \"PUS\"  \"HKG\"  \"PUS\"  \"HKG\"     \"KHH\"  \"PUS\"  \"WUH\"  \"PUS\"  \"HKG\""
      ]
     },
     "execution_count": 20,
     "metadata": {},
     "output_type": "execute_result"
    }
   ],
   "source": [
    "ans[1:1000,:]"
   ]
  },
  {
   "cell_type": "code",
   "execution_count": null,
   "metadata": {},
   "outputs": [],
   "source": [
    "for k in 2:length(lista_aerolineas)\n",
    "    \n",
    "    airline_code = lista_aerolineas[i]\n",
    "    aerolinea_carpeta = airline_code\n",
    "    \n",
    "    archivo_caminatas_nombres = string(airline_code, \"_WUH_walk_names.csv\")\n",
    "    caminatas_nombres_total = readdlm(\"/Users/yuriko/Downloads/codejulia/datart/$aerolinea_carpeta/caminatas/nombres/$archivo_caminatas_nombres\", ',', String)\n",
    "    \n",
    "    random_walk_t1 = caminatas_nombres_total[1:100, :]\n",
    "    archivo_rw_t1 = string(airline_code, \"_WUH_walk_names_t1\")\n",
    "    writedlm(\"/Users/yuriko/Downloads/codejulia/datart/$aerolinea_carpeta/caminatas/nombres/$archivo_rw_t1\", random_walk_t1, delim='\\t') \n",
    "    \n",
    "    random_walk_t2 = caminatas_nombres_total[1:200, :]\n",
    "    archivo_rw_t2 = string(airline_code, \"_WUH_walk_names_t2\")\n",
    "    writedlm(\"/Users/yuriko/Downloads/codejulia/datart/$aerolinea_carpeta/caminatas/nombres/$archivo_rw_t2\", random_walk_t2, delim='\\t')\n",
    "    \n",
    "    random_walk_t3 = caminatas_nombres_total[1:300, :]\n",
    "    archivo_rw_t3 = string(airline_code, \"_WUH_walk_names_t3\")\n",
    "    writedlm(\"/Users/yuriko/Downloads/codejulia/datart/$aerolinea_carpeta/caminatas/nombres/$archivo_rw_t3\", random_walk_t3, delim='\\t')\n",
    "    \n",
    "    random_walk_t4 = caminatas_nombres_total[1:400, :]\n",
    "    archivo_rw_t4 = string(airline_code, \"_WUH_walk_names_t4\")\n",
    "    writedlm(\"/Users/yuriko/Downloads/codejulia/datart/$aerolinea_carpeta/caminatas/nombres/$archivo_rw_t4\", random_walk_t4, delim='\\t')\n",
    "    \n",
    "    random_walk_t5 = caminatas_nombres_total[1:500, :]\n",
    "    archivo_rw_t5 = string(airline_code, \"_WUH_walk_names_t5\")\n",
    "    writedlm(\"/Users/yuriko/Downloads/codejulia/datart/$aerolinea_carpeta/caminatas/nombres/$archivo_rw_t5\", random_walk_t5, delim='\\t')\n",
    "    \n",
    "    random_walk_t6 = caminatas_nombres_total[1:600, :]\n",
    "    archivo_rw_t6 = string(airline_code, \"_WUH_walk_names_t6\")\n",
    "    writedlm(\"/Users/yuriko/Downloads/codejulia/datart/$aerolinea_carpeta/caminatas/nombres/$archivo_rw_t6\", random_walk_t6, delim='\\t')\n",
    "    \n",
    "    random_walk_t7 = caminatas_nombres_total[1:700, :]\n",
    "    archivo_rw_t7 = string(airline_code, \"_WUH_walk_names_t7\")\n",
    "    writedlm(\"/Users/yuriko/Downloads/codejulia/datart/$aerolinea_carpeta/caminatas/nombres/$archivo_rw_t7\", random_walk_t7, delim='\\t')\n",
    "    \n",
    "    random_walk_t8 = caminatas_nombres_total[1:800, :]\n",
    "    archivo_rw_t8 = string(airline_code, \"_WUH_walk_names_t8\")\n",
    "    writedlm(\"/Users/yuriko/Downloads/codejulia/datart/$aerolinea_carpeta/caminatas/nombres/$archivo_rw_t8\", random_walk_t8, delim='\\t')\n",
    "    \n",
    "    random_walk_t9 = caminatas_nombres_total[1:900, :]\n",
    "    archivo_rw_t9 = string(airline_code, \"_WUH_walk_names_t9\")\n",
    "    writedlm(\"/Users/yuriko/Downloads/codejulia/datart/$aerolinea_carpeta/caminatas/nombres/$archivo_rw_t9\", random_walk_t9, delim='\\t')\n",
    "    \n",
    "    random_walk_t10 = caminatas_nombres_total[1:1000, :]\n",
    "    archivo_rw_t10 = string(airline_code, \"_WUH_walk_names_t10\")\n",
    "    writedlm(\"/Users/yuriko/Downloads/codejulia/datart/$aerolinea_carpeta/caminatas/nombres/$archivo_rw_t10\", random_walk_t10, delim='\\t')\n",
    "    \n",
    "    \n",
    "end"
   ]
  }
 ],
 "metadata": {
  "@webio": {
   "lastCommId": null,
   "lastKernelId": null
  },
  "kernelspec": {
   "display_name": "Julia 1.1.0",
   "language": "julia",
   "name": "julia-1.1"
  },
  "language_info": {
   "file_extension": ".jl",
   "mimetype": "application/julia",
   "name": "julia",
   "version": "1.1.0"
  }
 },
 "nbformat": 4,
 "nbformat_minor": 2
}
