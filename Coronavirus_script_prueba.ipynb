{
 "cells": [
  {
   "cell_type": "markdown",
   "metadata": {},
   "source": [
    "# Coronavirus"
   ]
  },
  {
   "cell_type": "code",
   "execution_count": 1,
   "metadata": {},
   "outputs": [],
   "source": [
    "#Paquetes\n",
    "using DelimitedFiles\n",
    "using StatsBase\n",
    "using RandomNumbers.Xorshifts\n",
    "using Plots\n",
    "pyplot()\n",
    "using LightGraphs\n",
    "using GraphPlot"
   ]
  },
  {
   "cell_type": "code",
   "execution_count": 2,
   "metadata": {},
   "outputs": [
    {
     "data": {
      "text/plain": [
       "30-element Array{String,1}:\n",
       " \"Airlines\"     \n",
       " \"global\"       \n",
       " \"Star_Alliance\"\n",
       " \"Sky_Team\"     \n",
       " \"oneworld\"     \n",
       " \"MU\"           \n",
       " \"CZ\"           \n",
       " \"AF\"           \n",
       " \"CA\"           \n",
       " \"KE\"           \n",
       " \"HU\"           \n",
       " \"CX\"           \n",
       " \"GS\"           \n",
       " ⋮              \n",
       " \"SC\"           \n",
       " \"HO\"           \n",
       " \"JD\"           \n",
       " \"KA\"           \n",
       " \"8L\"           \n",
       " \"MI\"           \n",
       " \"FD\"           \n",
       " \"PN\"           \n",
       " \"EU\"           \n",
       " \"NS\"           \n",
       " \"KY\"           \n",
       " \"BX\"           "
      ]
     },
     "execution_count": 2,
     "metadata": {},
     "output_type": "execute_result"
    }
   ],
   "source": [
    "info_aerolineas = readdlm(\"/Users/yuriko/Documents/UNAM/Tesis_Lic/data/aerolineas_matrices/nueva_lista_aerolineas_art.csv\", ',', String)\n",
    "lista_aerolineas = info_aerolineas[:, 2]"
   ]
  },
  {
   "cell_type": "code",
   "execution_count": 3,
   "metadata": {},
   "outputs": [
    {
     "data": {
      "text/plain": [
       "3073×527 Array{Any,2}:\n",
       "     \"\"  \"global_airports\"      \"global_num\"  …  \"4K_num\"  \"4D_num\"  \"4B_num\"\n",
       "    1    \"AER\"                 1                 \"NA\"      \"NA\"      \"NA\"    \n",
       "    2    \"ASF\"                 2                 \"NA\"      \"NA\"      \"NA\"    \n",
       "    3    \"CEK\"                 3                 \"NA\"      \"NA\"      \"NA\"    \n",
       "    4    \"DME\"                 4                 \"NA\"      \"NA\"      \"NA\"    \n",
       "    5    \"EGO\"                 5              …  \"NA\"      \"NA\"      \"NA\"    \n",
       "    6    \"GYD\"                 6                 \"NA\"      \"NA\"      \"NA\"    \n",
       "    7    \"KGD\"                 7                 \"NA\"      \"NA\"      \"NA\"    \n",
       "    8    \"KZN\"                 8                 \"NA\"      \"NA\"      \"NA\"    \n",
       "    9    \"LED\"                 9                 \"NA\"      \"NA\"      \"NA\"    \n",
       "   10    \"MRV\"                10              …  \"NA\"      \"NA\"      \"NA\"    \n",
       "   11    \"NBC\"                11                 \"NA\"      \"NA\"      \"NA\"    \n",
       "   12    \"NJC\"                12                 \"NA\"      \"NA\"      \"NA\"    \n",
       "    ⋮                                         ⋱            ⋮                 \n",
       " 3061    \"KZI\"              3061                 \"NA\"      \"NA\"      \"NA\"    \n",
       " 3062    \"KOT\"              3062                 \"NA\"      \"NA\"      \"NA\"    \n",
       " 3063    \"PSJ\"              3063                 \"NA\"      \"NA\"      \"NA\"    \n",
       " 3064    \"LPS\"              3064                 \"NA\"      \"NA\"      \"NA\"    \n",
       " 3065    \"ORX\"              3065              …  \"NA\"      \"NA\"      \"NA\"    \n",
       " 3066    \"BVS\"              3066                 \"NA\"      \"NA\"      \"NA\"    \n",
       " 3067    \"MTE\"              3067                 \"NA\"      \"NA\"      \"NA\"    \n",
       " 3068    \"DLZ\"              3068                 \"NA\"      \"NA\"      \"NA\"    \n",
       " 3069    \"UII\"              3069                 \"NA\"      \"NA\"      \"NA\"    \n",
       " 3070    \"ZBF\"              3070              …  \"NA\"      \"NA\"      \"NA\"    \n",
       " 3071    \"CMP\"              3071                 \"NA\"      \"NA\"      \"NA\"    \n",
       " 3072    \"BSS\"              3072                 \"NA\"      \"NA\"      \"NA\"    "
      ]
     },
     "execution_count": 3,
     "metadata": {},
     "output_type": "execute_result"
    }
   ],
   "source": [
    "#SE LEE DICCIONARIO\n",
    "archivo_dicc = readdlm(\"/Users/yuriko/Documents/UNAM/Tesis_Lic/data/diccionarios/dictionary_final.csv\", ',')"
   ]
  },
  {
   "cell_type": "code",
   "execution_count": 19,
   "metadata": {},
   "outputs": [
    {
     "data": {
      "text/plain": [
       "76-element Array{String,1}:\n",
       " \"MEX\"\n",
       " \"ACA\"\n",
       " \"TIJ\"\n",
       " \"GDL\"\n",
       " \"CUN\"\n",
       " \"MTY\"\n",
       " \"NTR\"\n",
       " \"AGU\"\n",
       " \"HUX\"\n",
       " \"CVJ\"\n",
       " \"ACN\"\n",
       " \"CME\"\n",
       " \"NCG\"\n",
       " ⋮    \n",
       " \"VSA\"\n",
       " \"VER\"\n",
       " \"ZCL\"\n",
       " \"ZIH\"\n",
       " \"ZMM\"\n",
       " \"ZLO\"\n",
       " \"CYW\"\n",
       " \"CUA\"\n",
       " \"GUB\"\n",
       " \"JAL\"\n",
       " \"CZA\"\n",
       " \"PQM\""
      ]
     },
     "execution_count": 19,
     "metadata": {},
     "output_type": "execute_result"
    }
   ],
   "source": [
    "listamx = [\"MEX\", \"ACA\", \"TIJ\", \"GDL\", \"CUN\", \"MTY\", \"NTR\", \"AGU\", \"HUX\", \"CVJ\", \"ACN\", \"CME\", \"NCG\", \"CUL\", \"CTM\", \n",
    "    \"CEN\", \"CPE\", \"CJS\", \"CUU\", \"CVM\", \"CZM\", \"DGO\", \"TPQ\", \"ESE\", \"GYM\", \"TCN\", \"HMO\", \"CLQ\", \"ISJ\", \"SLW\", \"IZT\", \n",
    "    \"LZC\", \"LMM\", \"BJX\", \"LAP\", \"LTO\", \"MAM\", \"MID\", \"MXL\", \"MLM\", \"MTT\", \"LOV\", \"MZT\", \"NOG\", \"NLD\", \"OAX\", \"PAZ\", \n",
    "    \"PBC\", \"PPE\", \"PDS\", \"UPN\", \"PVR\", \"PXM\", \"QRO\", \"REX\", \"SJD\", \"SFH\", \"SLP\", \"TRC\", \"TGZ\", \"TAM\", \"TSL\", \"TLC\", \n",
    "    \"TAP\", \"VSA\", \"VER\", \"ZCL\", \"ZIH\", \"ZMM\", \"ZLO\", \"CYW\", \"CUA\", \"GUB\", \"JAL\", \"CZA\", \"PQM\"]"
   ]
  },
  {
   "cell_type": "code",
   "execution_count": 20,
   "metadata": {},
   "outputs": [
    {
     "data": {
      "text/plain": [
       "78-element Array{String,1}:\n",
       " \"BOD\"\n",
       " \"LBG\"\n",
       " \"CDG\"\n",
       " \"ORY\"\n",
       " \"MZG\"\n",
       " \"TPE\"\n",
       " \"NRT\"\n",
       " \"HND\"\n",
       " \"GMP\"\n",
       " \"HKG\"\n",
       " \"MFM\"\n",
       " \"KTM\"\n",
       " \"DMK\"\n",
       " ⋮    \n",
       " \"WUZ\"\n",
       " \"TEN\"\n",
       " \"CGX\"\n",
       " \"YIC\"\n",
       " \"OCW\"\n",
       " \"RIZ\"\n",
       " \"CAN\"\n",
       " \"PKX\"\n",
       " \"HGH\"\n",
       " \"DFW\"\n",
       " \"HAN\"\n",
       " \"WUH\""
      ]
     },
     "execution_count": 20,
     "metadata": {},
     "output_type": "execute_result"
    }
   ],
   "source": [
    "listainf = [\"BOD\", \"LBG\", \"CDG\", \"ORY\", \"MZG\", \"TPE\", \"NRT\", \"HND\", \"GMP\", \"HKG\", \"MFM\", \"KTM\", \"DMK\", \"HKT\", \"SGN\",\n",
    "    \"JHB\", \"SIN\", \"MEB\", \"MBW\", \"MEL\", \"BWU\", \"SYD\", \"PEK\", \"TSN\", \"TYN\", \"CSX\", \"KWL\", \"CGO\", \"KMG\", \"FOC\", \"TAO\", \n",
    "    \"SHA\", \"KWE\", \"CTU\", \"HRB\", \"MDG\", \"DLC\", \"PVG\", \"SFO\", \"LAX\", \"DCA\", \"SEA\", \"ATL\", \"IAD\", \"MDW\", \"JFK\", \"UGN\", \n",
    "    \"ORD\", \"SNA\", \"BKK\", \"ICN\", \"CNX\", \"SYX\", \"INC\", \"HAK\", \"SHE\", \"LYA\", \"XUZ\", \"CEB\", \"CGQ\", \"NAY\", \"BHY\", \"WEH\", \n",
    "    \"WUX\", \"WUS\", \"JGN\", \"WUZ\", \"TEN\", \"CGX\", \"YIC\", \"OCW\", \"RIZ\", \"CAN\", \"PKX\", \"HGH\", \"DFW\", \"HAN\", \"WUH\"]"
   ]
  },
  {
   "cell_type": "code",
   "execution_count": 21,
   "metadata": {},
   "outputs": [
    {
     "data": {
      "text/plain": [
       "import_matrix"
      ]
     },
     "execution_count": 21,
     "metadata": {},
     "output_type": "execute_result"
    }
   ],
   "source": [
    "\"\"\"\n",
    "    import_matrix(arch::string)\n",
    "\n",
    "Función que importa el archivo de la matriz de adyacencia de R.\n",
    "\"\"\"\n",
    "function import_matrix(arch::AbstractString)\n",
    "    archivo_R = readdlm(arch, ',')\n",
    "    archivo_R = archivo_R[2:end, :]\n",
    "    matriz = archivo_R[:, 2:end]\n",
    "    nombre = convert(Array{Int64,2}, matriz)\n",
    "    return nombre\n",
    "end"
   ]
  },
  {
   "cell_type": "code",
   "execution_count": 22,
   "metadata": {},
   "outputs": [
    {
     "data": {
      "text/plain": [
       "airport_names"
      ]
     },
     "execution_count": 22,
     "metadata": {},
     "output_type": "execute_result"
    }
   ],
   "source": [
    "\"\"\"\n",
    "    airport_names(arch::AbstractString)\n",
    "\n",
    "Función que obtiene un arreglo con los nombres de aeropuertos de la matriz\n",
    "\"\"\"\n",
    "function airport_names(arch::AbstractString)\n",
    "    archivo_R = readdlm(arch, ',', String)\n",
    "    columna = archivo_R[1, :]\n",
    "    nombres = columna[2:end]\n",
    "    return nombres\n",
    "end"
   ]
  },
  {
   "cell_type": "code",
   "execution_count": 23,
   "metadata": {},
   "outputs": [
    {
     "data": {
      "text/plain": [
       "my_graph"
      ]
     },
     "execution_count": 23,
     "metadata": {},
     "output_type": "execute_result"
    }
   ],
   "source": [
    "\"\"\"\n",
    "    my_graph(M::Array{Int64,2}, airline_code::String)\n",
    "\n",
    "Función que hace el grafo de la red aérea dirigida.\n",
    "\"\"\"\n",
    "function my_graph(M::Array{Int64,2}, airline_code::String)\n",
    "\n",
    "    grafo = DiGraph(M)\n",
    "\n",
    "end"
   ]
  },
  {
   "cell_type": "code",
   "execution_count": 24,
   "metadata": {},
   "outputs": [
    {
     "data": {
      "text/plain": [
       "plot_net"
      ]
     },
     "execution_count": 24,
     "metadata": {},
     "output_type": "execute_result"
    }
   ],
   "source": [
    "\"\"\"\n",
    "    plot_net(M::Array{Int64,2}, airline_code::String)\n",
    "\n",
    "Función que hace el grafo de la red aérea dirigida.\n",
    "\"\"\"\n",
    "function plot_net(M::Array{Int64,2}, airline_code::String)\n",
    "\n",
    "    grafo = DiGraph(M)\n",
    "    red = gplot(grafo)\n",
    "\n",
    "    return red\n",
    "\n",
    "end"
   ]
  },
  {
   "cell_type": "code",
   "execution_count": 25,
   "metadata": {},
   "outputs": [
    {
     "data": {
      "text/plain": [
       "n_in_degree"
      ]
     },
     "execution_count": 25,
     "metadata": {},
     "output_type": "execute_result"
    }
   ],
   "source": [
    "\"\"\"\n",
    "\n",
    "    n_in_degree(M::Array{Int64,2}, n::Int64)\n",
    "\n",
    "Función que obtiene el grado de entrada de un cierto nodo n de la red representada por la matriz de adyacencia M.\n",
    "\n",
    "Parámetros:\n",
    "M matriz de adyacencia que acepta un arreglo de tipo Array{Int64,2}\n",
    "n nodo a evaluar de tipo Int64\n",
    "\n",
    "Resultado:\n",
    "Grado de entrada del nodo n representado por un valor numérico de tipo Int64\n",
    "\n",
    "Implementación\n",
    "\n",
    "#### Ejemplos\n",
    "\"\"\"\n",
    "function n_in_degree(M::Array{Int64,2}, n::Int64)\n",
    "    grado_entrada = sum(M[n, :])\n",
    "end"
   ]
  },
  {
   "cell_type": "code",
   "execution_count": 26,
   "metadata": {},
   "outputs": [
    {
     "data": {
      "text/plain": [
       "in_degree"
      ]
     },
     "execution_count": 26,
     "metadata": {},
     "output_type": "execute_result"
    }
   ],
   "source": [
    "\"\"\"\n",
    "    in_degree(M::Array{Int64,2})\n",
    "\n",
    "Función que obtiene el grado de entrada de una red representada por la matriz de adyacencia M.\n",
    "\n",
    "Parámetros:\n",
    "* M matriz de adyacencia que acepta un arreglo de tipo Array{Int64,2}\n",
    "\n",
    "Resultado:\n",
    "Devuelve un arreglo de tipo Array{Int64,2} que contiene los grados de entrada de todos los nodos n de la red.\n",
    "\n",
    "## Implementación\n",
    "\n",
    "### Ejemplos\n",
    "\"\"\"\n",
    "function in_degree(M::Array{Int64,2})\n",
    "    grados_entrada = sum(M, dims = 2)\n",
    "end"
   ]
  },
  {
   "cell_type": "code",
   "execution_count": 27,
   "metadata": {},
   "outputs": [
    {
     "data": {
      "text/plain": [
       "n_out_degree (generic function with 1 method)"
      ]
     },
     "execution_count": 27,
     "metadata": {},
     "output_type": "execute_result"
    }
   ],
   "source": [
    "\"\"\"\n",
    "    n_out_degree(M::Array{Int64,2}, n::Int64)\n",
    "\n",
    "Función que obtiene el grado de salida de un cierto nodo n de la red representada por la matriz de adyacencia M.\n",
    "\n",
    "Parámetros:\n",
    "* M matriz de adyacencia que acepta un arreglo de tipo Array{Int64,2}\n",
    "* n nodo a evaluar de tipo Int64\n",
    "\n",
    "Resultado:\n",
    "Grado de salida del nodo n representado por un valor numérico de tipo Int64\n",
    "\n",
    "## Implementación\n",
    "\n",
    "### Ejemplos\n",
    "\"\"\"\n",
    "\n",
    "function n_out_degree(M::Array{Int64,2}, n::Int64)\n",
    "    grado_salida = sum(M[:, n])\n",
    "end"
   ]
  },
  {
   "cell_type": "code",
   "execution_count": 28,
   "metadata": {},
   "outputs": [
    {
     "data": {
      "text/plain": [
       "out_degree"
      ]
     },
     "execution_count": 28,
     "metadata": {},
     "output_type": "execute_result"
    }
   ],
   "source": [
    "\"\"\"\n",
    "    out_degree(M::Array{Int64,2})\n",
    "\n",
    "Función que obtiene el grado de salida de una red representada por la matriz de adyacencia M.\n",
    "\n",
    "Parámetros:\n",
    "* M matriz de adyacencia que acepta un arreglo de tipo Array{Int64,2}\n",
    "\n",
    "Resultado:\n",
    "Devuelve un arreglo de tipo Array{Int64,2} que contiene los grados de salida de todos los nodos n de la red.\n",
    "\n",
    "## Implementación\n",
    "\n",
    "### Ejemplos\n",
    "\"\"\"\n",
    "function out_degree(M::Array{Int64,2})\n",
    "    grados_salida = sum(M, dims = 1)\n",
    "end"
   ]
  },
  {
   "cell_type": "code",
   "execution_count": 29,
   "metadata": {},
   "outputs": [
    {
     "data": {
      "text/plain": [
       "distrib_in_degree"
      ]
     },
     "execution_count": 29,
     "metadata": {},
     "output_type": "execute_result"
    }
   ],
   "source": [
    "#Distribución de grado\n",
    "\"\"\"\n",
    "Función de distribución de grado de entrada\n",
    "\"\"\"\n",
    "function distrib_in_degree(M::Array{Int64,2})\n",
    "    x = in_degree(M)\n",
    "    degree_count = counts(x)\n",
    "    return degree_count\n",
    "end"
   ]
  },
  {
   "cell_type": "code",
   "execution_count": 30,
   "metadata": {},
   "outputs": [
    {
     "data": {
      "text/plain": [
       "distrib_out_degree"
      ]
     },
     "execution_count": 30,
     "metadata": {},
     "output_type": "execute_result"
    }
   ],
   "source": [
    "\"\"\"\n",
    "Función de distribución de grado de salida\n",
    "\"\"\"\n",
    "function distrib_out_degree(M::Array)\n",
    "    x = out_degree(M)\n",
    "    degree_count = counts(x)\n",
    "    return degree_count\n",
    "end"
   ]
  },
  {
   "cell_type": "code",
   "execution_count": 31,
   "metadata": {},
   "outputs": [
    {
     "data": {
      "text/plain": [
       "plot_distrib"
      ]
     },
     "execution_count": 31,
     "metadata": {},
     "output_type": "execute_result"
    }
   ],
   "source": [
    "\"\"\"\n",
    "    plot_distrib(M::Array{Int64,2}, tipo::String, titulo::String, color::String)\n",
    "\n",
    "Función con parámetros:\n",
    "M = matriz\n",
    "tipo = \"in\" o \"out\"\n",
    "titulo = acepta el título del gráfico\n",
    "color = color de las barras\n",
    "\n",
    "que regresa un histograma de la distribución de grado, entrada o salida.\n",
    "\"\"\"\n",
    "function plot_distrib(M::Array{Int64,2}, tipo::String, titulo::String, color::String)\n",
    "\n",
    "    #pyplot()\n",
    "\n",
    "    if tipo == \"in\"\n",
    "        distribucion = distrib_in_degree(M::Array)\n",
    "    elseif tipo == \"out\"\n",
    "        distribucion = distrib_out_degree(M::Array)\n",
    "    end\n",
    "    distribucion\n",
    "\n",
    "    graph = bar(distribucion, fillcolor = color, markersize = 3, linealpha = 0.5,\n",
    "    title = titulo,\n",
    "    xlabel = \"Grado\",\n",
    "    ylabel = \"Frecuencia\",\n",
    "    xlims = (-10,250), #obtener límites\n",
    "    ylims = (-10,100)) #obtener límites\n",
    "end"
   ]
  },
  {
   "cell_type": "code",
   "execution_count": 32,
   "metadata": {},
   "outputs": [
    {
     "data": {
      "text/plain": [
       "my_betweenness_centrality"
      ]
     },
     "execution_count": 32,
     "metadata": {},
     "output_type": "execute_result"
    }
   ],
   "source": [
    "#BETWEENNESS\n",
    "\"\"\"\n",
    "    my_betweenness_centrality(M::Array{Int64,2}, airline_code::String)\n",
    "\n",
    "Función que hace el grafo de la red aérea dirigida.\n",
    "\"\"\"\n",
    "function my_betweenness_centrality(M::Array{Int64,2}, airline_code::String)\n",
    "\n",
    "    grafo = DiGraph(M)\n",
    "    res = betweenness_centrality(grafo)\n",
    "\n",
    "    return res\n",
    "\n",
    "end"
   ]
  },
  {
   "cell_type": "code",
   "execution_count": 33,
   "metadata": {},
   "outputs": [
    {
     "data": {
      "text/plain": [
       "neighbours"
      ]
     },
     "execution_count": 33,
     "metadata": {},
     "output_type": "execute_result"
    }
   ],
   "source": [
    "#Vecinos\n",
    "\"\"\"\n",
    "    neighbours(M::Array{Int64,2})\n",
    "\n",
    "Función que obtiene un conjunto de arreglos con los vecinos de cada nodo.\n",
    "\"\"\"\n",
    "function neighbours(M::Array{Int64,2})\n",
    "\n",
    "    nodos = size(M, 1) #aeropuertos\n",
    "    vecindades = []\n",
    "\n",
    "    for i in 1:nodos\n",
    "        vecinos = findall(x -> x != 0, M[i, :])\n",
    "        push!(vecindades, vecinos)\n",
    "    end\n",
    "    vecindades\n",
    "end"
   ]
  },
  {
   "cell_type": "code",
   "execution_count": 34,
   "metadata": {},
   "outputs": [
    {
     "data": {
      "text/plain": [
       "busca_WUH"
      ]
     },
     "execution_count": 34,
     "metadata": {},
     "output_type": "execute_result"
    }
   ],
   "source": [
    "\"\"\"\n",
    "\n",
    "    busca_WUH(list_aerop::Array{String, 1})\n",
    "\n",
    "La función busca_WUH tiene como parámetros:\n",
    "list_aerop, lista de aeropuertos de la aerolínea\n",
    "La función lee la lista de aeropuertos de la aerolínea, busca el índice del aeropuerto WUH.\n",
    "Regresa el índice del aeropuerto WUH.\n",
    "\"\"\"\n",
    "function busca_WUH(list_aerop::Array{String, 1})\n",
    "\n",
    "    i = 1\n",
    "    while list_aerop[i] != \"WUH\"\n",
    "        i +=1\n",
    "    end\n",
    "    i\n",
    "end"
   ]
  },
  {
   "cell_type": "code",
   "execution_count": 35,
   "metadata": {},
   "outputs": [
    {
     "data": {
      "text/plain": [
       "r_walks"
      ]
     },
     "execution_count": 35,
     "metadata": {},
     "output_type": "execute_result"
    }
   ],
   "source": [
    "\"\"\"\n",
    "\n",
    "    r_walks(M::Array{Int64,2}, f::Int64, steps::Int64, iter::Int64)\n",
    "\n",
    "La función r_walks tiene como parámetros:\n",
    "M, matriz de adyacencia de tipo Array{Int64,2}\n",
    "f, nodo inicial de tipo Int64\n",
    "steps, número de pasos de tipo Int64\n",
    "iter, número de iteraciones de tipo Int64.\n",
    "La función crea un caminante aleatorio sobre la matriz, el cual tiene igual probabilidad de avanzar\n",
    "hacia cualquiera de sus vecinos.\n",
    "Regresa un arreglo que contiene todas las trayectorias que tomó el caminante aleatorio.\n",
    "\"\"\"\n",
    "function r_walks(M::Array{Int64,2}, f::Int64, steps::Int64, iter::Int64)\n",
    "\n",
    "    paths = zeros(Int64, (iter, steps + 1))\n",
    "    s = f\n",
    "    seed = 1\n",
    "    vecindades = neighbours(M)\n",
    "\n",
    "    for i in 1:iter\n",
    "        paths[i, 1] = f\n",
    "\n",
    "        for p in 1:steps\n",
    "            vecindad = vecindades[s]\n",
    "\n",
    "            if vecindad == []\n",
    "                break\n",
    "            else\n",
    "                a = sample(Xoroshiro128Plus(seed), vecindad)\n",
    "                paths[i, p + 1] = a\n",
    "                s = a\n",
    "                seed += 1\n",
    "            end\n",
    "\n",
    "        end\n",
    "        s = f\n",
    "\n",
    "    end\n",
    "\n",
    "    return paths\n",
    "end"
   ]
  },
  {
   "cell_type": "code",
   "execution_count": 36,
   "metadata": {},
   "outputs": [
    {
     "data": {
      "text/plain": [
       "visited_vertices"
      ]
     },
     "execution_count": 36,
     "metadata": {},
     "output_type": "execute_result"
    }
   ],
   "source": [
    "#Nodos/aeropuertos visitados\n",
    "\"\"\"\n",
    "    visited_vertices(W::Array{Any,1})\n",
    "\n",
    "La función caminos tiene como parámetro W que es un arreglo con las iteraciones de WUH.\n",
    "Regresa los nodos diferentes a los que llega el caminante.\n",
    "\"\"\"\n",
    "function visited_vertices(W::Array{Int64,2}) #(W::Array{Any,1})\n",
    "\n",
    "    cobert = []\n",
    "    #v = length(W) #tamaño de la matriz, número de nodos\n",
    "    s = size(W, 1) #lo puedo sacar, para todos es el mismo. Es el número de iteraciones\n",
    "    t = size(W, 2) #número de pasos, no necesario\n",
    "    visit = []\n",
    "\n",
    "    #for i = 1 #in 1:v\n",
    "        for j in 1:s\n",
    "            u = unique(W[j, :])\n",
    "            push!(visit, u)\n",
    "        end\n",
    "\n",
    "        push!(cobert, visit)\n",
    "        visit = []\n",
    "    #end\n",
    "\n",
    "    return cobert\n",
    "end"
   ]
  },
  {
   "cell_type": "code",
   "execution_count": 37,
   "metadata": {},
   "outputs": [
    {
     "data": {
      "text/plain": [
       "walk_names"
      ]
     },
     "execution_count": 37,
     "metadata": {},
     "output_type": "execute_result"
    }
   ],
   "source": [
    "#Random walks con nombres\n",
    "\"\"\"\n",
    "    walk_names(W::Array{Any,1}, airline_code::String, v::Int64)\n",
    "\n",
    "Función que cambia las caminatas del número de nodo asociado a la aerolínea a nombres de aeropuertos.\n",
    "Parámetros:\n",
    "W = caminatas aleatorias (arreglo de matrices)\n",
    "airline_code = código de la aerolínea\n",
    "v = nodo inicial\n",
    "\"\"\"\n",
    "function walk_names(W::Array{Int64,2}, airline_code::String, v::Int64, dicc)\n",
    "\n",
    "    #Ahora se usa la función para obtener los nodos diferentes\n",
    "    nodos_diferentes = visited_vertices(W)\n",
    "    m = size(W, 1) #renglones\n",
    "    n = size(W, 2) #columnas\n",
    "\n",
    "    #Se lee el diccionario\n",
    "    #archivo_dicc = readdlm(\"/Users/yuriko/Documents/UNAM/Tesis_Lic/data/diccionarios/dictionary_final.csv\", ',')\n",
    "    archivo_dicc = dicc\n",
    "\n",
    "    aerol_col = string(airline_code, \"_num\") #Nombre de la columna\n",
    "    coord_aerol = findall(x -> x == aerol_col, archivo_dicc) #Busco las coordenadas de la columna\n",
    "    col_aerol = coord_aerol[1][2] #Segunda coordenada de la posición (columna)\n",
    "    columna_aerol = archivo_dicc[:, col_aerol] #Obtengo la columna con el nombre del aeropuerto al que corresponde\n",
    "    walk_nothing = Array{Any}(undef, m, n)#Array{Union{Nothing, String}}(nothing, m, n) #archivo vacío de una matriz para un nodo inicial\n",
    "    #@show walk_nothing\n",
    "\n",
    "    for k = v #nodo inicial v\n",
    "        arreglo_visitas = nodos_diferentes[k]\n",
    "        caminatas_nodo = W#[k]\n",
    "\n",
    "        for i in 1:m #voy por las iteraciones\n",
    "            nodos_dif = arreglo_visitas[i, :] #array/caminata única de los nodos que buscará\n",
    "\n",
    "            for j in 1:length(nodos_dif[]) #para cada uno de los nodos diferentes visitados\n",
    "                nodo_original = nodos_dif[][j] #tomo el nodo original visitado\n",
    "\n",
    "                #Busco la posición original del aeropuerto visitado en la columna de la aerolínea\n",
    "                posicion_original = findall(x -> x == nodo_original, archivo_dicc[:, col_aerol])\n",
    "\n",
    "                #Ahora busco dónde se colocará el nombre en las posiciones correctas del arreglo vacío\n",
    "                #Busco el primer nodo diferente en la iteración i\n",
    "                #Encuentra todas las coordenadas de los nodos dif en la iteración original\n",
    "                coords_ys = findall(x -> x == nodo_original, caminatas_nodo[i, :])\n",
    "\n",
    "\n",
    "                for q in 1:length(coords_ys) #Se itera sobre las posiciones en las caminatas\n",
    "\n",
    "                    pos_actual = coords_ys[q]\n",
    "\n",
    "                    if isempty(posicion_original) == false\n",
    "\n",
    "                        #Se busca el nombre del aeropuerto\n",
    "                        nombre_asignado = archivo_dicc[posicion_original, 2] #y=2 porque esa es la columna de los nombres\n",
    "\n",
    "                        walk_nothing[i, pos_actual] = nombre_asignado[] #asigno valor de diccionario al arreglo vacío i, pos_actual\n",
    "\n",
    "                        else walk_nothing[i, pos_actual] = \" \" #break\n",
    "                    end\n",
    "                end\n",
    "\n",
    "            end\n",
    "\n",
    "        end\n",
    "\n",
    "    end\n",
    "    return walk_nothing\n",
    "end"
   ]
  },
  {
   "cell_type": "code",
   "execution_count": 38,
   "metadata": {},
   "outputs": [
    {
     "data": {
      "text/plain": [
       "5×6 Array{String,2}:\n",
       " \"WUH\"  \"HE\"  \"WW\"   \"UU\"  \"VG\"   \"SJ\"\n",
       " \"WUH\"  \"JI\"  \"YU\"   \"HF\"  \"MEX\"  \"B\" \n",
       " \"WUH\"  \"HJ\"  \"SHA\"  \"Y\"   \"NRT\"  \"B\" \n",
       " \"WUH\"  \"JH\"  \"SHA\"  \"B\"   \"CUN\"  \"S\" \n",
       " \"WUH\"  \"NV\"  \"ACA\"  \"H\"   \"SHA\"  \"D\" "
      ]
     },
     "execution_count": 38,
     "metadata": {},
     "output_type": "execute_result"
    }
   ],
   "source": [
    "rw_eg = [\"WUH\" \"HE\" \"WW\" \"UU\" \"VG\" \"SJ\"\n",
    "         \"WUH\" \"JI\" \"YU\" \"HF\" \"MEX\" \"B\"\n",
    "         \"WUH\" \"HJ\" \"SHA\" \"Y\" \"NRT\" \"B\"\n",
    "         \"WUH\" \"JH\" \"SHA\" \"B\" \"CUN\" \"S\"\n",
    "         \"WUH\" \"NV\" \"ACA\" \"H\" \"SHA\" \"D\"]"
   ]
  },
  {
   "cell_type": "code",
   "execution_count": 39,
   "metadata": {},
   "outputs": [
    {
     "data": {
      "text/plain": [
       "busca_vuelos_WUH_MX (generic function with 1 method)"
      ]
     },
     "execution_count": 39,
     "metadata": {},
     "output_type": "execute_result"
    }
   ],
   "source": [
    "#CORRECTO, BUSCA CUÁLES TIENEN MX\n",
    "########### NUEVA FUNCIÓN QUE BUSQUE VUELOS DESDE WUH HASTA ALGUNO DE MEX\n",
    "\n",
    "function busca_vuelos_WUH_MX(archivo_caminatas_WUH, lista_mx::Array{String, 1})\n",
    "\n",
    "    archivo_caminatas_WUH = archivo_caminatas_WUH #readdlm(archivo_caminatas_WUH, ',', String)\n",
    "    iter = size(archivo_caminatas_WUH, 1) #renglones de la matriz, ie, iteraciones\n",
    "    lm = length(lista_mx)\n",
    "    #li = length(lista_inf)\n",
    "    contador_mx = 0\n",
    "    caminatas_WUH_MX = []\n",
    "    posiciones_final = []\n",
    "    posiciones_rel = []\n",
    "    posiciones_inf = []\n",
    "    posiciones_inf_rel = []\n",
    "\n",
    "    for i in 1:iter #camino por todas las caminatas\n",
    "\n",
    "        #Busco si algún aeropuerto de lista_mx está en la caminata iterada.\n",
    "        for j in 1:lm\n",
    "\n",
    "            pertenencia = lista_mx[j] in archivo_caminatas_WUH[i,:]\n",
    "\n",
    "            if pertenencia == true\n",
    "\n",
    "                posmx_rel = findfirst(x -> x == lista_mx[j], archivo_caminatas_WUH[i,:])\n",
    "                push!(posiciones_rel, posmx_rel)\n",
    "                \n",
    "            elseif continue\n",
    "            end\n",
    "        end\n",
    "\n",
    "        if posiciones_rel != []\n",
    "            contador_mx += 1\n",
    "            push!(caminatas_WUH_MX, archivo_caminatas_WUH[i, :])\n",
    "            push!(posiciones_final, minimum(posiciones_rel))\n",
    "            posiciones_rel = []\n",
    "        end\n",
    "   \n",
    "    end\n",
    "\n",
    "    return contador_mx, caminatas_WUH_MX, posiciones_final#, posiciones_inf\n",
    "end"
   ]
  },
  {
   "cell_type": "code",
   "execution_count": 40,
   "metadata": {},
   "outputs": [
    {
     "data": {
      "text/plain": [
       "(3, Any[[\"WUH\", \"JI\", \"YU\", \"HF\", \"MEX\", \"B\"], [\"WUH\", \"JH\", \"SHA\", \"B\", \"CUN\", \"S\"], [\"WUH\", \"NV\", \"ACA\", \"H\", \"SHA\", \"D\"]], Any[5, 5, 3])"
      ]
     },
     "execution_count": 40,
     "metadata": {},
     "output_type": "execute_result"
    }
   ],
   "source": [
    "r1 = busca_vuelos_WUH_MX(rw_eg, listamx)"
   ]
  },
  {
   "cell_type": "code",
   "execution_count": 41,
   "metadata": {},
   "outputs": [
    {
     "data": {
      "text/plain": [
       "busca_vuelos_pasa_inf (generic function with 1 method)"
      ]
     },
     "execution_count": 41,
     "metadata": {},
     "output_type": "execute_result"
    }
   ],
   "source": [
    "##CORRECTA. FUNCIÓN QUE DEVUELVE CUÁNTAS CAMINATAS Y LAS CAMINATAS QUE PASAN EN ALGÚN MOMENTO POR UN \n",
    "#AEROPUERTO INFECTADO Y LA POSICIÓN DEL PRIMER INFECTADO.\n",
    "function busca_vuelos_pasa_inf(rw_wuh_mx, lista_inf)    \n",
    "    \n",
    "    li = length(lista_inf)\n",
    "    rw_MX = rw_wuh_mx[2]\n",
    "    pos_mx = rw_wuh_mx[3]\n",
    "    lm = length(rw_MX)\n",
    "    pos_inf_rel = []\n",
    "    posicion_inf = []\n",
    "    cont_inf = 0\n",
    "    caminata_con_inf = []\n",
    "    min_pos_mx = []\n",
    "    \n",
    "    for i in 1:lm\n",
    "        #@show i\n",
    "    \n",
    "        for j in 1:li\n",
    "            #@show j\n",
    "            pertenencia_inf = lista_inf[j] in rw_MX[i][2:end]\n",
    "\n",
    "                if pertenencia_inf == true\n",
    "\n",
    "                    posinf_rel = findfirst(x -> x == lista_inf[j], rw_MX[i][2:end])\n",
    "                    push!(pos_inf_rel, posinf_rel)\n",
    "                \n",
    "                elseif continue\n",
    "                end\n",
    "        end\n",
    "        #@show pos_inf_rel\n",
    "\n",
    "        if pos_inf_rel != []\n",
    "            \n",
    "            cont_inf += 1\n",
    "            push!(posicion_inf, minimum(pos_inf_rel)+1)\n",
    "            push!(caminata_con_inf, rw_MX[i])\n",
    "            push!(min_pos_mx, pos_mx[i])\n",
    "        \n",
    "            pos_inf_rel = []\n",
    "        elseif continue\n",
    "        end\n",
    "        \n",
    "    end\n",
    "    return cont_inf, caminata_con_inf, posicion_inf, min_pos_mx\n",
    "end"
   ]
  },
  {
   "cell_type": "code",
   "execution_count": 42,
   "metadata": {
    "scrolled": false
   },
   "outputs": [
    {
     "data": {
      "text/plain": [
       "(2, Any[[\"WUH\", \"JH\", \"SHA\", \"B\", \"CUN\", \"S\"], [\"WUH\", \"NV\", \"ACA\", \"H\", \"SHA\", \"D\"]], Any[3, 5], Any[5, 3])"
      ]
     },
     "execution_count": 42,
     "metadata": {},
     "output_type": "execute_result"
    }
   ],
   "source": [
    "r2 = busca_vuelos_pasa_inf(r1, listainf)"
   ]
  },
  {
   "cell_type": "code",
   "execution_count": 43,
   "metadata": {},
   "outputs": [
    {
     "data": {
      "text/plain": [
       "busca_vuelos_INF_MX (generic function with 1 method)"
      ]
     },
     "execution_count": 43,
     "metadata": {},
     "output_type": "execute_result"
    }
   ],
   "source": [
    "#CORRECTO\n",
    "#func que me diga los que pasan primero por uno inf y luego mx\n",
    "\n",
    "function busca_vuelos_INF_MX(rw_inf, rw_wuh_mx)\n",
    "   \n",
    "    caminata_con_inf = rw_inf[2] #caminata con inf\n",
    "    pos_min_inf = rw_inf[3] #posiciones min inf\n",
    "    pos_min_mx = rw_inf[4] #posiciones min mex\n",
    "    \n",
    "    \n",
    "    \n",
    "    caminata_INF_MX = []\n",
    "    contINF = 0\n",
    "    camINF = []\n",
    "    \n",
    "    \n",
    "    for i in 1:length(caminata_con_inf)\n",
    "        \n",
    "        if pos_min_inf[i] < pos_min_mx[i]\n",
    "            \n",
    "            contINF += 1\n",
    "            push!(camINF, caminata_con_inf[i])\n",
    "            \n",
    "        end\n",
    "        \n",
    "    end\n",
    "    \n",
    "    return contINF, camINF\n",
    "    \n",
    "end"
   ]
  },
  {
   "cell_type": "code",
   "execution_count": 44,
   "metadata": {
    "scrolled": true
   },
   "outputs": [
    {
     "data": {
      "text/plain": [
       "(1, Any[[\"WUH\", \"JH\", \"SHA\", \"B\", \"CUN\", \"S\"]])"
      ]
     },
     "execution_count": 44,
     "metadata": {},
     "output_type": "execute_result"
    }
   ],
   "source": [
    "r3 = busca_vuelos_INF_MX(r2, r1)"
   ]
  },
  {
   "cell_type": "code",
   "execution_count": 45,
   "metadata": {
    "scrolled": false
   },
   "outputs": [
    {
     "data": {
      "text/plain": [
       "busca_directos_MX (generic function with 1 method)"
      ]
     },
     "execution_count": 45,
     "metadata": {},
     "output_type": "execute_result"
    }
   ],
   "source": [
    "# CORRECTO. ME DA SOOOLO LOS QUE LLEGAN DIRECTO A MX SIN PASAR POR INFECTADOS\n",
    "function busca_directos_MX(rw_wuh_mx, lista_inf)\n",
    "    \n",
    "    li = length(lista_inf)\n",
    "    ll = length(rw_wuh_mx[2])\n",
    "    contMX = 0\n",
    "    min_posmx = rw_wuh_mx[3]\n",
    "    rw_mx = rw_wuh_mx[2]\n",
    "    camMX = []\n",
    "    pertrel = []\n",
    "    \n",
    "    \n",
    "    \n",
    "    for i in 1:ll #camina por tooodas las caminatas\n",
    " #@show ll\n",
    "        \n",
    "        for j in 1:li\n",
    "            #@show j\n",
    "            pert = lista_inf[j] in rw_wuh_mx[2][i][2:end] #sin contar WUH\n",
    "   \n",
    "            push!(pertrel, pert)\n",
    "\n",
    "        end\n",
    "    #@show pertrel\n",
    "        \n",
    "        if true in pertrel #si existe un true / infectado... nada\n",
    "            \n",
    "            continue\n",
    "            else contMX += 1 #si no existe un infectado/false...\n",
    "          #@show contMX\n",
    "            push!(camMX, rw_wuh_mx[2][i]) #guardo la caminata directa\n",
    "            pertrel = []\n",
    "        end\n",
    "        \n",
    "        pertrel = []\n",
    "        #@show pertrel\n",
    "    end\n",
    "    return contMX, camMX\n",
    "end"
   ]
  },
  {
   "cell_type": "code",
   "execution_count": 47,
   "metadata": {},
   "outputs": [
    {
     "data": {
      "text/plain": [
       "(1, Any[[\"WUH\", \"JI\", \"YU\", \"HF\", \"MEX\", \"B\"]])"
      ]
     },
     "execution_count": 47,
     "metadata": {},
     "output_type": "execute_result"
    }
   ],
   "source": [
    "r4 = busca_directos_MX(r1, listainf)"
   ]
  },
  {
   "cell_type": "code",
   "execution_count": 48,
   "metadata": {},
   "outputs": [
    {
     "data": {
      "text/plain": [
       "busca_vuelos_MX_INF (generic function with 1 method)"
      ]
     },
     "execution_count": 48,
     "metadata": {},
     "output_type": "execute_result"
    }
   ],
   "source": [
    "#CORRECTO\n",
    "#func que me diga los que pasan primero por mx y luego  uno inf y los directos\n",
    "\n",
    "function busca_vuelos_MX_INF(rw_inf, rw_wuh_mx, res_dir)\n",
    "   \n",
    "\n",
    "    \n",
    "    caminata_con_inf = rw_inf[2]\n",
    "    pos_min_inf = rw_inf[3]\n",
    "    pos_min_mx = rw_inf[4]\n",
    "    cont_dir = res_dir[1]\n",
    "    cam_dir = res_dir[2]\n",
    "    \n",
    "    \n",
    "    caminata_directa = cam_dir\n",
    "    contMX = 0\n",
    "    camMX = []\n",
    "   \n",
    "    \n",
    "    \n",
    "    \n",
    "    for i in 1:length(caminata_con_inf)\n",
    "      \n",
    "        \n",
    "        if pos_min_inf[i] > pos_min_mx[i]\n",
    "            \n",
    "            contMX += 1\n",
    "            push!(camMX, caminata_con_inf[i])\n",
    "           \n",
    "        end\n",
    " \n",
    "    end\n",
    "   \n",
    "    contador_directo = contMX + cont_dir\n",
    "\n",
    "    push!(caminata_directa, camMX)\n",
    "    \n",
    "\n",
    "    return contador_directo, caminata_directa\n",
    "    \n",
    "end"
   ]
  },
  {
   "cell_type": "code",
   "execution_count": 49,
   "metadata": {},
   "outputs": [
    {
     "data": {
      "text/plain": [
       "(2, Any[[\"WUH\", \"JI\", \"YU\", \"HF\", \"MEX\", \"B\"], Any[[\"WUH\", \"NV\", \"ACA\", \"H\", \"SHA\", \"D\"]]])"
      ]
     },
     "execution_count": 49,
     "metadata": {},
     "output_type": "execute_result"
    }
   ],
   "source": [
    "r5 = busca_vuelos_MX_INF(r2, r1, r4)"
   ]
  },
  {
   "cell_type": "code",
   "execution_count": 35,
   "metadata": {},
   "outputs": [
    {
     "data": {
      "text/plain": [
       "2-element Array{Any,1}:\n",
       " [\"WUH\", \"JH\", \"SHA\", \"B\", \"CUN\", \"S\"]\n",
       " [\"WUH\", \"NV\", \"ACA\", \"H\", \"SHA\", \"D\"]"
      ]
     },
     "execution_count": 35,
     "metadata": {},
     "output_type": "execute_result"
    }
   ],
   "source": [
    "r2[2]"
   ]
  },
  {
   "cell_type": "code",
   "execution_count": 88,
   "metadata": {},
   "outputs": [
    {
     "data": {
      "text/plain": [
       "1-element Array{Any,1}:\n",
       " Any[]"
      ]
     },
     "execution_count": 88,
     "metadata": {},
     "output_type": "execute_result"
    }
   ],
   "source": [
    "s = []\n",
    "push!(s, [])"
   ]
  },
  {
   "cell_type": "code",
   "execution_count": null,
   "metadata": {},
   "outputs": [],
   "source": []
  },
  {
   "cell_type": "code",
   "execution_count": null,
   "metadata": {},
   "outputs": [],
   "source": []
  },
  {
   "cell_type": "code",
   "execution_count": 37,
   "metadata": {},
   "outputs": [
    {
     "data": {
      "text/plain": [
       "walk_length"
      ]
     },
     "execution_count": 37,
     "metadata": {},
     "output_type": "execute_result"
    }
   ],
   "source": [
    "\"\"\"\n",
    "    walk_length(W::Array{Int64,2})\n",
    "\n",
    "La función walk_length tiene como parámetros:\n",
    "RW, arreglo de arreglos de tipo Array{Any,1} que corresponde al arreglo de caminatas aleatorias.\n",
    "La función regresa un arreglo de arreglos que contiene las longitudes de todas las trayectorias que tomó el\n",
    "caminante aleatorio para cada nodo inicial de la red.\n",
    "\"\"\"\n",
    "function walk_length(W::Array{Int64,2})\n",
    "\n",
    "    longitudes = Array[]\n",
    "\n",
    "    #v = length(W) #tamaño de la matriz, número de nodos\n",
    "    s = size(W, 1) #Es el número de iteraciones\n",
    "    longitud = zeros(Int64, s)\n",
    "\n",
    "    for i = 1 #in 1:v\n",
    "\n",
    "        for j in 1:s\n",
    "\n",
    "            longitud[j] = findlast(x -> x != 0, W[j, :])\n",
    "\n",
    "        end\n",
    "         push!(longitudes, longitud)\n",
    "\n",
    "        longitud = zeros(Int64, s)\n",
    "    end\n",
    "    return longitudes\n",
    "\n",
    "end"
   ]
  },
  {
   "cell_type": "code",
   "execution_count": 38,
   "metadata": {},
   "outputs": [
    {
     "data": {
      "text/plain": [
       "walk_av_length"
      ]
     },
     "execution_count": 38,
     "metadata": {},
     "output_type": "execute_result"
    }
   ],
   "source": [
    "\"\"\"\n",
    "    walk_av_length(W::Array{Array,1})\n",
    "\n",
    "La función walk_av_length tiene como parámetro W, que es un arreglo de arreglos (que se puede obtener de la\n",
    "función walk_length).\n",
    "Regresa un arreglo con entradas correspondientes al promedio de las longitudes de\n",
    "las caminatas aleatorias para cada nodo de inicio antes de caer en un nodo con grado de salida 0.\n",
    "\"\"\"\n",
    "function walk_av_length(W::Array{Int64,2}) #Llamar a función\n",
    "\n",
    "    #proms = Array{Float64}(undef, 0)\n",
    "    wlength = walk_length(W)[]\n",
    "\n",
    "    #for i in 1:length(wlength)\n",
    "        av = mean(wlength)\n",
    "        #push!(proms, av)\n",
    "    #end\n",
    "    av\n",
    "end"
   ]
  },
  {
   "cell_type": "markdown",
   "metadata": {},
   "source": [
    "### Global"
   ]
  },
  {
   "cell_type": "code",
   "execution_count": 144,
   "metadata": {},
   "outputs": [
    {
     "data": {
      "text/plain": [
       "\"global\""
      ]
     },
     "execution_count": 144,
     "metadata": {},
     "output_type": "execute_result"
    }
   ],
   "source": [
    "i = 2\n",
    "airline_code = lista_aerolineas[i]"
   ]
  },
  {
   "cell_type": "code",
   "execution_count": 145,
   "metadata": {},
   "outputs": [
    {
     "data": {
      "text/plain": [
       "\"global_matriz_du.csv\""
      ]
     },
     "execution_count": 145,
     "metadata": {},
     "output_type": "execute_result"
    }
   ],
   "source": [
    "aerolinea_matriz = string(airline_code, \"_matriz_du.csv\")"
   ]
  },
  {
   "cell_type": "code",
   "execution_count": 146,
   "metadata": {},
   "outputs": [
    {
     "name": "stdout",
     "output_type": "stream",
     "text": [
      "  4.822828 seconds (44.09 M allocations: 1.379 GiB, 47.35% gc time)\n"
     ]
    },
    {
     "data": {
      "text/plain": [
       "3072×3072 Array{Int64,2}:\n",
       " 0  0  0  1  0  0  0  1  1  0  0  0  0  …  0  0  0  0  0  0  0  0  0  0  0  0\n",
       " 0  0  0  1  0  0  0  1  1  1  0  0  0     0  0  0  0  0  0  0  0  0  0  0  0\n",
       " 0  0  0  1  0  0  0  1  1  0  0  0  0     0  0  0  0  0  0  0  0  0  0  0  0\n",
       " 1  1  1  0  1  1  1  1  1  1  1  1  1     0  0  0  0  0  0  0  0  0  0  0  0\n",
       " 0  0  0  1  0  0  1  1  1  0  0  0  0     0  0  0  0  0  0  0  0  0  0  0  0\n",
       " 0  0  0  1  0  0  0  0  1  1  1  0  0  …  0  0  0  0  0  0  0  0  0  0  0  0\n",
       " 0  0  0  1  1  0  0  0  1  0  0  0  0     0  0  0  0  0  0  0  0  0  0  0  0\n",
       " 1  1  1  1  1  0  0  0  1  0  0  0  0     0  0  0  0  0  0  0  0  0  0  0  0\n",
       " 1  1  1  1  1  1  1  1  0  1  1  0  0     0  0  0  0  0  0  0  0  0  0  0  0\n",
       " 0  1  0  1  0  1  0  0  1  0  0  0  0     0  0  0  0  0  0  0  0  0  0  0  0\n",
       " 0  0  0  1  0  1  0  0  1  0  0  0  0  …  0  0  0  0  0  0  0  0  0  0  0  0\n",
       " 0  0  0  1  0  0  0  0  0  0  0  0  0     0  0  0  0  0  0  0  0  0  0  0  0\n",
       " 0  0  0  1  0  0  0  0  0  0  0  0  0     0  0  0  0  0  0  0  0  0  0  0  0\n",
       " ⋮              ⋮              ⋮        ⋱  ⋮              ⋮              ⋮   \n",
       " 0  0  0  0  0  0  0  0  0  0  0  0  0  …  0  0  0  0  0  0  0  0  0  0  0  0\n",
       " 0  0  0  0  0  0  0  0  0  0  0  0  0     0  0  0  0  0  0  0  0  0  0  0  0\n",
       " 0  0  0  0  0  0  0  0  0  0  0  0  0     0  0  0  0  0  0  0  0  0  0  0  0\n",
       " 0  0  0  0  0  0  0  0  0  0  0  0  0     0  0  0  0  0  0  0  0  0  0  0  0\n",
       " 0  0  0  0  0  0  0  0  0  0  0  0  0     0  0  0  0  0  0  0  0  0  0  0  0\n",
       " 0  0  0  0  0  0  0  0  0  0  0  0  0  …  0  0  0  0  0  0  0  0  0  0  0  0\n",
       " 0  0  0  0  0  0  0  0  0  0  0  0  0     0  0  0  0  0  0  0  0  0  0  0  0\n",
       " 0  0  0  0  0  0  0  0  0  0  0  0  0     0  0  0  0  0  0  0  0  0  0  0  0\n",
       " 0  0  0  0  0  0  0  0  0  0  0  0  0     0  0  0  0  0  0  0  0  0  0  0  0\n",
       " 0  0  0  0  0  0  0  0  0  0  0  0  0     0  0  0  0  0  0  0  0  0  0  0  0\n",
       " 0  0  0  0  0  0  0  0  0  0  0  0  0  …  0  0  0  0  0  0  0  0  0  0  0  0\n",
       " 0  0  0  0  0  0  0  0  0  0  0  0  0     0  0  0  0  0  0  0  0  0  0  0  0"
      ]
     },
     "execution_count": 146,
     "metadata": {},
     "output_type": "execute_result"
    }
   ],
   "source": [
    "multiplex = @time import_matrix(\"/Users/yuriko/Documents/UNAM/Tesis_Lic/data/aerolineas_matrices/$aerolinea_matriz\")"
   ]
  },
  {
   "cell_type": "code",
   "execution_count": 147,
   "metadata": {},
   "outputs": [
    {
     "name": "stdout",
     "output_type": "stream",
     "text": [
      "  4.134125 seconds (44.09 M allocations: 1.238 GiB, 47.62% gc time)\n"
     ]
    },
    {
     "data": {
      "text/plain": [
       "3072-element Array{String,1}:\n",
       " \"AER\"\n",
       " \"ASF\"\n",
       " \"CEK\"\n",
       " \"DME\"\n",
       " \"EGO\"\n",
       " \"GYD\"\n",
       " \"KGD\"\n",
       " \"KZN\"\n",
       " \"LED\"\n",
       " \"MRV\"\n",
       " \"NBC\"\n",
       " \"NJC\"\n",
       " \"NUX\"\n",
       " ⋮    \n",
       " \"KZI\"\n",
       " \"KOT\"\n",
       " \"PSJ\"\n",
       " \"LPS\"\n",
       " \"ORX\"\n",
       " \"BVS\"\n",
       " \"MTE\"\n",
       " \"DLZ\"\n",
       " \"UII\"\n",
       " \"ZBF\"\n",
       " \"CMP\"\n",
       " \"BSS\""
      ]
     },
     "execution_count": 147,
     "metadata": {},
     "output_type": "execute_result"
    }
   ],
   "source": [
    "data_names_multiplex = @time airport_names(\"/Users/yuriko/Documents/UNAM/Tesis_Lic/data/aerolineas_matrices/$aerolinea_matriz\")"
   ]
  },
  {
   "cell_type": "code",
   "execution_count": 148,
   "metadata": {},
   "outputs": [
    {
     "name": "stdout",
     "output_type": "stream",
     "text": [
      "  0.000006 seconds (4 allocations: 160 bytes)\n"
     ]
    },
    {
     "data": {
      "text/plain": [
       "282"
      ]
     },
     "execution_count": 148,
     "metadata": {},
     "output_type": "execute_result"
    }
   ],
   "source": [
    "#BUSCA AEROPUERTO WUH\n",
    "index_wuh = @time busca_WUH(data_names_multiplex)"
   ]
  },
  {
   "cell_type": "code",
   "execution_count": 149,
   "metadata": {},
   "outputs": [
    {
     "name": "stdout",
     "output_type": "stream",
     "text": [
      "  0.613744 seconds (2.51 M allocations: 181.251 MiB)\n"
     ]
    },
    {
     "data": {
      "text/plain": [
       "1000×1001 Array{Int64,2}:\n",
       " 282   708   279   152  1546   152  …  1804   368   577   901   136   140\n",
       " 282   272   276   272   231   222        0     0     0     0     0     0\n",
       " 282  1529   139   282   235   263     2318   135  2320   551  1797  1440\n",
       " 282  1595   247   225   232   512      745   340  1046   264     6    11\n",
       " 282   281   224   247   673  1706        0     0     0     0     0     0\n",
       " 282   150  1322  1331  1335  2021  …     0     0     0     0     0     0\n",
       " 282   138   763   219   150   152        0     0     0     0     0     0\n",
       " 282  1650   287   138   247   711     1390    55   445  1707   404   379\n",
       " 282   288   279   589   602   178     1012  1016  1730   153  1043   153\n",
       " 282   272   139   140  1314  1702        0     0     0     0     0     0\n",
       " 282   255   286  1599   235   276  …     0     0     0     0     0     0\n",
       " 282   264   243   139   219   365        0     0     0     0     0     0\n",
       " 282   262   228   604   276   288      135   178  1047   293   349  1099\n",
       "   ⋮                             ⋮  ⋱     ⋮                             ⋮\n",
       " 282   387  1016  1730   153   773      442   588   421   264   514   918\n",
       " 282   516  1218   514  1107  1373        0     0     0     0     0     0\n",
       " 282   224   178  1932   371   374  …   139   239   223   259   220   292\n",
       " 282   512  1219  1217  1219   508     1446  1439  1446  1869  1446  1868\n",
       " 282   279   222  1595   708  2152        0     0     0     0     0     0\n",
       " 282  1605   265   403   317   126       31    29    31   353  1027  1003\n",
       " 282   387  1266   426   179   397        0     0     0     0     0     0\n",
       " 282   139   255   139   218   138  …   500   299  1808   916   901  1426\n",
       " 282   264   280   276   286   255        0     0     0     0     0     0\n",
       " 282   273  1219   508   265  1239      403   602   340  1111   316   546\n",
       " 282   150   249   232   296   282      208   213   825   340   173  1015\n",
       " 282   221   274   221   273   259      191  1394  1913   409  1258   885"
      ]
     },
     "execution_count": 149,
     "metadata": {},
     "output_type": "execute_result"
    }
   ],
   "source": [
    "#RANDOM WALKS\n",
    "random_walk_multiplex = @time r_walks(multiplex, index_wuh, 1000, 1000)"
   ]
  },
  {
   "cell_type": "code",
   "execution_count": 150,
   "metadata": {},
   "outputs": [
    {
     "name": "stdout",
     "output_type": "stream",
     "text": [
      " 89.862303 seconds (2.59 G allocations: 70.993 GiB, 18.60% gc time)\n"
     ]
    },
    {
     "data": {
      "text/plain": [
       "1000×1001 Array{Any,2}:\n",
       " \"WUH\"  \"SHA\"  \"URC\"  \"TPE\"  \"HKD\"  …  \"ISB\"  \"MCT\"  \"BAH\"  \"BKK\"  \"HKG\"\n",
       " \"WUH\"  \"SZX\"  \"TSN\"  \"SZX\"  \"DYG\"     \" \"    \" \"    \" \"    \" \"    \" \"  \n",
       " \"WUH\"  \"YNT\"  \"HGH\"  \"WUH\"  \"HET\"     \"NBO\"  \"LVI\"  \"JNB\"  \"DAR\"  \"HAH\"\n",
       " \"WUH\"  \"LZH\"  \"KMG\"  \"CZX\"  \"FOC\"     \"JFK\"  \"IAD\"  \"PEK\"  \"GYD\"  \"NBC\"\n",
       " \"WUH\"  \"WNZ\"  \"CTU\"  \"KMG\"  \"CNX\"     \" \"    \" \"    \" \"    \" \"    \" \"  \n",
       " \"WUH\"  \"SIN\"  \"LOP\"  \"SUB\"  \"UPG\"  …  \" \"    \" \"    \" \"    \" \"    \" \"  \n",
       " \"WUH\"  \"HAK\"  \"CGD\"  \"CAN\"  \"SIN\"     \" \"    \" \"    \" \"    \" \"    \" \"  \n",
       " \"WUH\"  \"AQG\"  \"XMN\"  \"HAK\"  \"KMG\"     \"LPA\"  \"STR\"  \"FNC\"  \"HAJ\"  \"BHX\"\n",
       " \"WUH\"  \"XNN\"  \"URC\"  \"TBS\"  \"RIX\"     \"CLT\"  \"VPS\"  \"ATL\"  \"HSV\"  \"ATL\"\n",
       " \"WUH\"  \"SZX\"  \"HGH\"  \"HKG\"  \"DMK\"     \" \"    \" \"    \" \"    \" \"    \" \"  \n",
       " \"WUH\"  \"LYI\"  \"XIY\"  \"RLK\"  \"HET\"  …  \" \"    \" \"    \" \"    \" \"    \" \"  \n",
       " \"WUH\"  \"PEK\"  \"JJN\"  \"HGH\"  \"CAN\"     \" \"    \" \"    \" \"    \" \"    \" \"  \n",
       " \"WUH\"  \"NTG\"  \"DLC\"  \"CJU\"  \"TSN\"     \"AMS\"  \"IAH\"  \"YVR\"  \"PVR\"  \"SAN\"\n",
       " ⋮                                  ⋱                              ⋮    \n",
       " \"WUH\"  \"CDG\"  \"CLT\"  \"VPS\"  \"ATL\"     \"SXF\"  \"MAD\"  \"PEK\"  \"NRT\"  \"YYZ\"\n",
       " \"WUH\"  \"PUS\"  \"OKA\"  \"NRT\"  \"SJC\"     \" \"    \" \"    \" \"    \" \"    \" \"  \n",
       " \"WUH\"  \"CTU\"  \"AMS\"  \"LTN\"  \"AGP\"  …  \"INC\"  \"CSX\"  \"NGB\"  \"CGO\"  \"YTY\"\n",
       " \"WUH\"  \"MFM\"  \"RMQ\"  \"MZG\"  \"RMQ\"     \"ASV\"  \"WIL\"  \"UAS\"  \"WIL\"  \"NYK\"\n",
       " \"WUH\"  \"URC\"  \"CKG\"  \"LZH\"  \"SHA\"     \" \"    \" \"    \" \"    \" \"    \" \"  \n",
       " \"WUH\"  \"XFN\"  \"PVG\"  \"FRA\"  \"PUJ\"     \"HUU\"  \"LIM\"  \"SJO\"  \"DFW\"  \"BHM\"\n",
       " \"WUH\"  \"CDG\"  \"CZL\"  \"NCE\"  \"BCN\"     \" \"    \" \"    \" \"    \" \"    \" \"  \n",
       " \"WUH\"  \"HGH\"  \"LYI\"  \"HGH\"  \"BHY\"  …  \"CAI\"  \"TUU\"  \"RUH\"  \"BAH\"  \"IKA\"\n",
       " \"WUH\"  \"PEK\"  \"UYN\"  \"TSN\"  \"XIY\"     \" \"    \" \"    \" \"    \" \"    \" \"  \n",
       " \"WUH\"  \"TAO\"  \"RMQ\"  \"HAN\"  \"PVG\"     \"RIX\"  \"JFK\"  \"STI\"  \"MIA\"  \"RTB\"\n",
       " \"WUH\"  \"SIN\"  \"KWE\"  \"FOC\"  \"ZUH\"     \"SBH\"  \"STT\"  \"JFK\"  \"RSW\"  \"CLE\"\n",
       " \"WUH\"  \"CGQ\"  \"TNA\"  \"CGQ\"  \"TAO\"     \"VLC\"  \"CIA\"  \"IBZ\"  \"ALC\"  \"BVA\""
      ]
     },
     "execution_count": 150,
     "metadata": {},
     "output_type": "execute_result"
    }
   ],
   "source": [
    "#CAMINATAS CON NOMBRES\n",
    "walk_names_multiplex = @time walk_names(random_walk_multiplex, airline_code, 1, archivo_dicc)"
   ]
  },
  {
   "cell_type": "code",
   "execution_count": 151,
   "metadata": {},
   "outputs": [
    {
     "name": "stdout",
     "output_type": "stream",
     "text": [
      "  9.483604 seconds (122.70 M allocations: 6.118 GiB, 15.93% gc time)\n"
     ]
    },
    {
     "data": {
      "text/plain": [
       "(894, Any[Any[\"WUH\", \"SHA\", \"URC\", \"TPE\", \"HKD\", \"TPE\", \"KOJ\", \"FSZ\", \"KOJ\", \"UKB\"  …  \"MQF\", \"SVX\", \"MRV\", \"DXB\", \"SKT\", \"ISB\", \"MCT\", \"BAH\", \"BKK\", \"HKG\"], Any[\"WUH\", \"YNT\", \"HGH\", \"WUH\", \"HET\", \"NZH\", \"OVB\", \"PYJ\", \"OVB\", \"EVN\"  …  \"MDK\", \"FIH\", \"FBM\", \"NBO\", \"APL\", \"NBO\", \"LVI\", \"JNB\", \"DAR\", \"HAH\"], Any[\"WUH\", \"LZH\", \"KMG\", \"CZX\", \"FOC\", \"MFM\", \"NKG\", \"KMG\", \"BSD\", \"KMG\"  …  \"HYD\", \"VGA\", \"HYD\", \"BKK\", \"AMM\", \"JFK\", \"IAD\", \"PEK\", \"GYD\", \"NBC\"], Any[\"WUH\", \"WNZ\", \"CTU\", \"KMG\", \"CNX\", \"UTH\", \"DMK\", \"NAW\", \"DMK\", \"HKG\"  …  \" \", \" \", \" \", \" \", \" \", \" \", \" \", \" \", \" \", \" \"], Any[\"WUH\", \"SIN\", \"LOP\", \"SUB\", \"UPG\", \"DJJ\", \"UPG\", \"KUL\", \"BKK\", \"FCO\"  …  \" \", \" \", \" \", \" \", \" \", \" \", \" \", \" \", \" \", \" \"], Any[\"WUH\", \"HAK\", \"CGD\", \"CAN\", \"SIN\", \"TPE\", \"NRT\", \"CAN\", \"AEB\", \"CAN\"  …  \" \", \" \", \" \", \" \", \" \", \" \", \" \", \" \", \" \", \" \"], Any[\"WUH\", \"AQG\", \"XMN\", \"HAK\", \"KMG\", \"YIC\", \"KMG\", \"KHH\", \"XMN\", \"WUS\"  …  \"BGF\", \"CMN\", \"CUF\", \"CMN\", \"TFN\", \"LPA\", \"STR\", \"FNC\", \"HAJ\", \"BHX\"], Any[\"WUH\", \"XNN\", \"URC\", \"TBS\", \"RIX\", \"AMS\", \"INN\", \"EIN\", \"AHO\", \"AOI\"  …  \"LGA\", \"FLL\", \"LGA\", \"ATL\", \"CAK\", \"CLT\", \"VPS\", \"ATL\", \"HSV\", \"ATL\"], Any[\"WUH\", \"SZX\", \"HGH\", \"HKG\", \"DMK\", \"SNO\", \"DMK\", \"KBV\", \"KUL\", \"NRT\"  …  \" \", \" \", \" \", \" \", \" \", \" \", \" \", \" \", \" \", \" \"], Any[\"WUH\", \"LYI\", \"XIY\", \"RLK\", \"HET\", \"TSN\", \"WUH\", \"HGH\", \"TAO\", \"BKK\"  …  \" \", \" \", \" \", \" \", \" \", \" \", \" \", \" \", \" \", \" \"]  …  Any[\"WUH\", \"CTU\", \"AMS\", \"LTN\", \"AGP\", \"ARN\", \"OSL\", \"BOO\", \"BGO\", \"AGP\"  …  \"SIN\", \"WUH\", \"DLC\", \"LYG\", \"HGH\", \"INC\", \"CSX\", \"NGB\", \"CGO\", \"YTY\"], Any[\"WUH\", \"MFM\", \"RMQ\", \"MZG\", \"RMQ\", \"HAN\", \"CTU\", \"ICN\", \"CMB\", \"BLR\"  …  \"WIL\", \"LKG\", \"WIL\", \"UKA\", \"WIL\", \"ASV\", \"WIL\", \"UAS\", \"WIL\", \"NYK\"], Any[\"WUH\", \"URC\", \"CKG\", \"LZH\", \"SHA\", \"LCX\", \"SHA\", \"KWL\", \"KWE\", \"XNN\"  …  \" \", \" \", \" \", \" \", \" \", \" \", \" \", \" \", \" \", \" \"], Any[\"WUH\", \"XFN\", \"PVG\", \"FRA\", \"PUJ\", \"YUL\", \"LHR\", \"MAN\", \"KGS\", \"KRK\"  …  \"ALB\", \"CLT\", \"LIR\", \"MIA\", \"LIM\", \"HUU\", \"LIM\", \"SJO\", \"DFW\", \"BHM\"], Any[\"WUH\", \"CDG\", \"CZL\", \"NCE\", \"BCN\", \"EDI\", \"CDG\", \"CLY\", \"BOD\", \"MRS\"  …  \" \", \" \", \" \", \" \", \" \", \" \", \" \", \" \", \" \", \" \"], Any[\"WUH\", \"HGH\", \"LYI\", \"HGH\", \"BHY\", \"HAK\", \"NKG\", \"CIF\", \"HLD\", \"TGO\"  …  \"SZX\", \"DAX\", \"CAN\", \"PER\", \"CGK\", \"CAI\", \"TUU\", \"RUH\", \"BAH\", \"IKA\"], Any[\"WUH\", \"PEK\", \"UYN\", \"TSN\", \"XIY\", \"LYI\", \"CAN\", \"XUZ\", \"XMN\", \"KWL\"  …  \" \", \" \", \" \", \" \", \" \", \" \", \" \", \" \", \" \", \" \"], Any[\"WUH\", \"TAO\", \"RMQ\", \"HAN\", \"PVG\", \"MRU\", \"JNB\", \"BEW\", \"UEL\", \"TET\"  …  \"ATH\", \"EFL\", \"AMS\", \"LYS\", \"FRA\", \"RIX\", \"JFK\", \"STI\", \"MIA\", \"RTB\"], Any[\"WUH\", \"SIN\", \"KWE\", \"FOC\", \"ZUH\", \"WUH\", \"XMN\", \"HFE\", \"HAK\", \"SWA\"  …  \"SAL\", \"JFK\", \"STT\", \"AXA\", \"ANU\", \"SBH\", \"STT\", \"JFK\", \"RSW\", \"CLE\"], Any[\"WUH\", \"CGQ\", \"TNA\", \"CGQ\", \"TAO\", \"NGB\", \"CJU\", \"KUV\", \"CJU\", \"CJJ\"  …  \"UFA\", \"DYU\", \"IST\", \"BIO\", \"PMI\", \"VLC\", \"CIA\", \"IBZ\", \"ALC\", \"BVA\"]], Any[180, 731, 219, 590, 35, 40, 435, 211, 60, 112  …  494, 128, 122, 250, 26, 96, 79, 61, 293, 310])"
      ]
     },
     "execution_count": 151,
     "metadata": {},
     "output_type": "execute_result"
    }
   ],
   "source": [
    "rw_MX = @time busca_vuelos_WUH_MX(walk_names_multiplex, listamx)"
   ]
  },
  {
   "cell_type": "code",
   "execution_count": 152,
   "metadata": {},
   "outputs": [
    {
     "name": "stdout",
     "output_type": "stream",
     "text": [
      "  5.973904 seconds (95.77 M allocations: 5.085 GiB, 17.73% gc time)\n"
     ]
    },
    {
     "data": {
      "text/plain": [
       "(894, Any[Any[\"WUH\", \"SHA\", \"URC\", \"TPE\", \"HKD\", \"TPE\", \"KOJ\", \"FSZ\", \"KOJ\", \"UKB\"  …  \"MQF\", \"SVX\", \"MRV\", \"DXB\", \"SKT\", \"ISB\", \"MCT\", \"BAH\", \"BKK\", \"HKG\"], Any[\"WUH\", \"YNT\", \"HGH\", \"WUH\", \"HET\", \"NZH\", \"OVB\", \"PYJ\", \"OVB\", \"EVN\"  …  \"MDK\", \"FIH\", \"FBM\", \"NBO\", \"APL\", \"NBO\", \"LVI\", \"JNB\", \"DAR\", \"HAH\"], Any[\"WUH\", \"LZH\", \"KMG\", \"CZX\", \"FOC\", \"MFM\", \"NKG\", \"KMG\", \"BSD\", \"KMG\"  …  \"HYD\", \"VGA\", \"HYD\", \"BKK\", \"AMM\", \"JFK\", \"IAD\", \"PEK\", \"GYD\", \"NBC\"], Any[\"WUH\", \"WNZ\", \"CTU\", \"KMG\", \"CNX\", \"UTH\", \"DMK\", \"NAW\", \"DMK\", \"HKG\"  …  \" \", \" \", \" \", \" \", \" \", \" \", \" \", \" \", \" \", \" \"], Any[\"WUH\", \"SIN\", \"LOP\", \"SUB\", \"UPG\", \"DJJ\", \"UPG\", \"KUL\", \"BKK\", \"FCO\"  …  \" \", \" \", \" \", \" \", \" \", \" \", \" \", \" \", \" \", \" \"], Any[\"WUH\", \"HAK\", \"CGD\", \"CAN\", \"SIN\", \"TPE\", \"NRT\", \"CAN\", \"AEB\", \"CAN\"  …  \" \", \" \", \" \", \" \", \" \", \" \", \" \", \" \", \" \", \" \"], Any[\"WUH\", \"AQG\", \"XMN\", \"HAK\", \"KMG\", \"YIC\", \"KMG\", \"KHH\", \"XMN\", \"WUS\"  …  \"BGF\", \"CMN\", \"CUF\", \"CMN\", \"TFN\", \"LPA\", \"STR\", \"FNC\", \"HAJ\", \"BHX\"], Any[\"WUH\", \"XNN\", \"URC\", \"TBS\", \"RIX\", \"AMS\", \"INN\", \"EIN\", \"AHO\", \"AOI\"  …  \"LGA\", \"FLL\", \"LGA\", \"ATL\", \"CAK\", \"CLT\", \"VPS\", \"ATL\", \"HSV\", \"ATL\"], Any[\"WUH\", \"SZX\", \"HGH\", \"HKG\", \"DMK\", \"SNO\", \"DMK\", \"KBV\", \"KUL\", \"NRT\"  …  \" \", \" \", \" \", \" \", \" \", \" \", \" \", \" \", \" \", \" \"], Any[\"WUH\", \"LYI\", \"XIY\", \"RLK\", \"HET\", \"TSN\", \"WUH\", \"HGH\", \"TAO\", \"BKK\"  …  \" \", \" \", \" \", \" \", \" \", \" \", \" \", \" \", \" \", \" \"]  …  Any[\"WUH\", \"CTU\", \"AMS\", \"LTN\", \"AGP\", \"ARN\", \"OSL\", \"BOO\", \"BGO\", \"AGP\"  …  \"SIN\", \"WUH\", \"DLC\", \"LYG\", \"HGH\", \"INC\", \"CSX\", \"NGB\", \"CGO\", \"YTY\"], Any[\"WUH\", \"MFM\", \"RMQ\", \"MZG\", \"RMQ\", \"HAN\", \"CTU\", \"ICN\", \"CMB\", \"BLR\"  …  \"WIL\", \"LKG\", \"WIL\", \"UKA\", \"WIL\", \"ASV\", \"WIL\", \"UAS\", \"WIL\", \"NYK\"], Any[\"WUH\", \"URC\", \"CKG\", \"LZH\", \"SHA\", \"LCX\", \"SHA\", \"KWL\", \"KWE\", \"XNN\"  …  \" \", \" \", \" \", \" \", \" \", \" \", \" \", \" \", \" \", \" \"], Any[\"WUH\", \"XFN\", \"PVG\", \"FRA\", \"PUJ\", \"YUL\", \"LHR\", \"MAN\", \"KGS\", \"KRK\"  …  \"ALB\", \"CLT\", \"LIR\", \"MIA\", \"LIM\", \"HUU\", \"LIM\", \"SJO\", \"DFW\", \"BHM\"], Any[\"WUH\", \"CDG\", \"CZL\", \"NCE\", \"BCN\", \"EDI\", \"CDG\", \"CLY\", \"BOD\", \"MRS\"  …  \" \", \" \", \" \", \" \", \" \", \" \", \" \", \" \", \" \", \" \"], Any[\"WUH\", \"HGH\", \"LYI\", \"HGH\", \"BHY\", \"HAK\", \"NKG\", \"CIF\", \"HLD\", \"TGO\"  …  \"SZX\", \"DAX\", \"CAN\", \"PER\", \"CGK\", \"CAI\", \"TUU\", \"RUH\", \"BAH\", \"IKA\"], Any[\"WUH\", \"PEK\", \"UYN\", \"TSN\", \"XIY\", \"LYI\", \"CAN\", \"XUZ\", \"XMN\", \"KWL\"  …  \" \", \" \", \" \", \" \", \" \", \" \", \" \", \" \", \" \", \" \"], Any[\"WUH\", \"TAO\", \"RMQ\", \"HAN\", \"PVG\", \"MRU\", \"JNB\", \"BEW\", \"UEL\", \"TET\"  …  \"ATH\", \"EFL\", \"AMS\", \"LYS\", \"FRA\", \"RIX\", \"JFK\", \"STI\", \"MIA\", \"RTB\"], Any[\"WUH\", \"SIN\", \"KWE\", \"FOC\", \"ZUH\", \"WUH\", \"XMN\", \"HFE\", \"HAK\", \"SWA\"  …  \"SAL\", \"JFK\", \"STT\", \"AXA\", \"ANU\", \"SBH\", \"STT\", \"JFK\", \"RSW\", \"CLE\"], Any[\"WUH\", \"CGQ\", \"TNA\", \"CGQ\", \"TAO\", \"NGB\", \"CJU\", \"KUV\", \"CJU\", \"CJJ\"  …  \"UFA\", \"DYU\", \"IST\", \"BIO\", \"PMI\", \"VLC\", \"CIA\", \"IBZ\", \"ALC\", \"BVA\"]], Any[2, 3, 3, 3, 2, 2, 4, 26, 3, 6  …  2, 2, 5, 3, 2, 2, 2, 2, 2, 2], Any[180, 731, 219, 590, 35, 40, 435, 211, 60, 112  …  494, 128, 122, 250, 26, 96, 79, 61, 293, 310])"
      ]
     },
     "execution_count": 152,
     "metadata": {},
     "output_type": "execute_result"
    }
   ],
   "source": [
    "rw_pasa_inf = @time busca_vuelos_pasa_inf(rw_MX, listainf)"
   ]
  },
  {
   "cell_type": "code",
   "execution_count": 153,
   "metadata": {},
   "outputs": [
    {
     "name": "stdout",
     "output_type": "stream",
     "text": [
      "  0.000098 seconds (16 allocations: 16.656 KiB)\n"
     ]
    },
    {
     "data": {
      "text/plain": [
       "(894, Any[Any[\"WUH\", \"SHA\", \"URC\", \"TPE\", \"HKD\", \"TPE\", \"KOJ\", \"FSZ\", \"KOJ\", \"UKB\"  …  \"MQF\", \"SVX\", \"MRV\", \"DXB\", \"SKT\", \"ISB\", \"MCT\", \"BAH\", \"BKK\", \"HKG\"], Any[\"WUH\", \"YNT\", \"HGH\", \"WUH\", \"HET\", \"NZH\", \"OVB\", \"PYJ\", \"OVB\", \"EVN\"  …  \"MDK\", \"FIH\", \"FBM\", \"NBO\", \"APL\", \"NBO\", \"LVI\", \"JNB\", \"DAR\", \"HAH\"], Any[\"WUH\", \"LZH\", \"KMG\", \"CZX\", \"FOC\", \"MFM\", \"NKG\", \"KMG\", \"BSD\", \"KMG\"  …  \"HYD\", \"VGA\", \"HYD\", \"BKK\", \"AMM\", \"JFK\", \"IAD\", \"PEK\", \"GYD\", \"NBC\"], Any[\"WUH\", \"WNZ\", \"CTU\", \"KMG\", \"CNX\", \"UTH\", \"DMK\", \"NAW\", \"DMK\", \"HKG\"  …  \" \", \" \", \" \", \" \", \" \", \" \", \" \", \" \", \" \", \" \"], Any[\"WUH\", \"SIN\", \"LOP\", \"SUB\", \"UPG\", \"DJJ\", \"UPG\", \"KUL\", \"BKK\", \"FCO\"  …  \" \", \" \", \" \", \" \", \" \", \" \", \" \", \" \", \" \", \" \"], Any[\"WUH\", \"HAK\", \"CGD\", \"CAN\", \"SIN\", \"TPE\", \"NRT\", \"CAN\", \"AEB\", \"CAN\"  …  \" \", \" \", \" \", \" \", \" \", \" \", \" \", \" \", \" \", \" \"], Any[\"WUH\", \"AQG\", \"XMN\", \"HAK\", \"KMG\", \"YIC\", \"KMG\", \"KHH\", \"XMN\", \"WUS\"  …  \"BGF\", \"CMN\", \"CUF\", \"CMN\", \"TFN\", \"LPA\", \"STR\", \"FNC\", \"HAJ\", \"BHX\"], Any[\"WUH\", \"XNN\", \"URC\", \"TBS\", \"RIX\", \"AMS\", \"INN\", \"EIN\", \"AHO\", \"AOI\"  …  \"LGA\", \"FLL\", \"LGA\", \"ATL\", \"CAK\", \"CLT\", \"VPS\", \"ATL\", \"HSV\", \"ATL\"], Any[\"WUH\", \"SZX\", \"HGH\", \"HKG\", \"DMK\", \"SNO\", \"DMK\", \"KBV\", \"KUL\", \"NRT\"  …  \" \", \" \", \" \", \" \", \" \", \" \", \" \", \" \", \" \", \" \"], Any[\"WUH\", \"LYI\", \"XIY\", \"RLK\", \"HET\", \"TSN\", \"WUH\", \"HGH\", \"TAO\", \"BKK\"  …  \" \", \" \", \" \", \" \", \" \", \" \", \" \", \" \", \" \", \" \"]  …  Any[\"WUH\", \"CTU\", \"AMS\", \"LTN\", \"AGP\", \"ARN\", \"OSL\", \"BOO\", \"BGO\", \"AGP\"  …  \"SIN\", \"WUH\", \"DLC\", \"LYG\", \"HGH\", \"INC\", \"CSX\", \"NGB\", \"CGO\", \"YTY\"], Any[\"WUH\", \"MFM\", \"RMQ\", \"MZG\", \"RMQ\", \"HAN\", \"CTU\", \"ICN\", \"CMB\", \"BLR\"  …  \"WIL\", \"LKG\", \"WIL\", \"UKA\", \"WIL\", \"ASV\", \"WIL\", \"UAS\", \"WIL\", \"NYK\"], Any[\"WUH\", \"URC\", \"CKG\", \"LZH\", \"SHA\", \"LCX\", \"SHA\", \"KWL\", \"KWE\", \"XNN\"  …  \" \", \" \", \" \", \" \", \" \", \" \", \" \", \" \", \" \", \" \"], Any[\"WUH\", \"XFN\", \"PVG\", \"FRA\", \"PUJ\", \"YUL\", \"LHR\", \"MAN\", \"KGS\", \"KRK\"  …  \"ALB\", \"CLT\", \"LIR\", \"MIA\", \"LIM\", \"HUU\", \"LIM\", \"SJO\", \"DFW\", \"BHM\"], Any[\"WUH\", \"CDG\", \"CZL\", \"NCE\", \"BCN\", \"EDI\", \"CDG\", \"CLY\", \"BOD\", \"MRS\"  …  \" \", \" \", \" \", \" \", \" \", \" \", \" \", \" \", \" \", \" \"], Any[\"WUH\", \"HGH\", \"LYI\", \"HGH\", \"BHY\", \"HAK\", \"NKG\", \"CIF\", \"HLD\", \"TGO\"  …  \"SZX\", \"DAX\", \"CAN\", \"PER\", \"CGK\", \"CAI\", \"TUU\", \"RUH\", \"BAH\", \"IKA\"], Any[\"WUH\", \"PEK\", \"UYN\", \"TSN\", \"XIY\", \"LYI\", \"CAN\", \"XUZ\", \"XMN\", \"KWL\"  …  \" \", \" \", \" \", \" \", \" \", \" \", \" \", \" \", \" \", \" \"], Any[\"WUH\", \"TAO\", \"RMQ\", \"HAN\", \"PVG\", \"MRU\", \"JNB\", \"BEW\", \"UEL\", \"TET\"  …  \"ATH\", \"EFL\", \"AMS\", \"LYS\", \"FRA\", \"RIX\", \"JFK\", \"STI\", \"MIA\", \"RTB\"], Any[\"WUH\", \"SIN\", \"KWE\", \"FOC\", \"ZUH\", \"WUH\", \"XMN\", \"HFE\", \"HAK\", \"SWA\"  …  \"SAL\", \"JFK\", \"STT\", \"AXA\", \"ANU\", \"SBH\", \"STT\", \"JFK\", \"RSW\", \"CLE\"], Any[\"WUH\", \"CGQ\", \"TNA\", \"CGQ\", \"TAO\", \"NGB\", \"CJU\", \"KUV\", \"CJU\", \"CJJ\"  …  \"UFA\", \"DYU\", \"IST\", \"BIO\", \"PMI\", \"VLC\", \"CIA\", \"IBZ\", \"ALC\", \"BVA\"]])"
      ]
     },
     "execution_count": 153,
     "metadata": {},
     "output_type": "execute_result"
    }
   ],
   "source": [
    "rw_inf_MX = @time busca_vuelos_INF_MX(rw_pasa_inf, rw_MX)"
   ]
  },
  {
   "cell_type": "code",
   "execution_count": 154,
   "metadata": {},
   "outputs": [
    {
     "name": "stdout",
     "output_type": "stream",
     "text": [
      "  3.994858 seconds (73.55 M allocations: 3.811 GiB, 19.33% gc time)\n"
     ]
    },
    {
     "data": {
      "text/plain": [
       "(0, Any[])"
      ]
     },
     "execution_count": 154,
     "metadata": {},
     "output_type": "execute_result"
    }
   ],
   "source": [
    "rw_dir_MX = @time busca_directos_MX(rw_MX, listainf)"
   ]
  },
  {
   "cell_type": "code",
   "execution_count": 155,
   "metadata": {},
   "outputs": [
    {
     "name": "stdout",
     "output_type": "stream",
     "text": [
      "  0.000079 seconds (7 allocations: 320 bytes)\n"
     ]
    },
    {
     "data": {
      "text/plain": [
       "(0, Any[Any[]])"
      ]
     },
     "execution_count": 155,
     "metadata": {},
     "output_type": "execute_result"
    }
   ],
   "source": [
    "rw_MX_INF = @time busca_vuelos_MX_INF(rw_pasa_inf, rw_MX, rw_dir_MX)"
   ]
  },
  {
   "cell_type": "code",
   "execution_count": null,
   "metadata": {},
   "outputs": [],
   "source": []
  }
 ],
 "metadata": {
  "@webio": {
   "lastCommId": null,
   "lastKernelId": null
  },
  "kernelspec": {
   "display_name": "Julia 1.1.0",
   "language": "julia",
   "name": "julia-1.1"
  },
  "language_info": {
   "file_extension": ".jl",
   "mimetype": "application/julia",
   "name": "julia",
   "version": "1.1.0"
  }
 },
 "nbformat": 4,
 "nbformat_minor": 2
}
