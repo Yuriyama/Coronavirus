{
 "cells": [
  {
   "cell_type": "markdown",
   "metadata": {},
   "source": [
    "# Covid-19: WUH ->  infected -> Mexico"
   ]
  },
  {
   "cell_type": "markdown",
   "metadata": {},
   "source": [
    "#### Import Packages"
   ]
  },
  {
   "cell_type": "code",
   "execution_count": 1,
   "metadata": {},
   "outputs": [],
   "source": [
    "using DelimitedFiles"
   ]
  },
  {
   "cell_type": "markdown",
   "metadata": {},
   "source": [
    "#### Functions"
   ]
  },
  {
   "cell_type": "code",
   "execution_count": 2,
   "metadata": {},
   "outputs": [
    {
     "data": {
      "text/plain": [
       "country_steps (generic function with 1 method)"
      ]
     },
     "execution_count": 2,
     "metadata": {},
     "output_type": "execute_result"
    }
   ],
   "source": [
    "function country_steps(steps::Int64, WUH_MX::Array{String,2}) #::Array{Any,1}) #country_airp::Array{String,1}\n",
    "    rw_mx = []\n",
    "    for k = 1:size(WUH_MX)[1]#length(WUH_MX)\n",
    "        rw_mx = push!(rw_mx, WUH_MX[k,:][1:steps+1])\n",
    "    end\n",
    "    return rw_mx\n",
    "end"
   ]
  },
  {
   "cell_type": "code",
   "execution_count": 3,
   "metadata": {},
   "outputs": [
    {
     "data": {
      "text/plain": [
       "MX_llegada (generic function with 1 method)"
      ]
     },
     "execution_count": 3,
     "metadata": {},
     "output_type": "execute_result"
    }
   ],
   "source": [
    "function MX_llegada(filtro_mx, steps)\n",
    "    \n",
    "    s = steps-2\n",
    "\n",
    "    i1 = filtro_mx[1,:][][s:end]\n",
    "    i2 = filtro_mx[2,:][][s:end]\n",
    "    m = hcat(i1, i2)\n",
    "    \n",
    "    for k in 3:1000\n",
    "        it = filtro_mx[k,:][][s:end]\n",
    "        m = hcat(m, it)\n",
    "                \n",
    "    end\n",
    "    permutedims(m)\n",
    "    \n",
    "end"
   ]
  },
  {
   "cell_type": "code",
   "execution_count": 4,
   "metadata": {},
   "outputs": [
    {
     "data": {
      "text/plain": [
       "mx_dia (generic function with 1 method)"
      ]
     },
     "execution_count": 4,
     "metadata": {},
     "output_type": "execute_result"
    }
   ],
   "source": [
    "function mx_dia(mx_llegada, lista_airp)\n",
    "    \n",
    "    index = []\n",
    "    for k in 1:size(mx_llegada,1)\n",
    "    \n",
    "        for q in 1:length(lista_airp)\n",
    "            \n",
    "            pert = lista_airp[q] in mx_llegada[k,:]\n",
    "            \n",
    "            if pert == true\n",
    "                push!(index, k)\n",
    "                break\n",
    "            end\n",
    "        end\n",
    "    end\n",
    "    index\n",
    "end"
   ]
  },
  {
   "cell_type": "code",
   "execution_count": 5,
   "metadata": {},
   "outputs": [
    {
     "data": {
      "text/plain": [
       "filtro_mx (generic function with 1 method)"
      ]
     },
     "execution_count": 5,
     "metadata": {},
     "output_type": "execute_result"
    }
   ],
   "source": [
    "function filtro_mx(mx_dia, country_steps)\n",
    "    \n",
    "    reng = country_steps[mx_dia[1]]\n",
    "    #@show mx_dia[1]\n",
    "    #@show italy_RW[mx_dia[1]]\n",
    "    #@show length(mx_dia)\n",
    "    for i in 2:length(mx_dia)\n",
    "        #@show i\n",
    "        reng = hcat(reng, country_steps[mx_dia[i]])\n",
    "        #@show reng\n",
    "    end\n",
    "    reng\n",
    "    #permutedims(reng)\n",
    "\n",
    "end"
   ]
  },
  {
   "cell_type": "code",
   "execution_count": 6,
   "metadata": {},
   "outputs": [
    {
     "ename": "UndefVarError",
     "evalue": "UndefVarError: busca_vuelos_WUH_MX not defined",
     "output_type": "error",
     "traceback": [
      "UndefVarError: busca_vuelos_WUH_MX not defined",
      "",
      "Stacktrace:",
      " [1] top-level scope at In[6]:1"
     ]
    }
   ],
   "source": [
    "bv=busca_vuelos_WUH_MX(mh, mx_airp)"
   ]
  },
  {
   "cell_type": "code",
   "execution_count": 7,
   "metadata": {},
   "outputs": [
    {
     "data": {
      "text/plain": [
       "busca_vuelos_WUH_MX (generic function with 1 method)"
      ]
     },
     "execution_count": 7,
     "metadata": {},
     "output_type": "execute_result"
    }
   ],
   "source": [
    "#BUSCO EL SUBCONJUNTO DE CAMINATAS QUE EN ALGÚN MOMENTO PASAN POR MEX\n",
    "function busca_vuelos_WUH_MX(archivo_caminatas_WUH, lista_mx::Array{String, 1})\n",
    "\n",
    "    archivo_caminatas_WUH = archivo_caminatas_WUH #readdlm(archivo_caminatas_WUH, ',', String)\n",
    "    iter = size(archivo_caminatas_WUH, 1) #renglones de la matriz, ie, iteraciones\n",
    "    lm = length(lista_mx)\n",
    "    #li = length(lista_inf)\n",
    "    contador_mx = 0\n",
    "    caminatas_WUH_MX = []\n",
    "    posiciones_final = []\n",
    "    posiciones_rel = []\n",
    "    posiciones_inf = []\n",
    "    posiciones_inf_rel = []\n",
    "\n",
    "    for i in 1:iter #camino por todas las caminatas\n",
    "#@show i\n",
    "        #Busco si algún aeropuerto de lista_mx está en la caminata iterada.\n",
    "        for j in 1:lm\n",
    "#@show j\n",
    "            pertenencia = lista_mx[j] in archivo_caminatas_WUH[i,:]#[]\n",
    "#@show pertenencia\n",
    "            if pertenencia == true\n",
    "\n",
    "                posmx_rel = findfirst(x -> x == lista_mx[j], archivo_caminatas_WUH[i,:])#[])\n",
    "                #@show lista_mx[j]\n",
    "                #@show archivo_caminatas_WUH[i,:][]\n",
    "                push!(posiciones_rel, posmx_rel)\n",
    "#@show posiciones_rel\n",
    "            elseif continue\n",
    "            end\n",
    "        end\n",
    "#@show posiciones_rel\n",
    "        if posiciones_rel != []\n",
    "            contador_mx += 1\n",
    "            push!(caminatas_WUH_MX, archivo_caminatas_WUH[i, :])\n",
    "            push!(posiciones_final, minimum(posiciones_rel))\n",
    "            #@show posiciones_final\n",
    "            posiciones_rel = []\n",
    "        end\n",
    "\n",
    "    end\n",
    "\n",
    "    return contador_mx, caminatas_WUH_MX, posiciones_final#, posiciones_inf\n",
    "end"
   ]
  },
  {
   "cell_type": "code",
   "execution_count": 8,
   "metadata": {},
   "outputs": [
    {
     "data": {
      "text/plain": [
       "busca_vuelos_WUH_MX2 (generic function with 1 method)"
      ]
     },
     "execution_count": 8,
     "metadata": {},
     "output_type": "execute_result"
    }
   ],
   "source": [
    "#BUSCO EL SUBCONJUNTO DE CAMINATAS QUE EN ALGÚN MOMENTO PASAN POR MEX\n",
    "function busca_vuelos_WUH_MX2(archivo_caminatas_WUH, lista_mx::Array{String, 1})\n",
    "\n",
    "    archivo_caminatas_WUH = archivo_caminatas_WUH #readdlm(archivo_caminatas_WUH, ',', String)\n",
    "    iter = size(archivo_caminatas_WUH, 1) #renglones de la matriz, ie, iteraciones\n",
    "    lm = length(lista_mx)\n",
    "    #li = length(lista_inf)\n",
    "    contador_mx = 0\n",
    "    caminatas_WUH_MX = []\n",
    "    posiciones_final = []\n",
    "    posiciones_rel = []\n",
    "    posiciones_inf = []\n",
    "    posiciones_inf_rel = []\n",
    "\n",
    "    for i in 1:iter #camino por todas las caminatas\n",
    "#@show i\n",
    "        #Busco si algún aeropuerto de lista_mx está en la caminata iterada.\n",
    "        for j in 1:lm\n",
    "#@show j\n",
    "            pertenencia = lista_mx[j] in archivo_caminatas_WUH[i,:][]\n",
    "#@show pertenencia\n",
    "            if pertenencia == true\n",
    "\n",
    "                posmx_rel = findfirst(x -> x == lista_mx[j], archivo_caminatas_WUH[i,:][])\n",
    "                #@show lista_mx[j]\n",
    "                #@show archivo_caminatas_WUH[i,:][]\n",
    "                push!(posiciones_rel, posmx_rel)\n",
    "#@show posiciones_rel\n",
    "            elseif continue\n",
    "            end\n",
    "        end\n",
    "#@show posiciones_rel\n",
    "        if posiciones_rel != []\n",
    "            contador_mx += 1\n",
    "            push!(caminatas_WUH_MX, archivo_caminatas_WUH[i, :])\n",
    "            push!(posiciones_final, minimum(posiciones_rel))\n",
    "            #@show posiciones_final\n",
    "            posiciones_rel = []\n",
    "        end\n",
    "\n",
    "    end\n",
    "\n",
    "    return contador_mx, caminatas_WUH_MX, posiciones_final#, posiciones_inf\n",
    "end"
   ]
  },
  {
   "cell_type": "code",
   "execution_count": 9,
   "metadata": {},
   "outputs": [
    {
     "data": {
      "text/plain": [
       "busca_vuelos_pasa_inf (generic function with 1 method)"
      ]
     },
     "execution_count": 9,
     "metadata": {},
     "output_type": "execute_result"
    }
   ],
   "source": [
    "#BUSCO EL SUBCONJUNTO DE CAMINATAS QUE LLEGAN A MEX Y QUE PASAN EN ALGÚN MOMENTO POR AEROPUERTOS INFECTADOS\n",
    "function busca_vuelos_pasa_inf(rw_wuh_mx, lista_inf)\n",
    "\n",
    "    li = length(lista_inf)\n",
    "    \n",
    "    lm = rw_wuh_mx[1] #cuántas caminatas pasan por mex.\n",
    "    rw_MX = rw_wuh_mx[2] #cjto. caminatas q pasan por mex.\n",
    "    pos_mx = rw_wuh_mx[3] #cjto. posiciones mín. de mex.\n",
    "    \n",
    "    cont_inf = 0 #cuántas caminatas pasan por un país infectado\n",
    "    pos_inf_rel = [] \n",
    "    posicion_inf = []\n",
    "    caminata_con_inf = []\n",
    "    min_pos_mx = []\n",
    "\n",
    "    for i in 1:lm\n",
    "        #@show i\n",
    "\n",
    "        for j in 1:li\n",
    "            #@show j\n",
    "            pertenencia_inf = lista_inf[j] in rw_MX[i][2:end]#[][2:end]\n",
    "            #@show lista_inf[j]    \n",
    "            #@show rw_MX[i][][2:end]\n",
    "                #@show pertenencia_inf\n",
    "                if pertenencia_inf == true\n",
    "\n",
    "                    posinf_rel = findfirst(x -> x == lista_inf[j], rw_MX[i][2:end])\n",
    "                    push!(pos_inf_rel, posinf_rel)\n",
    "                    #@show posinf_rel\n",
    "                elseif continue\n",
    "                end\n",
    "        end\n",
    "\n",
    "        if pos_inf_rel != []\n",
    "\n",
    "            cont_inf += 1\n",
    "            #@show cont_inf\n",
    "            push!(posicion_inf, (minimum(pos_inf_rel)))\n",
    "            \n",
    "            push!(caminata_con_inf, rw_MX[i])#[])\n",
    "            push!(min_pos_mx, pos_mx[i])\n",
    "            \n",
    "            pos_inf_rel = []\n",
    "        elseif continue\n",
    "        end\n",
    "\n",
    "    end\n",
    "    return cont_inf, caminata_con_inf, posicion_inf, min_pos_mx\n",
    "end"
   ]
  },
  {
   "cell_type": "code",
   "execution_count": 10,
   "metadata": {},
   "outputs": [
    {
     "data": {
      "text/plain": [
       "busca_vuelos_pasa_inf2 (generic function with 1 method)"
      ]
     },
     "execution_count": 10,
     "metadata": {},
     "output_type": "execute_result"
    }
   ],
   "source": [
    "#BUSCO EL SUBCONJUNTO DE CAMINATAS QUE LLEGAN A MEX Y QUE PASAN EN ALGÚN MOMENTO POR AEROPUERTOS INFECTADOS\n",
    "function busca_vuelos_pasa_inf2(rw_wuh_mx, lista_inf)\n",
    "\n",
    "    li = length(lista_inf)\n",
    "    \n",
    "    lm = rw_wuh_mx[1] #cuántas caminatas pasan por mex.\n",
    "    rw_MX = rw_wuh_mx[2] #cjto. caminatas q pasan por mex.\n",
    "    pos_mx = rw_wuh_mx[3] #cjto. posiciones mín. de mex.\n",
    "    \n",
    "    cont_inf = 0 #cuántas caminatas pasan por un país infectado\n",
    "    pos_inf_rel = [] \n",
    "    posicion_inf = []\n",
    "    caminata_con_inf = []\n",
    "    min_pos_mx = []\n",
    "\n",
    "    for i in 1:lm\n",
    "        #@show i\n",
    "\n",
    "        for j in 1:li\n",
    "            #@show j\n",
    "            pertenencia_inf = lista_inf[j] in rw_MX[i][][2:end]\n",
    "           \n",
    "                if pertenencia_inf == true\n",
    "\n",
    "                    posinf_rel = findfirst(x -> x == lista_inf[j], rw_MX[i][][2:end])#[2:end])\n",
    "                    push!(pos_inf_rel, posinf_rel)\n",
    "                    \n",
    "                elseif continue\n",
    "                end\n",
    "        end\n",
    "\n",
    "        if pos_inf_rel != []\n",
    "\n",
    "            cont_inf += 1\n",
    "            #@show cont_inf\n",
    "            push!(posicion_inf, (minimum(pos_inf_rel)))\n",
    "            \n",
    "            push!(caminata_con_inf, rw_MX[i][])\n",
    "            push!(min_pos_mx, pos_mx[i])\n",
    "            \n",
    "            pos_inf_rel = []\n",
    "        elseif continue\n",
    "        end\n",
    "\n",
    "    end\n",
    "    return cont_inf, caminata_con_inf, posicion_inf, min_pos_mx\n",
    "end"
   ]
  },
  {
   "cell_type": "code",
   "execution_count": 11,
   "metadata": {},
   "outputs": [
    {
     "data": {
      "text/plain": [
       "busca_vuelos_INF_MX (generic function with 1 method)"
      ]
     },
     "execution_count": 11,
     "metadata": {},
     "output_type": "execute_result"
    }
   ],
   "source": [
    "#BUSCO EL SUBCONJUNTO DE CAMINATAS QUE LLEGAN PRIMERO A UNO INFECTADO Y LUEGO A MEX\n",
    "function busca_vuelos_INF_MX(rw_inf, rw_wuh_mx)\n",
    "\n",
    "    caminata_con_inf = rw_inf[2] #caminata con inf\n",
    "    pos_min_inf = rw_inf[3] #posiciones min inf\n",
    "    pos_min_mx = rw_inf[4] #posiciones min mex\n",
    "\n",
    "\n",
    "\n",
    "    caminata_INF_MX = []\n",
    "    contINF = 0\n",
    "    camINF = []\n",
    "\n",
    "\n",
    "    for i in 1:length(caminata_con_inf)\n",
    "\n",
    "        if pos_min_inf[i] < pos_min_mx[i]\n",
    "\n",
    "            contINF += 1\n",
    "            push!(camINF, caminata_con_inf[i])\n",
    "\n",
    "        end\n",
    "\n",
    "    end\n",
    "\n",
    "    return contINF, camINF\n",
    "\n",
    "end"
   ]
  },
  {
   "cell_type": "markdown",
   "metadata": {},
   "source": [
    "#### Import random walks"
   ]
  },
  {
   "cell_type": "code",
   "execution_count": 12,
   "metadata": {},
   "outputs": [
    {
     "data": {
      "text/plain": [
       "1000×1001 Array{String,2}:\n",
       " \"WUH\"  \"SHA\"  \"URC\"  \"TPE\"  \"HKD\"  …  \"ISB\"  \"MCT\"  \"BAH\"  \"BKK\"  \"HKG\"\n",
       " \"WUH\"  \"SZX\"  \"TSN\"  \"SZX\"  \"DYG\"     \" \"    \" \"    \" \"    \" \"    \" \"  \n",
       " \"WUH\"  \"YNT\"  \"HGH\"  \"WUH\"  \"HET\"     \"NBO\"  \"LVI\"  \"JNB\"  \"DAR\"  \"HAH\"\n",
       " \"WUH\"  \"LZH\"  \"KMG\"  \"CZX\"  \"FOC\"     \"JFK\"  \"IAD\"  \"PEK\"  \"GYD\"  \"NBC\"\n",
       " \"WUH\"  \"WNZ\"  \"CTU\"  \"KMG\"  \"CNX\"     \" \"    \" \"    \" \"    \" \"    \" \"  \n",
       " \"WUH\"  \"SIN\"  \"LOP\"  \"SUB\"  \"UPG\"  …  \" \"    \" \"    \" \"    \" \"    \" \"  \n",
       " \"WUH\"  \"HAK\"  \"CGD\"  \"CAN\"  \"SIN\"     \" \"    \" \"    \" \"    \" \"    \" \"  \n",
       " \"WUH\"  \"AQG\"  \"XMN\"  \"HAK\"  \"KMG\"     \"LPA\"  \"STR\"  \"FNC\"  \"HAJ\"  \"BHX\"\n",
       " \"WUH\"  \"XNN\"  \"URC\"  \"TBS\"  \"RIX\"     \"CLT\"  \"VPS\"  \"ATL\"  \"HSV\"  \"ATL\"\n",
       " \"WUH\"  \"SZX\"  \"HGH\"  \"HKG\"  \"DMK\"     \" \"    \" \"    \" \"    \" \"    \" \"  \n",
       " \"WUH\"  \"LYI\"  \"XIY\"  \"RLK\"  \"HET\"  …  \" \"    \" \"    \" \"    \" \"    \" \"  \n",
       " \"WUH\"  \"PEK\"  \"JJN\"  \"HGH\"  \"CAN\"     \" \"    \" \"    \" \"    \" \"    \" \"  \n",
       " \"WUH\"  \"NTG\"  \"DLC\"  \"CJU\"  \"TSN\"     \"AMS\"  \"IAH\"  \"YVR\"  \"PVR\"  \"SAN\"\n",
       " ⋮                                  ⋱                              ⋮    \n",
       " \"WUH\"  \"CDG\"  \"CLT\"  \"VPS\"  \"ATL\"     \"SXF\"  \"MAD\"  \"PEK\"  \"NRT\"  \"YYZ\"\n",
       " \"WUH\"  \"PUS\"  \"OKA\"  \"NRT\"  \"SJC\"     \" \"    \" \"    \" \"    \" \"    \" \"  \n",
       " \"WUH\"  \"CTU\"  \"AMS\"  \"LTN\"  \"AGP\"  …  \"INC\"  \"CSX\"  \"NGB\"  \"CGO\"  \"YTY\"\n",
       " \"WUH\"  \"MFM\"  \"RMQ\"  \"MZG\"  \"RMQ\"     \"ASV\"  \"WIL\"  \"UAS\"  \"WIL\"  \"NYK\"\n",
       " \"WUH\"  \"URC\"  \"CKG\"  \"LZH\"  \"SHA\"     \" \"    \" \"    \" \"    \" \"    \" \"  \n",
       " \"WUH\"  \"XFN\"  \"PVG\"  \"FRA\"  \"PUJ\"     \"HUU\"  \"LIM\"  \"SJO\"  \"DFW\"  \"BHM\"\n",
       " \"WUH\"  \"CDG\"  \"CZL\"  \"NCE\"  \"BCN\"     \" \"    \" \"    \" \"    \" \"    \" \"  \n",
       " \"WUH\"  \"HGH\"  \"LYI\"  \"HGH\"  \"BHY\"  …  \"CAI\"  \"TUU\"  \"RUH\"  \"BAH\"  \"IKA\"\n",
       " \"WUH\"  \"PEK\"  \"UYN\"  \"TSN\"  \"XIY\"     \" \"    \" \"    \" \"    \" \"    \" \"  \n",
       " \"WUH\"  \"TAO\"  \"RMQ\"  \"HAN\"  \"PVG\"     \"RIX\"  \"JFK\"  \"STI\"  \"MIA\"  \"RTB\"\n",
       " \"WUH\"  \"SIN\"  \"KWE\"  \"FOC\"  \"ZUH\"     \"SBH\"  \"STT\"  \"JFK\"  \"RSW\"  \"CLE\"\n",
       " \"WUH\"  \"CGQ\"  \"TNA\"  \"CGQ\"  \"TAO\"     \"VLC\"  \"CIA\"  \"IBZ\"  \"ALC\"  \"BVA\""
      ]
     },
     "execution_count": 12,
     "metadata": {},
     "output_type": "execute_result"
    }
   ],
   "source": [
    "walk_names_multiplex = readdlm(\"/Users/yuriko/Downloads/codejulia/datart/global/caminatas/nombres/global_WUH_walk_names.csv\", ',', String)"
   ]
  },
  {
   "cell_type": "markdown",
   "metadata": {},
   "source": [
    "#### Import list of mexican airports"
   ]
  },
  {
   "cell_type": "code",
   "execution_count": 13,
   "metadata": {
    "scrolled": false
   },
   "outputs": [
    {
     "data": {
      "text/plain": [
       "76-element Array{String,1}:\n",
       " \"MEX\"\n",
       " \"ACA\"\n",
       " \"TIJ\"\n",
       " \"GDL\"\n",
       " \"CUN\"\n",
       " \"MTY\"\n",
       " \"NTR\"\n",
       " \"AGU\"\n",
       " \"HUX\"\n",
       " \"CVJ\"\n",
       " \"ACN\"\n",
       " \"CME\"\n",
       " \"NCG\"\n",
       " ⋮    \n",
       " \"VSA\"\n",
       " \"VER\"\n",
       " \"ZCL\"\n",
       " \"ZIH\"\n",
       " \"ZMM\"\n",
       " \"ZLO\"\n",
       " \"CYW\"\n",
       " \"CUA\"\n",
       " \"GUB\"\n",
       " \"JAL\"\n",
       " \"CZA\"\n",
       " \"PQM\""
      ]
     },
     "execution_count": 13,
     "metadata": {},
     "output_type": "execute_result"
    }
   ],
   "source": [
    "mx_airp = [\"MEX\", \"ACA\", \"TIJ\", \"GDL\", \"CUN\", \"MTY\", \"NTR\", \"AGU\", \"HUX\", \"CVJ\", \"ACN\", \"CME\", \"NCG\", \"CUL\", \"CTM\",\n",
    "\"CEN\", \"CPE\", \"CJS\", \"CUU\", \"CVM\", \"CZM\", \"DGO\", \"TPQ\", \"ESE\", \"GYM\", \"TCN\", \"HMO\", \"CLQ\", \"ISJ\", \"SLW\", \"IZT\", \"LZC\",\n",
    "\"LMM\", \"BJX\", \"LAP\", \"LTO\", \"MAM\", \"MID\", \"MXL\", \"MLM\", \"MTT\", \"LOV\", \"MZT\", \"NOG\", \"NLD\", \"OAX\", \"PAZ\", \"PBC\", \"PPE\",\n",
    "\"PDS\", \"UPN\", \"PVR\", \"PXM\", \"QRO\", \"REX\", \"SJD\", \"SFH\", \"SLP\", \"TRC\", \"TGZ\", \"TAM\", \"TSL\", \"TLC\", \"TAP\", \"VSA\", \"VER\",\n",
    "\"ZCL\", \"ZIH\", \"ZMM\", \"ZLO\", \"CYW\", \"CUA\", \"GUB\", \"JAL\", \"CZA\", \"PQM\"]"
   ]
  },
  {
   "cell_type": "code",
   "execution_count": 14,
   "metadata": {},
   "outputs": [
    {
     "data": {
      "text/plain": [
       "(894, Any[[\"WUH\", \"SHA\", \"URC\", \"TPE\", \"HKD\", \"TPE\", \"KOJ\", \"FSZ\", \"KOJ\", \"UKB\"  …  \"MQF\", \"SVX\", \"MRV\", \"DXB\", \"SKT\", \"ISB\", \"MCT\", \"BAH\", \"BKK\", \"HKG\"], [\"WUH\", \"YNT\", \"HGH\", \"WUH\", \"HET\", \"NZH\", \"OVB\", \"PYJ\", \"OVB\", \"EVN\"  …  \"MDK\", \"FIH\", \"FBM\", \"NBO\", \"APL\", \"NBO\", \"LVI\", \"JNB\", \"DAR\", \"HAH\"], [\"WUH\", \"LZH\", \"KMG\", \"CZX\", \"FOC\", \"MFM\", \"NKG\", \"KMG\", \"BSD\", \"KMG\"  …  \"HYD\", \"VGA\", \"HYD\", \"BKK\", \"AMM\", \"JFK\", \"IAD\", \"PEK\", \"GYD\", \"NBC\"], [\"WUH\", \"WNZ\", \"CTU\", \"KMG\", \"CNX\", \"UTH\", \"DMK\", \"NAW\", \"DMK\", \"HKG\"  …  \" \", \" \", \" \", \" \", \" \", \" \", \" \", \" \", \" \", \" \"], [\"WUH\", \"SIN\", \"LOP\", \"SUB\", \"UPG\", \"DJJ\", \"UPG\", \"KUL\", \"BKK\", \"FCO\"  …  \" \", \" \", \" \", \" \", \" \", \" \", \" \", \" \", \" \", \" \"], [\"WUH\", \"HAK\", \"CGD\", \"CAN\", \"SIN\", \"TPE\", \"NRT\", \"CAN\", \"AEB\", \"CAN\"  …  \" \", \" \", \" \", \" \", \" \", \" \", \" \", \" \", \" \", \" \"], [\"WUH\", \"AQG\", \"XMN\", \"HAK\", \"KMG\", \"YIC\", \"KMG\", \"KHH\", \"XMN\", \"WUS\"  …  \"BGF\", \"CMN\", \"CUF\", \"CMN\", \"TFN\", \"LPA\", \"STR\", \"FNC\", \"HAJ\", \"BHX\"], [\"WUH\", \"XNN\", \"URC\", \"TBS\", \"RIX\", \"AMS\", \"INN\", \"EIN\", \"AHO\", \"AOI\"  …  \"LGA\", \"FLL\", \"LGA\", \"ATL\", \"CAK\", \"CLT\", \"VPS\", \"ATL\", \"HSV\", \"ATL\"], [\"WUH\", \"SZX\", \"HGH\", \"HKG\", \"DMK\", \"SNO\", \"DMK\", \"KBV\", \"KUL\", \"NRT\"  …  \" \", \" \", \" \", \" \", \" \", \" \", \" \", \" \", \" \", \" \"], [\"WUH\", \"LYI\", \"XIY\", \"RLK\", \"HET\", \"TSN\", \"WUH\", \"HGH\", \"TAO\", \"BKK\"  …  \" \", \" \", \" \", \" \", \" \", \" \", \" \", \" \", \" \", \" \"]  …  [\"WUH\", \"CTU\", \"AMS\", \"LTN\", \"AGP\", \"ARN\", \"OSL\", \"BOO\", \"BGO\", \"AGP\"  …  \"SIN\", \"WUH\", \"DLC\", \"LYG\", \"HGH\", \"INC\", \"CSX\", \"NGB\", \"CGO\", \"YTY\"], [\"WUH\", \"MFM\", \"RMQ\", \"MZG\", \"RMQ\", \"HAN\", \"CTU\", \"ICN\", \"CMB\", \"BLR\"  …  \"WIL\", \"LKG\", \"WIL\", \"UKA\", \"WIL\", \"ASV\", \"WIL\", \"UAS\", \"WIL\", \"NYK\"], [\"WUH\", \"URC\", \"CKG\", \"LZH\", \"SHA\", \"LCX\", \"SHA\", \"KWL\", \"KWE\", \"XNN\"  …  \" \", \" \", \" \", \" \", \" \", \" \", \" \", \" \", \" \", \" \"], [\"WUH\", \"XFN\", \"PVG\", \"FRA\", \"PUJ\", \"YUL\", \"LHR\", \"MAN\", \"KGS\", \"KRK\"  …  \"ALB\", \"CLT\", \"LIR\", \"MIA\", \"LIM\", \"HUU\", \"LIM\", \"SJO\", \"DFW\", \"BHM\"], [\"WUH\", \"CDG\", \"CZL\", \"NCE\", \"BCN\", \"EDI\", \"CDG\", \"CLY\", \"BOD\", \"MRS\"  …  \" \", \" \", \" \", \" \", \" \", \" \", \" \", \" \", \" \", \" \"], [\"WUH\", \"HGH\", \"LYI\", \"HGH\", \"BHY\", \"HAK\", \"NKG\", \"CIF\", \"HLD\", \"TGO\"  …  \"SZX\", \"DAX\", \"CAN\", \"PER\", \"CGK\", \"CAI\", \"TUU\", \"RUH\", \"BAH\", \"IKA\"], [\"WUH\", \"PEK\", \"UYN\", \"TSN\", \"XIY\", \"LYI\", \"CAN\", \"XUZ\", \"XMN\", \"KWL\"  …  \" \", \" \", \" \", \" \", \" \", \" \", \" \", \" \", \" \", \" \"], [\"WUH\", \"TAO\", \"RMQ\", \"HAN\", \"PVG\", \"MRU\", \"JNB\", \"BEW\", \"UEL\", \"TET\"  …  \"ATH\", \"EFL\", \"AMS\", \"LYS\", \"FRA\", \"RIX\", \"JFK\", \"STI\", \"MIA\", \"RTB\"], [\"WUH\", \"SIN\", \"KWE\", \"FOC\", \"ZUH\", \"WUH\", \"XMN\", \"HFE\", \"HAK\", \"SWA\"  …  \"SAL\", \"JFK\", \"STT\", \"AXA\", \"ANU\", \"SBH\", \"STT\", \"JFK\", \"RSW\", \"CLE\"], [\"WUH\", \"CGQ\", \"TNA\", \"CGQ\", \"TAO\", \"NGB\", \"CJU\", \"KUV\", \"CJU\", \"CJJ\"  …  \"UFA\", \"DYU\", \"IST\", \"BIO\", \"PMI\", \"VLC\", \"CIA\", \"IBZ\", \"ALC\", \"BVA\"]], Any[180, 731, 219, 590, 35, 40, 435, 211, 60, 112  …  494, 128, 122, 250, 26, 96, 79, 61, 293, 310])"
      ]
     },
     "execution_count": 14,
     "metadata": {},
     "output_type": "execute_result"
    }
   ],
   "source": [
    "# Reading set of random walks WUH -> infected country -> Mexico\n",
    "WUH_MX2 = busca_vuelos_WUH_MX(walk_names_multiplex, mx_airp)"
   ]
  },
  {
   "cell_type": "markdown",
   "metadata": {},
   "source": [
    "We seek for random walks that have passed through infected countries (Italy, USA, Spain, Germany, France, and Singapore) before arriving to Mexico at a certain time."
   ]
  },
  {
   "cell_type": "markdown",
   "metadata": {},
   "source": [
    "#### Italy\n",
    "\n",
    "Infected person arrived from Italy on February 21. (approx. 162 steps from WUH)"
   ]
  },
  {
   "cell_type": "code",
   "execution_count": 15,
   "metadata": {},
   "outputs": [
    {
     "data": {
      "text/plain": [
       "74-element Array{String,1}:\n",
       " \"PSR\"\n",
       " \"ALL\"\n",
       " \"AHO\"\n",
       " \"AOI\"\n",
       " \"AOT\"\n",
       " \"QZO\"\n",
       " \"AVB\"\n",
       " \"BRI\"\n",
       " \"BLX\"\n",
       " \"BLQ\"\n",
       " \"BZO\"\n",
       " \"VBS\"\n",
       " \"BDS\"\n",
       " ⋮    \n",
       " \"TAR\"\n",
       " \"TTB\"\n",
       " \"ZIA\"\n",
       " \"TSF\"\n",
       " \"TRS\"\n",
       " \"UDN\"\n",
       " \"QVA\"\n",
       " \"VCE\"\n",
       " \"VRN\"\n",
       " \"VIC\"\n",
       " \"VIF\"\n",
       " \"TPS\""
      ]
     },
     "execution_count": 15,
     "metadata": {},
     "output_type": "execute_result"
    }
   ],
   "source": [
    "#List of italian airports\n",
    "italy_airp = readdlm(\"/Users/yuriko/Documents/UNAM/Tesis_Lic/Articulo/italia_airp.csv\", ',', String)[:,1]"
   ]
  },
  {
   "cell_type": "code",
   "execution_count": 16,
   "metadata": {
    "scrolled": false
   },
   "outputs": [
    {
     "data": {
      "text/plain": [
       "1000-element Array{Any,1}:\n",
       " [\"WUH\", \"SHA\", \"URC\", \"TPE\", \"HKD\", \"TPE\", \"KOJ\", \"FSZ\", \"KOJ\", \"UKB\"  …  \"CVG\", \"PUJ\", \"CLT\", \"AUS\", \"JFK\", \"CLE\", \"JFK\", \"BNA\", \"LGA\", \"SDF\"]\n",
       " [\"WUH\", \"SZX\", \"TSN\", \"SZX\", \"DYG\", \"CKG\", \"FOC\", \"CTU\", \"LZH\", \"KMG\"  …  \" \", \" \", \" \", \" \", \" \", \" \", \" \", \" \", \" \", \" \"]                    \n",
       " [\"WUH\", \"YNT\", \"HGH\", \"WUH\", \"HET\", \"NZH\", \"OVB\", \"PYJ\", \"OVB\", \"EVN\"  …  \"ULN\", \"BYN\", \"ULN\", \"ICN\", \"AXT\", \"HND\", \"IWJ\", \"HND\", \"HSG\", \"HND\"]\n",
       " [\"WUH\", \"LZH\", \"KMG\", \"CZX\", \"FOC\", \"MFM\", \"NKG\", \"KMG\", \"BSD\", \"KMG\"  …  \"TQI\", \"AGM\", \"IOQ\", \"AGM\", \"KUS\", \"CNP\", \"OBY\", \"CNP\", \"OBY\", \"CNP\"]\n",
       " [\"WUH\", \"WNZ\", \"CTU\", \"KMG\", \"CNX\", \"UTH\", \"DMK\", \"NAW\", \"DMK\", \"HKG\"  …  \"STN\", \"LEJ\", \"ACE\", \"ZAZ\", \"CLJ\", \"BLQ\", \"PMO\", \"NTE\", \"TFS\", \"AMS\"]\n",
       " [\"WUH\", \"SIN\", \"LOP\", \"SUB\", \"UPG\", \"DJJ\", \"UPG\", \"KUL\", \"BKK\", \"FCO\"  …  \" \", \" \", \" \", \" \", \" \", \" \", \" \", \" \", \" \", \" \"]                    \n",
       " [\"WUH\", \"HAK\", \"CGD\", \"CAN\", \"SIN\", \"TPE\", \"NRT\", \"CAN\", \"AEB\", \"CAN\"  …  \"XIY\", \"ENY\", \"XIY\", \"SJW\", \"HGH\", \"CSX\", \"JJN\", \"CAN\", \"DAD\", \"SIN\"]\n",
       " [\"WUH\", \"AQG\", \"XMN\", \"HAK\", \"KMG\", \"YIC\", \"KMG\", \"KHH\", \"XMN\", \"WUS\"  …  \"KUL\", \"TAS\", \"SHJ\", \"CAI\", \"TIP\", \"SRX\", \"TIP\", \"CMN\", \"TLS\", \"BRS\"]\n",
       " [\"WUH\", \"XNN\", \"URC\", \"TBS\", \"RIX\", \"AMS\", \"INN\", \"EIN\", \"AHO\", \"AOI\"  …  \"ORD\", \"HKG\", \"WUS\", \"HKG\", \"RGN\", \"HKG\", \"HND\", \"AXT\", \"ICN\", \"FRA\"]\n",
       " [\"WUH\", \"SZX\", \"HGH\", \"HKG\", \"DMK\", \"SNO\", \"DMK\", \"KBV\", \"KUL\", \"NRT\"  …  \"KHN\", \"TYN\", \"URC\", \"HET\", \"CKG\", \"HDG\", \"CAN\", \"REP\", \"MNL\", \"DRW\"]\n",
       " [\"WUH\", \"LYI\", \"XIY\", \"RLK\", \"HET\", \"TSN\", \"WUH\", \"HGH\", \"TAO\", \"BKK\"  …  \"BUD\", \"IEV\", \"VLC\", \"OVD\", \"STN\", \"DLM\", \"IST\", \"ZRH\", \"AMS\", \"MLA\"]\n",
       " [\"WUH\", \"PEK\", \"JJN\", \"HGH\", \"CAN\", \"DEL\", \"RPR\", \"CCU\", \"HYD\", \"VTZ\"  …  \"BOJ\", \"DUB\", \"KUN\", \"LGW\", \"TRF\", \"SVG\", \"NCL\", \"AGP\", \"BIO\", \"DUB\"]\n",
       " [\"WUH\", \"NTG\", \"DLC\", \"CJU\", \"TSN\", \"XNN\", \"CSX\", \"BHY\", \"CKG\", \"KRL\"  …  \"NAS\", \"GHB\", \"FLL\", \"BOG\", \"SAL\", \"IAH\", \"BWI\", \"CHS\", \"JFK\", \"LRM\"]\n",
       " ⋮                                                                                                                                              \n",
       " [\"WUH\", \"CDG\", \"CLT\", \"VPS\", \"ATL\", \"CRW\", \"MYR\", \"ATL\", \"BWI\", \"CVG\"  …  \"SYD\", \"NLK\", \"SYD\", \"AKL\", \"WLG\", \"BNE\", \"PQQ\", \"BNE\", \"LST\", \"FLS\"]\n",
       " [\"WUH\", \"PUS\", \"OKA\", \"NRT\", \"SJC\", \"BUR\", \"SJC\", \"KOA\", \"PHX\", \"BWI\"  …  \"LTN\", \"WRO\", \"RYG\", \"RZE\", \"EMA\", \"LCA\", \"DUS\", \"HAM\", \"NUE\", \"PMI\"]\n",
       " [\"WUH\", \"CTU\", \"AMS\", \"LTN\", \"AGP\", \"ARN\", \"OSL\", \"BOO\", \"BGO\", \"AGP\"  …  \"PYH\", \"CCS\", \"MRD\", \"CCS\", \"CDG\", \"MRS\", \"CRL\", \"OPO\", \"DUB\", \"PGF\"]\n",
       " [\"WUH\", \"MFM\", \"RMQ\", \"MZG\", \"RMQ\", \"HAN\", \"CTU\", \"ICN\", \"CMB\", \"BLR\"  …  \"SHE\", \"PVG\", \"MRU\", \"RRG\", \"MRU\", \"LGW\", \"BDA\", \"LGW\", \"OLB\", \"AMS\"]\n",
       " [\"WUH\", \"URC\", \"CKG\", \"LZH\", \"SHA\", \"LCX\", \"SHA\", \"KWL\", \"KWE\", \"XNN\"  …  \"GYD\", \"PEK\", \"IAD\", \"PHX\", \"OGG\", \"SMF\", \"IAD\", \"DKR\", \"ACC\", \"DKR\"]\n",
       " [\"WUH\", \"XFN\", \"PVG\", \"FRA\", \"PUJ\", \"YUL\", \"LHR\", \"MAN\", \"KGS\", \"KRK\"  …  \"LHR\", \"EBB\", \"LHR\", \"SAN\", \"SJC\", \"ATL\", \"DFW\", \"LHR\", \"NCE\", \"KBP\"]\n",
       " [\"WUH\", \"CDG\", \"CZL\", \"NCE\", \"BCN\", \"EDI\", \"CDG\", \"CLY\", \"BOD\", \"MRS\"  …  \"LEI\", \"DUB\", \"BZG\", \"STN\", \"GOA\", \"BCN\", \"CLJ\", \"CIA\", \"RYG\", \"KGS\"]\n",
       " [\"WUH\", \"HGH\", \"LYI\", \"HGH\", \"BHY\", \"HAK\", \"NKG\", \"CIF\", \"HLD\", \"TGO\"  …  \"STN\", \"RYG\", \"MAN\", \"LCA\", \"IEV\", \"BUD\", \"STN\", \"HAJ\", \"DLM\", \"AMS\"]\n",
       " [\"WUH\", \"PEK\", \"UYN\", \"TSN\", \"XIY\", \"LYI\", \"CAN\", \"XUZ\", \"XMN\", \"KWL\"  …  \"JFK\", \"SJU\", \"PBI\", \"BWI\", \"RSW\", \"BOS\", \"MAD\", \"MXP\", \"MIA\", \"UIO\"]\n",
       " [\"WUH\", \"TAO\", \"RMQ\", \"HAN\", \"PVG\", \"MRU\", \"JNB\", \"BEW\", \"UEL\", \"TET\"  …  \"DXB\", \"FCO\", \"OLB\", \"FCO\", \"YUL\", \"YWK\", \"YBG\", \"YHU\", \"YVO\", \"YKQ\"]\n",
       " [\"WUH\", \"SIN\", \"KWE\", \"FOC\", \"ZUH\", \"WUH\", \"XMN\", \"HFE\", \"HAK\", \"SWA\"  …  \"SHE\", \"HET\", \"PEK\", \"DDG\", \"TAO\", \"YNJ\", \"DLC\", \"JNG\", \"PEK\", \"KJA\"]\n",
       " [\"WUH\", \"CGQ\", \"TNA\", \"CGQ\", \"TAO\", \"NGB\", \"CJU\", \"KUV\", \"CJU\", \"CJJ\"  …  \"NBO\", \"AUH\", \"MEL\", \"LST\", \"FLS\", \"LST\", \"BWT\", \"MEL\", \"BKK\", \"URT\"]"
      ]
     },
     "execution_count": 16,
     "metadata": {},
     "output_type": "execute_result"
    }
   ],
   "source": [
    "#Random walks up to 162 steps\n",
    "italy_RW = country_steps(162, walk_names_multiplex)"
   ]
  },
  {
   "cell_type": "code",
   "execution_count": 17,
   "metadata": {},
   "outputs": [
    {
     "data": {
      "text/plain": [
       "1000×4 Array{String,2}:\n",
       " \"JFK\"  \"BNA\"  \"LGA\"  \"SDF\"\n",
       " \" \"    \" \"    \" \"    \" \"  \n",
       " \"IWJ\"  \"HND\"  \"HSG\"  \"HND\"\n",
       " \"OBY\"  \"CNP\"  \"OBY\"  \"CNP\"\n",
       " \"PMO\"  \"NTE\"  \"TFS\"  \"AMS\"\n",
       " \" \"    \" \"    \" \"    \" \"  \n",
       " \"JJN\"  \"CAN\"  \"DAD\"  \"SIN\"\n",
       " \"TIP\"  \"CMN\"  \"TLS\"  \"BRS\"\n",
       " \"HND\"  \"AXT\"  \"ICN\"  \"FRA\"\n",
       " \"CAN\"  \"REP\"  \"MNL\"  \"DRW\"\n",
       " \"IST\"  \"ZRH\"  \"AMS\"  \"MLA\"\n",
       " \"NCL\"  \"AGP\"  \"BIO\"  \"DUB\"\n",
       " \"BWI\"  \"CHS\"  \"JFK\"  \"LRM\"\n",
       " ⋮                         \n",
       " \"PQQ\"  \"BNE\"  \"LST\"  \"FLS\"\n",
       " \"DUS\"  \"HAM\"  \"NUE\"  \"PMI\"\n",
       " \"CRL\"  \"OPO\"  \"DUB\"  \"PGF\"\n",
       " \"BDA\"  \"LGW\"  \"OLB\"  \"AMS\"\n",
       " \"IAD\"  \"DKR\"  \"ACC\"  \"DKR\"\n",
       " \"DFW\"  \"LHR\"  \"NCE\"  \"KBP\"\n",
       " \"CLJ\"  \"CIA\"  \"RYG\"  \"KGS\"\n",
       " \"STN\"  \"HAJ\"  \"DLM\"  \"AMS\"\n",
       " \"MAD\"  \"MXP\"  \"MIA\"  \"UIO\"\n",
       " \"YBG\"  \"YHU\"  \"YVO\"  \"YKQ\"\n",
       " \"DLC\"  \"JNG\"  \"PEK\"  \"KJA\"\n",
       " \"BWT\"  \"MEL\"  \"BKK\"  \"URT\""
      ]
     },
     "execution_count": 17,
     "metadata": {},
     "output_type": "execute_result"
    }
   ],
   "source": [
    "prueba_italy = MX_llegada(italy_RW, 162)"
   ]
  },
  {
   "cell_type": "code",
   "execution_count": 18,
   "metadata": {},
   "outputs": [
    {
     "data": {
      "text/plain": [
       "26-element Array{Any,1}:\n",
       " 129\n",
       " 134\n",
       " 182\n",
       " 205\n",
       " 217\n",
       " 249\n",
       " 276\n",
       " 353\n",
       " 356\n",
       " 365\n",
       " 413\n",
       " 430\n",
       " 441\n",
       " 452\n",
       " 466\n",
       " 477\n",
       " 535\n",
       " 573\n",
       " 601\n",
       " 673\n",
       " 680\n",
       " 684\n",
       " 699\n",
       " 821\n",
       " 849\n",
       " 882"
      ]
     },
     "execution_count": 18,
     "metadata": {},
     "output_type": "execute_result"
    }
   ],
   "source": [
    "italy_dia = mx_dia(prueba_italy, mx_airp)"
   ]
  },
  {
   "cell_type": "code",
   "execution_count": 19,
   "metadata": {},
   "outputs": [
    {
     "data": {
      "text/plain": [
       "163×26 Array{String,2}:\n",
       " \"WUH\"  \"WUH\"  \"WUH\"  \"WUH\"  \"WUH\"  …  \"WUH\"  \"WUH\"  \"WUH\"  \"WUH\"  \"WUH\"\n",
       " \"MFM\"  \"ENH\"  \"BAV\"  \"NNG\"  \"TYN\"     \"XFN\"  \"CIH\"  \"HYN\"  \"NTG\"  \"HRB\"\n",
       " \"HFE\"  \"WUH\"  \"CTU\"  \"WUH\"  \"TSA\"     \"PEK\"  \"NAY\"  \"SZX\"  \"CAN\"  \"PEK\"\n",
       " \"KWE\"  \"SHE\"  \"XUZ\"  \"SYX\"  \"TSN\"     \"MAD\"  \"NNY\"  \"NTG\"  \"HFE\"  \"HIA\"\n",
       " \"XMN\"  \"TAO\"  \"TPE\"  \"CTU\"  \"KMG\"     \"SCU\"  \"NAY\"  \"SHE\"  \"SZX\"  \"TSN\"\n",
       " \"HAK\"  \"HRB\"  \"CDG\"  \"HET\"  \"KTM\"  …  \"SDQ\"  \"CZX\"  \"MFM\"  \"NNG\"  \"SHE\"\n",
       " \"SHA\"  \"JGD\"  \"TGD\"  \"SHE\"  \"KHI\"     \"MCO\"  \"XMN\"  \"NGB\"  \"ZUH\"  \"TYN\"\n",
       " \"AQG\"  \"OHE\"  \"STN\"  \"XMN\"  \"RUH\"     \"CLT\"  \"NAY\"  \"SYX\"  \"SWA\"  \"LJG\"\n",
       " \"HAK\"  \"HEK\"  \"AHO\"  \"PVG\"  \"MAA\"     \"FLL\"  \"WNZ\"  \"XIY\"  \"YIW\"  \"WUH\"\n",
       " \"HGH\"  \"OHE\"  \"FMM\"  \"DEL\"  \"IXZ\"     \"DCA\"  \"KWE\"  \"TAO\"  \"CTU\"  \"ICN\"\n",
       " \"HRB\"  \"HEK\"  \"CHQ\"  \"KBL\"  \"CCU\"  …  \"SFO\"  \"TAO\"  \"HGH\"  \"HKT\"  \"TNA\"\n",
       " \"FOC\"  \"OHE\"  \"KTW\"  \"PEW\"  \"CGP\"     \"SYD\"  \"TPE\"  \"KMG\"  \"PEN\"  \"SHA\"\n",
       " \"HGH\"  \"HEK\"  \"CHQ\"  \"CJL\"  \"KUL\"     \"PER\"  \"HNL\"  \"CGO\"  \"KUA\"  \"CSX\"\n",
       " ⋮                                  ⋱                              ⋮    \n",
       " \"MYR\"  \"VIE\"  \"CIA\"  \"LIS\"  \"YYZ\"     \"CLT\"  \"KMG\"  \"EWR\"  \"DRS\"  \"ATL\"\n",
       " \"LGA\"  \"GYD\"  \"CFU\"  \"MIA\"  \"SFO\"     \"HTS\"  \"UYN\"  \"DEN\"  \"SVO\"  \"MSN\"\n",
       " \"IND\"  \"FCO\"  \"DME\"  \"CCS\"  \"SLC\"     \"PIE\"  \"XIY\"  \"BZN\"  \"NJC\"  \"ATL\"\n",
       " \"DFW\"  \"NAP\"  \"MAD\"  \"AUA\"  \"RNO\"     \"CID\"  \"CZX\"  \"MSP\"  \"SVO\"  \"EVV\"\n",
       " \"SAN\"  \"LGW\"  \"CUN\"  \"CLT\"  \"SAN\"  …  \"DEN\"  \"CKG\"  \"OMA\"  \"PUJ\"  \"ATL\"\n",
       " \"YYZ\"  \"YVR\"  \"VER\"  \"PLS\"  \"YYC\"     \"TUL\"  \"PEK\"  \"MSP\"  \"MIA\"  \"ECP\"\n",
       " \"MEX\"  \"LAS\"  \"REX\"  \"SJU\"  \"CUN\"     \"MIA\"  \"MDG\"  \"MCI\"  \"BWI\"  \"HOU\"\n",
       " \"HMO\"  \"MSP\"  \"VER\"  \"STX\"  \"BJX\"     \"CZM\"  \"SHE\"  \"MEM\"  \"LAS\"  \"DCA\"\n",
       " \"CUL\"  \"SJC\"  \"MEX\"  \"MIA\"  \"CUN\"     \"CUN\"  \"YVR\"  \"TPA\"  \"SLC\"  \"PHL\"\n",
       " \"GDL\"  \"SJD\"  \"IAH\"  \"MID\"  \"CDG\"  …  \"SLC\"  \"MEX\"  \"RDU\"  \"MDW\"  \"GCM\"\n",
       " \"REX\"  \"GDL\"  \"DEN\"  \"GDL\"  \"AAE\"     \"MSY\"  \"MFE\"  \"PHX\"  \"GDL\"  \"IAH\"\n",
       " \"VER\"  \"CUN\"  \"SAT\"  \"CUL\"  \"CDG\"     \"MEM\"  \"MEX\"  \"PVR\"  \"MTY\"  \"GDL\""
      ]
     },
     "execution_count": 19,
     "metadata": {},
     "output_type": "execute_result"
    }
   ],
   "source": [
    "italy_N_RW = filtro_mx(italy_dia, italy_RW)"
   ]
  },
  {
   "cell_type": "code",
   "execution_count": 20,
   "metadata": {},
   "outputs": [
    {
     "data": {
      "text/plain": [
       "(67, Any[[\"SIN\", \"WKJ\", \"OLB\", \"MED\", \"DAC\", \"VLC\", \"MEX\", \"FDH\", \"ICN\", \"MUC\"  …  \"NKG\", \"KWI\", \"CSX\", \"HTA\", \"AMS\", \"TXL\", \"CNF\", \"HRB\", \"TRO\", \"TSE\"], [\"FRA\", \"HND\", \"CGN\", \"BAH\", \"HKG\", \"MAH\", \"CEN\", \"IST\", \"BOM\", \"DEL\"  …  \"KIX\", \"BKK\", \"SYX\", \"OVB\", \"LPL\", \"FCO\", \"VCP\", \"FOC\", \"SYD\", \"ALA\"], [\"HOG\", \"HSG\", \"HDF\", \"LCA\", \"MAA\", \"MAN\", \"TIJ\", \"KZR\", \"ADD\", \"NRT\"  …  \"DPS\", \"TNA\", \"NKG\", \"LED\", \"REU\", \"DME\", \"IGU\", \"DLC\", \"ADL\", \"PEK\"], [\"YUL\", \"ICN\", \"CGN\", \"KRR\", \"TRV\", \"HRG\", \"UPN\", \"IST\", \"LAD\", \"DFW\"  …  \"PLM\", \"RMQ\", \"SYX\", \"TFS\", \"PIK\", \"GOJ\", \"GIG\", \"HKG\", \"OOL\", \"FRA\"], [\"YMT\", \"TNA\", \"ARN\", \"FRU\", \"BOM\", \"HBE\", \"TIJ\", \"BCN\", \"CAB\", \"SJC\"  …  \"CGK\", \"NKG\", \"KWL\", \"NCL\", \"CCF\", \"TAS\", \"MCZ\", \"YVR\", \"CHC\", \"TAS\"], [\"YKQ\", \"HKG\", \"MMX\", \"KZN\", \"IXU\", \"DXB\", \"ZCL\", \"LIL\", \"LAD\", \"SNA\"  …  \"HKT\", \"FOC\", \"PUS\", \"TFS\", \"PIK\", \"SVX\", \"GRU\", \"YBL\", \"SYD\", \"GYD\"], [\"YMT\", \"KWE\", \"SKP\", \"ALA\", \"BOM\", \"KIH\", \"LAX\", \"ALG\", \"ADD\", \"GDL\"  …  \"UTH\", \"HIA\", \"SHE\", \"SDR\", \"AGP\", \"LCA\", \"MVD\", \"YQQ\", \"DRW\", \"OMS\"], [\"YUL\", \"LJG\", \"LTN\", \"KSN\", \"MUC\", \"DXB\", \"HKG\", \"FCO\", \"JIM\", \"MTY\"  …  \"HKT\", \"HRB\", \"LHW\", \"ACE\", \"EIN\", \"SKG\", \"GRU\", \"YYC\", \"ISA\", \"DME\"], [\"FLL\", \"TNA\", \"FUE\", \"TSE\", \"POZ\", \"LHE\", \"AUH\", \"LED\", \"AMH\", \"CJS\"  …  \"UTP\", \"YTY\", \"KWE\", \"BLQ\", \"RIX\", \"NUE\", \"CGR\", \"MCO\", \"CNS\", \"TMJ\"], [\"TTN\", \"URC\", \"ACE\", \"ALA\", \"CPH\", \"OSL\", \"CMB\", \"VOZ\", \"ADD\", \"TIJ\"  …  \"USM\", \"SZX\", \"KMG\", \"SAW\", \"PRG\", \"ALC\", \"CGB\", \"IND\", \"IRG\", \"DME\"]  …  [\"CUN\", \"BCN\", \"TZX\", \"CID\", \"YYT\", \"MUC\", \"ABV\", \"DLA\", \"OSL\", \"YWG\"  …  \"MAD\", \"PHX\", \"HIJ\", \"RHO\", \"LHR\", \"BDL\", \"SHE\", \"RNO\", \"TUN\", \"ELP\"], [\"DFW\", \"NAP\", \"MAD\", \"AUA\", \"RNO\", \"ARN\", \"DTW\", \"KGA\", \"MAN\", \"YWG\"  …  \"RHO\", \"DTW\", \"MEX\", \"YVR\", \"MTY\", \"CID\", \"CZX\", \"MSP\", \"SVO\", \"EVV\"], [\"SAN\", \"LGW\", \"CUN\", \"CLT\", \"SAN\", \"FRA\", \"YUL\", \"FBM\", \"LIS\", \"YOW\"  …  \"LGW\", \"NAS\", \"GDL\", \"SFO\", \"TGZ\", \"DEN\", \"CKG\", \"OMA\", \"PUJ\", \"ATL\"], [\"YYZ\", \"YVR\", \"VER\", \"PLS\", \"YYC\", \"LAS\", \"MUC\", \"JNB\", \"FRA\", \"YUL\"  …  \"MCO\", \"RSD\", \"LAP\", \"GDL\", \"TIJ\", \"TUL\", \"PEK\", \"MSP\", \"MIA\", \"ECP\"], [\"MEX\", \"LAS\", \"REX\", \"SJU\", \"CUN\", \"MTY\", \"YVR\", \"DOH\", \"MEX\", \"YEG\"  …  \"MEX\", \"NAS\", \"CUL\", \"LAP\", \"SJD\", \"MIA\", \"MDG\", \"MCI\", \"BWI\", \"HOU\"], [\"HMO\", \"MSP\", \"VER\", \"STX\", \"BJX\", \"VSA\", \"SJD\", \"CCJ\", \"TPQ\", \"CUN\"  …  \"SLP\", \"RCY\", \"HMO\", \"MEX\", \"IAH\", \"CZM\", \"SHE\", \"MEM\", \"LAS\", \"DCA\"], [\"CUL\", \"SJC\", \"MEX\", \"MIA\", \"CUN\", \"MTY\", \"MTY\", \"DXB\", \"TIJ\", \"TGZ\"  …  \"CUN\", \"NAS\", \"MEX\", \"TAP\", \"MEX\", \"CUN\", \"YVR\", \"TPA\", \"SLC\", \"PHL\"], [\"GDL\", \"SJD\", \"IAH\", \"MID\", \"CDG\", \"CUN\", \"PTY\", \"SFO\", \"SJD\", \"MEX\"  …  \"SLP\", \"HAV\", \"TAP\", \"MEX\", \"CVM\", \"SLC\", \"MEX\", \"RDU\", \"MDW\", \"GCM\"], [\"REX\", \"GDL\", \"DEN\", \"GDL\", \"AAE\", \"CVG\", \"BOG\", \"CUN\", \"DEN\", \"ZLO\"  …  \"TIJ\", \"MEX\", \"MEX\", \"LAS\", \"MEX\", \"MSY\", \"MFE\", \"PHX\", \"GDL\", \"IAH\"], [\"VER\", \"CUN\", \"SAT\", \"CUL\", \"CDG\", \"LGA\", \"SCL\", \"CDG\", \"KEF\", \"TIJ\"  …  \"PBC\", \"TGZ\", \"CLT\", \"LHR\", \"DFW\", \"MEM\", \"MEX\", \"PVR\", \"MTY\", \"GDL\"]], Any[7, 7, 7, 7, 7, 7, 10, 10, 10, 10  …  1, 19, 3, 3, 1, 1, 1, 1, 1, 1])"
      ]
     },
     "execution_count": 20,
     "metadata": {},
     "output_type": "execute_result"
    }
   ],
   "source": [
    "italy_WUH_MX = busca_vuelos_WUH_MX(italy_N_RW, mx_airp)"
   ]
  },
  {
   "cell_type": "code",
   "execution_count": 21,
   "metadata": {},
   "outputs": [
    {
     "data": {
      "text/plain": [
       "(23, Any[[\"SIN\", \"WKJ\", \"OLB\", \"MED\", \"DAC\", \"VLC\", \"MEX\", \"FDH\", \"ICN\", \"MUC\"  …  \"NKG\", \"KWI\", \"CSX\", \"HTA\", \"AMS\", \"TXL\", \"CNF\", \"HRB\", \"TRO\", \"TSE\"], [\"FRA\", \"HND\", \"CGN\", \"BAH\", \"HKG\", \"MAH\", \"CEN\", \"IST\", \"BOM\", \"DEL\"  …  \"KIX\", \"BKK\", \"SYX\", \"OVB\", \"LPL\", \"FCO\", \"VCP\", \"FOC\", \"SYD\", \"ALA\"], [\"YUL\", \"LJG\", \"LTN\", \"KSN\", \"MUC\", \"DXB\", \"HKG\", \"FCO\", \"JIM\", \"MTY\"  …  \"HKT\", \"HRB\", \"LHW\", \"ACE\", \"EIN\", \"SKG\", \"GRU\", \"YYC\", \"ISA\", \"DME\"], [\"FLL\", \"TNA\", \"FUE\", \"TSE\", \"POZ\", \"LHE\", \"AUH\", \"LED\", \"AMH\", \"CJS\"  …  \"UTP\", \"YTY\", \"KWE\", \"BLQ\", \"RIX\", \"NUE\", \"CGR\", \"MCO\", \"CNS\", \"TMJ\"], [\"DTW\", \"DYU\", \"LPA\", \"PEK\", \"VCE\", \"AMS\", \"TRZ\", \"DME\", \"DEL\", \"CUL\"  …  \"KBV\", \"CGO\", \"XUZ\", \"BCN\", \"GOJ\", \"BGO\", \"ROO\", \"LGA\", \"CNS\", \"HTA\"], [\"YYZ\", \"IST\", \"CRL\", \"EBL\", \"AMS\", \"AYT\", \"DEL\", \"DME\", \"CAN\", \"TIJ\"  …  \"DPS\", \"BKK\", \"PUS\", \"VCE\", \"OGZ\", \"PAD\", \"LDB\", \"LGA\", \"AUH\", \"MJZ\"], [\"ATH\", \"VAS\", \"CFU\", \"IKA\", \"MSP\", \"ADB\", \"BDQ\", \"PEZ\", \"BAV\", \"CUU\"  …  \"PHE\", \"KUL\", \"CTS\", \"LHR\", \"DME\", \"ACE\", \"CWB\", \"MSN\", \"BAH\", \"IKT\"], [\"BLK\", \"VLS\", \"APW\", \"FLR\", \"LOS\", \"LGA\", \"AUS\", \"SCL\", \"KWI\", \"CUK\"  …  \"ICN\", \"DUS\", \"FUK\", \"OUA\", \"PHL\", \"ORK\", \"HER\", \"BVA\", \"KWE\", \"ALC\"], [\"YVP\", \"DSN\", \"HUH\", \"DUB\", \"CVG\", \"SQS\", \"YMM\", \"CAC\", \"TSE\", \"BZE\"  …  \"NGB\", \"MUC\", \"SXM\", \"ICN\", \"CUN\", \"MCO\", \"CDG\", \"CPH\", \"PEK\", \"ROV\"], [\"YTZ\", \"HIA\", \"PPT\", \"BRS\", \"BHX\", \"BCV\", \"BOS\", \"FLN\", \"DLC\", \"DFW\"  …  \"SYX\", \"IND\", \"GND\", \"MCT\", \"TIJ\", \"BON\", \"EMA\", \"YYZ\", \"SYZ\", \"LED\"]  …  [\"PTP\", \"DTW\", \"PPT\", \"BHX\", \"VVI\", \"EMA\", \"LST\", \"FOR\", \"PVD\", \"IGU\"  …  \"KTM\", \"REG\", \"MEX\", \"BCN\", \"LHR\", \"VDC\", \"SAB\", \"YEG\", \"BEG\", \"YYZ\"], [\"KUL\", \"YQM\", \"VNO\", \"SAT\", \"SMR\", \"YUL\", \"TNR\", \"REC\", \"MXP\", \"PLU\"  …  \"CLT\", \"BLL\", \"MDZ\", \"AMS\", \"CCC\", \"TXL\", \"MKE\", \"SXF\", \"BXR\", \"HUX\"], [\"KBP\", \"ORD\", \"DMM\", \"IAH\", \"YYZ\", \"ESM\", \"YNB\", \"NTE\", \"SVO\", \"CMB\"  …  \"SJC\", \"TLL\", \"AEP\", \"FLL\", \"HRG\", \"ARN\", \"MEX\", \"BDS\", \"GBT\", \"PIT\"], [\"MAD\", \"SAN\", \"LHE\", \"SNA\", \"YQG\", \"UIO\", \"IST\", \"AGP\", \"VAR\", \"CDG\"  …  \"GDL\", \"BRE\", \"MDQ\", \"BDL\", \"LGW\", \"SAW\", \"PTY\", \"MXP\", \"ZAH\", \"ATL\"], [\"TNG\", \"NRT\", \"BCN\", \"GDL\", \"YYZ\", \"GYE\", \"OSL\", \"GVA\", \"DME\", \"PMO\"  …  \"LMM\", \"SKG\", \"AEP\", \"BWI\", \"DUS\", \"TIA\", \"MIA\", \"EDI\", \"MHD\", \"DCA\"], [\"AMS\", \"IAD\", \"RTM\", \"ORD\", \"PTY\", \"CUE\", \"LIS\", \"FAO\", \"LED\", \"VCE\"  …  \"TIJ\", \"NUE\", \"POA\", \"MCO\", \"FUE\", \"MXP\", \"CLT\", \"FAO\", \"KSH\", \"LAS\"], [\"ATH\", \"VIE\", \"HAM\", \"LAX\", \"MIA\", \"CCS\", \"VCE\", \"MUC\", \"SVO\", \"YMT\"  …  \"TIJ\", \"BHX\", \"POA\", \"MCO\", \"OLB\", \"DUB\", \"SAT\", \"HER\", \"SYZ\", \"AZA\"], [\"MUC\", \"PVG\", \"SUB\", \"BDL\", \"LGW\", \"SAL\", \"BGO\", \"VLC\", \"NRT\", \"YMT\"  …  \"YEG\", \"FRA\", \"MTY\", \"RLG\", \"LBA\", \"PRG\", \"CUN\", \"GRO\", \"SVX\", \"LAS\"], [\"ADA\", \"TAS\", \"BKI\", \"GNV\", \"SXF\", \"TXL\", \"EDI\", \"BEY\", \"ICN\", \"YKQ\"  …  \"FCO\", \"CUN\", \"TIJ\", \"BGO\", \"GLA\", \"HEL\", \"ORD\", \"LHR\", \"SVX\", \"DFW\"], [\"DFW\", \"NAP\", \"MAD\", \"AUA\", \"RNO\", \"ARN\", \"DTW\", \"KGA\", \"MAN\", \"YWG\"  …  \"RHO\", \"DTW\", \"MEX\", \"YVR\", \"MTY\", \"CID\", \"CZX\", \"MSP\", \"SVO\", \"EVV\"]], Any[2, 21, 7, 19, 4, 19, 14, 3, 14, 11  …  13, 8, 14, 12, 9, 9, 6, 13, 16, 1], Any[7, 7, 10, 10, 10, 10, 10, 14, 21, 21  …  19, 26, 23, 17, 4, 17, 17, 19, 12, 19])"
      ]
     },
     "execution_count": 21,
     "metadata": {},
     "output_type": "execute_result"
    }
   ],
   "source": [
    "italy_pasa_inf = busca_vuelos_pasa_inf(italy_WUH_MX, italy_airp)"
   ]
  },
  {
   "cell_type": "code",
   "execution_count": 22,
   "metadata": {},
   "outputs": [
    {
     "data": {
      "text/plain": [
       "(16, Any[[\"SIN\", \"WKJ\", \"OLB\", \"MED\", \"DAC\", \"VLC\", \"MEX\", \"FDH\", \"ICN\", \"MUC\"  …  \"NKG\", \"KWI\", \"CSX\", \"HTA\", \"AMS\", \"TXL\", \"CNF\", \"HRB\", \"TRO\", \"TSE\"], [\"YUL\", \"LJG\", \"LTN\", \"KSN\", \"MUC\", \"DXB\", \"HKG\", \"FCO\", \"JIM\", \"MTY\"  …  \"HKT\", \"HRB\", \"LHW\", \"ACE\", \"EIN\", \"SKG\", \"GRU\", \"YYC\", \"ISA\", \"DME\"], [\"DTW\", \"DYU\", \"LPA\", \"PEK\", \"VCE\", \"AMS\", \"TRZ\", \"DME\", \"DEL\", \"CUL\"  …  \"KBV\", \"CGO\", \"XUZ\", \"BCN\", \"GOJ\", \"BGO\", \"ROO\", \"LGA\", \"CNS\", \"HTA\"], [\"BLK\", \"VLS\", \"APW\", \"FLR\", \"LOS\", \"LGA\", \"AUS\", \"SCL\", \"KWI\", \"CUK\"  …  \"ICN\", \"DUS\", \"FUK\", \"OUA\", \"PHL\", \"ORK\", \"HER\", \"BVA\", \"KWE\", \"ALC\"], [\"YVP\", \"DSN\", \"HUH\", \"DUB\", \"CVG\", \"SQS\", \"YMM\", \"CAC\", \"TSE\", \"BZE\"  …  \"NGB\", \"MUC\", \"SXM\", \"ICN\", \"CUN\", \"MCO\", \"CDG\", \"CPH\", \"PEK\", \"ROV\"], [\"YTZ\", \"HIA\", \"PPT\", \"BRS\", \"BHX\", \"BCV\", \"BOS\", \"FLN\", \"DLC\", \"DFW\"  …  \"SYX\", \"IND\", \"GND\", \"MCT\", \"TIJ\", \"BON\", \"EMA\", \"YYZ\", \"SYZ\", \"LED\"], [\"YQB\", \"PEK\", \"TKX\", \"BGY\", \"KUN\", \"BZE\", \"CHS\", \"CGH\", \"KHN\", \"CZM\"  …  \"CSX\", \"CUN\", \"POS\", \"CDG\", \"OAX\", \"CUR\", \"ACE\", \"LGA\", \"MHD\", \"SKD\"], [\"MIA\", \"PVG\", \"AUQ\", \"STR\", \"SRE\", \"AMS\", \"FLS\", \"THE\", \"RSW\", \"LIM\"  …  \"CAN\", \"FCO\", \"PAZ\", \"GOA\", \"JED\", \"SSA\", \"SXM\", \"EWR\", \"CRL\", \"KHI\"], [\"PTP\", \"DTW\", \"PPT\", \"BHX\", \"VVI\", \"EMA\", \"LST\", \"FOR\", \"PVD\", \"IGU\"  …  \"KTM\", \"REG\", \"MEX\", \"BCN\", \"LHR\", \"VDC\", \"SAB\", \"YEG\", \"BEG\", \"YYZ\"], [\"KUL\", \"YQM\", \"VNO\", \"SAT\", \"SMR\", \"YUL\", \"TNR\", \"REC\", \"MXP\", \"PLU\"  …  \"CLT\", \"BLL\", \"MDZ\", \"AMS\", \"CCC\", \"TXL\", \"MKE\", \"SXF\", \"BXR\", \"HUX\"], [\"KBP\", \"ORD\", \"DMM\", \"IAH\", \"YYZ\", \"ESM\", \"YNB\", \"NTE\", \"SVO\", \"CMB\"  …  \"SJC\", \"TLL\", \"AEP\", \"FLL\", \"HRG\", \"ARN\", \"MEX\", \"BDS\", \"GBT\", \"PIT\"], [\"MAD\", \"SAN\", \"LHE\", \"SNA\", \"YQG\", \"UIO\", \"IST\", \"AGP\", \"VAR\", \"CDG\"  …  \"GDL\", \"BRE\", \"MDQ\", \"BDL\", \"LGW\", \"SAW\", \"PTY\", \"MXP\", \"ZAH\", \"ATL\"], [\"AMS\", \"IAD\", \"RTM\", \"ORD\", \"PTY\", \"CUE\", \"LIS\", \"FAO\", \"LED\", \"VCE\"  …  \"TIJ\", \"NUE\", \"POA\", \"MCO\", \"FUE\", \"MXP\", \"CLT\", \"FAO\", \"KSH\", \"LAS\"], [\"ATH\", \"VIE\", \"HAM\", \"LAX\", \"MIA\", \"CCS\", \"VCE\", \"MUC\", \"SVO\", \"YMT\"  …  \"TIJ\", \"BHX\", \"POA\", \"MCO\", \"OLB\", \"DUB\", \"SAT\", \"HER\", \"SYZ\", \"AZA\"], [\"MUC\", \"PVG\", \"SUB\", \"BDL\", \"LGW\", \"SAL\", \"BGO\", \"VLC\", \"NRT\", \"YMT\"  …  \"YEG\", \"FRA\", \"MTY\", \"RLG\", \"LBA\", \"PRG\", \"CUN\", \"GRO\", \"SVX\", \"LAS\"], [\"DFW\", \"NAP\", \"MAD\", \"AUA\", \"RNO\", \"ARN\", \"DTW\", \"KGA\", \"MAN\", \"YWG\"  …  \"RHO\", \"DTW\", \"MEX\", \"YVR\", \"MTY\", \"CID\", \"CZX\", \"MSP\", \"SVO\", \"EVV\"]])"
      ]
     },
     "execution_count": 22,
     "metadata": {},
     "output_type": "execute_result"
    }
   ],
   "source": [
    "ITALY_MX = busca_vuelos_INF_MX(italy_pasa_inf, italy_WUH_MX)"
   ]
  },
  {
   "cell_type": "markdown",
   "metadata": {},
   "source": [
    "#### Type 2"
   ]
  },
  {
   "cell_type": "code",
   "execution_count": 23,
   "metadata": {},
   "outputs": [
    {
     "data": {
      "text/plain": [
       "(460, Any[Any[[\"WUH\", \"SIN\", \"LOP\", \"SUB\", \"UPG\", \"DJJ\", \"UPG\", \"KUL\", \"BKK\", \"FCO\"  …  \" \", \" \", \" \", \" \", \" \", \" \", \" \", \" \", \" \", \" \"]], Any[[\"WUH\", \"HAK\", \"CGD\", \"CAN\", \"SIN\", \"TPE\", \"NRT\", \"CAN\", \"AEB\", \"CAN\"  …  \"XIY\", \"ENY\", \"XIY\", \"SJW\", \"HGH\", \"CSX\", \"JJN\", \"CAN\", \"DAD\", \"SIN\"]], Any[[\"WUH\", \"SZX\", \"HGH\", \"HKG\", \"DMK\", \"SNO\", \"DMK\", \"KBV\", \"KUL\", \"NRT\"  …  \"KHN\", \"TYN\", \"URC\", \"HET\", \"CKG\", \"HDG\", \"CAN\", \"REP\", \"MNL\", \"DRW\"]], Any[[\"WUH\", \"LYI\", \"XIY\", \"RLK\", \"HET\", \"TSN\", \"WUH\", \"HGH\", \"TAO\", \"BKK\"  …  \"BUD\", \"IEV\", \"VLC\", \"OVD\", \"STN\", \"DLM\", \"IST\", \"ZRH\", \"AMS\", \"MLA\"]], Any[[\"WUH\", \"NNG\", \"PEK\", \"MRU\", \"LHR\", \"JFK\", \"STL\", \"LAX\", \"ZLO\", \"LAX\"  …  \"KUL\", \"CDG\", \"BKK\", \"HYD\", \"DEL\", \"KWI\", \"BKK\", \"CEI\", \"BKK\", \"OSL\"]], Any[[\"WUH\", \"INC\", \"HKG\", \"KHV\", \"BQS\", \"HTA\", \"BQS\", \"VVO\", \"ICN\", \"AXT\"  …  \"TNG\", \"LGW\", \"OSL\", \"BKK\", \"VIE\", \"TGD\", \"FRA\", \"DEN\", \"FRA\", \"BCN\"]], Any[[\"WUH\", \"AQG\", \"PEK\", \"YIC\", \"SHA\", \"SHE\", \"TAO\", \"PEK\", \"NZH\", \"UUD\"  …  \"IPC\", \"SCL\", \"ANF\", \"SCL\", \"COR\", \"EZE\", \"MAD\", \"PUJ\", \"PHL\", \"SXM\"]], Any[[\"WUH\", \"HAK\", \"HFE\", \"KWL\", \"TPE\", \"WUH\", \"LZH\", \"SZX\", \"HAK\", \"SIN\"  …  \"GCM\", \"IAH\", \"FRA\", \"MAA\", \"AMD\", \"MAA\", \"TRZ\", \"MAA\", \"CCJ\", \"BOM\"]], Any[[\"WUH\", \"YTY\", \"HRB\", \"CJU\", \"MWX\", \"PVG\", \"DEL\", \"DOH\", \"GYD\", \"SVO\"  …  \"MLA\", \"CWL\", \"AGP\", \"AMS\", \"NRT\", \"SDJ\", \"ITM\", \"KMJ\", \"NKM\", \"GAJ\"]], Any[[\"WUH\", \"DMK\", \"NNT\", \"CNX\", \"WUH\", \"YNT\", \"CAN\", \"BFJ\", \"SZX\", \"TAO\"  …  \"HAK\", \"PEK\", \"KWL\", \"NGB\", \"LJG\", \"CSX\", \"YNZ\", \"XIY\", \"HIA\", \"SHA\"]]  …  Any[[\"WUH\", \"PUS\", \"SHE\", \"HFE\", \"TPE\", \"CTS\", \"HND\", \"HKG\", \"CDG\", \"AAE\"  …  \"FAE\", \"SVG\", \"KEF\", \"GOH\", \"KUS\", \"RKV\", \"IFJ\", \"RKV\", \"IFJ\", \"RKV\"]], Any[[\"WUH\", \"WNZ\", \"TNA\", \"CGQ\", \"WUH\", \"WUX\", \"WUH\", \"YCU\", \"CKG\", \"AVA\"  …  \"ATL\", \"MCN\", \"ATL\", \"CZM\", \"MIA\", \"BOG\", \"VVC\", \"PCR\", \"BOG\", \"RVE\"]], Any[[\"WUH\", \"LYG\", \"DLC\", \"CJU\", \"TSN\", \"NTG\", \"XMN\", \"TXN\", \"DLC\", \"CIF\"  …  \"HGH\", \"KOW\", \"ZUH\", \"KMG\", \"SHA\", \"CSX\", \"DMK\", \"BFV\", \"DMK\", \"CNX\"]], Any[[\"WUH\", \"LYG\", \"DLC\", \"SJW\", \"SZX\", \"SHA\", \"CIH\", \"HAK\", \"HKG\", \"ZHA\"  …  \"PKN\", \"SRG\", \"SIN\", \"PVG\", \"LZO\", \"HGH\", \"GYS\", \"PEK\", \"HIA\", \"HRB\"]], Any[[\"WUH\", \"MFM\", \"RMQ\", \"MZG\", \"RMQ\", \"HAN\", \"CTU\", \"ICN\", \"CMB\", \"BLR\"  …  \"SHE\", \"PVG\", \"MRU\", \"RRG\", \"MRU\", \"LGW\", \"BDA\", \"LGW\", \"OLB\", \"AMS\"]], Any[[\"WUH\", \"URC\", \"CKG\", \"LZH\", \"SHA\", \"LCX\", \"SHA\", \"KWL\", \"KWE\", \"XNN\"  …  \"GYD\", \"PEK\", \"IAD\", \"PHX\", \"OGG\", \"SMF\", \"IAD\", \"DKR\", \"ACC\", \"DKR\"]], Any[[\"WUH\", \"CDG\", \"CZL\", \"NCE\", \"BCN\", \"EDI\", \"CDG\", \"CLY\", \"BOD\", \"MRS\"  …  \"LEI\", \"DUB\", \"BZG\", \"STN\", \"GOA\", \"BCN\", \"CLJ\", \"CIA\", \"RYG\", \"KGS\"]], Any[[\"WUH\", \"HGH\", \"LYI\", \"HGH\", \"BHY\", \"HAK\", \"NKG\", \"CIF\", \"HLD\", \"TGO\"  …  \"STN\", \"RYG\", \"MAN\", \"LCA\", \"IEV\", \"BUD\", \"STN\", \"HAJ\", \"DLM\", \"AMS\"]], Any[[\"WUH\", \"PEK\", \"UYN\", \"TSN\", \"XIY\", \"LYI\", \"CAN\", \"XUZ\", \"XMN\", \"KWL\"  …  \"JFK\", \"SJU\", \"PBI\", \"BWI\", \"RSW\", \"BOS\", \"MAD\", \"MXP\", \"MIA\", \"UIO\"]], Any[[\"WUH\", \"TAO\", \"RMQ\", \"HAN\", \"PVG\", \"MRU\", \"JNB\", \"BEW\", \"UEL\", \"TET\"  …  \"DXB\", \"FCO\", \"OLB\", \"FCO\", \"YUL\", \"YWK\", \"YBG\", \"YHU\", \"YVO\", \"YKQ\"]]], Any[35, 40, 60, 112, 9, 76, 131, 148, 22, 45  …  64, 95, 91, 41, 128, 122, 26, 96, 79, 61])"
      ]
     },
     "execution_count": 23,
     "metadata": {},
     "output_type": "execute_result"
    }
   ],
   "source": [
    "italy_WUH_MX2 = busca_vuelos_WUH_MX2(italy_RW, mx_airp)"
   ]
  },
  {
   "cell_type": "code",
   "execution_count": 24,
   "metadata": {},
   "outputs": [
    {
     "data": {
      "text/plain": [
       "(401, Any[[\"WUH\", \"SIN\", \"LOP\", \"SUB\", \"UPG\", \"DJJ\", \"UPG\", \"KUL\", \"BKK\", \"FCO\"  …  \" \", \" \", \" \", \" \", \" \", \" \", \" \", \" \", \" \", \" \"], [\"WUH\", \"HAK\", \"CGD\", \"CAN\", \"SIN\", \"TPE\", \"NRT\", \"CAN\", \"AEB\", \"CAN\"  …  \"XIY\", \"ENY\", \"XIY\", \"SJW\", \"HGH\", \"CSX\", \"JJN\", \"CAN\", \"DAD\", \"SIN\"], [\"WUH\", \"LYI\", \"XIY\", \"RLK\", \"HET\", \"TSN\", \"WUH\", \"HGH\", \"TAO\", \"BKK\"  …  \"BUD\", \"IEV\", \"VLC\", \"OVD\", \"STN\", \"DLM\", \"IST\", \"ZRH\", \"AMS\", \"MLA\"], [\"WUH\", \"NNG\", \"PEK\", \"MRU\", \"LHR\", \"JFK\", \"STL\", \"LAX\", \"ZLO\", \"LAX\"  …  \"KUL\", \"CDG\", \"BKK\", \"HYD\", \"DEL\", \"KWI\", \"BKK\", \"CEI\", \"BKK\", \"OSL\"], [\"WUH\", \"INC\", \"HKG\", \"KHV\", \"BQS\", \"HTA\", \"BQS\", \"VVO\", \"ICN\", \"AXT\"  …  \"TNG\", \"LGW\", \"OSL\", \"BKK\", \"VIE\", \"TGD\", \"FRA\", \"DEN\", \"FRA\", \"BCN\"], [\"WUH\", \"AQG\", \"PEK\", \"YIC\", \"SHA\", \"SHE\", \"TAO\", \"PEK\", \"NZH\", \"UUD\"  …  \"IPC\", \"SCL\", \"ANF\", \"SCL\", \"COR\", \"EZE\", \"MAD\", \"PUJ\", \"PHL\", \"SXM\"], [\"WUH\", \"HAK\", \"HFE\", \"KWL\", \"TPE\", \"WUH\", \"LZH\", \"SZX\", \"HAK\", \"SIN\"  …  \"GCM\", \"IAH\", \"FRA\", \"MAA\", \"AMD\", \"MAA\", \"TRZ\", \"MAA\", \"CCJ\", \"BOM\"], [\"WUH\", \"YTY\", \"HRB\", \"CJU\", \"MWX\", \"PVG\", \"DEL\", \"DOH\", \"GYD\", \"SVO\"  …  \"MLA\", \"CWL\", \"AGP\", \"AMS\", \"NRT\", \"SDJ\", \"ITM\", \"KMJ\", \"NKM\", \"GAJ\"], [\"WUH\", \"DMK\", \"NNT\", \"CNX\", \"WUH\", \"YNT\", \"CAN\", \"BFJ\", \"SZX\", \"TAO\"  …  \"HAK\", \"PEK\", \"KWL\", \"NGB\", \"LJG\", \"CSX\", \"YNZ\", \"XIY\", \"HIA\", \"SHA\"], [\"WUH\", \"PVG\", \"CGQ\", \"CKG\", \"SWA\", \"CKG\", \"HIA\", \"HRB\", \"TSN\", \"ICN\"  …  \"XIY\", \"MIG\", \"NKG\", \"ZYI\", \"SYX\", \"SJW\", \"LJG\", \"PEK\", \"AOG\", \"PVG\"]  …  [\"WUH\", \"HKG\", \"ICN\", \"OKA\", \"UEO\", \"OKA\", \"PUS\", \"KLO\", \"CEB\", \"SIN\"  …  \"KRK\", \"BVA\", \"DUB\", \"JFK\", \"BGI\", \"SVD\", \"BGI\", \"SLU\", \"DOM\", \"ANU\"], [\"WUH\", \"PUS\", \"SHE\", \"HFE\", \"TPE\", \"CTS\", \"HND\", \"HKG\", \"CDG\", \"AAE\"  …  \"FAE\", \"SVG\", \"KEF\", \"GOH\", \"KUS\", \"RKV\", \"IFJ\", \"RKV\", \"IFJ\", \"RKV\"], [\"WUH\", \"LYG\", \"DLC\", \"CJU\", \"TSN\", \"NTG\", \"XMN\", \"TXN\", \"DLC\", \"CIF\"  …  \"HGH\", \"KOW\", \"ZUH\", \"KMG\", \"SHA\", \"CSX\", \"DMK\", \"BFV\", \"DMK\", \"CNX\"], [\"WUH\", \"LYG\", \"DLC\", \"SJW\", \"SZX\", \"SHA\", \"CIH\", \"HAK\", \"HKG\", \"ZHA\"  …  \"PKN\", \"SRG\", \"SIN\", \"PVG\", \"LZO\", \"HGH\", \"GYS\", \"PEK\", \"HIA\", \"HRB\"], [\"WUH\", \"MFM\", \"RMQ\", \"MZG\", \"RMQ\", \"HAN\", \"CTU\", \"ICN\", \"CMB\", \"BLR\"  …  \"SHE\", \"PVG\", \"MRU\", \"RRG\", \"MRU\", \"LGW\", \"BDA\", \"LGW\", \"OLB\", \"AMS\"], [\"WUH\", \"URC\", \"CKG\", \"LZH\", \"SHA\", \"LCX\", \"SHA\", \"KWL\", \"KWE\", \"XNN\"  …  \"GYD\", \"PEK\", \"IAD\", \"PHX\", \"OGG\", \"SMF\", \"IAD\", \"DKR\", \"ACC\", \"DKR\"], [\"WUH\", \"CDG\", \"CZL\", \"NCE\", \"BCN\", \"EDI\", \"CDG\", \"CLY\", \"BOD\", \"MRS\"  …  \"LEI\", \"DUB\", \"BZG\", \"STN\", \"GOA\", \"BCN\", \"CLJ\", \"CIA\", \"RYG\", \"KGS\"], [\"WUH\", \"HGH\", \"LYI\", \"HGH\", \"BHY\", \"HAK\", \"NKG\", \"CIF\", \"HLD\", \"TGO\"  …  \"STN\", \"RYG\", \"MAN\", \"LCA\", \"IEV\", \"BUD\", \"STN\", \"HAJ\", \"DLM\", \"AMS\"], [\"WUH\", \"PEK\", \"UYN\", \"TSN\", \"XIY\", \"LYI\", \"CAN\", \"XUZ\", \"XMN\", \"KWL\"  …  \"JFK\", \"SJU\", \"PBI\", \"BWI\", \"RSW\", \"BOS\", \"MAD\", \"MXP\", \"MIA\", \"UIO\"], [\"WUH\", \"TAO\", \"RMQ\", \"HAN\", \"PVG\", \"MRU\", \"JNB\", \"BEW\", \"UEL\", \"TET\"  …  \"DXB\", \"FCO\", \"OLB\", \"FCO\", \"YUL\", \"YWK\", \"YBG\", \"YHU\", \"YVO\", \"YKQ\"]], Any[9, 40, 36, 21, 57, 47, 39, 14, 91, 16  …  80, 13, 31, 80, 88, 33, 34, 47, 62, 120], Any[35, 40, 112, 9, 76, 131, 148, 22, 45, 42  …  96, 64, 91, 41, 128, 122, 26, 96, 79, 61])"
      ]
     },
     "execution_count": 24,
     "metadata": {},
     "output_type": "execute_result"
    }
   ],
   "source": [
    "italy_pasa_inf2 = busca_vuelos_pasa_inf2(italy_WUH_MX2, italy_airp)"
   ]
  },
  {
   "cell_type": "code",
   "execution_count": 25,
   "metadata": {},
   "outputs": [
    {
     "data": {
      "text/plain": [
       "(256, Any[[\"WUH\", \"SIN\", \"LOP\", \"SUB\", \"UPG\", \"DJJ\", \"UPG\", \"KUL\", \"BKK\", \"FCO\"  …  \" \", \" \", \" \", \" \", \" \", \" \", \" \", \" \", \" \", \" \"], [\"WUH\", \"LYI\", \"XIY\", \"RLK\", \"HET\", \"TSN\", \"WUH\", \"HGH\", \"TAO\", \"BKK\"  …  \"BUD\", \"IEV\", \"VLC\", \"OVD\", \"STN\", \"DLM\", \"IST\", \"ZRH\", \"AMS\", \"MLA\"], [\"WUH\", \"INC\", \"HKG\", \"KHV\", \"BQS\", \"HTA\", \"BQS\", \"VVO\", \"ICN\", \"AXT\"  …  \"TNG\", \"LGW\", \"OSL\", \"BKK\", \"VIE\", \"TGD\", \"FRA\", \"DEN\", \"FRA\", \"BCN\"], [\"WUH\", \"AQG\", \"PEK\", \"YIC\", \"SHA\", \"SHE\", \"TAO\", \"PEK\", \"NZH\", \"UUD\"  …  \"IPC\", \"SCL\", \"ANF\", \"SCL\", \"COR\", \"EZE\", \"MAD\", \"PUJ\", \"PHL\", \"SXM\"], [\"WUH\", \"HAK\", \"HFE\", \"KWL\", \"TPE\", \"WUH\", \"LZH\", \"SZX\", \"HAK\", \"SIN\"  …  \"GCM\", \"IAH\", \"FRA\", \"MAA\", \"AMD\", \"MAA\", \"TRZ\", \"MAA\", \"CCJ\", \"BOM\"], [\"WUH\", \"YTY\", \"HRB\", \"CJU\", \"MWX\", \"PVG\", \"DEL\", \"DOH\", \"GYD\", \"SVO\"  …  \"MLA\", \"CWL\", \"AGP\", \"AMS\", \"NRT\", \"SDJ\", \"ITM\", \"KMJ\", \"NKM\", \"GAJ\"], [\"WUH\", \"PVG\", \"CGQ\", \"CKG\", \"SWA\", \"CKG\", \"HIA\", \"HRB\", \"TSN\", \"ICN\"  …  \"XIY\", \"MIG\", \"NKG\", \"ZYI\", \"SYX\", \"SJW\", \"LJG\", \"PEK\", \"AOG\", \"PVG\"], [\"WUH\", \"FOC\", \"HRB\", \"NAY\", \"UYN\", \"KMG\", \"HAK\", \"SIN\", \"KUA\", \"SIN\"  …  \"RSW\", \"TTN\", \"MDW\", \"ABQ\", \"CNM\", \"ABQ\", \"MDW\", \"RDU\", \"MSP\", \"RDU\"], [\"WUH\", \"NTG\", \"CAN\", \"XFN\", \"NAY\", \"NDG\", \"PVG\", \"PEK\", \"TAO\", \"DDG\"  …  \"LAX\", \"CMH\", \"FPO\", \"BWI\", \"JAX\", \"BOS\", \"FLL\", \"SAL\", \"MCO\", \"YHZ\"], [\"WUH\", \"HGH\", \"XIY\", \"TNA\", \"CGO\", \"KRL\", \"CGO\", \"XNN\", \"YUS\", \"XNN\"  …  \"NCE\", \"FSC\", \"NTE\", \"SVQ\", \"RAK\", \"BSL\", \"LGW\", \"HER\", \"GRQ\", \"FAO\"]  …  [\"WUH\", \"HGH\", \"JNZ\", \"HGH\", \"INC\", \"LXA\", \"LZY\", \"CTU\", \"HKG\", \"HGH\"  …  \"ORY\", \"TLS\", \"BSL\", \"BCN\", \"BLQ\", \"IBZ\", \"DUS\", \"OLB\", \"VCE\", \"PNL\"], [\"WUH\", \"TSN\", \"HAK\", \"TSN\", \"DYG\", \"PVG\", \"KIJ\", \"ITM\", \"HND\", \"MMY\"  …  \"SVQ\", \"GVA\", \"SPU\", \"LYS\", \"MIR\", \"BRU\", \"MIR\", \"ORY\", \"BJA\", \"ALG\"], [\"WUH\", \"HRB\", \"TPE\", \"KLO\", \"TPE\", \"BKK\", \"HKT\", \"CAN\", \"LUM\", \"PEK\"  …  \"LGW\", \"DME\", \"PMI\", \"ORK\", \"MUC\", \"BRI\", \"TRS\", \"NAP\", \"MUC\", \"BRE\"], [\"WUH\", \"HKG\", \"ICN\", \"OKA\", \"UEO\", \"OKA\", \"PUS\", \"KLO\", \"CEB\", \"SIN\"  …  \"KRK\", \"BVA\", \"DUB\", \"JFK\", \"BGI\", \"SVD\", \"BGI\", \"SLU\", \"DOM\", \"ANU\"], [\"WUH\", \"PUS\", \"SHE\", \"HFE\", \"TPE\", \"CTS\", \"HND\", \"HKG\", \"CDG\", \"AAE\"  …  \"FAE\", \"SVG\", \"KEF\", \"GOH\", \"KUS\", \"RKV\", \"IFJ\", \"RKV\", \"IFJ\", \"RKV\"], [\"WUH\", \"LYG\", \"DLC\", \"CJU\", \"TSN\", \"NTG\", \"XMN\", \"TXN\", \"DLC\", \"CIF\"  …  \"HGH\", \"KOW\", \"ZUH\", \"KMG\", \"SHA\", \"CSX\", \"DMK\", \"BFV\", \"DMK\", \"CNX\"], [\"WUH\", \"MFM\", \"RMQ\", \"MZG\", \"RMQ\", \"HAN\", \"CTU\", \"ICN\", \"CMB\", \"BLR\"  …  \"SHE\", \"PVG\", \"MRU\", \"RRG\", \"MRU\", \"LGW\", \"BDA\", \"LGW\", \"OLB\", \"AMS\"], [\"WUH\", \"URC\", \"CKG\", \"LZH\", \"SHA\", \"LCX\", \"SHA\", \"KWL\", \"KWE\", \"XNN\"  …  \"GYD\", \"PEK\", \"IAD\", \"PHX\", \"OGG\", \"SMF\", \"IAD\", \"DKR\", \"ACC\", \"DKR\"], [\"WUH\", \"HGH\", \"LYI\", \"HGH\", \"BHY\", \"HAK\", \"NKG\", \"CIF\", \"HLD\", \"TGO\"  …  \"STN\", \"RYG\", \"MAN\", \"LCA\", \"IEV\", \"BUD\", \"STN\", \"HAJ\", \"DLM\", \"AMS\"], [\"WUH\", \"PEK\", \"UYN\", \"TSN\", \"XIY\", \"LYI\", \"CAN\", \"XUZ\", \"XMN\", \"KWL\"  …  \"JFK\", \"SJU\", \"PBI\", \"BWI\", \"RSW\", \"BOS\", \"MAD\", \"MXP\", \"MIA\", \"UIO\"]])"
      ]
     },
     "execution_count": 25,
     "metadata": {},
     "output_type": "execute_result"
    }
   ],
   "source": [
    "ITALY_MX2 = busca_vuelos_INF_MX(italy_pasa_inf2, italy_WUH_MX2)"
   ]
  },
  {
   "cell_type": "code",
   "execution_count": null,
   "metadata": {},
   "outputs": [],
   "source": []
  },
  {
   "cell_type": "markdown",
   "metadata": {},
   "source": [
    "#### United States\n",
    "\n",
    "Infected person arrived from the US on February 23. (approx. 168 steps from WUH)"
   ]
  },
  {
   "cell_type": "code",
   "execution_count": 26,
   "metadata": {},
   "outputs": [
    {
     "data": {
      "text/plain": [
       "2367-element Array{String,1}:\n",
       " \"LND\"\n",
       " \"IFP\"\n",
       " \"ZRL\"\n",
       " \"CMH\"\n",
       " \"SPS\"\n",
       " \"OCH\"\n",
       " \"ODW\"\n",
       " \"APH\"\n",
       " \"ABR\"\n",
       " \"ABI\"\n",
       " \"SPI\"\n",
       " \"ARA\"\n",
       " \"MFV\"\n",
       " ⋮    \n",
       " \"WYS\"\n",
       " \"COD\"\n",
       " \"THV\"\n",
       " \"4G4\"\n",
       " \"YNG\"\n",
       " \"MYV\"\n",
       " \"YUM\"\n",
       " \"CRT\"\n",
       " \"KZB\"\n",
       " \"TOA\"\n",
       " \"ZZV\"\n",
       " \"ZPH\""
      ]
     },
     "execution_count": 26,
     "metadata": {},
     "output_type": "execute_result"
    }
   ],
   "source": [
    "#List of italian airports\n",
    "us_airp = readdlm(\"/Users/yuriko/Documents/UNAM/Tesis_Lic/Articulo/united_states_airp.csv\", ',', String)[:,1]"
   ]
  },
  {
   "cell_type": "code",
   "execution_count": 27,
   "metadata": {
    "scrolled": false
   },
   "outputs": [
    {
     "data": {
      "text/plain": [
       "1000-element Array{Any,1}:\n",
       " [\"WUH\", \"SHA\", \"URC\", \"TPE\", \"HKD\", \"TPE\", \"KOJ\", \"FSZ\", \"KOJ\", \"UKB\"  …  \"JFK\", \"BNA\", \"LGA\", \"SDF\", \"MDW\", \"SJC\", \"NRT\", \"EWR\", \"DCA\", \"LAX\"]\n",
       " [\"WUH\", \"SZX\", \"TSN\", \"SZX\", \"DYG\", \"CKG\", \"FOC\", \"CTU\", \"LZH\", \"KMG\"  …  \" \", \" \", \" \", \" \", \" \", \" \", \" \", \" \", \" \", \" \"]                    \n",
       " [\"WUH\", \"YNT\", \"HGH\", \"WUH\", \"HET\", \"NZH\", \"OVB\", \"PYJ\", \"OVB\", \"EVN\"  …  \"IWJ\", \"HND\", \"HSG\", \"HND\", \"KMI\", \"NGO\", \"SHE\", \"PVG\", \"SWA\", \"CSX\"]\n",
       " [\"WUH\", \"LZH\", \"KMG\", \"CZX\", \"FOC\", \"MFM\", \"NKG\", \"KMG\", \"BSD\", \"KMG\"  …  \"OBY\", \"CNP\", \"OBY\", \"CNP\", \"OBY\", \"CNP\", \"OBY\", \"CNP\", \"KUS\", \"RKV\"]\n",
       " [\"WUH\", \"WNZ\", \"CTU\", \"KMG\", \"CNX\", \"UTH\", \"DMK\", \"NAW\", \"DMK\", \"HKG\"  …  \"PMO\", \"NTE\", \"TFS\", \"AMS\", \"JNB\", \"SIN\", \"CAN\", \"CGD\", \"PEK\", \"CGD\"]\n",
       " [\"WUH\", \"SIN\", \"LOP\", \"SUB\", \"UPG\", \"DJJ\", \"UPG\", \"KUL\", \"BKK\", \"FCO\"  …  \" \", \" \", \" \", \" \", \" \", \" \", \" \", \" \", \" \", \" \"]                    \n",
       " [\"WUH\", \"HAK\", \"CGD\", \"CAN\", \"SIN\", \"TPE\", \"NRT\", \"CAN\", \"AEB\", \"CAN\"  …  \"JJN\", \"CAN\", \"DAD\", \"SIN\", \"MDC\", \"UPG\", \"PSJ\", \" \", \" \", \" \"]      \n",
       " [\"WUH\", \"AQG\", \"XMN\", \"HAK\", \"KMG\", \"YIC\", \"KMG\", \"KHH\", \"XMN\", \"WUS\"  …  \"TIP\", \"CMN\", \"TLS\", \"BRS\", \"KRK\", \"WAW\", \"DUS\", \"WRO\", \"STN\", \"GSE\"]\n",
       " [\"WUH\", \"XNN\", \"URC\", \"TBS\", \"RIX\", \"AMS\", \"INN\", \"EIN\", \"AHO\", \"AOI\"  …  \"HND\", \"AXT\", \"ICN\", \"FRA\", \"CMN\", \"LBV\", \"DLA\", \"FIH\", \"MJM\", \"FIH\"]\n",
       " [\"WUH\", \"SZX\", \"HGH\", \"HKG\", \"DMK\", \"SNO\", \"DMK\", \"KBV\", \"KUL\", \"NRT\"  …  \"CAN\", \"REP\", \"MNL\", \"DRW\", \"GOV\", \"DRW\", \"SIN\", \"RGN\", \"KMG\", \"CCU\"]\n",
       " [\"WUH\", \"LYI\", \"XIY\", \"RLK\", \"HET\", \"TSN\", \"WUH\", \"HGH\", \"TAO\", \"BKK\"  …  \"IST\", \"ZRH\", \"AMS\", \"MLA\", \"EDI\", \"FRA\", \"GOJ\", \"SVO\", \"KGF\", \"UKK\"]\n",
       " [\"WUH\", \"PEK\", \"JJN\", \"HGH\", \"CAN\", \"DEL\", \"RPR\", \"CCU\", \"HYD\", \"VTZ\"  …  \"NCL\", \"AGP\", \"BIO\", \"DUB\", \"BZG\", \"STN\", \"BUD\", \"DOH\", \"AMD\", \"MCT\"]\n",
       " [\"WUH\", \"NTG\", \"DLC\", \"CJU\", \"TSN\", \"XNN\", \"CSX\", \"BHY\", \"CKG\", \"KRL\"  …  \"BWI\", \"CHS\", \"JFK\", \"LRM\", \"MXP\", \"LIS\", \"ORY\", \"IBZ\", \"AMS\", \"MSP\"]\n",
       " ⋮                                                                                                                                              \n",
       " [\"WUH\", \"CDG\", \"CLT\", \"VPS\", \"ATL\", \"CRW\", \"MYR\", \"ATL\", \"BWI\", \"CVG\"  …  \"PQQ\", \"BNE\", \"LST\", \"FLS\", \"LST\", \"MEL\", \"SIN\", \"BNE\", \"DPS\", \"TIM\"]\n",
       " [\"WUH\", \"PUS\", \"OKA\", \"NRT\", \"SJC\", \"BUR\", \"SJC\", \"KOA\", \"PHX\", \"BWI\"  …  \"DUS\", \"HAM\", \"NUE\", \"PMI\", \"BVA\", \"BZR\", \"BVA\", \"BCN\", \"EMA\", \"MAH\"]\n",
       " [\"WUH\", \"CTU\", \"AMS\", \"LTN\", \"AGP\", \"ARN\", \"OSL\", \"BOO\", \"BGO\", \"AGP\"  …  \"CRL\", \"OPO\", \"DUB\", \"PGF\", \"STN\", \"PUY\", \"MAN\", \"HRG\", \"GVA\", \"OSL\"]\n",
       " [\"WUH\", \"MFM\", \"RMQ\", \"MZG\", \"RMQ\", \"HAN\", \"CTU\", \"ICN\", \"CMB\", \"BLR\"  …  \"BDA\", \"LGW\", \"OLB\", \"AMS\", \"LAX\", \"LIR\", \"SYQ\", \"LIR\", \"DEN\", \"IAD\"]\n",
       " [\"WUH\", \"URC\", \"CKG\", \"LZH\", \"SHA\", \"LCX\", \"SHA\", \"KWL\", \"KWE\", \"XNN\"  …  \"IAD\", \"DKR\", \"ACC\", \"DKR\", \"COO\", \"BZV\", \"DLA\", \"LBV\", \"KGL\", \"LBV\"]\n",
       " [\"WUH\", \"XFN\", \"PVG\", \"FRA\", \"PUJ\", \"YUL\", \"LHR\", \"MAN\", \"KGS\", \"KRK\"  …  \"DFW\", \"LHR\", \"NCE\", \"KBP\", \"ALA\", \"AKX\", \"SCO\", \"TBS\", \"DXB\", \"EBL\"]\n",
       " [\"WUH\", \"CDG\", \"CZL\", \"NCE\", \"BCN\", \"EDI\", \"CDG\", \"CLY\", \"BOD\", \"MRS\"  …  \"CLJ\", \"CIA\", \"RYG\", \"KGS\", \"DUS\", \"FCO\", \"CCS\", \"VIG\", \"PMV\", \"VIG\"]\n",
       " [\"WUH\", \"HGH\", \"LYI\", \"HGH\", \"BHY\", \"HAK\", \"NKG\", \"CIF\", \"HLD\", \"TGO\"  …  \"STN\", \"HAJ\", \"DLM\", \"AMS\", \"AUH\", \"MNL\", \"BKK\", \"CAN\", \"KIX\", \"NOU\"]\n",
       " [\"WUH\", \"PEK\", \"UYN\", \"TSN\", \"XIY\", \"LYI\", \"CAN\", \"XUZ\", \"XMN\", \"KWL\"  …  \"MAD\", \"MXP\", \"MIA\", \"UIO\", \"MIA\", \"SJU\", \"MCO\", \"YYC\", \"YQU\", \"YYC\"]\n",
       " [\"WUH\", \"TAO\", \"RMQ\", \"HAN\", \"PVG\", \"MRU\", \"JNB\", \"BEW\", \"UEL\", \"TET\"  …  \"YBG\", \"YHU\", \"YVO\", \"YKQ\", \"ZEM\", \"YKQ\", \"ZEM\", \"YKQ\", \"YKU\", \"YKQ\"]\n",
       " [\"WUH\", \"SIN\", \"KWE\", \"FOC\", \"ZUH\", \"WUH\", \"XMN\", \"HFE\", \"HAK\", \"SWA\"  …  \"DLC\", \"JNG\", \"PEK\", \"KJA\", \"YKS\", \"ULK\", \"IKT\", \"DME\", \"HER\", \"BRU\"]\n",
       " [\"WUH\", \"CGQ\", \"TNA\", \"CGQ\", \"TAO\", \"NGB\", \"CJU\", \"KUV\", \"CJU\", \"CJJ\"  …  \"BWT\", \"MEL\", \"BKK\", \"URT\", \"DMK\", \"PEN\", \"TPE\", \"WNZ\", \"PEK\", \"MXP\"]"
      ]
     },
     "execution_count": 27,
     "metadata": {},
     "output_type": "execute_result"
    }
   ],
   "source": [
    "#Random walks up to 168 steps\n",
    "us_RW = country_steps(168, walk_names_multiplex)"
   ]
  },
  {
   "cell_type": "code",
   "execution_count": 28,
   "metadata": {
    "scrolled": false
   },
   "outputs": [
    {
     "data": {
      "text/plain": [
       "1000×4 Array{String,2}:\n",
       " \"NRT\"  \"EWR\"  \"DCA\"  \"LAX\"\n",
       " \" \"    \" \"    \" \"    \" \"  \n",
       " \"SHE\"  \"PVG\"  \"SWA\"  \"CSX\"\n",
       " \"OBY\"  \"CNP\"  \"KUS\"  \"RKV\"\n",
       " \"CAN\"  \"CGD\"  \"PEK\"  \"CGD\"\n",
       " \" \"    \" \"    \" \"    \" \"  \n",
       " \"PSJ\"  \" \"    \" \"    \" \"  \n",
       " \"DUS\"  \"WRO\"  \"STN\"  \"GSE\"\n",
       " \"DLA\"  \"FIH\"  \"MJM\"  \"FIH\"\n",
       " \"SIN\"  \"RGN\"  \"KMG\"  \"CCU\"\n",
       " \"GOJ\"  \"SVO\"  \"KGF\"  \"UKK\"\n",
       " \"BUD\"  \"DOH\"  \"AMD\"  \"MCT\"\n",
       " \"ORY\"  \"IBZ\"  \"AMS\"  \"MSP\"\n",
       " ⋮                         \n",
       " \"SIN\"  \"BNE\"  \"DPS\"  \"TIM\"\n",
       " \"BVA\"  \"BCN\"  \"EMA\"  \"MAH\"\n",
       " \"MAN\"  \"HRG\"  \"GVA\"  \"OSL\"\n",
       " \"SYQ\"  \"LIR\"  \"DEN\"  \"IAD\"\n",
       " \"DLA\"  \"LBV\"  \"KGL\"  \"LBV\"\n",
       " \"SCO\"  \"TBS\"  \"DXB\"  \"EBL\"\n",
       " \"CCS\"  \"VIG\"  \"PMV\"  \"VIG\"\n",
       " \"BKK\"  \"CAN\"  \"KIX\"  \"NOU\"\n",
       " \"MCO\"  \"YYC\"  \"YQU\"  \"YYC\"\n",
       " \"ZEM\"  \"YKQ\"  \"YKU\"  \"YKQ\"\n",
       " \"IKT\"  \"DME\"  \"HER\"  \"BRU\"\n",
       " \"TPE\"  \"WNZ\"  \"PEK\"  \"MXP\""
      ]
     },
     "execution_count": 28,
     "metadata": {},
     "output_type": "execute_result"
    }
   ],
   "source": [
    "prueba_us = MX_llegada(us_RW, 168)"
   ]
  },
  {
   "cell_type": "code",
   "execution_count": 29,
   "metadata": {},
   "outputs": [
    {
     "data": {
      "text/plain": [
       "20-element Array{Any,1}:\n",
       "  15\n",
       " 184\n",
       " 205\n",
       " 257\n",
       " 267\n",
       " 397\n",
       " 413\n",
       " 466\n",
       " 526\n",
       " 573\n",
       " 609\n",
       " 617\n",
       " 640\n",
       " 773\n",
       " 814\n",
       " 821\n",
       " 849\n",
       " 882\n",
       " 937\n",
       " 954"
      ]
     },
     "execution_count": 29,
     "metadata": {},
     "output_type": "execute_result"
    }
   ],
   "source": [
    "us_dia = mx_dia(prueba_us, mx_airp)"
   ]
  },
  {
   "cell_type": "code",
   "execution_count": 30,
   "metadata": {},
   "outputs": [
    {
     "data": {
      "text/plain": [
       "169×20 Array{String,2}:\n",
       " \"WUH\"  \"WUH\"  \"WUH\"  \"WUH\"  \"WUH\"  …  \"WUH\"  \"WUH\"  \"WUH\"  \"WUH\"  \"WUH\"\n",
       " \"CDG\"  \"KMG\"  \"NNG\"  \"BAV\"  \"DSN\"     \"HYN\"  \"NTG\"  \"HRB\"  \"LZH\"  \"XFN\"\n",
       " \"SPU\"  \"LUM\"  \"WUH\"  \"PEK\"  \"HET\"     \"SZX\"  \"CAN\"  \"PEK\"  \"KMG\"  \"NAY\"\n",
       " \"HEL\"  \"CAN\"  \"SYX\"  \"IKA\"  \"XIL\"     \"NTG\"  \"HFE\"  \"HIA\"  \"BHY\"  \"WUA\"\n",
       " \"CKG\"  \"LLB\"  \"CTU\"  \"KBL\"  \"HET\"     \"SHE\"  \"SZX\"  \"TSN\"  \"PEK\"  \"HET\"\n",
       " \"JHG\"  \"CAN\"  \"HET\"  \"ESB\"  \"HGH\"  …  \"MFM\"  \"NNG\"  \"SHE\"  \"YIW\"  \"SHA\"\n",
       " \"LPQ\"  \"BNE\"  \"SHE\"  \"VKO\"  \"DMK\"     \"NGB\"  \"ZUH\"  \"TYN\"  \"KMG\"  \"CGO\"\n",
       " \"CNX\"  \"GLT\"  \"XMN\"  \"FRA\"  \"BFV\"     \"SYX\"  \"SWA\"  \"LJG\"  \"LNJ\"  \"KMG\"\n",
       " \"UTH\"  \"BNE\"  \"PVG\"  \"ARN\"  \"DMK\"     \"XIY\"  \"YIW\"  \"WUH\"  \"KMG\"  \"XIY\"\n",
       " \"DMK\"  \"POM\"  \"DEL\"  \"LUX\"  \"PEN\"     \"TAO\"  \"CTU\"  \"ICN\"  \"CTU\"  \"GXH\"\n",
       " \"URT\"  \"HKG\"  \"KBL\"  \"DUB\"  \"DMK\"  …  \"HGH\"  \"HKT\"  \"TNA\"  \"MEL\"  \"LXA\"\n",
       " \"KUL\"  \"CSX\"  \"PEW\"  \"IAD\"  \"HKT\"     \"KMG\"  \"PEN\"  \"SHA\"  \"BWN\"  \"NGQ\"\n",
       " \"DOH\"  \"HRB\"  \"CJL\"  \"SJO\"  \"SYD\"     \"CGO\"  \"KUA\"  \"CSX\"  \"DWC\"  \"LXA\"\n",
       " ⋮                                  ⋱  ⋮                                \n",
       " \"EDI\"  \"BRQ\"  \"SJU\"  \"YYE\"  \"TTN\"     \"MCI\"  \"BWI\"  \"HOU\"  \"JFK\"  \"ZRH\"\n",
       " \"RYG\"  \"STN\"  \"STX\"  \"YXJ\"  \"CVG\"     \"MEM\"  \"LAS\"  \"DCA\"  \"CMH\"  \"YUL\"\n",
       " \"CRL\"  \"OVD\"  \"MIA\"  \"YYC\"  \"PGD\"     \"TPA\"  \"SLC\"  \"PHL\"  \"PHX\"  \"YYZ\"\n",
       " \"DUB\"  \"STN\"  \"MID\"  \"YUL\"  \"DSM\"  …  \"RDU\"  \"MDW\"  \"GCM\"  \"TPA\"  \"DCA\"\n",
       " \"LEI\"  \"KRK\"  \"GDL\"  \"YYC\"  \"PHX\"     \"PHX\"  \"GDL\"  \"IAH\"  \"BOS\"  \"SAN\"\n",
       " \"MAD\"  \"MAD\"  \"CUL\"  \"YBR\"  \"MDW\"     \"PVR\"  \"MTY\"  \"GDL\"  \"LEB\"  \"MCI\"\n",
       " \"DFW\"  \"GYE\"  \"MTY\"  \"YYC\"  \"SAN\"     \"TIJ\"  \"LAP\"  \"CUU\"  \"HPN\"  \"SLC\"\n",
       " \"FAT\"  \"CCS\"  \"OAX\"  \"DEN\"  \"DEN\"     \"GDL\"  \"TIJ\"  \"GDL\"  \"FLL\"  \"PHX\"\n",
       " \"GDL\"  \"MEX\"  \"MEX\"  \"BZN\"  \"SJD\"  …  \"LAP\"  \"CUN\"  \"SJD\"  \"BWI\"  \"DEN\"\n",
       " \"CJS\"  \"CCS\"  \"PXM\"  \"MSP\"  \"TLC\"     \"MTY\"  \"MEX\"  \"GDL\"  \"PIT\"  \"MEX\"\n",
       " \"MEX\"  \"PZO\"  \"MEX\"  \"ORD\"  \"SAT\"     \"LAS\"  \"JFK\"  \"HMO\"  \"ATL\"  \"MCO\"\n",
       " \"ZCL\"  \"CCS\"  \"LIM\"  \"GDL\"  \"BNA\"     \"HNL\"  \"BTV\"  \"MEX\"  \"SJD\"  \"MDT\""
      ]
     },
     "execution_count": 30,
     "metadata": {},
     "output_type": "execute_result"
    }
   ],
   "source": [
    "us_N_RW = filtro_mx(us_dia, us_RW)"
   ]
  },
  {
   "cell_type": "code",
   "execution_count": 31,
   "metadata": {},
   "outputs": [
    {
     "data": {
      "text/plain": [
       "(67, Any[[\"DFW\", \"DEL\", \"BAH\", \"TGU\", \"CKG\", \"MEX\", \"ORD\", \"RUH\", \"JNB\", \"BKK\", \"CAG\", \"BCN\", \"LED\", \"YKS\", \"BKK\", \"FOC\", \"SYD\", \"ALA\", \"SAT\", \"PEK\"], [\"DXB\", \"CDG\", \"LCA\", \"RTB\", \"SYD\", \"TAP\", \"ATL\", \"KHI\", \"ACC\", \"TNA\", \"CIA\", \"XRY\", \"OSL\", \"HRB\", \"OSL\", \"DLC\", \"ADL\", \"PEK\", \"ELP\", \"CJJ\"], [\"GSM\", \"YQB\", \"KRR\", \"IAH\", \"SGN\", \"MEX\", \"TGU\", \"KTM\", \"FCO\", \"RMQ\", \"SVQ\", \"FRA\", \"GVA\", \"CSX\", \"TLL\", \"HKG\", \"OOL\", \"FRA\", \"DFW\", \"PEK\"], [\"TBZ\", \"YUL\", \"AMS\", \"TUS\", \"TAO\", \"LAX\", \"MEX\", \"CPH\", \"BRS\", \"SWA\", \"BHY\", \"DTM\", \"UME\", \"HRB\", \"LUX\", \"BTV\", \"HKG\", \"OVB\", \"SHA\", \"BWI\"], [\"ADU\", \"LTN\", \"ARN\", \"PVR\", \"WNZ\", \"FLL\", \"POS\", \"RBA\", \"RHO\", \"RYK\", \"LYI\", \"PUJ\", \"BMA\", \"DNH\", \"LBA\", \"MSP\", \"KUL\", \"IKT\", \"URC\", \"SFO\"], [\"GCH\", \"BLK\", \"GLA\", \"HOU\", \"TIJ\", \"MIA\", \"RSW\", \"SDR\", \"WMI\", \"PEW\", \"JUZ\", \"SJJ\", \"BMA\", \"LHW\", \"LPL\", \"TPA\", \"BTH\", \"SVO\", \"NNG\", \"LAX\"], [\"THR\", \"FAO\", \"MLA\", \"MCI\", \"ZLO\", \"IAH\", \"CLE\", \"BCN\", \"TPS\", \"BAH\", \"NAY\", \"CGN\", \"MMX\", \"YZY\", \"BJV\", \"BDL\", \"BPN\", \"SIP\", \"MFM\", \"KOA\"], [\"ADU\", \"DUB\", \"FCO\", \"LAS\", \"TIJ\", \"FLL\", \"MDW\", \"GVA\", \"CIA\", \"DOH\", \"SHA\", \"IST\", \"KTW\", \"LHW\", \"ESB\", \"BWI\", \"KUL\", \"ROV\", \"CRK\", \"YVR\"], [\"THR\", \"NCE\", \"GLA\", \"CMH\", \"CEN\", \"TYS\", \"PDX\", \"BEY\", \"OPO\", \"IKA\", \"YNZ\", \"VAN\", \"DUS\", \"NKG\", \"EBL\", \"IAH\", \"KWL\", \"AYT\", \"MFM\", \"DEN\"], [\"ZAH\", \"RAK\", \"STN\", \"MDW\", \"TIJ\", \"DEN\", \"SAN\", \"BRU\", \"HHN\", \"ISU\", \"XIY\", \"SAW\", \"CDG\", \"ICN\", \"AUH\", \"PDX\", \"SHE\", \"LED\", \"OKJ\", \"EUG\"]  …  [\"CRL\", \"OVD\", \"MIA\", \"YYC\", \"PGD\", \"IAH\", \"JFK\", \"CUN\", \"DTW\", \"NAS\", \"MSP\", \"SSA\", \"SJU\", \"HUU\", \"MUC\", \"TPA\", \"SLC\", \"PHL\", \"PHX\", \"YYZ\"], [\"DUB\", \"STN\", \"MID\", \"YUL\", \"DSM\", \"LAX\", \"CUN\", \"MTY\", \"SFO\", \"HAV\", \"BIL\", \"SDU\", \"EWR\", \"LIM\", \"BRS\", \"RDU\", \"MDW\", \"GCM\", \"TPA\", \"DCA\"], [\"LEI\", \"KRK\", \"GDL\", \"YYC\", \"PHX\", \"BZE\", \"TIJ\", \"SAT\", \"IND\", \"MEX\", \"SDY\", \"GRU\", \"MBJ\", \"IQT\", \"KEF\", \"PHX\", \"GDL\", \"IAH\", \"BOS\", \"SAN\"], [\"MAD\", \"MAD\", \"CUL\", \"YBR\", \"MDW\", \"LAX\", \"UPN\", \"MEX\", \"PHX\", \"TGZ\", \"BIL\", \"LAX\", \"ORD\", \"PTY\", \"EWR\", \"PVR\", \"MTY\", \"GDL\", \"LEB\", \"MCI\"], [\"DFW\", \"GYE\", \"MTY\", \"YYC\", \"SAN\", \"CMH\", \"TIJ\", \"ACA\", \"AUS\", \"MTY\", \"AZA\", \"BLI\", \"PBI\", \"LAS\", \"LIR\", \"TIJ\", \"LAP\", \"CUU\", \"HPN\", \"SLC\"], [\"FAT\", \"CCS\", \"OAX\", \"DEN\", \"DEN\", \"LAS\", \"TGZ\", \"TLC\", \"SLC\", \"PVR\", \"ICT\", \"LAS\", \"ISP\", \"JAX\", \"DEN\", \"GDL\", \"TIJ\", \"GDL\", \"FLL\", \"PHX\"], [\"GDL\", \"MEX\", \"MEX\", \"BZN\", \"SJD\", \"MFE\", \"TIJ\", \"SJD\", \"GEG\", \"MTY\", \"MDW\", \"YYJ\", \"BWI\", \"FLL\", \"MEX\", \"LAP\", \"CUN\", \"SJD\", \"BWI\", \"DEN\"], [\"CJS\", \"CCS\", \"PXM\", \"MSP\", \"TLC\", \"MEX\", \"HMO\", \"CUL\", \"SLC\", \"OAX\", \"ZCL\", \"YVR\", \"BNA\", \"PTY\", \"YUL\", \"MTY\", \"MEX\", \"GDL\", \"PIT\", \"MEX\"], [\"MEX\", \"PZO\", \"MEX\", \"ORD\", \"SAT\", \"PVR\", \"TIJ\", \"HMO\", \"OAK\", \"TIJ\", \"MEX\", \"PHX\", \"CLT\", \"MEX\", \"YOW\", \"LAS\", \"JFK\", \"HMO\", \"ATL\", \"MCO\"], [\"ZCL\", \"CCS\", \"LIM\", \"GDL\", \"BNA\", \"ORD\", \"PVR\", \"CUN\", \"GDL\", \"QRO\", \"SJO\", \"HMO\", \"CUN\", \"PQM\", \"FRA\", \"HNL\", \"BTV\", \"MEX\", \"SJD\", \"MDT\"]], Any[6, 6, 6, 7, 4, 5, 5, 5, 5, 5  …  8, 3, 3, 3, 3, 3, 1, 1, 1, 1])"
      ]
     },
     "execution_count": 31,
     "metadata": {},
     "output_type": "execute_result"
    }
   ],
   "source": [
    "us_WUH_MX = busca_vuelos_WUH_MX(us_N_RW, mx_airp)"
   ]
  },
  {
   "cell_type": "code",
   "execution_count": 32,
   "metadata": {},
   "outputs": [
    {
     "data": {
      "text/plain": [
       "(67, Any[[\"DFW\", \"DEL\", \"BAH\", \"TGU\", \"CKG\", \"MEX\", \"ORD\", \"RUH\", \"JNB\", \"BKK\", \"CAG\", \"BCN\", \"LED\", \"YKS\", \"BKK\", \"FOC\", \"SYD\", \"ALA\", \"SAT\", \"PEK\"], [\"DXB\", \"CDG\", \"LCA\", \"RTB\", \"SYD\", \"TAP\", \"ATL\", \"KHI\", \"ACC\", \"TNA\", \"CIA\", \"XRY\", \"OSL\", \"HRB\", \"OSL\", \"DLC\", \"ADL\", \"PEK\", \"ELP\", \"CJJ\"], [\"GSM\", \"YQB\", \"KRR\", \"IAH\", \"SGN\", \"MEX\", \"TGU\", \"KTM\", \"FCO\", \"RMQ\", \"SVQ\", \"FRA\", \"GVA\", \"CSX\", \"TLL\", \"HKG\", \"OOL\", \"FRA\", \"DFW\", \"PEK\"], [\"TBZ\", \"YUL\", \"AMS\", \"TUS\", \"TAO\", \"LAX\", \"MEX\", \"CPH\", \"BRS\", \"SWA\", \"BHY\", \"DTM\", \"UME\", \"HRB\", \"LUX\", \"BTV\", \"HKG\", \"OVB\", \"SHA\", \"BWI\"], [\"ADU\", \"LTN\", \"ARN\", \"PVR\", \"WNZ\", \"FLL\", \"POS\", \"RBA\", \"RHO\", \"RYK\", \"LYI\", \"PUJ\", \"BMA\", \"DNH\", \"LBA\", \"MSP\", \"KUL\", \"IKT\", \"URC\", \"SFO\"], [\"GCH\", \"BLK\", \"GLA\", \"HOU\", \"TIJ\", \"MIA\", \"RSW\", \"SDR\", \"WMI\", \"PEW\", \"JUZ\", \"SJJ\", \"BMA\", \"LHW\", \"LPL\", \"TPA\", \"BTH\", \"SVO\", \"NNG\", \"LAX\"], [\"THR\", \"FAO\", \"MLA\", \"MCI\", \"ZLO\", \"IAH\", \"CLE\", \"BCN\", \"TPS\", \"BAH\", \"NAY\", \"CGN\", \"MMX\", \"YZY\", \"BJV\", \"BDL\", \"BPN\", \"SIP\", \"MFM\", \"KOA\"], [\"ADU\", \"DUB\", \"FCO\", \"LAS\", \"TIJ\", \"FLL\", \"MDW\", \"GVA\", \"CIA\", \"DOH\", \"SHA\", \"IST\", \"KTW\", \"LHW\", \"ESB\", \"BWI\", \"KUL\", \"ROV\", \"CRK\", \"YVR\"], [\"THR\", \"NCE\", \"GLA\", \"CMH\", \"CEN\", \"TYS\", \"PDX\", \"BEY\", \"OPO\", \"IKA\", \"YNZ\", \"VAN\", \"DUS\", \"NKG\", \"EBL\", \"IAH\", \"KWL\", \"AYT\", \"MFM\", \"DEN\"], [\"ZAH\", \"RAK\", \"STN\", \"MDW\", \"TIJ\", \"DEN\", \"SAN\", \"BRU\", \"HHN\", \"ISU\", \"XIY\", \"SAW\", \"CDG\", \"ICN\", \"AUH\", \"PDX\", \"SHE\", \"LED\", \"OKJ\", \"EUG\"]  …  [\"CRL\", \"OVD\", \"MIA\", \"YYC\", \"PGD\", \"IAH\", \"JFK\", \"CUN\", \"DTW\", \"NAS\", \"MSP\", \"SSA\", \"SJU\", \"HUU\", \"MUC\", \"TPA\", \"SLC\", \"PHL\", \"PHX\", \"YYZ\"], [\"DUB\", \"STN\", \"MID\", \"YUL\", \"DSM\", \"LAX\", \"CUN\", \"MTY\", \"SFO\", \"HAV\", \"BIL\", \"SDU\", \"EWR\", \"LIM\", \"BRS\", \"RDU\", \"MDW\", \"GCM\", \"TPA\", \"DCA\"], [\"LEI\", \"KRK\", \"GDL\", \"YYC\", \"PHX\", \"BZE\", \"TIJ\", \"SAT\", \"IND\", \"MEX\", \"SDY\", \"GRU\", \"MBJ\", \"IQT\", \"KEF\", \"PHX\", \"GDL\", \"IAH\", \"BOS\", \"SAN\"], [\"MAD\", \"MAD\", \"CUL\", \"YBR\", \"MDW\", \"LAX\", \"UPN\", \"MEX\", \"PHX\", \"TGZ\", \"BIL\", \"LAX\", \"ORD\", \"PTY\", \"EWR\", \"PVR\", \"MTY\", \"GDL\", \"LEB\", \"MCI\"], [\"DFW\", \"GYE\", \"MTY\", \"YYC\", \"SAN\", \"CMH\", \"TIJ\", \"ACA\", \"AUS\", \"MTY\", \"AZA\", \"BLI\", \"PBI\", \"LAS\", \"LIR\", \"TIJ\", \"LAP\", \"CUU\", \"HPN\", \"SLC\"], [\"FAT\", \"CCS\", \"OAX\", \"DEN\", \"DEN\", \"LAS\", \"TGZ\", \"TLC\", \"SLC\", \"PVR\", \"ICT\", \"LAS\", \"ISP\", \"JAX\", \"DEN\", \"GDL\", \"TIJ\", \"GDL\", \"FLL\", \"PHX\"], [\"GDL\", \"MEX\", \"MEX\", \"BZN\", \"SJD\", \"MFE\", \"TIJ\", \"SJD\", \"GEG\", \"MTY\", \"MDW\", \"YYJ\", \"BWI\", \"FLL\", \"MEX\", \"LAP\", \"CUN\", \"SJD\", \"BWI\", \"DEN\"], [\"CJS\", \"CCS\", \"PXM\", \"MSP\", \"TLC\", \"MEX\", \"HMO\", \"CUL\", \"SLC\", \"OAX\", \"ZCL\", \"YVR\", \"BNA\", \"PTY\", \"YUL\", \"MTY\", \"MEX\", \"GDL\", \"PIT\", \"MEX\"], [\"MEX\", \"PZO\", \"MEX\", \"ORD\", \"SAT\", \"PVR\", \"TIJ\", \"HMO\", \"OAK\", \"TIJ\", \"MEX\", \"PHX\", \"CLT\", \"MEX\", \"YOW\", \"LAS\", \"JFK\", \"HMO\", \"ATL\", \"MCO\"], [\"ZCL\", \"CCS\", \"LIM\", \"GDL\", \"BNA\", \"ORD\", \"PVR\", \"CUN\", \"GDL\", \"QRO\", \"SJO\", \"HMO\", \"CUN\", \"PQM\", \"FRA\", \"HNL\", \"BTV\", \"MEX\", \"SJD\", \"MDT\"]], Any[6, 6, 3, 3, 5, 3, 3, 3, 3, 3  …  2, 4, 4, 4, 4, 3, 3, 3, 3, 4], Any[6, 6, 6, 7, 4, 5, 5, 5, 5, 5  …  8, 3, 3, 3, 3, 3, 1, 1, 1, 1])"
      ]
     },
     "execution_count": 32,
     "metadata": {},
     "output_type": "execute_result"
    }
   ],
   "source": [
    "us_pasa_inf = busca_vuelos_pasa_inf(us_WUH_MX, us_airp)"
   ]
  },
  {
   "cell_type": "code",
   "execution_count": 33,
   "metadata": {},
   "outputs": [
    {
     "data": {
      "text/plain": [
       "(51, Any[[\"GSM\", \"YQB\", \"KRR\", \"IAH\", \"SGN\", \"MEX\", \"TGU\", \"KTM\", \"FCO\", \"RMQ\", \"SVQ\", \"FRA\", \"GVA\", \"CSX\", \"TLL\", \"HKG\", \"OOL\", \"FRA\", \"DFW\", \"PEK\"], [\"TBZ\", \"YUL\", \"AMS\", \"TUS\", \"TAO\", \"LAX\", \"MEX\", \"CPH\", \"BRS\", \"SWA\", \"BHY\", \"DTM\", \"UME\", \"HRB\", \"LUX\", \"BTV\", \"HKG\", \"OVB\", \"SHA\", \"BWI\"], [\"GCH\", \"BLK\", \"GLA\", \"HOU\", \"TIJ\", \"MIA\", \"RSW\", \"SDR\", \"WMI\", \"PEW\", \"JUZ\", \"SJJ\", \"BMA\", \"LHW\", \"LPL\", \"TPA\", \"BTH\", \"SVO\", \"NNG\", \"LAX\"], [\"THR\", \"FAO\", \"MLA\", \"MCI\", \"ZLO\", \"IAH\", \"CLE\", \"BCN\", \"TPS\", \"BAH\", \"NAY\", \"CGN\", \"MMX\", \"YZY\", \"BJV\", \"BDL\", \"BPN\", \"SIP\", \"MFM\", \"KOA\"], [\"ADU\", \"DUB\", \"FCO\", \"LAS\", \"TIJ\", \"FLL\", \"MDW\", \"GVA\", \"CIA\", \"DOH\", \"SHA\", \"IST\", \"KTW\", \"LHW\", \"ESB\", \"BWI\", \"KUL\", \"ROV\", \"CRK\", \"YVR\"], [\"THR\", \"NCE\", \"GLA\", \"CMH\", \"CEN\", \"TYS\", \"PDX\", \"BEY\", \"OPO\", \"IKA\", \"YNZ\", \"VAN\", \"DUS\", \"NKG\", \"EBL\", \"IAH\", \"KWL\", \"AYT\", \"MFM\", \"DEN\"], [\"ZAH\", \"RAK\", \"STN\", \"MDW\", \"TIJ\", \"DEN\", \"SAN\", \"BRU\", \"HHN\", \"ISU\", \"XIY\", \"SAW\", \"CDG\", \"ICN\", \"AUH\", \"PDX\", \"SHE\", \"LED\", \"OKJ\", \"EUG\"], [\"GBT\", \"AMS\", \"NOC\", \"TPA\", \"MTY\", \"MCI\", \"MSY\", \"DLA\", \"CIY\", \"IST\", \"HET\", \"ADB\", \"JIB\", \"YNT\", \"COK\", \"ATL\", \"YNZ\", \"BHK\", \"GUM\", \"LAX\"], [\"MED\", \"LYS\", \"BHX\", \"SAT\", \"VSA\", \"SLC\", \"STL\", \"PNR\", \"KUN\", \"STR\", \"HGH\", \"STN\", \"CDG\", \"WUH\", \"CMB\", \"MAD\", \"XMN\", \"DME\", \"SDJ\", \"ZCL\"], [\"ELQ\", \"PMI\", \"DBV\", \"ATL\", \"CUN\", \"DTW\", \"CGI\", \"DLA\", \"CIY\", \"ACE\", \"BHY\", \"LDY\", \"UGC\", \"AQG\", \"FRA\", \"HAM\", \"SZX\", \"GOJ\", \"UKB\", \"TIJ\"]  …  [\"BGY\", \"GRO\", \"SFB\", \"KOA\", \"FAO\", \"DTM\", \"CGN\", \"KSQ\", \"MSQ\", \"YWG\", \"LGA\", \"ANC\", \"IST\", \"MIA\", \"ALG\", \"IAD\", \"CUN\", \"AUS\", \"HEL\", \"ATH\"], [\"BTS\", \"LIS\", \"PGD\", \"YYD\", \"ORD\", \"JFK\", \"AGP\", \"CEE\", \"SKD\", \"HNL\", \"BNA\", \"HMO\", \"CFK\", \"PTY\", \"LBA\", \"DFW\", \"VCE\", \"DAL\", \"LKO\", \"MXP\"], [\"TIA\", \"SAW\", \"YYZ\", \"YVR\", \"HNL\", \"SDQ\", \"GYD\", \"BEG\", \"CNX\", \"MHT\", \"OAK\", \"SAT\", \"BSL\", \"GDL\", \"OTP\", \"ATL\", \"CKY\", \"MSN\", \"TRV\", \"CFE\"], [\"LGW\", \"DTM\", \"ATH\", \"ZMT\", \"SAN\", \"MAD\", \"FRA\", \"GVA\", \"LPQ\", \"TPA\", \"AUS\", \"STL\", \"BCN\", \"CUL\", \"BVA\", \"TTN\", \"CMN\", \"ATL\", \"BLR\", \"OPO\"], [\"NQY\", \"BUD\", \"NTE\", \"YVR\", \"AUS\", \"LGW\", \"ATH\", \"BRU\", \"REP\", \"PTY\", \"BNA\", \"EWR\", \"CTA\", \"TIJ\", \"TFS\", \"BNA\", \"FRA\", \"MBS\", \"BKK\", \"LUX\"], [\"LGW\", \"GYD\", \"LIS\", \"YXY\", \"DEN\", \"HEL\", \"IEV\", \"GOT\", \"MNL\", \"NAS\", \"ECP\", \"FCO\", \"CDG\", \"ACA\", \"DUB\", \"EWR\", \"DRS\", \"ATL\", \"HDY\", \"BIA\"], [\"IOM\", \"MSQ\", \"MIA\", \"YLW\", \"CID\", \"LIS\", \"LCA\", \"FRA\", \"VRC\", \"HAV\", \"BNA\", \"GRU\", \"POP\", \"TLC\", \"NCL\", \"DEN\", \"SVO\", \"MSN\", \"DMK\", \"SXB\"], [\"OPO\", \"ZRH\", \"AUA\", \"YLW\", \"YNG\", \"SJU\", \"KEF\", \"YUL\", \"BXU\", \"DTW\", \"STL\", \"CWB\", \"XSC\", \"TLC\", \"TRF\", \"MSP\", \"SVO\", \"EVV\", \"DMK\", \"LPA\"], [\"AMS\", \"WRO\", \"CLT\", \"YVR\", \"MYR\", \"MCO\", \"AMS\", \"SNU\", \"MNL\", \"NAS\", \"ECP\", \"CAC\", \"GDT\", \"CUN\", \"BEG\", \"OMA\", \"PUJ\", \"ATL\", \"MFM\", \"BIO\"], [\"CRL\", \"OVD\", \"MIA\", \"YYC\", \"PGD\", \"IAH\", \"JFK\", \"CUN\", \"DTW\", \"NAS\", \"MSP\", \"SSA\", \"SJU\", \"HUU\", \"MUC\", \"TPA\", \"SLC\", \"PHL\", \"PHX\", \"YYZ\"]])"
      ]
     },
     "execution_count": 33,
     "metadata": {},
     "output_type": "execute_result"
    }
   ],
   "source": [
    "US_MX = busca_vuelos_INF_MX(us_pasa_inf, us_WUH_MX)"
   ]
  },
  {
   "cell_type": "markdown",
   "metadata": {},
   "source": [
    "#### Type 2"
   ]
  },
  {
   "cell_type": "code",
   "execution_count": 34,
   "metadata": {},
   "outputs": [
    {
     "data": {
      "text/plain": [
       "(469, Any[Any[[\"WUH\", \"SIN\", \"LOP\", \"SUB\", \"UPG\", \"DJJ\", \"UPG\", \"KUL\", \"BKK\", \"FCO\"  …  \" \", \" \", \" \", \" \", \" \", \" \", \" \", \" \", \" \", \" \"]], Any[[\"WUH\", \"HAK\", \"CGD\", \"CAN\", \"SIN\", \"TPE\", \"NRT\", \"CAN\", \"AEB\", \"CAN\"  …  \"JJN\", \"CAN\", \"DAD\", \"SIN\", \"MDC\", \"UPG\", \"PSJ\", \" \", \" \", \" \"]], Any[[\"WUH\", \"SZX\", \"HGH\", \"HKG\", \"DMK\", \"SNO\", \"DMK\", \"KBV\", \"KUL\", \"NRT\"  …  \"CAN\", \"REP\", \"MNL\", \"DRW\", \"GOV\", \"DRW\", \"SIN\", \"RGN\", \"KMG\", \"CCU\"]], Any[[\"WUH\", \"LYI\", \"XIY\", \"RLK\", \"HET\", \"TSN\", \"WUH\", \"HGH\", \"TAO\", \"BKK\"  …  \"IST\", \"ZRH\", \"AMS\", \"MLA\", \"EDI\", \"FRA\", \"GOJ\", \"SVO\", \"KGF\", \"UKK\"]], Any[[\"WUH\", \"NNG\", \"PEK\", \"MRU\", \"LHR\", \"JFK\", \"STL\", \"LAX\", \"ZLO\", \"LAX\"  …  \"BKK\", \"CEI\", \"BKK\", \"OSL\", \"BGO\", \"SKE\", \"BGO\", \"KEF\", \"LGW\", \"KUN\"]], Any[[\"WUH\", \"CDG\", \"SPU\", \"HEL\", \"CKG\", \"JHG\", \"LPQ\", \"CNX\", \"UTH\", \"DMK\"  …  \"CRL\", \"DUB\", \"LEI\", \"MAD\", \"DFW\", \"FAT\", \"GDL\", \"CJS\", \"MEX\", \"ZCL\"]], Any[[\"WUH\", \"INC\", \"HKG\", \"KHV\", \"BQS\", \"HTA\", \"BQS\", \"VVO\", \"ICN\", \"AXT\"  …  \"FRA\", \"DEN\", \"FRA\", \"BCN\", \"BVA\", \"BTS\", \"CIA\", \"PMI\", \"KSF\", \"PMI\"]], Any[[\"WUH\", \"AQG\", \"PEK\", \"YIC\", \"SHA\", \"SHE\", \"TAO\", \"PEK\", \"NZH\", \"UUD\"  …  \"MAD\", \"PUJ\", \"PHL\", \"SXM\", \"IAD\", \"MIA\", \"LIR\", \"SYQ\", \"LIR\", \"JFK\"]], Any[[\"WUH\", \"HAK\", \"HFE\", \"KWL\", \"TPE\", \"WUH\", \"LZH\", \"SZX\", \"HAK\", \"SIN\"  …  \"TRZ\", \"MAA\", \"CCJ\", \"BOM\", \"GOI\", \"PNQ\", \"BLR\", \"IXG\", \"BLR\", \"FRA\"]], Any[[\"WUH\", \"YTY\", \"HRB\", \"CJU\", \"MWX\", \"PVG\", \"DEL\", \"DOH\", \"GYD\", \"SVO\"  …  \"ITM\", \"KMJ\", \"NKM\", \"GAJ\", \"NKM\", \"KIJ\", \"OKA\", \"ICN\", \"CNX\", \"MFM\"]]  …  Any[[\"WUH\", \"WNZ\", \"TNA\", \"CGQ\", \"WUH\", \"WUX\", \"WUH\", \"YCU\", \"CKG\", \"AVA\"  …  \"VVC\", \"PCR\", \"BOG\", \"RVE\", \"TME\", \"BOG\", \"BAQ\", \"CLO\", \"ESM\", \"UIO\"]], Any[[\"WUH\", \"LYG\", \"DLC\", \"CJU\", \"TSN\", \"NTG\", \"XMN\", \"TXN\", \"DLC\", \"CIF\"  …  \"DMK\", \"BFV\", \"DMK\", \"CNX\", \"CKG\", \"HGH\", \"XMN\", \"JDZ\", \"XIY\", \"LXA\"]], Any[[\"WUH\", \"TYN\", \"SHA\", \"KMG\", \"CGD\", \"XIY\", \"HKG\", \"AKL\", \"PER\", \"BME\"  …  \"BOS\", \"RIC\", \"FLL\", \"SJO\", \"MEX\", \"DTW\", \"DCA\", \"SEA\", \"LAS\", \"YQR\"]], Any[[\"WUH\", \"LYG\", \"DLC\", \"SJW\", \"SZX\", \"SHA\", \"CIH\", \"HAK\", \"HKG\", \"ZHA\"  …  \"GYS\", \"PEK\", \"HIA\", \"HRB\", \"UUS\", \"BVV\", \"UUS\", \"SVO\", \"YYZ\", \"PEK\"]], Any[[\"WUH\", \"MFM\", \"RMQ\", \"MZG\", \"RMQ\", \"HAN\", \"CTU\", \"ICN\", \"CMB\", \"BLR\"  …  \"BDA\", \"LGW\", \"OLB\", \"AMS\", \"LAX\", \"LIR\", \"SYQ\", \"LIR\", \"DEN\", \"IAD\"]], Any[[\"WUH\", \"URC\", \"CKG\", \"LZH\", \"SHA\", \"LCX\", \"SHA\", \"KWL\", \"KWE\", \"XNN\"  …  \"IAD\", \"DKR\", \"ACC\", \"DKR\", \"COO\", \"BZV\", \"DLA\", \"LBV\", \"KGL\", \"LBV\"]], Any[[\"WUH\", \"CDG\", \"CZL\", \"NCE\", \"BCN\", \"EDI\", \"CDG\", \"CLY\", \"BOD\", \"MRS\"  …  \"CLJ\", \"CIA\", \"RYG\", \"KGS\", \"DUS\", \"FCO\", \"CCS\", \"VIG\", \"PMV\", \"VIG\"]], Any[[\"WUH\", \"HGH\", \"LYI\", \"HGH\", \"BHY\", \"HAK\", \"NKG\", \"CIF\", \"HLD\", \"TGO\"  …  \"STN\", \"HAJ\", \"DLM\", \"AMS\", \"AUH\", \"MNL\", \"BKK\", \"CAN\", \"KIX\", \"NOU\"]], Any[[\"WUH\", \"PEK\", \"UYN\", \"TSN\", \"XIY\", \"LYI\", \"CAN\", \"XUZ\", \"XMN\", \"KWL\"  …  \"MAD\", \"MXP\", \"MIA\", \"UIO\", \"MIA\", \"SJU\", \"MCO\", \"YYC\", \"YQU\", \"YYC\"]], Any[[\"WUH\", \"TAO\", \"RMQ\", \"HAN\", \"PVG\", \"MRU\", \"JNB\", \"BEW\", \"UEL\", \"TET\"  …  \"YBG\", \"YHU\", \"YVO\", \"YKQ\", \"ZEM\", \"YKQ\", \"ZEM\", \"YKQ\", \"YKU\", \"YKQ\"]]], Any[35, 40, 60, 112, 9, 166, 76, 131, 148, 22  …  95, 91, 164, 41, 128, 122, 26, 96, 79, 61])"
      ]
     },
     "execution_count": 34,
     "metadata": {},
     "output_type": "execute_result"
    }
   ],
   "source": [
    "us_WUH_MX2 = busca_vuelos_WUH_MX2(us_RW, mx_airp)"
   ]
  },
  {
   "cell_type": "code",
   "execution_count": 35,
   "metadata": {},
   "outputs": [
    {
     "data": {
      "text/plain": [
       "(468, Any[[\"WUH\", \"SIN\", \"LOP\", \"SUB\", \"UPG\", \"DJJ\", \"UPG\", \"KUL\", \"BKK\", \"FCO\"  …  \" \", \" \", \" \", \" \", \" \", \" \", \" \", \" \", \" \", \" \"], [\"WUH\", \"HAK\", \"CGD\", \"CAN\", \"SIN\", \"TPE\", \"NRT\", \"CAN\", \"AEB\", \"CAN\"  …  \"JJN\", \"CAN\", \"DAD\", \"SIN\", \"MDC\", \"UPG\", \"PSJ\", \" \", \" \", \" \"], [\"WUH\", \"SZX\", \"HGH\", \"HKG\", \"DMK\", \"SNO\", \"DMK\", \"KBV\", \"KUL\", \"NRT\"  …  \"CAN\", \"REP\", \"MNL\", \"DRW\", \"GOV\", \"DRW\", \"SIN\", \"RGN\", \"KMG\", \"CCU\"], [\"WUH\", \"LYI\", \"XIY\", \"RLK\", \"HET\", \"TSN\", \"WUH\", \"HGH\", \"TAO\", \"BKK\"  …  \"IST\", \"ZRH\", \"AMS\", \"MLA\", \"EDI\", \"FRA\", \"GOJ\", \"SVO\", \"KGF\", \"UKK\"], [\"WUH\", \"NNG\", \"PEK\", \"MRU\", \"LHR\", \"JFK\", \"STL\", \"LAX\", \"ZLO\", \"LAX\"  …  \"BKK\", \"CEI\", \"BKK\", \"OSL\", \"BGO\", \"SKE\", \"BGO\", \"KEF\", \"LGW\", \"KUN\"], [\"WUH\", \"CDG\", \"SPU\", \"HEL\", \"CKG\", \"JHG\", \"LPQ\", \"CNX\", \"UTH\", \"DMK\"  …  \"CRL\", \"DUB\", \"LEI\", \"MAD\", \"DFW\", \"FAT\", \"GDL\", \"CJS\", \"MEX\", \"ZCL\"], [\"WUH\", \"INC\", \"HKG\", \"KHV\", \"BQS\", \"HTA\", \"BQS\", \"VVO\", \"ICN\", \"AXT\"  …  \"FRA\", \"DEN\", \"FRA\", \"BCN\", \"BVA\", \"BTS\", \"CIA\", \"PMI\", \"KSF\", \"PMI\"], [\"WUH\", \"AQG\", \"PEK\", \"YIC\", \"SHA\", \"SHE\", \"TAO\", \"PEK\", \"NZH\", \"UUD\"  …  \"MAD\", \"PUJ\", \"PHL\", \"SXM\", \"IAD\", \"MIA\", \"LIR\", \"SYQ\", \"LIR\", \"JFK\"], [\"WUH\", \"HAK\", \"HFE\", \"KWL\", \"TPE\", \"WUH\", \"LZH\", \"SZX\", \"HAK\", \"SIN\"  …  \"TRZ\", \"MAA\", \"CCJ\", \"BOM\", \"GOI\", \"PNQ\", \"BLR\", \"IXG\", \"BLR\", \"FRA\"], [\"WUH\", \"YTY\", \"HRB\", \"CJU\", \"MWX\", \"PVG\", \"DEL\", \"DOH\", \"GYD\", \"SVO\"  …  \"ITM\", \"KMJ\", \"NKM\", \"GAJ\", \"NKM\", \"KIJ\", \"OKA\", \"ICN\", \"CNX\", \"MFM\"]  …  [\"WUH\", \"WNZ\", \"TNA\", \"CGQ\", \"WUH\", \"WUX\", \"WUH\", \"YCU\", \"CKG\", \"AVA\"  …  \"VVC\", \"PCR\", \"BOG\", \"RVE\", \"TME\", \"BOG\", \"BAQ\", \"CLO\", \"ESM\", \"UIO\"], [\"WUH\", \"LYG\", \"DLC\", \"CJU\", \"TSN\", \"NTG\", \"XMN\", \"TXN\", \"DLC\", \"CIF\"  …  \"DMK\", \"BFV\", \"DMK\", \"CNX\", \"CKG\", \"HGH\", \"XMN\", \"JDZ\", \"XIY\", \"LXA\"], [\"WUH\", \"TYN\", \"SHA\", \"KMG\", \"CGD\", \"XIY\", \"HKG\", \"AKL\", \"PER\", \"BME\"  …  \"BOS\", \"RIC\", \"FLL\", \"SJO\", \"MEX\", \"DTW\", \"DCA\", \"SEA\", \"LAS\", \"YQR\"], [\"WUH\", \"LYG\", \"DLC\", \"SJW\", \"SZX\", \"SHA\", \"CIH\", \"HAK\", \"HKG\", \"ZHA\"  …  \"GYS\", \"PEK\", \"HIA\", \"HRB\", \"UUS\", \"BVV\", \"UUS\", \"SVO\", \"YYZ\", \"PEK\"], [\"WUH\", \"MFM\", \"RMQ\", \"MZG\", \"RMQ\", \"HAN\", \"CTU\", \"ICN\", \"CMB\", \"BLR\"  …  \"BDA\", \"LGW\", \"OLB\", \"AMS\", \"LAX\", \"LIR\", \"SYQ\", \"LIR\", \"DEN\", \"IAD\"], [\"WUH\", \"URC\", \"CKG\", \"LZH\", \"SHA\", \"LCX\", \"SHA\", \"KWL\", \"KWE\", \"XNN\"  …  \"IAD\", \"DKR\", \"ACC\", \"DKR\", \"COO\", \"BZV\", \"DLA\", \"LBV\", \"KGL\", \"LBV\"], [\"WUH\", \"CDG\", \"CZL\", \"NCE\", \"BCN\", \"EDI\", \"CDG\", \"CLY\", \"BOD\", \"MRS\"  …  \"CLJ\", \"CIA\", \"RYG\", \"KGS\", \"DUS\", \"FCO\", \"CCS\", \"VIG\", \"PMV\", \"VIG\"], [\"WUH\", \"HGH\", \"LYI\", \"HGH\", \"BHY\", \"HAK\", \"NKG\", \"CIF\", \"HLD\", \"TGO\"  …  \"STN\", \"HAJ\", \"DLM\", \"AMS\", \"AUH\", \"MNL\", \"BKK\", \"CAN\", \"KIX\", \"NOU\"], [\"WUH\", \"PEK\", \"UYN\", \"TSN\", \"XIY\", \"LYI\", \"CAN\", \"XUZ\", \"XMN\", \"KWL\"  …  \"MAD\", \"MXP\", \"MIA\", \"UIO\", \"MIA\", \"SJU\", \"MCO\", \"YYC\", \"YQU\", \"YYC\"], [\"WUH\", \"TAO\", \"RMQ\", \"HAN\", \"PVG\", \"MRU\", \"JNB\", \"BEW\", \"UEL\", \"TET\"  …  \"YBG\", \"YHU\", \"YVO\", \"YKQ\", \"ZEM\", \"YKQ\", \"ZEM\", \"YKQ\", \"YKU\", \"YKQ\"]], Any[35, 30, 56, 54, 5, 26, 35, 13, 33, 25  …  18, 78, 87, 23, 119, 95, 19, 52, 77, 36], Any[35, 40, 60, 112, 9, 166, 76, 131, 148, 22  …  95, 91, 164, 41, 128, 122, 26, 96, 79, 61])"
      ]
     },
     "execution_count": 35,
     "metadata": {},
     "output_type": "execute_result"
    }
   ],
   "source": [
    "us_pasa_inf2 = busca_vuelos_pasa_inf2(us_WUH_MX2, us_airp)"
   ]
  },
  {
   "cell_type": "code",
   "execution_count": 36,
   "metadata": {
    "scrolled": false
   },
   "outputs": [
    {
     "data": {
      "text/plain": [
       "(419, Any[[\"WUH\", \"HAK\", \"CGD\", \"CAN\", \"SIN\", \"TPE\", \"NRT\", \"CAN\", \"AEB\", \"CAN\"  …  \"JJN\", \"CAN\", \"DAD\", \"SIN\", \"MDC\", \"UPG\", \"PSJ\", \" \", \" \", \" \"], [\"WUH\", \"SZX\", \"HGH\", \"HKG\", \"DMK\", \"SNO\", \"DMK\", \"KBV\", \"KUL\", \"NRT\"  …  \"CAN\", \"REP\", \"MNL\", \"DRW\", \"GOV\", \"DRW\", \"SIN\", \"RGN\", \"KMG\", \"CCU\"], [\"WUH\", \"LYI\", \"XIY\", \"RLK\", \"HET\", \"TSN\", \"WUH\", \"HGH\", \"TAO\", \"BKK\"  …  \"IST\", \"ZRH\", \"AMS\", \"MLA\", \"EDI\", \"FRA\", \"GOJ\", \"SVO\", \"KGF\", \"UKK\"], [\"WUH\", \"NNG\", \"PEK\", \"MRU\", \"LHR\", \"JFK\", \"STL\", \"LAX\", \"ZLO\", \"LAX\"  …  \"BKK\", \"CEI\", \"BKK\", \"OSL\", \"BGO\", \"SKE\", \"BGO\", \"KEF\", \"LGW\", \"KUN\"], [\"WUH\", \"CDG\", \"SPU\", \"HEL\", \"CKG\", \"JHG\", \"LPQ\", \"CNX\", \"UTH\", \"DMK\"  …  \"CRL\", \"DUB\", \"LEI\", \"MAD\", \"DFW\", \"FAT\", \"GDL\", \"CJS\", \"MEX\", \"ZCL\"], [\"WUH\", \"INC\", \"HKG\", \"KHV\", \"BQS\", \"HTA\", \"BQS\", \"VVO\", \"ICN\", \"AXT\"  …  \"FRA\", \"DEN\", \"FRA\", \"BCN\", \"BVA\", \"BTS\", \"CIA\", \"PMI\", \"KSF\", \"PMI\"], [\"WUH\", \"AQG\", \"PEK\", \"YIC\", \"SHA\", \"SHE\", \"TAO\", \"PEK\", \"NZH\", \"UUD\"  …  \"MAD\", \"PUJ\", \"PHL\", \"SXM\", \"IAD\", \"MIA\", \"LIR\", \"SYQ\", \"LIR\", \"JFK\"], [\"WUH\", \"HAK\", \"HFE\", \"KWL\", \"TPE\", \"WUH\", \"LZH\", \"SZX\", \"HAK\", \"SIN\"  …  \"TRZ\", \"MAA\", \"CCJ\", \"BOM\", \"GOI\", \"PNQ\", \"BLR\", \"IXG\", \"BLR\", \"FRA\"], [\"WUH\", \"DMK\", \"NNT\", \"CNX\", \"WUH\", \"YNT\", \"CAN\", \"BFJ\", \"SZX\", \"TAO\"  …  \"YNZ\", \"XIY\", \"HIA\", \"SHA\", \"URC\", \"HGH\", \"CGO\", \"JJN\", \"CSX\", \"DSN\"], [\"WUH\", \"PVG\", \"CGQ\", \"CKG\", \"SWA\", \"CKG\", \"HIA\", \"HRB\", \"TSN\", \"ICN\"  …  \"LJG\", \"PEK\", \"AOG\", \"PVG\", \"TAK\", \"HND\", \"NGS\", \"IKI\", \"NGS\", \"ICN\"]  …  [\"WUH\", \"WNZ\", \"TNA\", \"CGQ\", \"WUH\", \"WUX\", \"WUH\", \"YCU\", \"CKG\", \"AVA\"  …  \"VVC\", \"PCR\", \"BOG\", \"RVE\", \"TME\", \"BOG\", \"BAQ\", \"CLO\", \"ESM\", \"UIO\"], [\"WUH\", \"LYG\", \"DLC\", \"CJU\", \"TSN\", \"NTG\", \"XMN\", \"TXN\", \"DLC\", \"CIF\"  …  \"DMK\", \"BFV\", \"DMK\", \"CNX\", \"CKG\", \"HGH\", \"XMN\", \"JDZ\", \"XIY\", \"LXA\"], [\"WUH\", \"TYN\", \"SHA\", \"KMG\", \"CGD\", \"XIY\", \"HKG\", \"AKL\", \"PER\", \"BME\"  …  \"BOS\", \"RIC\", \"FLL\", \"SJO\", \"MEX\", \"DTW\", \"DCA\", \"SEA\", \"LAS\", \"YQR\"], [\"WUH\", \"LYG\", \"DLC\", \"SJW\", \"SZX\", \"SHA\", \"CIH\", \"HAK\", \"HKG\", \"ZHA\"  …  \"GYS\", \"PEK\", \"HIA\", \"HRB\", \"UUS\", \"BVV\", \"UUS\", \"SVO\", \"YYZ\", \"PEK\"], [\"WUH\", \"MFM\", \"RMQ\", \"MZG\", \"RMQ\", \"HAN\", \"CTU\", \"ICN\", \"CMB\", \"BLR\"  …  \"BDA\", \"LGW\", \"OLB\", \"AMS\", \"LAX\", \"LIR\", \"SYQ\", \"LIR\", \"DEN\", \"IAD\"], [\"WUH\", \"URC\", \"CKG\", \"LZH\", \"SHA\", \"LCX\", \"SHA\", \"KWL\", \"KWE\", \"XNN\"  …  \"IAD\", \"DKR\", \"ACC\", \"DKR\", \"COO\", \"BZV\", \"DLA\", \"LBV\", \"KGL\", \"LBV\"], [\"WUH\", \"CDG\", \"CZL\", \"NCE\", \"BCN\", \"EDI\", \"CDG\", \"CLY\", \"BOD\", \"MRS\"  …  \"CLJ\", \"CIA\", \"RYG\", \"KGS\", \"DUS\", \"FCO\", \"CCS\", \"VIG\", \"PMV\", \"VIG\"], [\"WUH\", \"HGH\", \"LYI\", \"HGH\", \"BHY\", \"HAK\", \"NKG\", \"CIF\", \"HLD\", \"TGO\"  …  \"STN\", \"HAJ\", \"DLM\", \"AMS\", \"AUH\", \"MNL\", \"BKK\", \"CAN\", \"KIX\", \"NOU\"], [\"WUH\", \"PEK\", \"UYN\", \"TSN\", \"XIY\", \"LYI\", \"CAN\", \"XUZ\", \"XMN\", \"KWL\"  …  \"MAD\", \"MXP\", \"MIA\", \"UIO\", \"MIA\", \"SJU\", \"MCO\", \"YYC\", \"YQU\", \"YYC\"], [\"WUH\", \"TAO\", \"RMQ\", \"HAN\", \"PVG\", \"MRU\", \"JNB\", \"BEW\", \"UEL\", \"TET\"  …  \"YBG\", \"YHU\", \"YVO\", \"YKQ\", \"ZEM\", \"YKQ\", \"ZEM\", \"YKQ\", \"YKU\", \"YKQ\"]])"
      ]
     },
     "execution_count": 36,
     "metadata": {},
     "output_type": "execute_result"
    }
   ],
   "source": [
    "US_MX2 = busca_vuelos_INF_MX(us_pasa_inf2, us_WUH_MX2)"
   ]
  },
  {
   "cell_type": "code",
   "execution_count": null,
   "metadata": {},
   "outputs": [],
   "source": []
  },
  {
   "cell_type": "markdown",
   "metadata": {},
   "source": [
    "#### Spain\n",
    "\n",
    "Infected person arrived from Spain on February 28. (approx. 183 steps from WUH)"
   ]
  },
  {
   "cell_type": "code",
   "execution_count": 37,
   "metadata": {},
   "outputs": [
    {
     "data": {
      "text/plain": [
       "59-element Array{String,1}:\n",
       " \"LCG\"\n",
       " \"MAD\"\n",
       " \"ABC\"\n",
       " \"AEI\"\n",
       " \"ALC\"\n",
       " \"LEI\"\n",
       " \"LEU\"\n",
       " \"OVD\"\n",
       " \"BJZ\"\n",
       " \"BCN\"\n",
       " \"YJD\"\n",
       " \"BIO\"\n",
       " \"RGS\"\n",
       " ⋮    \n",
       " \"EAS\"\n",
       " \"SDR\"\n",
       " \"SCQ\"\n",
       " \"SVQ\"\n",
       " \"TCI\"\n",
       " \"TFN\"\n",
       " \"TFS\"\n",
       " \"VLC\"\n",
       " \"VLL\"\n",
       " \"VGO\"\n",
       " \"VIT\"\n",
       " \"ZAZ\""
      ]
     },
     "execution_count": 37,
     "metadata": {},
     "output_type": "execute_result"
    }
   ],
   "source": [
    "#List of spanish airports\n",
    "spain_airp = readdlm(\"/Users/yuriko/Documents/UNAM/Tesis_Lic/Articulo/spain_airp.csv\", ',', String)[:,1]"
   ]
  },
  {
   "cell_type": "code",
   "execution_count": 38,
   "metadata": {
    "scrolled": false
   },
   "outputs": [
    {
     "data": {
      "text/plain": [
       "1000-element Array{Any,1}:\n",
       " [\"WUH\", \"SHA\", \"URC\", \"TPE\", \"HKD\", \"TPE\", \"KOJ\", \"FSZ\", \"KOJ\", \"UKB\"  …  \"AZA\", \"ICT\", \"MDW\", \"TTN\", \"CLE\", \"CUN\", \"ATL\", \"TYS\", \"DEN\", \"OAK\"]\n",
       " [\"WUH\", \"SZX\", \"TSN\", \"SZX\", \"DYG\", \"CKG\", \"FOC\", \"CTU\", \"LZH\", \"KMG\"  …  \" \", \" \", \" \", \" \", \" \", \" \", \" \", \" \", \" \", \" \"]                    \n",
       " [\"WUH\", \"YNT\", \"HGH\", \"WUH\", \"HET\", \"NZH\", \"OVB\", \"PYJ\", \"OVB\", \"EVN\"  …  \"KIX\", \"ISG\", \"TPE\", \"TSN\", \"HIA\", \"WNZ\", \"CSX\", \"BAV\", \"CTU\", \"XNN\"]\n",
       " [\"WUH\", \"LZH\", \"KMG\", \"CZX\", \"FOC\", \"MFM\", \"NKG\", \"KMG\", \"BSD\", \"KMG\"  …  \"IFJ\", \"RKV\", \"IFJ\", \"RKV\", \"KUS\", \"GOH\", \"UAK\", \"SFJ\", \"KUS\", \"CNP\"]\n",
       " [\"WUH\", \"WNZ\", \"CTU\", \"KMG\", \"CNX\", \"UTH\", \"DMK\", \"NAW\", \"DMK\", \"HKG\"  …  \"YNT\", \"SHA\", \"LYI\", \"CSX\", \"HGH\", \"SWA\", \"ZUH\", \"KWL\", \"TYN\", \"TAO\"]\n",
       " [\"WUH\", \"SIN\", \"LOP\", \"SUB\", \"UPG\", \"DJJ\", \"UPG\", \"KUL\", \"BKK\", \"FCO\"  …  \" \", \" \", \" \", \" \", \" \", \" \", \" \", \" \", \" \", \" \"]                    \n",
       " [\"WUH\", \"HAK\", \"CGD\", \"CAN\", \"SIN\", \"TPE\", \"NRT\", \"CAN\", \"AEB\", \"CAN\"  …  \" \", \" \", \" \", \" \", \" \", \" \", \" \", \" \", \" \", \" \"]                    \n",
       " [\"WUH\", \"AQG\", \"XMN\", \"HAK\", \"KMG\", \"YIC\", \"KMG\", \"KHH\", \"XMN\", \"WUS\"  …  \"TIA\", \"MXP\", \"AUH\", \"BAH\", \"IST\", \"KUL\", \"MLE\", \"TRV\", \"BOM\", \"DAC\"]\n",
       " [\"WUH\", \"XNN\", \"URC\", \"TBS\", \"RIX\", \"AMS\", \"INN\", \"EIN\", \"AHO\", \"AOI\"  …  \"GMA\", \"MDK\", \"GMA\", \"MDK\", \"GMA\", \"MDK\", \"FIH\", \"JNB\", \"LBV\", \"CDG\"]\n",
       " [\"WUH\", \"SZX\", \"HGH\", \"HKG\", \"DMK\", \"SNO\", \"DMK\", \"KBV\", \"KUL\", \"NRT\"  …  \"DXB\", \"DFW\", \"JFK\", \"LHE\", \"RYK\", \"KHI\", \"MJD\", \"SKZ\", \"MJD\", \"SKZ\"]\n",
       " [\"WUH\", \"LYI\", \"XIY\", \"RLK\", \"HET\", \"TSN\", \"WUH\", \"HGH\", \"TAO\", \"BKK\"  …  \"TAO\", \"XMN\", \"MFM\", \"PVG\", \"DPS\", \"JOG\", \"PKU\", \"BTH\", \"JOG\", \"LOP\"]\n",
       " [\"WUH\", \"PEK\", \"JJN\", \"HGH\", \"CAN\", \"DEL\", \"RPR\", \"CCU\", \"HYD\", \"VTZ\"  …  \"BHX\", \"DEL\", \"ALA\", \"BKK\", \"OVB\", \"HTA\", \"SVO\", \"MRS\", \"TLS\", \"IST\"]\n",
       " [\"WUH\", \"NTG\", \"DLC\", \"CJU\", \"TSN\", \"XNN\", \"CSX\", \"BHY\", \"CKG\", \"KRL\"  …  \"AMS\", \"CPT\", \"HLA\", \"DUR\", \"CPT\", \"LHR\", \"SEA\", \"PVG\", \"IST\", \"ARN\"]\n",
       " ⋮                                                                                                                                              \n",
       " [\"WUH\", \"CDG\", \"CLT\", \"VPS\", \"ATL\", \"CRW\", \"MYR\", \"ATL\", \"BWI\", \"CVG\"  …  \"CGK\", \"MNL\", \"CGK\", \"HKG\", \"HFE\", \"ICN\", \"YVR\", \"ICN\", \"CEB\", \"DVO\"]\n",
       " [\"WUH\", \"PUS\", \"OKA\", \"NRT\", \"SJC\", \"BUR\", \"SJC\", \"KOA\", \"PHX\", \"BWI\"  …  \"TUL\", \"PHX\", \"MIA\", \"PAP\", \"ATL\", \"DFW\", \"IAH\", \"SEA\", \"DXB\", \"BAH\"]\n",
       " [\"WUH\", \"CTU\", \"AMS\", \"LTN\", \"AGP\", \"ARN\", \"OSL\", \"BOO\", \"BGO\", \"AGP\"  …  \"ALC\", \"NOC\", \"TFS\", \"MST\", \"TPS\", \"AOI\", \"DUS\", \"EWR\", \"LIR\", \"EWR\"]\n",
       " [\"WUH\", \"MFM\", \"RMQ\", \"MZG\", \"RMQ\", \"HAN\", \"CTU\", \"ICN\", \"CMB\", \"BLR\"  …  \"DEL\", \"NRT\", \"PDX\", \"NRT\", \"KOJ\", \"UKB\", \"YGJ\", \"HND\", \"MSJ\", \"HND\"]\n",
       " [\"WUH\", \"URC\", \"CKG\", \"LZH\", \"SHA\", \"LCX\", \"SHA\", \"KWL\", \"KWE\", \"XNN\"  …  \"IGU\", \"LIM\", \"MDE\", \"CTG\", \"MIA\", \"CCS\", \"GYE\", \"LTX\", \"GYE\", \"AMS\"]\n",
       " [\"WUH\", \"XFN\", \"PVG\", \"FRA\", \"PUJ\", \"YUL\", \"LHR\", \"MAN\", \"KGS\", \"KRK\"  …  \"BKI\", \"PER\", \"CAN\", \"NAO\", \"PVG\", \"CKG\", \"NTG\", \"CKG\", \"BFJ\", \"CAN\"]\n",
       " [\"WUH\", \"CDG\", \"CZL\", \"NCE\", \"BCN\", \"EDI\", \"CDG\", \"CLY\", \"BOD\", \"MRS\"  …  \"RIX\", \"AES\", \"TRD\", \"KRK\", \"ZRH\", \"AGP\", \"STN\", \"BLQ\", \"CPH\", \"SJJ\"]\n",
       " [\"WUH\", \"HGH\", \"LYI\", \"HGH\", \"BHY\", \"HAK\", \"NKG\", \"CIF\", \"HLD\", \"TGO\"  …  \"ICN\", \"HFE\", \"HAK\", \"XMN\", \"MFM\", \"CKG\", \"NNG\", \"PEK\", \"YIC\", \"PEK\"]\n",
       " [\"WUH\", \"PEK\", \"UYN\", \"TSN\", \"XIY\", \"LYI\", \"CAN\", \"XUZ\", \"XMN\", \"KWL\"  …  \"LTN\", \"ZRH\", \"LAX\", \"CAN\", \"LJG\", \"XIY\", \"PEK\", \"URC\", \"XIY\", \"HKG\"]\n",
       " [\"WUH\", \"TAO\", \"RMQ\", \"HAN\", \"PVG\", \"MRU\", \"JNB\", \"BEW\", \"UEL\", \"TET\"  …  \"MDW\", \"LAX\", \"PIT\", \"CDG\", \"BCN\", \"BSL\", \"VCE\", \"AMS\", \"KRK\", \"BHX\"]\n",
       " [\"WUH\", \"SIN\", \"KWE\", \"FOC\", \"ZUH\", \"WUH\", \"XMN\", \"HFE\", \"HAK\", \"SWA\"  …  \"SVQ\", \"PMI\", \"HEL\", \"NGO\", \"SGN\", \"RGN\", \"MYT\", \"PBU\", \"MYT\", \"MDL\"]\n",
       " [\"WUH\", \"CGQ\", \"TNA\", \"CGQ\", \"TAO\", \"NGB\", \"CJU\", \"KUV\", \"CJU\", \"CJJ\"  …  \"BUD\", \"RTM\", \"RAK\", \"LUX\", \"PMI\", \"ZRH\", \"BOD\", \"EDI\", \"MJV\", \"OSL\"]"
      ]
     },
     "execution_count": 38,
     "metadata": {},
     "output_type": "execute_result"
    }
   ],
   "source": [
    "#Random walks up to 183 steps\n",
    "spain_RW = country_steps(183, walk_names_multiplex)"
   ]
  },
  {
   "cell_type": "code",
   "execution_count": 39,
   "metadata": {},
   "outputs": [
    {
     "data": {
      "text/plain": [
       "1000×4 Array{String,2}:\n",
       " \"ATL\"  \"TYS\"  \"DEN\"  \"OAK\"\n",
       " \" \"    \" \"    \" \"    \" \"  \n",
       " \"CSX\"  \"BAV\"  \"CTU\"  \"XNN\"\n",
       " \"UAK\"  \"SFJ\"  \"KUS\"  \"CNP\"\n",
       " \"ZUH\"  \"KWL\"  \"TYN\"  \"TAO\"\n",
       " \" \"    \" \"    \" \"    \" \"  \n",
       " \" \"    \" \"    \" \"    \" \"  \n",
       " \"MLE\"  \"TRV\"  \"BOM\"  \"DAC\"\n",
       " \"FIH\"  \"JNB\"  \"LBV\"  \"CDG\"\n",
       " \"MJD\"  \"SKZ\"  \"MJD\"  \"SKZ\"\n",
       " \"PKU\"  \"BTH\"  \"JOG\"  \"LOP\"\n",
       " \"SVO\"  \"MRS\"  \"TLS\"  \"IST\"\n",
       " \"SEA\"  \"PVG\"  \"IST\"  \"ARN\"\n",
       " ⋮                         \n",
       " \"YVR\"  \"ICN\"  \"CEB\"  \"DVO\"\n",
       " \"IAH\"  \"SEA\"  \"DXB\"  \"BAH\"\n",
       " \"DUS\"  \"EWR\"  \"LIR\"  \"EWR\"\n",
       " \"YGJ\"  \"HND\"  \"MSJ\"  \"HND\"\n",
       " \"GYE\"  \"LTX\"  \"GYE\"  \"AMS\"\n",
       " \"NTG\"  \"CKG\"  \"BFJ\"  \"CAN\"\n",
       " \"STN\"  \"BLQ\"  \"CPH\"  \"SJJ\"\n",
       " \"NNG\"  \"PEK\"  \"YIC\"  \"PEK\"\n",
       " \"PEK\"  \"URC\"  \"XIY\"  \"HKG\"\n",
       " \"VCE\"  \"AMS\"  \"KRK\"  \"BHX\"\n",
       " \"MYT\"  \"PBU\"  \"MYT\"  \"MDL\"\n",
       " \"BOD\"  \"EDI\"  \"MJV\"  \"OSL\""
      ]
     },
     "execution_count": 39,
     "metadata": {},
     "output_type": "execute_result"
    }
   ],
   "source": [
    "prueba_spain = MX_llegada(spain_RW, 183)"
   ]
  },
  {
   "cell_type": "code",
   "execution_count": 40,
   "metadata": {},
   "outputs": [
    {
     "data": {
      "text/plain": [
       "25-element Array{Any,1}:\n",
       "  27\n",
       "  72\n",
       " 129\n",
       " 132\n",
       " 257\n",
       " 315\n",
       " 376\n",
       " 427\n",
       " 439\n",
       " 442\n",
       " 483\n",
       " 520\n",
       " 556\n",
       " 588\n",
       " 623\n",
       " 703\n",
       " 761\n",
       " 800\n",
       " 806\n",
       " 847\n",
       " 866\n",
       " 897\n",
       " 918\n",
       " 982\n",
       " 984"
      ]
     },
     "execution_count": 40,
     "metadata": {},
     "output_type": "execute_result"
    }
   ],
   "source": [
    "spain_dia = mx_dia(prueba_spain, mx_airp)"
   ]
  },
  {
   "cell_type": "code",
   "execution_count": 41,
   "metadata": {},
   "outputs": [
    {
     "data": {
      "text/plain": [
       "184×25 Array{String,2}:\n",
       " \"WUH\"  \"WUH\"  \"WUH\"  \"WUH\"  \"WUH\"  …  \"WUH\"  \"WUH\"  \"WUH\"  \"WUH\"  \"WUH\"\n",
       " \"LYG\"  \"SYX\"  \"MFM\"  \"LYG\"  \"BAV\"     \"SWA\"  \"XNN\"  \"YCU\"  \"LYG\"  \"WUX\"\n",
       " \"FOC\"  \"SJW\"  \"HFE\"  \"HKG\"  \"PEK\"     \"WUH\"  \"YUS\"  \"HGH\"  \"DLC\"  \"TPE\"\n",
       " \"CTU\"  \"HET\"  \"KWE\"  \"TSN\"  \"IKA\"     \"NTG\"  \"XNN\"  \"PEK\"  \"CJU\"  \"KMG\"\n",
       " \"KOW\"  \"CSX\"  \"XMN\"  \"CGO\"  \"KBL\"     \"DLC\"  \"TSN\"  \"TSE\"  \"TSN\"  \"CZX\"\n",
       " \"SZX\"  \"BAV\"  \"HAK\"  \"LJG\"  \"ESB\"  …  \"XUZ\"  \"FUG\"  \"IST\"  \"NTG\"  \"KMG\"\n",
       " \"RMQ\"  \"PVG\"  \"SHA\"  \"CAN\"  \"VKO\"     \"KMG\"  \"HGH\"  \"BEN\"  \"XMN\"  \"DSN\"\n",
       " \"KIX\"  \"ORD\"  \"AQG\"  \"CKG\"  \"FRA\"     \"SHA\"  \"YNT\"  \"MRA\"  \"TXN\"  \"TYN\"\n",
       " \"PEK\"  \"BOS\"  \"HAK\"  \"NTG\"  \"ARN\"     \"TNA\"  \"DLC\"  \"IST\"  \"DLC\"  \"CGQ\"\n",
       " \"JDZ\"  \"SFO\"  \"HGH\"  \"SHE\"  \"LUX\"     \"INC\"  \"CHG\"  \"LTN\"  \"CIF\"  \"NBS\"\n",
       " \"FOC\"  \"PHL\"  \"HRB\"  \"YVR\"  \"DUB\"  …  \"HGH\"  \"DLC\"  \"LUZ\"  \"SHE\"  \"CGQ\"\n",
       " \"KHH\"  \"EWR\"  \"FOC\"  \"LAX\"  \"IAD\"     \"NNY\"  \"FUK\"  \"STN\"  \"LYI\"  \"TNA\"\n",
       " \"HUN\"  \"PLS\"  \"HGH\"  \"SJD\"  \"SJO\"     \"NAY\"  \"SGN\"  \"SCQ\"  \"PVG\"  \"KMG\"\n",
       " ⋮                                  ⋱  ⋮                                \n",
       " \"MSP\"  \"BDO\"  \"LIM\"  \"YEG\"  \"MEX\"     \"SVO\"  \"SCO\"  \"ABQ\"  \"PVG\"  \"PGD\"\n",
       " \"PIT\"  \"JHB\"  \"DFW\"  \"YXE\"  \"LZC\"     \"FRU\"  \"URA\"  \"JFK\"  \"BWN\"  \"CID\"\n",
       " \"BOS\"  \"KUL\"  \"TUL\"  \"LAS\"  \"MEX\"     \"DME\"  \"SCO\"  \"SAL\"  \"MEL\"  \"PGD\"\n",
       " \"TPA\"  \"AOR\"  \"SFB\"  \"PIA\"  \"PQM\"  …  \"MAD\"  \"GUW\"  \"ORD\"  \"BNK\"  \"DSM\"\n",
       " \"BHM\"  \"SZB\"  \"HGR\"  \"LAS\"  \"MEX\"     \"AMS\"  \"IST\"  \"DSM\"  \"NTL\"  \"LAS\"\n",
       " \"MCO\"  \"LGK\"  \"SFB\"  \"BIS\"  \"CVM\"     \"VRA\"  \"IAH\"  \"PIE\"  \"BNE\"  \"MTY\"\n",
       " \"IND\"  \"SIN\"  \"GRR\"  \"SFB\"  \"MEX\"     \"YUL\"  \"MSP\"  \"SGF\"  \"HNL\"  \"CUL\"\n",
       " \"LAS\"  \"CDG\"  \"ORD\"  \"PBG\"  \"MZT\"     \"MEX\"  \"SDF\"  \"PIE\"  \"ATL\"  \"GDL\"\n",
       " \"GDL\"  \"IAD\"  \"MBJ\"  \"MYR\"  \"MEX\"  …  \"BJX\"  \"MCO\"  \"MDT\"  \"PVR\"  \"REX\"\n",
       " \"FAT\"  \"SAN\"  \"MIA\"  \"ABE\"  \"SAL\"     \"MDW\"  \"CUN\"  \"ORD\"  \"SFO\"  \"VER\"\n",
       " \"GDL\"  \"SJD\"  \"DFW\"  \"ATL\"  \"MEX\"     \"SMF\"  \"MSP\"  \"GDL\"  \"CLT\"  \"VSA\"\n",
       " \"MDW\"  \"SJC\"  \"BJX\"  \"MEX\"  \"JFK\"     \"IAD\"  \"SLC\"  \"LAX\"  \"HTS\"  \"VER\""
      ]
     },
     "execution_count": 41,
     "metadata": {},
     "output_type": "execute_result"
    }
   ],
   "source": [
    "spain_N_RW = filtro_mx(spain_dia, spain_RW)"
   ]
  },
  {
   "cell_type": "code",
   "execution_count": 42,
   "metadata": {},
   "outputs": [
    {
     "data": {
      "text/plain": [
       "(66, Any[[\"PEK\", \"BOS\", \"HAK\", \"NTG\", \"ARN\", \"SYX\", \"XMN\", \"CAI\", \"TIJ\", \"YIH\"  …  \"WUH\", \"DLU\", \"KOJ\", \"LYG\", \"CTU\", \"TNA\", \"DLC\", \"IST\", \"DLC\", \"CGQ\"], [\"JDZ\", \"SFO\", \"HGH\", \"SHE\", \"LUX\", \"CKG\", \"CGK\", \"ALG\", \"MZT\", \"HKG\"  …  \"LJG\", \"CTU\", \"KIX\", \"HGH\", \"KHG\", \"INC\", \"CHG\", \"LTN\", \"CIF\", \"NBS\"], [\"FOC\", \"PHL\", \"HRB\", \"YVR\", \"DUB\", \"ZHA\", \"PLM\", \"PMI\", \"TIJ\", \"AUH\"  …  \"TCZ\", \"MFM\", \"CGK\", \"KHH\", \"NGQ\", \"HGH\", \"DLC\", \"LUZ\", \"SHE\", \"CGQ\"], [\"KHH\", \"EWR\", \"FOC\", \"LAX\", \"IAD\", \"SZX\", \"KUL\", \"ALG\", \"CUN\", \"JNB\"  …  \"CTU\", \"KUL\", \"PER\", \"ICN\", \"KHG\", \"NNY\", \"FUK\", \"STN\", \"LYI\", \"TNA\"], [\"HUN\", \"PLS\", \"HGH\", \"SJD\", \"SJO\", \"WUH\", \"AKL\", \"BEY\", \"PTY\", \"AMS\"  …  \"YNT\", \"BNE\", \"DCN\", \"AKL\", \"URC\", \"NAY\", \"SGN\", \"SCQ\", \"PVG\", \"KMG\"], [\"YZF\", \"EWR\", \"YKQ\", \"BGY\", \"SMF\", \"JNB\", \"POL\", \"VII\", \"KCH\", \"TUN\"  …  \"HIR\", \"GMP\", \"AMS\", \"FMM\", \"MAA\", \"ATH\", \"NRT\", \"MDW\", \"AGP\", \"CTU\"], [\"EWR\", \"ANU\", \"ATH\", \"VKO\", \"PVR\", \"CMN\", \"MCT\", \"MDG\", \"AMD\", \"GUM\"  …  \"HIR\", \"HKG\", \"ITM\", \"RYK\", \"KHN\", \"OUA\", \"SYZ\", \"AZA\", \"MAN\", \"KCM\"], [\"OPO\", \"EIS\", \"CRL\", \"OLB\", \"TPA\", \"PSA\", \"DMK\", \"NKG\", \"KBL\", \"LHW\"  …  \"HIR\", \"LPA\", \"UUD\", \"RYG\", \"CGN\", \"AUH\", \"GVA\", \"CUN\", \"JER\", \"TXL\"], [\"LAD\", \"NEV\", \"LEI\", \"DUS\", \"SAT\", \"TIA\", \"HDY\", \"HKG\", \"GYD\", \"YZY\"  …  \"RNL\", \"LPL\", \"KHV\", \"MAN\", \"CFU\", \"ALA\", \"SXF\", \"QRO\", \"SEN\", \"BCN\"], [\"AMS\", \"SKB\", \"BCN\", \"IKA\", \"ATL\", \"ATH\", \"CNX\", \"DME\", \"ESB\", \"LHW\"  …  \"HIR\", \"DUB\", \"HKG\", \"LIS\", \"ATH\", \"DYU\", \"DLM\", \"CUN\", \"FAO\", \"BRI\"]  …  [\"BOS\", \"KUL\", \"TUL\", \"LAS\", \"MEX\", \"SAL\", \"BLA\", \"LZO\", \"CDG\", \"MFM\"  …  \"RIC\", \"SFB\", \"YUL\", \"LBV\", \"MEX\", \"DME\", \"SCO\", \"SAL\", \"MEL\", \"PGD\"], [\"TPA\", \"AOR\", \"SFB\", \"PIA\", \"PQM\", \"LAX\", \"MIA\", \"PEK\", \"SCL\", \"MNL\"  …  \"MCO\", \"SBN\", \"CUN\", \"DLA\", \"MID\", \"MAD\", \"GUW\", \"ORD\", \"BNK\", \"DSM\"], [\"BHM\", \"SZB\", \"HGR\", \"LAS\", \"MEX\", \"SAT\", \"GEO\", \"EWR\", \"MEX\", \"SFO\"  …  \"ORF\", \"PIE\", \"SAL\", \"MVR\", \"VSA\", \"AMS\", \"IST\", \"DSM\", \"NTL\", \"LAS\"], [\"MCO\", \"LGK\", \"SFB\", \"BIS\", \"CVM\", \"SAN\", \"JFK\", \"DFW\", \"CTM\", \"HNL\"  …  \"JFK\", \"RFD\", \"SJO\", \"NSI\", \"GDL\", \"VRA\", \"IAH\", \"PIE\", \"BNE\", \"MTY\"], [\"IND\", \"SIN\", \"GRR\", \"SFB\", \"MEX\", \"DEN\", \"MEX\", \"SCL\", \"MEX\", \"MKK\"  …  \"BOS\", \"PIE\", \"FON\", \"CMN\", \"CUU\", \"YUL\", \"MSP\", \"SGF\", \"HNL\", \"CUL\"], [\"LAS\", \"CDG\", \"ORD\", \"PBG\", \"MZT\", \"SJD\", \"VSA\", \"MVD\", \"CME\", \"HNL\"  …  \"MCI\", \"GSP\", \"XQP\", \"BEY\", \"MTY\", \"MEX\", \"SDF\", \"PIE\", \"ATL\", \"GDL\"], [\"GDL\", \"IAD\", \"MBJ\", \"MYR\", \"MEX\", \"MTY\", \"VER\", \"MIA\", \"MEX\", \"EWR\"  …  \"IND\", \"BNA\", \"PMZ\", \"LOS\", \"CUN\", \"BJX\", \"MCO\", \"MDT\", \"PVR\", \"REX\"], [\"FAT\", \"SAN\", \"MIA\", \"ABE\", \"SAL\", \"TAM\", \"VSA\", \"MID\", \"CME\", \"MXP\"  …  \"CUN\", \"CLE\", \"SJO\", \"FRA\", \"PTY\", \"MDW\", \"CUN\", \"ORD\", \"SFO\", \"VER\"], [\"GDL\", \"SJD\", \"DFW\", \"ATL\", \"MEX\", \"VER\", \"MEX\", \"BZE\", \"MEX\", \"CUN\"  …  \"MXP\", \"CUN\", \"MEX\", \"CUN\", \"SAL\", \"SMF\", \"MSP\", \"GDL\", \"CLT\", \"VSA\"], [\"MDW\", \"SJC\", \"BJX\", \"MEX\", \"JFK\", \"MEX\", \"HUX\", \"DFW\", \"CEN\", \"IAD\"  …  \"CMN\", \"TIJ\", \"MUC\", \"MXP\", \"TGU\", \"IAD\", \"SLC\", \"LAX\", \"HTS\", \"VER\"]], Any[9, 9, 9, 9, 4, 12, 5, 23, 23, 23  …  5, 5, 5, 5, 5, 5, 1, 6, 1, 3])"
      ]
     },
     "execution_count": 42,
     "metadata": {},
     "output_type": "execute_result"
    }
   ],
   "source": [
    "spain_WUH_MX = busca_vuelos_WUH_MX(spain_N_RW, mx_airp)"
   ]
  },
  {
   "cell_type": "code",
   "execution_count": 43,
   "metadata": {},
   "outputs": [
    {
     "data": {
      "text/plain": [
       "(29, Any[[\"FOC\", \"PHL\", \"HRB\", \"YVR\", \"DUB\", \"ZHA\", \"PLM\", \"PMI\", \"TIJ\", \"AUH\"  …  \"TCZ\", \"MFM\", \"CGK\", \"KHH\", \"NGQ\", \"HGH\", \"DLC\", \"LUZ\", \"SHE\", \"CGQ\"], [\"HUN\", \"PLS\", \"HGH\", \"SJD\", \"SJO\", \"WUH\", \"AKL\", \"BEY\", \"PTY\", \"AMS\"  …  \"YNT\", \"BNE\", \"DCN\", \"AKL\", \"URC\", \"NAY\", \"SGN\", \"SCQ\", \"PVG\", \"KMG\"], [\"YZF\", \"EWR\", \"YKQ\", \"BGY\", \"SMF\", \"JNB\", \"POL\", \"VII\", \"KCH\", \"TUN\"  …  \"HIR\", \"GMP\", \"AMS\", \"FMM\", \"MAA\", \"ATH\", \"NRT\", \"MDW\", \"AGP\", \"CTU\"], [\"OPO\", \"EIS\", \"CRL\", \"OLB\", \"TPA\", \"PSA\", \"DMK\", \"NKG\", \"KBL\", \"LHW\"  …  \"HIR\", \"LPA\", \"UUD\", \"RYG\", \"CGN\", \"AUH\", \"GVA\", \"CUN\", \"JER\", \"TXL\"], [\"LAD\", \"NEV\", \"LEI\", \"DUS\", \"SAT\", \"TIA\", \"HDY\", \"HKG\", \"GYD\", \"YZY\"  …  \"RNL\", \"LPL\", \"KHV\", \"MAN\", \"CFU\", \"ALA\", \"SXF\", \"QRO\", \"SEN\", \"BCN\"], [\"AMS\", \"SKB\", \"BCN\", \"IKA\", \"ATL\", \"ATH\", \"CNX\", \"DME\", \"ESB\", \"LHW\"  …  \"HIR\", \"DUB\", \"HKG\", \"LIS\", \"ATH\", \"DYU\", \"DLM\", \"CUN\", \"FAO\", \"BRI\"], [\"RVK\", \"MIA\", \"GRO\", \"AMD\", \"LIT\", \"KSC\", \"NKG\", \"BRU\", \"GDL\", \"TAO\"  …  \"HIR\", \"EMA\", \"BEN\", \"BRI\", \"STR\", \"VKO\", \"AAE\", \"BDL\", \"EBL\", \"PRG\"], [\"TRD\", \"SAP\", \"RBA\", \"BLR\", \"PHX\", \"PRG\", \"KHH\", \"DKR\", \"MXL\", \"KMG\"  …  \"RBV\", \"TSF\", \"AMM\", \"STR\", \"CAG\", \"LWO\", \"LYS\", \"FLL\", \"ADA\", \"ARN\"], [\"TPE\", \"DYG\", \"YZV\", \"RAK\", \"KWL\", \"DME\", \"SIP\", \"QRO\", \"YGW\", \"JFK\"  …  \"CCV\", \"HAJ\", \"SEA\", \"TPE\", \"FUE\", \"MCT\", \"SGN\", \"JUB\", \"BNA\", \"LRR\"], [\"SJW\", \"SZX\", \"YGV\", \"EIN\", \"HGH\", \"TAS\", \"KBP\", \"CUN\", \"YUL\", \"KEF\"  …  \"LNB\", \"FUE\", \"IAD\", \"DYG\", \"LPL\", \"DXB\", \"DOH\", \"EBB\", \"TPA\", \"DOH\"]  …  [\"SNN\", \"MYR\", \"JFK\", \"RYG\", \"YYD\", \"YIO\", \"GRO\", \"STR\", \"MVD\", \"TUN\"  …  \"JNB\", \"SDR\", \"FIH\", \"CTU\", \"NAP\", \"FKB\", \"PSA\", \"BOD\", \"MTY\", \"ATL\"], [\"AGP\", \"ABE\", \"CUN\", \"SXF\", \"YXT\", \"YCY\", \"BVA\", \"AYT\", \"POA\", \"DKR\"  …  \"PLZ\", \"ACE\", \"TSH\", \"UYN\", \"TRS\", \"DME\", \"ARN\", \"VCE\", \"MZT\", \"BWI\"], [\"PRG\", \"MTY\", \"LGA\", \"KRK\", \"YLW\", \"YVP\", \"LHR\", \"XIY\", \"DOU\", \"OAK\"  …  \"LPA\", \"STI\", \"SOF\", \"DLA\", \"AMS\", \"KRR\", \"CPH\", \"HOG\", \"YCU\", \"VIE\"], [\"EIN\", \"SEA\", \"DFW\", \"OLB\", \"YLW\", \"YVP\", \"RAE\", \"LHW\", \"BSB\", \"DEN\"  …  \"FUE\", \"CTG\", \"TSF\", \"VCE\", \"BGY\", \"FEG\", \"SFT\", \"CZM\", \"KOW\", \"LAX\"], [\"ZRH\", \"EUG\", \"MEX\", \"SRP\", \"YYE\", \"YGW\", \"VFA\", \"NKG\", \"SSA\", \"RFD\"  …  \"KRK\", \"BNA\", \"BEG\", \"STR\", \"MAN\", \"LED\", \"BRE\", \"SDQ\", \"SHA\", \"MDT\"], [\"GRU\", \"LAX\", \"HMO\", \"OSL\", \"YXJ\", \"YUL\", \"WDH\", \"HKG\", \"VCP\", \"PIE\"  …  \"DTM\", \"CMH\", \"MLH\", \"CTA\", \"MJV\", \"KQT\", \"AYT\", \"EWR\", \"CSX\", \"DEN\"], [\"SSA\", \"MNL\", \"CUL\", \"TFS\", \"YYC\", \"FLL\", \"LUN\", \"SIN\", \"CGB\", \"SBN\"  …  \"SKP\", \"DEN\", \"SKP\", \"LYS\", \"BHX\", \"REN\", \"GLA\", \"AUA\", \"DMK\", \"DCA\"], [\"CGH\", \"SUB\", \"REX\", \"SHA\", \"YYC\", \"PTP\", \"DXB\", \"OOL\", \"MIA\", \"KMJ\"  …  \"AGP\", \"GDL\", \"SAW\", \"NTE\", \"KGS\", \"NJC\", \"KUN\", \"IAH\", \"CKG\", \"TPA\"], [\"SLC\", \"BPN\", \"PUJ\", \"RAR\", \"GDL\", \"BAQ\", \"MLE\", \"TSN\", \"BCN\", \"HGH\"  …  \"PLS\", \"PHL\", \"PEW\", \"CMN\", \"ORD\", \"SCO\", \"KRR\", \"CLT\", \"PVG\", \"DTW\"], [\"TPA\", \"AOR\", \"SFB\", \"PIA\", \"PQM\", \"LAX\", \"MIA\", \"PEK\", \"SCL\", \"MNL\"  …  \"MCO\", \"SBN\", \"CUN\", \"DLA\", \"MID\", \"MAD\", \"GUW\", \"ORD\", \"BNK\", \"DSM\"]], Any[7, 22, 23, 16, 2, 2, 2, 10, 19, 16  …  6, 16, 15, 15, 14, 19, 3, 15, 8, 20], Any[9, 4, 12, 23, 23, 23, 9, 9, 8, 8  …  24, 3, 2, 23, 3, 3, 3, 3, 5, 5])"
      ]
     },
     "execution_count": 43,
     "metadata": {},
     "output_type": "execute_result"
    }
   ],
   "source": [
    "spain_pasa_inf = busca_vuelos_pasa_inf(spain_WUH_MX, spain_airp)"
   ]
  },
  {
   "cell_type": "code",
   "execution_count": 44,
   "metadata": {},
   "outputs": [
    {
     "data": {
      "text/plain": [
       "(12, Any[[\"FOC\", \"PHL\", \"HRB\", \"YVR\", \"DUB\", \"ZHA\", \"PLM\", \"PMI\", \"TIJ\", \"AUH\"  …  \"TCZ\", \"MFM\", \"CGK\", \"KHH\", \"NGQ\", \"HGH\", \"DLC\", \"LUZ\", \"SHE\", \"CGQ\"], [\"OPO\", \"EIS\", \"CRL\", \"OLB\", \"TPA\", \"PSA\", \"DMK\", \"NKG\", \"KBL\", \"LHW\"  …  \"HIR\", \"LPA\", \"UUD\", \"RYG\", \"CGN\", \"AUH\", \"GVA\", \"CUN\", \"JER\", \"TXL\"], [\"LAD\", \"NEV\", \"LEI\", \"DUS\", \"SAT\", \"TIA\", \"HDY\", \"HKG\", \"GYD\", \"YZY\"  …  \"RNL\", \"LPL\", \"KHV\", \"MAN\", \"CFU\", \"ALA\", \"SXF\", \"QRO\", \"SEN\", \"BCN\"], [\"AMS\", \"SKB\", \"BCN\", \"IKA\", \"ATL\", \"ATH\", \"CNX\", \"DME\", \"ESB\", \"LHW\"  …  \"HIR\", \"DUB\", \"HKG\", \"LIS\", \"ATH\", \"DYU\", \"DLM\", \"CUN\", \"FAO\", \"BRI\"], [\"RVK\", \"MIA\", \"GRO\", \"AMD\", \"LIT\", \"KSC\", \"NKG\", \"BRU\", \"GDL\", \"TAO\"  …  \"HIR\", \"EMA\", \"BEN\", \"BRI\", \"STR\", \"VKO\", \"AAE\", \"BDL\", \"EBL\", \"PRG\"], [\"ALG\", \"AZA\", \"JED\", \"CGN\", \"LAS\", \"YUX\", \"PIS\", \"ALG\", \"ADB\", \"PMI\"  …  \"PUS\", \"FRA\", \"BKY\", \"KHN\", \"IKA\", \"OSL\", \"RHO\", \"LTN\", \"MEX\", \"OTP\"], [\"CDG\", \"ABE\", \"SEA\", \"FUE\", \"OAK\", \"YGT\", \"PMO\", \"PMI\", \"ADA\", \"NTE\"  …  \"HGH\", \"EDI\", \"KND\", \"NGB\", \"LHR\", \"STR\", \"CRL\", \"FUE\", \"CUU\", \"GCM\"], [\"ORD\", \"PIE\", \"OAK\", \"GLA\", \"KOA\", \"YIO\", \"MRS\", \"ZRH\", \"TZX\", \"CDG\"  …  \"DNH\", \"MLA\", \"BKY\", \"XIY\", \"TXL\", \"CFU\", \"ALC\", \"BRS\", \"CUN\", \"EWR\"], [\"DUB\", \"HTS\", \"HOU\", \"KGS\", \"JHM\", \"YGT\", \"RBA\", \"TXL\", \"ADB\", \"ABJ\"  …  \"LHW\", \"BRS\", \"KND\", \"HAK\", \"SVO\", \"MUC\", \"CPH\", \"BOD\", \"OAX\", \"SAL\"], [\"LGW\", \"IAG\", \"DTW\", \"KGS\", \"YVR\", \"YCY\", \"PSA\", \"ZAD\", \"GRU\", \"TOE\"  …  \"PEK\", \"HHN\", \"KND\", \"NAY\", \"KBP\", \"PMI\", \"DUB\", \"BLQ\", \"OAX\", \"SJO\"], [\"SNN\", \"MYR\", \"JFK\", \"RYG\", \"YYD\", \"YIO\", \"GRO\", \"STR\", \"MVD\", \"TUN\"  …  \"JNB\", \"SDR\", \"FIH\", \"CTU\", \"NAP\", \"FKB\", \"PSA\", \"BOD\", \"MTY\", \"ATL\"], [\"EIN\", \"SEA\", \"DFW\", \"OLB\", \"YLW\", \"YVP\", \"RAE\", \"LHW\", \"BSB\", \"DEN\"  …  \"FUE\", \"CTG\", \"TSF\", \"VCE\", \"BGY\", \"FEG\", \"SFT\", \"CZM\", \"KOW\", \"LAX\"]])"
      ]
     },
     "execution_count": 44,
     "metadata": {},
     "output_type": "execute_result"
    }
   ],
   "source": [
    "SPAIN_MX = busca_vuelos_INF_MX(spain_pasa_inf, spain_WUH_MX)"
   ]
  },
  {
   "cell_type": "markdown",
   "metadata": {},
   "source": [
    "#### Type 2"
   ]
  },
  {
   "cell_type": "code",
   "execution_count": 45,
   "metadata": {},
   "outputs": [
    {
     "data": {
      "text/plain": [
       "(499, Any[Any[[\"WUH\", \"SHA\", \"URC\", \"TPE\", \"HKD\", \"TPE\", \"KOJ\", \"FSZ\", \"KOJ\", \"UKB\"  …  \"AZA\", \"ICT\", \"MDW\", \"TTN\", \"CLE\", \"CUN\", \"ATL\", \"TYS\", \"DEN\", \"OAK\"]], Any[[\"WUH\", \"SIN\", \"LOP\", \"SUB\", \"UPG\", \"DJJ\", \"UPG\", \"KUL\", \"BKK\", \"FCO\"  …  \" \", \" \", \" \", \" \", \" \", \" \", \" \", \" \", \" \", \" \"]], Any[[\"WUH\", \"HAK\", \"CGD\", \"CAN\", \"SIN\", \"TPE\", \"NRT\", \"CAN\", \"AEB\", \"CAN\"  …  \" \", \" \", \" \", \" \", \" \", \" \", \" \", \" \", \" \", \" \"]], Any[[\"WUH\", \"SZX\", \"HGH\", \"HKG\", \"DMK\", \"SNO\", \"DMK\", \"KBV\", \"KUL\", \"NRT\"  …  \"DXB\", \"DFW\", \"JFK\", \"LHE\", \"RYK\", \"KHI\", \"MJD\", \"SKZ\", \"MJD\", \"SKZ\"]], Any[[\"WUH\", \"LYI\", \"XIY\", \"RLK\", \"HET\", \"TSN\", \"WUH\", \"HGH\", \"TAO\", \"BKK\"  …  \"TAO\", \"XMN\", \"MFM\", \"PVG\", \"DPS\", \"JOG\", \"PKU\", \"BTH\", \"JOG\", \"LOP\"]], Any[[\"WUH\", \"NTG\", \"DLC\", \"CJU\", \"TSN\", \"XNN\", \"CSX\", \"BHY\", \"CKG\", \"KRL\"  …  \"AMS\", \"CPT\", \"HLA\", \"DUR\", \"CPT\", \"LHR\", \"SEA\", \"PVG\", \"IST\", \"ARN\"]], Any[[\"WUH\", \"NNG\", \"PEK\", \"MRU\", \"LHR\", \"JFK\", \"STL\", \"LAX\", \"ZLO\", \"LAX\"  …  \"IBZ\", \"MRS\", \"OPO\", \"TER\", \"FLW\", \"HOR\", \"PDL\", \"ORY\", \"HER\", \"GLA\"]], Any[[\"WUH\", \"CDG\", \"SPU\", \"HEL\", \"CKG\", \"JHG\", \"LPQ\", \"CNX\", \"UTH\", \"DMK\"  …  \"DAL\", \"TUL\", \"SFB\", \"PSM\", \"SFB\", \"ROA\", \"SFB\", \"XNA\", \"LAS\", \"BUF\"]], Any[[\"WUH\", \"INC\", \"HKG\", \"KHV\", \"BQS\", \"HTA\", \"BQS\", \"VVO\", \"ICN\", \"AXT\"  …  \"CGN\", \"MXP\", \"HEL\", \"SVO\", \"BLQ\", \"OPO\", \"BSL\", \"NTE\", \"AMS\", \"DBV\"]], Any[[\"WUH\", \"AQG\", \"PEK\", \"YIC\", \"SHA\", \"SHE\", \"TAO\", \"PEK\", \"NZH\", \"UUD\"  …  \"PVG\", \"MUC\", \"BVC\", \"RAI\", \"CMN\", \"AMS\", \"BRN\", \"LCY\", \"RTM\", \"SAW\"]]  …  Any[[\"WUH\", \"LYG\", \"DLC\", \"CJU\", \"TSN\", \"NTG\", \"XMN\", \"TXN\", \"DLC\", \"CIF\"  …  \"MEL\", \"BNK\", \"NTL\", \"BNE\", \"HNL\", \"ATL\", \"PVR\", \"SFO\", \"CLT\", \"HTS\"]], Any[[\"WUH\", \"TYN\", \"SHA\", \"KMG\", \"CGD\", \"XIY\", \"HKG\", \"AKL\", \"PER\", \"BME\"  …  \"BAQ\", \"BOG\", \"FRA\", \"VCE\", \"REG\", \"LIN\", \"BCN\", \"TSF\", \"RYG\", \"TSF\"]], Any[[\"WUH\", \"WUX\", \"TPE\", \"KMG\", \"CZX\", \"KMG\", \"DSN\", \"TYN\", \"CGQ\", \"NBS\"  …  \"PGD\", \"DSM\", \"LAS\", \"MTY\", \"CUL\", \"GDL\", \"REX\", \"VER\", \"VSA\", \"VER\"]], Any[[\"WUH\", \"LYG\", \"DLC\", \"SJW\", \"SZX\", \"SHA\", \"CIH\", \"HAK\", \"HKG\", \"ZHA\"  …  \"SZX\", \"URC\", \"TAS\", \"PRG\", \"OTP\", \"GVA\", \"MIR\", \"NTE\", \"CDG\", \"LYS\"]], Any[[\"WUH\", \"MFM\", \"RMQ\", \"MZG\", \"RMQ\", \"HAN\", \"CTU\", \"ICN\", \"CMB\", \"BLR\"  …  \"DEL\", \"NRT\", \"PDX\", \"NRT\", \"KOJ\", \"UKB\", \"YGJ\", \"HND\", \"MSJ\", \"HND\"]], Any[[\"WUH\", \"URC\", \"CKG\", \"LZH\", \"SHA\", \"LCX\", \"SHA\", \"KWL\", \"KWE\", \"XNN\"  …  \"IGU\", \"LIM\", \"MDE\", \"CTG\", \"MIA\", \"CCS\", \"GYE\", \"LTX\", \"GYE\", \"AMS\"]], Any[[\"WUH\", \"CDG\", \"CZL\", \"NCE\", \"BCN\", \"EDI\", \"CDG\", \"CLY\", \"BOD\", \"MRS\"  …  \"RIX\", \"AES\", \"TRD\", \"KRK\", \"ZRH\", \"AGP\", \"STN\", \"BLQ\", \"CPH\", \"SJJ\"]], Any[[\"WUH\", \"HGH\", \"LYI\", \"HGH\", \"BHY\", \"HAK\", \"NKG\", \"CIF\", \"HLD\", \"TGO\"  …  \"ICN\", \"HFE\", \"HAK\", \"XMN\", \"MFM\", \"CKG\", \"NNG\", \"PEK\", \"YIC\", \"PEK\"]], Any[[\"WUH\", \"PEK\", \"UYN\", \"TSN\", \"XIY\", \"LYI\", \"CAN\", \"XUZ\", \"XMN\", \"KWL\"  …  \"LTN\", \"ZRH\", \"LAX\", \"CAN\", \"LJG\", \"XIY\", \"PEK\", \"URC\", \"XIY\", \"HKG\"]], Any[[\"WUH\", \"TAO\", \"RMQ\", \"HAN\", \"PVG\", \"MRU\", \"JNB\", \"BEW\", \"UEL\", \"TET\"  …  \"MDW\", \"LAX\", \"PIT\", \"CDG\", \"BCN\", \"BSL\", \"VCE\", \"AMS\", \"KRK\", \"BHX\"]]], Any[180, 35, 40, 60, 112, 171, 9, 166, 76, 131  …  91, 164, 178, 41, 128, 122, 26, 96, 79, 61])"
      ]
     },
     "execution_count": 45,
     "metadata": {},
     "output_type": "execute_result"
    }
   ],
   "source": [
    "spain_WUH_MX2 = busca_vuelos_WUH_MX2(spain_RW, mx_airp)"
   ]
  },
  {
   "cell_type": "code",
   "execution_count": 46,
   "metadata": {},
   "outputs": [
    {
     "data": {
      "text/plain": [
       "(465, Any[[\"WUH\", \"SHA\", \"URC\", \"TPE\", \"HKD\", \"TPE\", \"KOJ\", \"FSZ\", \"KOJ\", \"UKB\"  …  \"AZA\", \"ICT\", \"MDW\", \"TTN\", \"CLE\", \"CUN\", \"ATL\", \"TYS\", \"DEN\", \"OAK\"], [\"WUH\", \"LYI\", \"XIY\", \"RLK\", \"HET\", \"TSN\", \"WUH\", \"HGH\", \"TAO\", \"BKK\"  …  \"TAO\", \"XMN\", \"MFM\", \"PVG\", \"DPS\", \"JOG\", \"PKU\", \"BTH\", \"JOG\", \"LOP\"], [\"WUH\", \"NTG\", \"DLC\", \"CJU\", \"TSN\", \"XNN\", \"CSX\", \"BHY\", \"CKG\", \"KRL\"  …  \"AMS\", \"CPT\", \"HLA\", \"DUR\", \"CPT\", \"LHR\", \"SEA\", \"PVG\", \"IST\", \"ARN\"], [\"WUH\", \"NNG\", \"PEK\", \"MRU\", \"LHR\", \"JFK\", \"STL\", \"LAX\", \"ZLO\", \"LAX\"  …  \"IBZ\", \"MRS\", \"OPO\", \"TER\", \"FLW\", \"HOR\", \"PDL\", \"ORY\", \"HER\", \"GLA\"], [\"WUH\", \"CDG\", \"SPU\", \"HEL\", \"CKG\", \"JHG\", \"LPQ\", \"CNX\", \"UTH\", \"DMK\"  …  \"DAL\", \"TUL\", \"SFB\", \"PSM\", \"SFB\", \"ROA\", \"SFB\", \"XNA\", \"LAS\", \"BUF\"], [\"WUH\", \"INC\", \"HKG\", \"KHV\", \"BQS\", \"HTA\", \"BQS\", \"VVO\", \"ICN\", \"AXT\"  …  \"CGN\", \"MXP\", \"HEL\", \"SVO\", \"BLQ\", \"OPO\", \"BSL\", \"NTE\", \"AMS\", \"DBV\"], [\"WUH\", \"AQG\", \"PEK\", \"YIC\", \"SHA\", \"SHE\", \"TAO\", \"PEK\", \"NZH\", \"UUD\"  …  \"PVG\", \"MUC\", \"BVC\", \"RAI\", \"CMN\", \"AMS\", \"BRN\", \"LCY\", \"RTM\", \"SAW\"], [\"WUH\", \"HAK\", \"HFE\", \"KWL\", \"TPE\", \"WUH\", \"LZH\", \"SZX\", \"HAK\", \"SIN\"  …  \"RHO\", \"LEJ\", \"ACE\", \"BRE\", \"IST\", \"MED\", \"SAW\", \"RUH\", \"DAC\", \"SHJ\"], [\"WUH\", \"LYG\", \"FOC\", \"CTU\", \"KOW\", \"SZX\", \"RMQ\", \"KIX\", \"PEK\", \"JDZ\"  …  \"BOS\", \"TPA\", \"BHM\", \"MCO\", \"IND\", \"LAS\", \"GDL\", \"FAT\", \"GDL\", \"MDW\"], [\"WUH\", \"XNN\", \"CGO\", \"CGQ\", \"PEK\", \"LED\", \"KSQ\", \"LED\", \"NSK\", \"AER\"  …  \"CUN\", \"BOG\", \"RCH\", \"BOG\", \"BAQ\", \"CLO\", \"MIA\", \"PHX\", \"MIA\", \"BGI\"]  …  [\"WUH\", \"WNZ\", \"TNA\", \"CGQ\", \"WUH\", \"WUX\", \"WUH\", \"YCU\", \"CKG\", \"AVA\"  …  \" \", \" \", \" \", \" \", \" \", \" \", \" \", \" \", \" \", \" \"], [\"WUH\", \"LYG\", \"DLC\", \"CJU\", \"TSN\", \"NTG\", \"XMN\", \"TXN\", \"DLC\", \"CIF\"  …  \"MEL\", \"BNK\", \"NTL\", \"BNE\", \"HNL\", \"ATL\", \"PVR\", \"SFO\", \"CLT\", \"HTS\"], [\"WUH\", \"TYN\", \"SHA\", \"KMG\", \"CGD\", \"XIY\", \"HKG\", \"AKL\", \"PER\", \"BME\"  …  \"BAQ\", \"BOG\", \"FRA\", \"VCE\", \"REG\", \"LIN\", \"BCN\", \"TSF\", \"RYG\", \"TSF\"], [\"WUH\", \"WUX\", \"TPE\", \"KMG\", \"CZX\", \"KMG\", \"DSN\", \"TYN\", \"CGQ\", \"NBS\"  …  \"PGD\", \"DSM\", \"LAS\", \"MTY\", \"CUL\", \"GDL\", \"REX\", \"VER\", \"VSA\", \"VER\"], [\"WUH\", \"MFM\", \"RMQ\", \"MZG\", \"RMQ\", \"HAN\", \"CTU\", \"ICN\", \"CMB\", \"BLR\"  …  \"DEL\", \"NRT\", \"PDX\", \"NRT\", \"KOJ\", \"UKB\", \"YGJ\", \"HND\", \"MSJ\", \"HND\"], [\"WUH\", \"URC\", \"CKG\", \"LZH\", \"SHA\", \"LCX\", \"SHA\", \"KWL\", \"KWE\", \"XNN\"  …  \"IGU\", \"LIM\", \"MDE\", \"CTG\", \"MIA\", \"CCS\", \"GYE\", \"LTX\", \"GYE\", \"AMS\"], [\"WUH\", \"CDG\", \"CZL\", \"NCE\", \"BCN\", \"EDI\", \"CDG\", \"CLY\", \"BOD\", \"MRS\"  …  \"RIX\", \"AES\", \"TRD\", \"KRK\", \"ZRH\", \"AGP\", \"STN\", \"BLQ\", \"CPH\", \"SJJ\"], [\"WUH\", \"HGH\", \"LYI\", \"HGH\", \"BHY\", \"HAK\", \"NKG\", \"CIF\", \"HLD\", \"TGO\"  …  \"ICN\", \"HFE\", \"HAK\", \"XMN\", \"MFM\", \"CKG\", \"NNG\", \"PEK\", \"YIC\", \"PEK\"], [\"WUH\", \"PEK\", \"UYN\", \"TSN\", \"XIY\", \"LYI\", \"CAN\", \"XUZ\", \"XMN\", \"KWL\"  …  \"LTN\", \"ZRH\", \"LAX\", \"CAN\", \"LJG\", \"XIY\", \"PEK\", \"URC\", \"XIY\", \"HKG\"], [\"WUH\", \"TAO\", \"RMQ\", \"HAN\", \"PVG\", \"MRU\", \"JNB\", \"BEW\", \"UEL\", \"TET\"  …  \"MDW\", \"LAX\", \"PIT\", \"CDG\", \"BCN\", \"BSL\", \"VCE\", \"AMS\", \"KRK\", \"BHX\"]], Any[56, 44, 64, 13, 98, 25, 49, 57, 45, 170  …  50, 30, 80, 46, 67, 30, 4, 46, 35, 122], Any[180, 112, 171, 9, 166, 76, 131, 148, 181, 175  …  95, 91, 164, 178, 128, 122, 26, 96, 79, 61])"
      ]
     },
     "execution_count": 46,
     "metadata": {},
     "output_type": "execute_result"
    }
   ],
   "source": [
    "spain_pasa_inf2 = busca_vuelos_pasa_inf2(spain_WUH_MX2, spain_airp)"
   ]
  },
  {
   "cell_type": "code",
   "execution_count": 47,
   "metadata": {
    "scrolled": false
   },
   "outputs": [
    {
     "data": {
      "text/plain": [
       "(296, Any[[\"WUH\", \"SHA\", \"URC\", \"TPE\", \"HKD\", \"TPE\", \"KOJ\", \"FSZ\", \"KOJ\", \"UKB\"  …  \"AZA\", \"ICT\", \"MDW\", \"TTN\", \"CLE\", \"CUN\", \"ATL\", \"TYS\", \"DEN\", \"OAK\"], [\"WUH\", \"LYI\", \"XIY\", \"RLK\", \"HET\", \"TSN\", \"WUH\", \"HGH\", \"TAO\", \"BKK\"  …  \"TAO\", \"XMN\", \"MFM\", \"PVG\", \"DPS\", \"JOG\", \"PKU\", \"BTH\", \"JOG\", \"LOP\"], [\"WUH\", \"NTG\", \"DLC\", \"CJU\", \"TSN\", \"XNN\", \"CSX\", \"BHY\", \"CKG\", \"KRL\"  …  \"AMS\", \"CPT\", \"HLA\", \"DUR\", \"CPT\", \"LHR\", \"SEA\", \"PVG\", \"IST\", \"ARN\"], [\"WUH\", \"CDG\", \"SPU\", \"HEL\", \"CKG\", \"JHG\", \"LPQ\", \"CNX\", \"UTH\", \"DMK\"  …  \"DAL\", \"TUL\", \"SFB\", \"PSM\", \"SFB\", \"ROA\", \"SFB\", \"XNA\", \"LAS\", \"BUF\"], [\"WUH\", \"INC\", \"HKG\", \"KHV\", \"BQS\", \"HTA\", \"BQS\", \"VVO\", \"ICN\", \"AXT\"  …  \"CGN\", \"MXP\", \"HEL\", \"SVO\", \"BLQ\", \"OPO\", \"BSL\", \"NTE\", \"AMS\", \"DBV\"], [\"WUH\", \"AQG\", \"PEK\", \"YIC\", \"SHA\", \"SHE\", \"TAO\", \"PEK\", \"NZH\", \"UUD\"  …  \"PVG\", \"MUC\", \"BVC\", \"RAI\", \"CMN\", \"AMS\", \"BRN\", \"LCY\", \"RTM\", \"SAW\"], [\"WUH\", \"HAK\", \"HFE\", \"KWL\", \"TPE\", \"WUH\", \"LZH\", \"SZX\", \"HAK\", \"SIN\"  …  \"RHO\", \"LEJ\", \"ACE\", \"BRE\", \"IST\", \"MED\", \"SAW\", \"RUH\", \"DAC\", \"SHJ\"], [\"WUH\", \"LYG\", \"FOC\", \"CTU\", \"KOW\", \"SZX\", \"RMQ\", \"KIX\", \"PEK\", \"JDZ\"  …  \"BOS\", \"TPA\", \"BHM\", \"MCO\", \"IND\", \"LAS\", \"GDL\", \"FAT\", \"GDL\", \"MDW\"], [\"WUH\", \"XNN\", \"CGO\", \"CGQ\", \"PEK\", \"LED\", \"KSQ\", \"LED\", \"NSK\", \"AER\"  …  \"CUN\", \"BOG\", \"RCH\", \"BOG\", \"BAQ\", \"CLO\", \"MIA\", \"PHX\", \"MIA\", \"BGI\"], [\"WUH\", \"YTY\", \"HRB\", \"CJU\", \"MWX\", \"PVG\", \"DEL\", \"DOH\", \"GYD\", \"SVO\"  …  \"DMK\", \"LOE\", \"DMK\", \"NNT\", \"CNX\", \"PHS\", \"CNX\", \"KBV\", \"KUL\", \"MRU\"]  …  [\"WUH\", \"HKG\", \"ICN\", \"OKA\", \"UEO\", \"OKA\", \"PUS\", \"KLO\", \"CEB\", \"SIN\"  …  \"MAN\", \"FCO\", \"AUH\", \"MAA\", \"BOM\", \"MUC\", \"BOD\", \"MUC\", \"NBE\", \"AMS\"], [\"WUH\", \"WNZ\", \"TNA\", \"CGQ\", \"WUH\", \"WUX\", \"WUH\", \"YCU\", \"CKG\", \"AVA\"  …  \" \", \" \", \" \", \" \", \" \", \" \", \" \", \" \", \" \", \" \"], [\"WUH\", \"LYG\", \"DLC\", \"CJU\", \"TSN\", \"NTG\", \"XMN\", \"TXN\", \"DLC\", \"CIF\"  …  \"MEL\", \"BNK\", \"NTL\", \"BNE\", \"HNL\", \"ATL\", \"PVR\", \"SFO\", \"CLT\", \"HTS\"], [\"WUH\", \"TYN\", \"SHA\", \"KMG\", \"CGD\", \"XIY\", \"HKG\", \"AKL\", \"PER\", \"BME\"  …  \"BAQ\", \"BOG\", \"FRA\", \"VCE\", \"REG\", \"LIN\", \"BCN\", \"TSF\", \"RYG\", \"TSF\"], [\"WUH\", \"WUX\", \"TPE\", \"KMG\", \"CZX\", \"KMG\", \"DSN\", \"TYN\", \"CGQ\", \"NBS\"  …  \"PGD\", \"DSM\", \"LAS\", \"MTY\", \"CUL\", \"GDL\", \"REX\", \"VER\", \"VSA\", \"VER\"], [\"WUH\", \"MFM\", \"RMQ\", \"MZG\", \"RMQ\", \"HAN\", \"CTU\", \"ICN\", \"CMB\", \"BLR\"  …  \"DEL\", \"NRT\", \"PDX\", \"NRT\", \"KOJ\", \"UKB\", \"YGJ\", \"HND\", \"MSJ\", \"HND\"], [\"WUH\", \"URC\", \"CKG\", \"LZH\", \"SHA\", \"LCX\", \"SHA\", \"KWL\", \"KWE\", \"XNN\"  …  \"IGU\", \"LIM\", \"MDE\", \"CTG\", \"MIA\", \"CCS\", \"GYE\", \"LTX\", \"GYE\", \"AMS\"], [\"WUH\", \"CDG\", \"CZL\", \"NCE\", \"BCN\", \"EDI\", \"CDG\", \"CLY\", \"BOD\", \"MRS\"  …  \"RIX\", \"AES\", \"TRD\", \"KRK\", \"ZRH\", \"AGP\", \"STN\", \"BLQ\", \"CPH\", \"SJJ\"], [\"WUH\", \"HGH\", \"LYI\", \"HGH\", \"BHY\", \"HAK\", \"NKG\", \"CIF\", \"HLD\", \"TGO\"  …  \"ICN\", \"HFE\", \"HAK\", \"XMN\", \"MFM\", \"CKG\", \"NNG\", \"PEK\", \"YIC\", \"PEK\"], [\"WUH\", \"PEK\", \"UYN\", \"TSN\", \"XIY\", \"LYI\", \"CAN\", \"XUZ\", \"XMN\", \"KWL\"  …  \"LTN\", \"ZRH\", \"LAX\", \"CAN\", \"LJG\", \"XIY\", \"PEK\", \"URC\", \"XIY\", \"HKG\"]])"
      ]
     },
     "execution_count": 47,
     "metadata": {},
     "output_type": "execute_result"
    }
   ],
   "source": [
    "SPAIN_MX2 = busca_vuelos_INF_MX(spain_pasa_inf2, spain_WUH_MX2)"
   ]
  },
  {
   "cell_type": "code",
   "execution_count": null,
   "metadata": {},
   "outputs": [],
   "source": []
  },
  {
   "cell_type": "markdown",
   "metadata": {},
   "source": [
    "#### Germany\n",
    "\n",
    "Infected person arrived from Germany on March 03. (approx. 195 steps from WUH)"
   ]
  },
  {
   "cell_type": "code",
   "execution_count": 48,
   "metadata": {},
   "outputs": [
    {
     "data": {
      "text/plain": [
       "144-element Array{String,1}:\n",
       " \"FLF\"\n",
       " \"AAH\"\n",
       " \"GWW\"\n",
       " \"XHJ\"\n",
       " \"BMR\"\n",
       " \"JUI\"\n",
       " \"LGO\"\n",
       " \"NOD\"\n",
       " \"NRD\"\n",
       " \"QFB\"\n",
       " \"QKF\"\n",
       " \"QOB\"\n",
       " \"ZCA\"\n",
       " ⋮    \n",
       " \"RBM\"\n",
       " \"STR\"\n",
       " \"ZWS\"\n",
       " \"GWT\"\n",
       " \"ZQF\"\n",
       " \"VAC\"\n",
       " \"AGE\"\n",
       " \"NRN\"\n",
       " \"ZQV\"\n",
       " \"WZB\"\n",
       " \"OHR\"\n",
       " \"ZQW\""
      ]
     },
     "execution_count": 48,
     "metadata": {},
     "output_type": "execute_result"
    }
   ],
   "source": [
    "#List of german airports\n",
    "germany_airp = readdlm(\"/Users/yuriko/Documents/UNAM/Tesis_Lic/Articulo/germany_airp.csv\", ',', String)[:,1]"
   ]
  },
  {
   "cell_type": "code",
   "execution_count": 49,
   "metadata": {
    "scrolled": false
   },
   "outputs": [
    {
     "data": {
      "text/plain": [
       "1000-element Array{Any,1}:\n",
       " [\"WUH\", \"SHA\", \"URC\", \"TPE\", \"HKD\", \"TPE\", \"KOJ\", \"FSZ\", \"KOJ\", \"UKB\"  …  \"DFW\", \"ATL\", \"ROA\", \"CLT\", \"SMF\", \"LGB\", \"LAS\", \"GRR\", \"DEN\", \"BIS\"]\n",
       " [\"WUH\", \"SZX\", \"TSN\", \"SZX\", \"DYG\", \"CKG\", \"FOC\", \"CTU\", \"LZH\", \"KMG\"  …  \" \", \" \", \" \", \" \", \" \", \" \", \" \", \" \", \" \", \" \"]                    \n",
       " [\"WUH\", \"YNT\", \"HGH\", \"WUH\", \"HET\", \"NZH\", \"OVB\", \"PYJ\", \"OVB\", \"EVN\"  …  \"XMN\", \"CGK\", \"BDJ\", \"PKN\", \"BDJ\", \"PKN\", \"BDJ\", \"BDO\", \"BTH\", \"BPN\"]\n",
       " [\"WUH\", \"LZH\", \"KMG\", \"CZX\", \"FOC\", \"MFM\", \"NKG\", \"KMG\", \"BSD\", \"KMG\"  …  \"OBY\", \"CNP\", \"OBY\", \"CNP\", \"OBY\", \"CNP\", \"KUS\", \"RKV\", \"EGS\", \"RKV\"]\n",
       " [\"WUH\", \"WNZ\", \"CTU\", \"KMG\", \"CNX\", \"UTH\", \"DMK\", \"NAW\", \"DMK\", \"HKG\"  …  \"WUX\", \"XMN\", \"SHA\", \"HIA\", \"HKG\", \"YVR\", \"YWL\", \"YVR\", \"YOW\", \"YZF\"]\n",
       " [\"WUH\", \"SIN\", \"LOP\", \"SUB\", \"UPG\", \"DJJ\", \"UPG\", \"KUL\", \"BKK\", \"FCO\"  …  \" \", \" \", \" \", \" \", \" \", \" \", \" \", \" \", \" \", \" \"]                    \n",
       " [\"WUH\", \"HAK\", \"CGD\", \"CAN\", \"SIN\", \"TPE\", \"NRT\", \"CAN\", \"AEB\", \"CAN\"  …  \" \", \" \", \" \", \" \", \" \", \" \", \" \", \" \", \" \", \" \"]                    \n",
       " [\"WUH\", \"AQG\", \"XMN\", \"HAK\", \"KMG\", \"YIC\", \"KMG\", \"KHH\", \"XMN\", \"WUS\"  …  \"JSR\", \"DAC\", \"KWI\", \"TIF\", \"IST\", \"EBL\", \"AUH\", \"FCO\", \"SXF\", \"CAG\"]\n",
       " [\"WUH\", \"XNN\", \"URC\", \"TBS\", \"RIX\", \"AMS\", \"INN\", \"EIN\", \"AHO\", \"AOI\"  …  \"LGW\", \"FNC\", \"LPA\", \"EMA\", \"GCI\", \"EXT\", \"GLA\", \"PFO\", \"GPA\", \"DUS\"]\n",
       " [\"WUH\", \"SZX\", \"HGH\", \"HKG\", \"DMK\", \"SNO\", \"DMK\", \"KBV\", \"KUL\", \"NRT\"  …  \"LHE\", \"MUX\", \"UET\", \"ISB\", \"KWI\", \"TUN\", \"GAF\", \"TOE\", \"ORY\", \"DKR\"]\n",
       " [\"WUH\", \"LYI\", \"XIY\", \"RLK\", \"HET\", \"TSN\", \"WUH\", \"HGH\", \"TAO\", \"BKK\"  …  \"ISB\", \"MUX\", \"ISB\", \"RUH\", \"SHW\", \"JED\", \"CDG\", \"MSQ\", \"GVA\", \"SVQ\"]\n",
       " [\"WUH\", \"PEK\", \"JJN\", \"HGH\", \"CAN\", \"DEL\", \"RPR\", \"CCU\", \"HYD\", \"VTZ\"  …  \"IST\", \"TIP\", \"IST\", \"URC\", \"SJW\", \"KHN\", \"HKG\", \"JNB\", \"DXB\", \"AMD\"]\n",
       " [\"WUH\", \"NTG\", \"DLC\", \"CJU\", \"TSN\", \"XNN\", \"CSX\", \"BHY\", \"CKG\", \"KRL\"  …  \"KLR\", \"ARN\", \"MAN\", \"ARN\", \"TXL\", \"CDG\", \"CMB\", \"TRV\", \"SIN\", \"CGK\"]\n",
       " ⋮                                                                                                                                              \n",
       " [\"WUH\", \"CDG\", \"CLT\", \"VPS\", \"ATL\", \"CRW\", \"MYR\", \"ATL\", \"BWI\", \"CVG\"  …  \"JED\", \"LKO\", \"DXB\", \"JFK\", \"STT\", \"SBH\", \"SFG\", \"PTP\", \"SDQ\", \"SXM\"]\n",
       " [\"WUH\", \"PUS\", \"OKA\", \"NRT\", \"SJC\", \"BUR\", \"SJC\", \"KOA\", \"PHX\", \"BWI\"  …  \"FRU\", \"SVO\", \"DEL\", \"KNU\", \"DEL\", \"IXB\", \"PBH\", \"GAU\", \"IXB\", \"DEL\"]\n",
       " [\"WUH\", \"CTU\", \"AMS\", \"LTN\", \"AGP\", \"ARN\", \"OSL\", \"BOO\", \"BGO\", \"AGP\"  …  \"MXP\", \"HKG\", \"SHA\", \"SHE\", \"HGH\", \"KIX\", \"FCO\", \"SVX\", \"SCW\", \"SVX\"]\n",
       " [\"WUH\", \"MFM\", \"RMQ\", \"MZG\", \"RMQ\", \"HAN\", \"CTU\", \"ICN\", \"CMB\", \"BLR\"  …  \"KTM\", \"CAN\", \"RMQ\", \"SGN\", \"PXU\", \"HAN\", \"DAD\", \"REP\", \"PUS\", \"KLO\"]\n",
       " [\"WUH\", \"URC\", \"CKG\", \"LZH\", \"SHA\", \"LCX\", \"SHA\", \"KWL\", \"KWE\", \"XNN\"  …  \"ADB\", \"ZRH\", \"RIX\", \"BGO\", \"FDE\", \"BGO\", \"ALC\", \"GSE\", \"BVA\", \"BDS\"]\n",
       " [\"WUH\", \"XFN\", \"PVG\", \"FRA\", \"PUJ\", \"YUL\", \"LHR\", \"MAN\", \"KGS\", \"KRK\"  …  \"XIY\", \"INC\", \"RLK\", \"HET\", \"CIF\", \"HLD\", \"HRB\", \"HGH\", \"SJW\", \"TVS\"]\n",
       " [\"WUH\", \"CDG\", \"CZL\", \"NCE\", \"BCN\", \"EDI\", \"CDG\", \"CLY\", \"BOD\", \"MRS\"  …  \"BEY\", \"LHR\", \"BRU\", \"TRN\", \"SUF\", \"LIN\", \"REG\", \"FCO\", \"LUX\", \"BCN\"]\n",
       " [\"WUH\", \"HGH\", \"LYI\", \"HGH\", \"BHY\", \"HAK\", \"NKG\", \"CIF\", \"HLD\", \"TGO\"  …  \"CSX\", \"MIG\", \"LXA\", \"PEK\", \"WXN\", \"KMG\", \"MIG\", \"KWE\", \"BFJ\", \"KWE\"]\n",
       " [\"WUH\", \"PEK\", \"UYN\", \"TSN\", \"XIY\", \"LYI\", \"CAN\", \"XUZ\", \"XMN\", \"KWL\"  …  \"KHN\", \"PEK\", \"CKG\", \"CTU\", \"CKG\", \"KHN\", \"HRB\", \"DOY\", \"PEK\", \"ZYI\"]\n",
       " [\"WUH\", \"TAO\", \"RMQ\", \"HAN\", \"PVG\", \"MRU\", \"JNB\", \"BEW\", \"UEL\", \"TET\"  …  \"AYT\", \"LNZ\", \"SZG\", \"AYT\", \"NUE\", \"FRA\", \"TUN\", \"SFA\", \"TUN\", \"VIE\"]\n",
       " [\"WUH\", \"SIN\", \"KWE\", \"FOC\", \"ZUH\", \"WUH\", \"XMN\", \"HFE\", \"HAK\", \"SWA\"  …  \"PEN\", \"LGK\", \"SZB\", \"RDN\", \"SIN\", \"HKG\", \"YNZ\", \"CSX\", \"ZHA\", \"NAY\"]\n",
       " [\"WUH\", \"CGQ\", \"TNA\", \"CGQ\", \"TAO\", \"NGB\", \"CJU\", \"KUV\", \"CJU\", \"CJJ\"  …  \"JSI\", \"ATH\", \"SMI\", \"ATH\", \"ZRH\", \"NRT\", \"HKG\", \"YNZ\", \"DLC\", \"LYG\"]"
      ]
     },
     "execution_count": 49,
     "metadata": {},
     "output_type": "execute_result"
    }
   ],
   "source": [
    "#Random walks up to 195 steps\n",
    "germany_RW = country_steps(195, walk_names_multiplex)"
   ]
  },
  {
   "cell_type": "code",
   "execution_count": 50,
   "metadata": {},
   "outputs": [
    {
     "data": {
      "text/plain": [
       "1000×4 Array{String,2}:\n",
       " \"LAS\"  \"GRR\"  \"DEN\"  \"BIS\"\n",
       " \" \"    \" \"    \" \"    \" \"  \n",
       " \"BDJ\"  \"BDO\"  \"BTH\"  \"BPN\"\n",
       " \"KUS\"  \"RKV\"  \"EGS\"  \"RKV\"\n",
       " \"YWL\"  \"YVR\"  \"YOW\"  \"YZF\"\n",
       " \" \"    \" \"    \" \"    \" \"  \n",
       " \" \"    \" \"    \" \"    \" \"  \n",
       " \"AUH\"  \"FCO\"  \"SXF\"  \"CAG\"\n",
       " \"GLA\"  \"PFO\"  \"GPA\"  \"DUS\"\n",
       " \"GAF\"  \"TOE\"  \"ORY\"  \"DKR\"\n",
       " \"CDG\"  \"MSQ\"  \"GVA\"  \"SVQ\"\n",
       " \"HKG\"  \"JNB\"  \"DXB\"  \"AMD\"\n",
       " \"CMB\"  \"TRV\"  \"SIN\"  \"CGK\"\n",
       " ⋮                         \n",
       " \"SFG\"  \"PTP\"  \"SDQ\"  \"SXM\"\n",
       " \"PBH\"  \"GAU\"  \"IXB\"  \"DEL\"\n",
       " \"FCO\"  \"SVX\"  \"SCW\"  \"SVX\"\n",
       " \"DAD\"  \"REP\"  \"PUS\"  \"KLO\"\n",
       " \"ALC\"  \"GSE\"  \"BVA\"  \"BDS\"\n",
       " \"HRB\"  \"HGH\"  \"SJW\"  \"TVS\"\n",
       " \"REG\"  \"FCO\"  \"LUX\"  \"BCN\"\n",
       " \"MIG\"  \"KWE\"  \"BFJ\"  \"KWE\"\n",
       " \"HRB\"  \"DOY\"  \"PEK\"  \"ZYI\"\n",
       " \"TUN\"  \"SFA\"  \"TUN\"  \"VIE\"\n",
       " \"YNZ\"  \"CSX\"  \"ZHA\"  \"NAY\"\n",
       " \"HKG\"  \"YNZ\"  \"DLC\"  \"LYG\""
      ]
     },
     "execution_count": 50,
     "metadata": {},
     "output_type": "execute_result"
    }
   ],
   "source": [
    "prueba_germany = MX_llegada(germany_RW, 195)"
   ]
  },
  {
   "cell_type": "code",
   "execution_count": 51,
   "metadata": {},
   "outputs": [
    {
     "data": {
      "text/plain": [
       "19-element Array{Any,1}:\n",
       " 263\n",
       " 293\n",
       " 311\n",
       " 329\n",
       " 350\n",
       " 423\n",
       " 451\n",
       " 460\n",
       " 467\n",
       " 486\n",
       " 517\n",
       " 540\n",
       " 777\n",
       " 832\n",
       " 864\n",
       " 869\n",
       " 881\n",
       " 952\n",
       " 988"
      ]
     },
     "execution_count": 51,
     "metadata": {},
     "output_type": "execute_result"
    }
   ],
   "source": [
    "germany_dia = mx_dia(prueba_germany, mx_airp)"
   ]
  },
  {
   "cell_type": "code",
   "execution_count": 52,
   "metadata": {},
   "outputs": [
    {
     "data": {
      "text/plain": [
       "196×19 Array{String,2}:\n",
       " \"WUH\"  \"WUH\"  \"WUH\"  \"WUH\"  \"WUH\"  …  \"WUH\"  \"WUH\"  \"WUH\"  \"WUH\"  \"WUH\"\n",
       " \"CNX\"  \"DSN\"  \"JJN\"  \"CKG\"  \"CIH\"     \"LYG\"  \"HGH\"  \"SHE\"  \"PUS\"  \"NTG\"\n",
       " \"WUH\"  \"KMG\"  \"CAN\"  \"SZX\"  \"CAN\"     \"HGH\"  \"YIH\"  \"CSX\"  \"GUM\"  \"CAN\"\n",
       " \"SWA\"  \"CCU\"  \"ZHA\"  \"LZH\"  \"HKG\"     \"CJJ\"  \"XMN\"  \"ZUH\"  \"ICN\"  \"JIU\"\n",
       " \"HGH\"  \"IXZ\"  \"SYX\"  \"CKG\"  \"MAA\"     \"PEK\"  \"SYX\"  \"LZH\"  \"KMI\"  \"CAN\"\n",
       " \"KUL\"  \"MAA\"  \"PVG\"  \"HDG\"  \"COK\"  …  \"HIA\"  \"NGB\"  \"CKG\"  \"HND\"  \"AEB\"\n",
       " \"BKI\"  \"SHJ\"  \"AKL\"  \"CTU\"  \"MCT\"     \"SHA\"  \"SJW\"  \"TPE\"  \"SFO\"  \"CKG\"\n",
       " \"DPS\"  \"KTM\"  \"OOL\"  \"XUZ\"  \"DWC\"     \"URC\"  \"CTU\"  \"CGQ\"  \"YYC\"  \"BFJ\"\n",
       " \"ADL\"  \"KEP\"  \"KUL\"  \"CKG\"  \"CMB\"     \"XNN\"  \"JIQ\"  \"FOC\"  \"YQQ\"  \"CKG\"\n",
       " \"KUL\"  \"KTM\"  \"KIX\"  \"LZH\"  \"IXM\"     \"WUH\"  \"PEK\"  \"HAK\"  \"YVR\"  \"WUX\"\n",
       " \"SRG\"  \"SIN\"  \"ICN\"  \"SHA\"  \"CMB\"  …  \"CNX\"  \"CAI\"  \"TYN\"  \"YYJ\"  \"CKG\"\n",
       " \"PKN\"  \"KTM\"  \"CGQ\"  \"SHE\"  \"SIN\"     \"UTH\"  \"DME\"  \"LJG\"  \"YYZ\"  \"XMN\"\n",
       " \"PKN\"  \"HKG\"  \"FOC\"  \"WUH\"  \"CSX\"     \"CNX\"  \"CSY\"  \"HGH\"  \"DEN\"  \"WUS\"\n",
       " ⋮                                  ⋱         ⋮                         \n",
       " \"LAS\"  \"CUK\"  \"SHA\"  \"GDL\"  \"LGA\"     \"NBO\"  \"MAN\"  \"KRK\"  \"ARN\"  \"LOS\"\n",
       " \"DSM\"  \"TZA\"  \"MFM\"  \"TLC\"  \"MIA\"  …  \"LVI\"  \"CIA\"  \"EDI\"  \"MAN\"  \"LFW\"\n",
       " \"ATL\"  \"BZE\"  \"HGH\"  \"MTY\"  \"BDA\"     \"HRE\"  \"MAD\"  \"SVG\"  \"GRO\"  \"CDG\"\n",
       " \"CUN\"  \"DFW\"  \"KHH\"  \"ACA\"  \"MIA\"     \"LLW\"  \"BOS\"  \"CDG\"  \"BTS\"  \"NBO\"\n",
       " \"RDU\"  \"MTY\"  \"PUS\"  \"MEX\"  \"MID\"     \"NBO\"  \"RIC\"  \"TUN\"  \"BHX\"  \"IST\"\n",
       " \"MCO\"  \"TLC\"  \"TYN\"  \"VER\"  \"MTY\"     \"ACC\"  \"FLL\"  \"ZRH\"  \"HAM\"  \"BOM\"\n",
       " \"RIC\"  \"ZIH\"  \"HET\"  \"TAM\"  \"CUU\"  …  \"DKR\"  \"SDQ\"  \"KEF\"  \"FRA\"  \"PAT\"\n",
       " \"ORD\"  \"MEX\"  \"TPE\"  \"CUN\"  \"MTY\"     \"CDG\"  \"SCU\"  \"YYZ\"  \"MEX\"  \"LKO\"\n",
       " \"MEX\"  \"MLM\"  \"SFO\"  \"CUU\"  \"MZT\"     \"MEX\"  \"HAV\"  \"ORD\"  \"CJS\"  \"DEL\"\n",
       " \"TGZ\"  \"MDW\"  \"SAL\"  \"GDL\"  \"PHX\"     \"FRA\"  \"HOG\"  \"LAX\"  \"GDL\"  \"MAA\"\n",
       " \"TIJ\"  \"RSW\"  \"MEX\"  \"CUL\"  \"SFO\"     \"SVO\"  \"CUN\"  \"PVR\"  \"FAT\"  \"FRA\"\n",
       " \"SLP\"  \"HPN\"  \"OAX\"  \"SJD\"  \"SEA\"  …  \"AER\"  \"EWR\"  \"ATL\"  \"DEN\"  \"CUN\""
      ]
     },
     "execution_count": 52,
     "metadata": {},
     "output_type": "execute_result"
    }
   ],
   "source": [
    "germany_N_RW = filtro_mx(germany_dia, germany_RW)"
   ]
  },
  {
   "cell_type": "code",
   "execution_count": 53,
   "metadata": {},
   "outputs": [
    {
     "data": {
      "text/plain": [
       "(54, Any[[\"JHB\", \"AMQ\", \"LST\", \"SIN\", \"HYN\", \"SON\", \"RGN\", \"PMI\", \"HOU\", \"JKH\", \"HAN\", \"SHE\", \"CTU\", \"CUN\", \"VCL\", \"DME\", \"BAV\", \"YVR\", \"CSX\"], [\"BKI\", \"SUB\", \"SYD\", \"BDO\", \"ZUH\", \"SLH\", \"PEK\", \"GRO\", \"BWI\", \"MJT\", \"CAN\", \"HFE\", \"CSX\", \"MTY\", \"HAN\", \"VLC\", \"CTU\", \"YBL\", \"WUX\"], [\"HKG\", \"CGK\", \"ASP\", \"BTH\", \"HFE\", \"MTV\", \"LHR\", \"TLL\", \"SLC\", \"JKH\", \"TEN\", \"TYN\", \"SWA\", \"VER\", \"TBB\", \"BLQ\", \"SIN\", \"ZEL\", \"CSX\"], [\"KMG\", \"UPG\", \"MEL\", \"DJB\", \"SWA\", \"SLH\", \"BLR\", \"OSL\", \"SFO\", \"RHO\", \"CAN\", \"CTU\", \"SHA\", \"GDL\", \"HAN\", \"TPS\", \"HAK\", \"YBL\", \"TYN\"], [\"ZUH\", \"BTH\", \"AIU\", \"BDJ\", \"DUS\", \"VLI\", \"CUN\", \"FBM\", \"SXB\", \"BGY\", \"SWA\", \"PUS\", \"KMG\", \"IST\", \"SZX\", \"NGO\", \"TSN\", \"WAW\", \"ROR\"], [\"CZX\", \"SRG\", \"RAR\", \"BPN\", \"SUF\", \"SON\", \"VSA\", \"MJM\", \"LGW\", \"BTS\", \"WUH\", \"SGN\", \"PVG\", \"TBZ\", \"CGO\", \"DLC\", \"TAO\", \"SOF\", \"GUM\"], [\"XIY\", \"BDJ\", \"LAX\", \"SIN\", \"BLQ\", \"LNE\", \"CUN\", \"FBM\", \"KGS\", \"PMI\", \"NGB\", \"FRA\", \"ICN\", \"MED\", \"SWA\", \"LDS\", \"PUS\", \"IST\", \"TKK\"], [\"DNH\", \"JOG\", \"NaN\", \"AMD\", \"MAN\", \"VLI\", \"TAM\", \"MJM\", \"STN\", \"BRS\", \"HKG\", \"IBZ\", \"XMN\", \"AUH\", \"BKK\", \"DLC\", \"KWL\", \"NBO\", \"PNI\"], [\"URC\", \"UPG\", \"WLS\", \"KUL\", \"PVK\", \"NOU\", \"MEX\", \"FBM\", \"WRO\", \"BGY\", \"KOJ\", \"MXP\", \"YIH\", \"EBL\", \"TAO\", \"HKG\", \"KMG\", \"MYD\", \"TKK\"], [\"IST\", \"MKW\", \"NaN\", \"CCU\", \"EFL\", \"KIX\", \"PAZ\", \"FIH\", \"GDN\", \"SOF\", \"TPE\", \"CPH\", \"PEK\", \"IKA\", \"DQA\", \"SUB\", \"MFM\", \"LAU\", \"PNI\"]  …  [\"ATL\", \"BZE\", \"HGH\", \"MTY\", \"BDA\", \"DFW\", \"LIS\", \"CEN\", \"LED\", \"RIX\", \"CGN\", \"SLC\", \"MRV\", \"MEX\", \"HRE\", \"MAD\", \"SVG\", \"GRO\", \"CDG\"], [\"CUN\", \"DFW\", \"KHH\", \"ACA\", \"MIA\", \"RNO\", \"DKR\", \"TIJ\", \"IJK\", \"SVO\", \"KTW\", \"LAX\", \"SAW\", \"VER\", \"LLW\", \"BOS\", \"CDG\", \"BTS\", \"NBO\"], [\"RDU\", \"MTY\", \"PUS\", \"MEX\", \"MID\", \"LAS\", \"MAD\", \"LMM\", \"LED\", \"BRU\", \"BHX\", \"HMO\", \"TIA\", \"GDL\", \"NBO\", \"RIC\", \"TUN\", \"BHX\", \"IST\"], [\"MCO\", \"TLC\", \"TYN\", \"VER\", \"MTY\", \"OMA\", \"GYE\", \"TIJ\", \"AMS\", \"YYZ\", \"HAM\", \"MEX\", \"ATH\", \"VSA\", \"ACC\", \"FLL\", \"ZRH\", \"HAM\", \"BOM\"], [\"RIC\", \"ZIH\", \"HET\", \"TAM\", \"CUU\", \"MDW\", \"SCY\", \"LAP\", \"BON\", \"GCM\", \"FMM\", \"LAP\", \"LED\", \"VER\", \"DKR\", \"SDQ\", \"KEF\", \"FRA\", \"PAT\"], [\"ORD\", \"MEX\", \"TPE\", \"CUN\", \"MTY\", \"LGA\", \"GYE\", \"CUL\", \"IAH\", \"ATL\", \"AHO\", \"MZT\", \"AMS\", \"TAM\", \"CDG\", \"SCU\", \"YYZ\", \"MEX\", \"LKO\"], [\"MEX\", \"MLM\", \"SFO\", \"CUU\", \"MZT\", \"MCO\", \"BOG\", \"LAP\", \"CUN\", \"CUN\", \"OTP\", \"LAP\", \"MEX\", \"MTY\", \"MEX\", \"HAV\", \"ORD\", \"CJS\", \"DEL\"], [\"TGZ\", \"MDW\", \"SAL\", \"GDL\", \"PHX\", \"CUN\", \"SAL\", \"MZT\", \"ORD\", \"REX\", \"MUC\", \"MZT\", \"CTM\", \"CUL\", \"FRA\", \"HOG\", \"LAX\", \"GDL\", \"MAA\"], [\"TIJ\", \"RSW\", \"MEX\", \"CUL\", \"SFO\", \"MIA\", \"CUN\", \"MTY\", \"AMS\", \"PAZ\", \"MEX\", \"LAP\", \"MEX\", \"HMO\", \"SVO\", \"CUN\", \"PVR\", \"FAT\", \"FRA\"], [\"SLP\", \"HPN\", \"OAX\", \"SJD\", \"SEA\", \"CDG\", \"LGW\", \"IAH\", \"INN\", \"MEX\", \"MXL\", \"MTY\", \"BJX\", \"CUL\", \"AER\", \"EWR\", \"ATL\", \"DEN\", \"CUN\"]], Any[14, 14, 14, 14, 7, 7, 7, 7, 7, 7  …  4, 1, 2, 2, 2, 2, 1, 1, 1, 1])"
      ]
     },
     "execution_count": 53,
     "metadata": {},
     "output_type": "execute_result"
    }
   ],
   "source": [
    "germany_WUH_MX = busca_vuelos_WUH_MX(germany_N_RW, mx_airp)"
   ]
  },
  {
   "cell_type": "code",
   "execution_count": 54,
   "metadata": {},
   "outputs": [
    {
     "data": {
      "text/plain": [
       "(26, Any[[\"ZUH\", \"BTH\", \"AIU\", \"BDJ\", \"DUS\", \"VLI\", \"CUN\", \"FBM\", \"SXB\", \"BGY\", \"SWA\", \"PUS\", \"KMG\", \"IST\", \"SZX\", \"NGO\", \"TSN\", \"WAW\", \"ROR\"], [\"XIY\", \"BDJ\", \"LAX\", \"SIN\", \"BLQ\", \"LNE\", \"CUN\", \"FBM\", \"KGS\", \"PMI\", \"NGB\", \"FRA\", \"ICN\", \"MED\", \"SWA\", \"LDS\", \"PUS\", \"IST\", \"TKK\"], [\"MZH\", \"DJJ\", \"TBU\", \"PBH\", \"ATH\", \"NGS\", \"VSA\", \"BZV\", \"TRD\", \"SXF\", \"LAX\", \"GVA\", \"JGS\", \"DEL\", \"TAO\", \"PEN\", \"BKK\", \"WIL\", \"KSA\"], [\"ZRH\", \"DJJ\", \"HRB\", \"TCR\", \"KUL\", \"AOJ\", \"SFO\", \"LYS\", \"AGP\", \"SLP\", \"SZG\", \"HHN\", \"CTU\", \"DMM\", \"ZYI\", \"BUD\", \"RUN\", \"WIL\", \"PNI\"], [\"SAW\", \"VVO\", \"DPS\", \"LHE\", \"FCO\", \"ZRH\", \"CUL\", \"LEJ\", \"ARN\", \"BGR\", \"NCE\", \"LBV\", \"JOG\", \"ADB\", \"KZN\", \"KUL\", \"RAK\", \"MAD\", \"NaN\"], [\"SKP\", \"YKS\", \"ADL\", \"KWI\", \"OLB\", \"HEL\", \"GDL\", \"AGA\", \"ATH\", \"SFB\", \"FSC\", \"IST\", \"BTH\", \"HAJ\", \"FRU\", \"CMB\", \"BSL\", \"ATH\", \"VLI\"], [\"INC\", \"MUC\", \"PUS\", \"MYJ\", \"DFW\", \"LTN\", \"RAK\", \"BLQ\", \"KTM\", \"XIY\", \"TPP\", \"FRA\", \"ORY\", \"PVR\", \"LYS\", \"BOM\", \"PVG\", \"BRS\", \"TAH\"], [\"JFK\", \"HEL\", \"CSX\", \"TGO\", \"JFK\", \"NOC\", \"LIS\", \"NBO\", \"TMI\", \"BKK\", \"MEX\", \"DUS\", \"TXL\", \"AZA\", \"ZRH\", \"IST\", \"TIA\", \"SXF\", \"IPA\"], [\"YVR\", \"ZUH\", \"TLV\", \"SHA\", \"OTP\", \"PSA\", \"RJK\", \"BOM\", \"CGO\", \"KNX\", \"MID\", \"DWC\", \"OTP\", \"BDL\", \"TXL\", \"LUX\", \"WAW\", \"ORK\", \"FTA\"], [\"SDQ\", \"HAN\", \"KWI\", \"MWX\", \"MUC\", \"ORY\", \"CKY\", \"SSJ\", \"MNL\", \"NGO\", \"PVR\", \"LUW\", \"BOG\", \"LAX\", \"BSB\", \"SVQ\", \"MAD\", \"ALG\", \"CAN\"]  …  [\"PEK\", \"VAR\", \"GRU\", \"TIJ\", \"NLA\", \"PRG\", \"CHS\", \"CFU\", \"WAW\", \"JED\", \"HAM\", \"VUP\", \"SHE\", \"YKQ\", \"ABJ\", \"CAN\", \"ICN\", \"JFK\", \"DPS\"], [\"VIE\", \"HAM\", \"CVG\", \"CUU\", \"HRE\", \"ATZ\", \"IND\", \"HAM\", \"AGP\", \"HKG\", \"KUF\", \"LQM\", \"WUS\", \"YNS\", \"VIE\", \"AQG\", \"MEC\", \"PIT\", \"TYN\"], [\"DUS\", \"RHO\", \"LAS\", \"MEX\", \"VFA\", \"RUH\", \"CUN\", \"MAN\", \"FMM\", \"KWE\", \"FRA\", \"PUU\", \"HKG\", \"YMT\", \"HAJ\", \"XMN\", \"UIO\", \"DEN\", \"KMG\"], [\"LAS\", \"CUK\", \"SHA\", \"GDL\", \"LGA\", \"MDW\", \"JFK\", \"EZE\", \"OSS\", \"NYO\", \"FRA\", \"HOU\", \"KZN\", \"MEX\", \"NBO\", \"MAN\", \"KRK\", \"ARN\", \"LOS\"], [\"DSM\", \"TZA\", \"MFM\", \"TLC\", \"MIA\", \"SFO\", \"CCS\", \"MEX\", \"OVB\", \"BRE\", \"RHO\", \"SNA\", \"DWC\", \"MID\", \"LVI\", \"CIA\", \"EDI\", \"MAN\", \"LFW\"], [\"ATL\", \"BZE\", \"HGH\", \"MTY\", \"BDA\", \"DFW\", \"LIS\", \"CEN\", \"LED\", \"RIX\", \"CGN\", \"SLC\", \"MRV\", \"MEX\", \"HRE\", \"MAD\", \"SVG\", \"GRO\", \"CDG\"], [\"MCO\", \"TLC\", \"TYN\", \"VER\", \"MTY\", \"OMA\", \"GYE\", \"TIJ\", \"AMS\", \"YYZ\", \"HAM\", \"MEX\", \"ATH\", \"VSA\", \"ACC\", \"FLL\", \"ZRH\", \"HAM\", \"BOM\"], [\"RIC\", \"ZIH\", \"HET\", \"TAM\", \"CUU\", \"MDW\", \"SCY\", \"LAP\", \"BON\", \"GCM\", \"FMM\", \"LAP\", \"LED\", \"VER\", \"DKR\", \"SDQ\", \"KEF\", \"FRA\", \"PAT\"], [\"TGZ\", \"MDW\", \"SAL\", \"GDL\", \"PHX\", \"CUN\", \"SAL\", \"MZT\", \"ORD\", \"REX\", \"MUC\", \"MZT\", \"CTM\", \"CUL\", \"FRA\", \"HOG\", \"LAX\", \"GDL\", \"MAA\"], [\"TIJ\", \"RSW\", \"MEX\", \"CUL\", \"SFO\", \"MIA\", \"CUN\", \"MTY\", \"AMS\", \"PAZ\", \"MEX\", \"LAP\", \"MEX\", \"HMO\", \"SVO\", \"CUN\", \"PVR\", \"FAT\", \"FRA\"]], Any[4, 11, 9, 11, 7, 13, 1, 11, 14, 4  …  10, 1, 8, 10, 9, 10, 10, 10, 10, 18], Any[7, 7, 7, 10, 7, 7, 14, 11, 11, 11  …  4, 4, 4, 4, 4, 4, 2, 2, 1, 1])"
      ]
     },
     "execution_count": 54,
     "metadata": {},
     "output_type": "execute_result"
    }
   ],
   "source": [
    "germany_pasa_inf = busca_vuelos_pasa_inf(germany_WUH_MX, germany_airp)"
   ]
  },
  {
   "cell_type": "code",
   "execution_count": 55,
   "metadata": {},
   "outputs": [
    {
     "data": {
      "text/plain": [
       "(6, Any[[\"ZUH\", \"BTH\", \"AIU\", \"BDJ\", \"DUS\", \"VLI\", \"CUN\", \"FBM\", \"SXB\", \"BGY\", \"SWA\", \"PUS\", \"KMG\", \"IST\", \"SZX\", \"NGO\", \"TSN\", \"WAW\", \"ROR\"], [\"INC\", \"MUC\", \"PUS\", \"MYJ\", \"DFW\", \"LTN\", \"RAK\", \"BLQ\", \"KTM\", \"XIY\", \"TPP\", \"FRA\", \"ORY\", \"PVR\", \"LYS\", \"BOM\", \"PVG\", \"BRS\", \"TAH\"], [\"SDQ\", \"HAN\", \"KWI\", \"MWX\", \"MUC\", \"ORY\", \"CKY\", \"SSJ\", \"MNL\", \"NGO\", \"PVR\", \"LUW\", \"BOG\", \"LAX\", \"BSB\", \"SVQ\", \"MAD\", \"ALG\", \"CAN\"], [\"HAJ\", \"IAS\", \"DAD\", \"SZX\", \"URC\", \"MAN\", \"LED\", \"SXF\", \"TAC\", \"TBS\", \"JFK\", \"DOK\", \"DXB\", \"RNO\", \"CUN\", \"ADE\", \"THR\", \"LIS\", \"OKA\"], [\"BRU\", \"FRA\", \"FOR\", \"TIJ\", \"ADD\", \"LTN\", \"PIB\", \"PRG\", \"VIE\", \"DMM\", \"LIS\", \"RCH\", \"HRB\", \"YUL\", \"BEY\", \"BNE\", \"PUS\", \"MEX\", \"LOP\"], [\"VIE\", \"HAM\", \"CVG\", \"CUU\", \"HRE\", \"ATZ\", \"IND\", \"HAM\", \"AGP\", \"HKG\", \"KUF\", \"LQM\", \"WUS\", \"YNS\", \"VIE\", \"AQG\", \"MEC\", \"PIT\", \"TYN\"]])"
      ]
     },
     "execution_count": 55,
     "metadata": {},
     "output_type": "execute_result"
    }
   ],
   "source": [
    "GERMANY_MX = busca_vuelos_INF_MX(germany_pasa_inf, germany_WUH_MX)"
   ]
  },
  {
   "cell_type": "markdown",
   "metadata": {},
   "source": [
    "#### Type 2"
   ]
  },
  {
   "cell_type": "code",
   "execution_count": 56,
   "metadata": {},
   "outputs": [
    {
     "data": {
      "text/plain": [
       "(518, Any[Any[[\"WUH\", \"SHA\", \"URC\", \"TPE\", \"HKD\", \"TPE\", \"KOJ\", \"FSZ\", \"KOJ\", \"UKB\"  …  \"DFW\", \"ATL\", \"ROA\", \"CLT\", \"SMF\", \"LGB\", \"LAS\", \"GRR\", \"DEN\", \"BIS\"]], Any[[\"WUH\", \"SIN\", \"LOP\", \"SUB\", \"UPG\", \"DJJ\", \"UPG\", \"KUL\", \"BKK\", \"FCO\"  …  \" \", \" \", \" \", \" \", \" \", \" \", \" \", \" \", \" \", \" \"]], Any[[\"WUH\", \"HAK\", \"CGD\", \"CAN\", \"SIN\", \"TPE\", \"NRT\", \"CAN\", \"AEB\", \"CAN\"  …  \" \", \" \", \" \", \" \", \" \", \" \", \" \", \" \", \" \", \" \"]], Any[[\"WUH\", \"SZX\", \"HGH\", \"HKG\", \"DMK\", \"SNO\", \"DMK\", \"KBV\", \"KUL\", \"NRT\"  …  \"LHE\", \"MUX\", \"UET\", \"ISB\", \"KWI\", \"TUN\", \"GAF\", \"TOE\", \"ORY\", \"DKR\"]], Any[[\"WUH\", \"LYI\", \"XIY\", \"RLK\", \"HET\", \"TSN\", \"WUH\", \"HGH\", \"TAO\", \"BKK\"  …  \"ISB\", \"MUX\", \"ISB\", \"RUH\", \"SHW\", \"JED\", \"CDG\", \"MSQ\", \"GVA\", \"SVQ\"]], Any[[\"WUH\", \"NTG\", \"DLC\", \"CJU\", \"TSN\", \"XNN\", \"CSX\", \"BHY\", \"CKG\", \"KRL\"  …  \"KLR\", \"ARN\", \"MAN\", \"ARN\", \"TXL\", \"CDG\", \"CMB\", \"TRV\", \"SIN\", \"CGK\"]], Any[[\"WUH\", \"NNG\", \"PEK\", \"MRU\", \"LHR\", \"JFK\", \"STL\", \"LAX\", \"ZLO\", \"LAX\"  …  \"BGY\", \"ARW\", \"BGY\", \"SXF\", \"SAW\", \"HRK\", \"SVO\", \"MRS\", \"AGP\", \"TSF\"]], Any[[\"WUH\", \"CDG\", \"SPU\", \"HEL\", \"CKG\", \"JHG\", \"LPQ\", \"CNX\", \"UTH\", \"DMK\"  …  \"DEN\", \"JFK\", \"SFO\", \"SEA\", \"CLT\", \"DAY\", \"MCO\", \"BMI\", \"MCO\", \"GLA\"]], Any[[\"WUH\", \"YCU\", \"HGH\", \"SIN\", \"REP\", \"PKZ\", \"SGN\", \"DME\", \"AGP\", \"TSF\"  …  \"ONT\", \"LAS\", \"PHX\", \"SAN\", \"MIA\", \"PHL\", \"DCA\", \"SFO\", \"CLT\", \"HOU\"]], Any[[\"WUH\", \"INC\", \"HKG\", \"KHV\", \"BQS\", \"HTA\", \"BQS\", \"VVO\", \"ICN\", \"AXT\"  …  \"HAA\", \"HFT\", \"SOJ\", \"HFT\", \"HVG\", \"MEH\", \"ALF\", \"LKL\", \"TOS\", \"BGO\"]]  …  Any[[\"WUH\", \"TYN\", \"SHA\", \"KMG\", \"CGD\", \"XIY\", \"HKG\", \"AKL\", \"PER\", \"BME\"  …  \"LYS\", \"ETZ\", \"MRS\", \"CZL\", \"ORY\", \"BES\", \"AJA\", \"MPL\", \"HHN\", \"SDR\"]], Any[[\"WUH\", \"WUX\", \"TPE\", \"KMG\", \"CZX\", \"KMG\", \"DSN\", \"TYN\", \"CGQ\", \"NBS\"  …  \"MEX\", \"YVR\", \"LGW\", \"SPU\", \"DTM\", \"ONQ\", \"DTM\", \"LWO\", \"VKO\", \"NYM\"]], Any[[\"WUH\", \"LYG\", \"DLC\", \"SJW\", \"SZX\", \"SHA\", \"CIH\", \"HAK\", \"HKG\", \"ZHA\"  …  \"MAN\", \"BFS\", \"NBE\", \"BRS\", \"AGP\", \"SEN\", \"PMI\", \"MUC\", \"MXP\", \"UGC\"]], Any[[\"WUH\", \"NTG\", \"CAN\", \"JIU\", \"CAN\", \"AEB\", \"CKG\", \"BFJ\", \"CKG\", \"WUX\"  …  \"CDG\", \"NBO\", \"IST\", \"BOM\", \"PAT\", \"LKO\", \"DEL\", \"MAA\", \"FRA\", \"CUN\"]], Any[[\"WUH\", \"MFM\", \"RMQ\", \"MZG\", \"RMQ\", \"HAN\", \"CTU\", \"ICN\", \"CMB\", \"BLR\"  …  \"KTM\", \"CAN\", \"RMQ\", \"SGN\", \"PXU\", \"HAN\", \"DAD\", \"REP\", \"PUS\", \"KLO\"]], Any[[\"WUH\", \"URC\", \"CKG\", \"LZH\", \"SHA\", \"LCX\", \"SHA\", \"KWL\", \"KWE\", \"XNN\"  …  \"ADB\", \"ZRH\", \"RIX\", \"BGO\", \"FDE\", \"BGO\", \"ALC\", \"GSE\", \"BVA\", \"BDS\"]], Any[[\"WUH\", \"CDG\", \"CZL\", \"NCE\", \"BCN\", \"EDI\", \"CDG\", \"CLY\", \"BOD\", \"MRS\"  …  \"BEY\", \"LHR\", \"BRU\", \"TRN\", \"SUF\", \"LIN\", \"REG\", \"FCO\", \"LUX\", \"BCN\"]], Any[[\"WUH\", \"HGH\", \"LYI\", \"HGH\", \"BHY\", \"HAK\", \"NKG\", \"CIF\", \"HLD\", \"TGO\"  …  \"CSX\", \"MIG\", \"LXA\", \"PEK\", \"WXN\", \"KMG\", \"MIG\", \"KWE\", \"BFJ\", \"KWE\"]], Any[[\"WUH\", \"PEK\", \"UYN\", \"TSN\", \"XIY\", \"LYI\", \"CAN\", \"XUZ\", \"XMN\", \"KWL\"  …  \"KHN\", \"PEK\", \"CKG\", \"CTU\", \"CKG\", \"KHN\", \"HRB\", \"DOY\", \"PEK\", \"ZYI\"]], Any[[\"WUH\", \"TAO\", \"RMQ\", \"HAN\", \"PVG\", \"MRU\", \"JNB\", \"BEW\", \"UEL\", \"TET\"  …  \"AYT\", \"LNZ\", \"SZG\", \"AYT\", \"NUE\", \"FRA\", \"TUN\", \"SFA\", \"TUN\", \"VIE\"]]], Any[180, 35, 40, 60, 112, 171, 9, 166, 185, 76  …  164, 178, 41, 196, 128, 122, 26, 96, 79, 61])"
      ]
     },
     "execution_count": 56,
     "metadata": {},
     "output_type": "execute_result"
    }
   ],
   "source": [
    "germany_WUH_MX2 = busca_vuelos_WUH_MX2(germany_RW, mx_airp)"
   ]
  },
  {
   "cell_type": "code",
   "execution_count": 57,
   "metadata": {},
   "outputs": [
    {
     "data": {
      "text/plain": [
       "(497, Any[[\"WUH\", \"SHA\", \"URC\", \"TPE\", \"HKD\", \"TPE\", \"KOJ\", \"FSZ\", \"KOJ\", \"UKB\"  …  \"DFW\", \"ATL\", \"ROA\", \"CLT\", \"SMF\", \"LGB\", \"LAS\", \"GRR\", \"DEN\", \"BIS\"], [\"WUH\", \"HAK\", \"CGD\", \"CAN\", \"SIN\", \"TPE\", \"NRT\", \"CAN\", \"AEB\", \"CAN\"  …  \" \", \" \", \" \", \" \", \" \", \" \", \" \", \" \", \" \", \" \"], [\"WUH\", \"SZX\", \"HGH\", \"HKG\", \"DMK\", \"SNO\", \"DMK\", \"KBV\", \"KUL\", \"NRT\"  …  \"LHE\", \"MUX\", \"UET\", \"ISB\", \"KWI\", \"TUN\", \"GAF\", \"TOE\", \"ORY\", \"DKR\"], [\"WUH\", \"LYI\", \"XIY\", \"RLK\", \"HET\", \"TSN\", \"WUH\", \"HGH\", \"TAO\", \"BKK\"  …  \"ISB\", \"MUX\", \"ISB\", \"RUH\", \"SHW\", \"JED\", \"CDG\", \"MSQ\", \"GVA\", \"SVQ\"], [\"WUH\", \"NTG\", \"DLC\", \"CJU\", \"TSN\", \"XNN\", \"CSX\", \"BHY\", \"CKG\", \"KRL\"  …  \"KLR\", \"ARN\", \"MAN\", \"ARN\", \"TXL\", \"CDG\", \"CMB\", \"TRV\", \"SIN\", \"CGK\"], [\"WUH\", \"NNG\", \"PEK\", \"MRU\", \"LHR\", \"JFK\", \"STL\", \"LAX\", \"ZLO\", \"LAX\"  …  \"BGY\", \"ARW\", \"BGY\", \"SXF\", \"SAW\", \"HRK\", \"SVO\", \"MRS\", \"AGP\", \"TSF\"], [\"WUH\", \"CDG\", \"SPU\", \"HEL\", \"CKG\", \"JHG\", \"LPQ\", \"CNX\", \"UTH\", \"DMK\"  …  \"DEN\", \"JFK\", \"SFO\", \"SEA\", \"CLT\", \"DAY\", \"MCO\", \"BMI\", \"MCO\", \"GLA\"], [\"WUH\", \"YCU\", \"HGH\", \"SIN\", \"REP\", \"PKZ\", \"SGN\", \"DME\", \"AGP\", \"TSF\"  …  \"ONT\", \"LAS\", \"PHX\", \"SAN\", \"MIA\", \"PHL\", \"DCA\", \"SFO\", \"CLT\", \"HOU\"], [\"WUH\", \"INC\", \"HKG\", \"KHV\", \"BQS\", \"HTA\", \"BQS\", \"VVO\", \"ICN\", \"AXT\"  …  \"HAA\", \"HFT\", \"SOJ\", \"HFT\", \"HVG\", \"MEH\", \"ALF\", \"LKL\", \"TOS\", \"BGO\"], [\"WUH\", \"AQG\", \"PEK\", \"YIC\", \"SHA\", \"SHE\", \"TAO\", \"PEK\", \"NZH\", \"UUD\"  …  \"TXL\", \"SJJ\", \"MUC\", \"BEG\", \"TIV\", \"BEG\", \"FCO\", \"MXP\", \"RUH\", \"LHE\"]  …  [\"WUH\", \"TYN\", \"SHA\", \"KMG\", \"CGD\", \"XIY\", \"HKG\", \"AKL\", \"PER\", \"BME\"  …  \"LYS\", \"ETZ\", \"MRS\", \"CZL\", \"ORY\", \"BES\", \"AJA\", \"MPL\", \"HHN\", \"SDR\"], [\"WUH\", \"WUX\", \"TPE\", \"KMG\", \"CZX\", \"KMG\", \"DSN\", \"TYN\", \"CGQ\", \"NBS\"  …  \"MEX\", \"YVR\", \"LGW\", \"SPU\", \"DTM\", \"ONQ\", \"DTM\", \"LWO\", \"VKO\", \"NYM\"], [\"WUH\", \"LYG\", \"DLC\", \"SJW\", \"SZX\", \"SHA\", \"CIH\", \"HAK\", \"HKG\", \"ZHA\"  …  \"MAN\", \"BFS\", \"NBE\", \"BRS\", \"AGP\", \"SEN\", \"PMI\", \"MUC\", \"MXP\", \"UGC\"], [\"WUH\", \"NTG\", \"CAN\", \"JIU\", \"CAN\", \"AEB\", \"CKG\", \"BFJ\", \"CKG\", \"WUX\"  …  \"CDG\", \"NBO\", \"IST\", \"BOM\", \"PAT\", \"LKO\", \"DEL\", \"MAA\", \"FRA\", \"CUN\"], [\"WUH\", \"MFM\", \"RMQ\", \"MZG\", \"RMQ\", \"HAN\", \"CTU\", \"ICN\", \"CMB\", \"BLR\"  …  \"KTM\", \"CAN\", \"RMQ\", \"SGN\", \"PXU\", \"HAN\", \"DAD\", \"REP\", \"PUS\", \"KLO\"], [\"WUH\", \"URC\", \"CKG\", \"LZH\", \"SHA\", \"LCX\", \"SHA\", \"KWL\", \"KWE\", \"XNN\"  …  \"ADB\", \"ZRH\", \"RIX\", \"BGO\", \"FDE\", \"BGO\", \"ALC\", \"GSE\", \"BVA\", \"BDS\"], [\"WUH\", \"CDG\", \"CZL\", \"NCE\", \"BCN\", \"EDI\", \"CDG\", \"CLY\", \"BOD\", \"MRS\"  …  \"BEY\", \"LHR\", \"BRU\", \"TRN\", \"SUF\", \"LIN\", \"REG\", \"FCO\", \"LUX\", \"BCN\"], [\"WUH\", \"HGH\", \"LYI\", \"HGH\", \"BHY\", \"HAK\", \"NKG\", \"CIF\", \"HLD\", \"TGO\"  …  \"CSX\", \"MIG\", \"LXA\", \"PEK\", \"WXN\", \"KMG\", \"MIG\", \"KWE\", \"BFJ\", \"KWE\"], [\"WUH\", \"PEK\", \"UYN\", \"TSN\", \"XIY\", \"LYI\", \"CAN\", \"XUZ\", \"XMN\", \"KWL\"  …  \"KHN\", \"PEK\", \"CKG\", \"CTU\", \"CKG\", \"KHN\", \"HRB\", \"DOY\", \"PEK\", \"ZYI\"], [\"WUH\", \"TAO\", \"RMQ\", \"HAN\", \"PVG\", \"MRU\", \"JNB\", \"BEW\", \"UEL\", \"TET\"  …  \"AYT\", \"LNZ\", \"SZG\", \"AYT\", \"NUE\", \"FRA\", \"TUN\", \"SFA\", \"TUN\", \"VIE\"]], Any[38, 80, 10, 43, 68, 12, 20, 11, 159, 39  …  58, 47, 22, 164, 32, 25, 36, 32, 33, 121], Any[180, 40, 60, 112, 171, 9, 166, 185, 76, 131  …  164, 178, 41, 196, 128, 122, 26, 96, 79, 61])"
      ]
     },
     "execution_count": 57,
     "metadata": {},
     "output_type": "execute_result"
    }
   ],
   "source": [
    "germany_pasa_inf2 = busca_vuelos_pasa_inf2(germany_WUH_MX2, germany_airp)"
   ]
  },
  {
   "cell_type": "code",
   "execution_count": 58,
   "metadata": {},
   "outputs": [
    {
     "data": {
      "text/plain": [
       "(337, Any[[\"WUH\", \"SHA\", \"URC\", \"TPE\", \"HKD\", \"TPE\", \"KOJ\", \"FSZ\", \"KOJ\", \"UKB\"  …  \"DFW\", \"ATL\", \"ROA\", \"CLT\", \"SMF\", \"LGB\", \"LAS\", \"GRR\", \"DEN\", \"BIS\"], [\"WUH\", \"SZX\", \"HGH\", \"HKG\", \"DMK\", \"SNO\", \"DMK\", \"KBV\", \"KUL\", \"NRT\"  …  \"LHE\", \"MUX\", \"UET\", \"ISB\", \"KWI\", \"TUN\", \"GAF\", \"TOE\", \"ORY\", \"DKR\"], [\"WUH\", \"LYI\", \"XIY\", \"RLK\", \"HET\", \"TSN\", \"WUH\", \"HGH\", \"TAO\", \"BKK\"  …  \"ISB\", \"MUX\", \"ISB\", \"RUH\", \"SHW\", \"JED\", \"CDG\", \"MSQ\", \"GVA\", \"SVQ\"], [\"WUH\", \"NTG\", \"DLC\", \"CJU\", \"TSN\", \"XNN\", \"CSX\", \"BHY\", \"CKG\", \"KRL\"  …  \"KLR\", \"ARN\", \"MAN\", \"ARN\", \"TXL\", \"CDG\", \"CMB\", \"TRV\", \"SIN\", \"CGK\"], [\"WUH\", \"CDG\", \"SPU\", \"HEL\", \"CKG\", \"JHG\", \"LPQ\", \"CNX\", \"UTH\", \"DMK\"  …  \"DEN\", \"JFK\", \"SFO\", \"SEA\", \"CLT\", \"DAY\", \"MCO\", \"BMI\", \"MCO\", \"GLA\"], [\"WUH\", \"YCU\", \"HGH\", \"SIN\", \"REP\", \"PKZ\", \"SGN\", \"DME\", \"AGP\", \"TSF\"  …  \"ONT\", \"LAS\", \"PHX\", \"SAN\", \"MIA\", \"PHL\", \"DCA\", \"SFO\", \"CLT\", \"HOU\"], [\"WUH\", \"AQG\", \"PEK\", \"YIC\", \"SHA\", \"SHE\", \"TAO\", \"PEK\", \"NZH\", \"UUD\"  …  \"TXL\", \"SJJ\", \"MUC\", \"BEG\", \"TIV\", \"BEG\", \"FCO\", \"MXP\", \"RUH\", \"LHE\"], [\"WUH\", \"HAK\", \"HFE\", \"KWL\", \"TPE\", \"WUH\", \"LZH\", \"SZX\", \"HAK\", \"SIN\"  …  \"FCO\", \"OLB\", \"CGN\", \"GRO\", \"PSR\", \"GRO\", \"SKG\", \"BSL\", \"KRK\", \"OSL\"], [\"WUH\", \"LYG\", \"FOC\", \"CTU\", \"KOW\", \"SZX\", \"RMQ\", \"KIX\", \"PEK\", \"JDZ\"  …  \"CLT\", \"FLO\", \"CLT\", \"DAB\", \"CLT\", \"MLB\", \"ATL\", \"ECP\", \"STL\", \"SAT\"], [\"WUH\", \"XNN\", \"CGO\", \"CGQ\", \"PEK\", \"LED\", \"KSQ\", \"LED\", \"NSK\", \"AER\"  …  \"FRA\", \"NDR\", \"BRU\", \"YYZ\", \"MAN\", \"PUJ\", \"PIT\", \"JFK\", \"ATL\", \"FLL\"]  …  [\"WUH\", \"WNZ\", \"TNA\", \"CGQ\", \"WUH\", \"WUX\", \"WUH\", \"YCU\", \"CKG\", \"AVA\"  …  \" \", \" \", \" \", \" \", \" \", \" \", \" \", \" \", \" \", \" \"], [\"WUH\", \"LYG\", \"DLC\", \"CJU\", \"TSN\", \"NTG\", \"XMN\", \"TXN\", \"DLC\", \"CIF\"  …  \"DFW\", \"COS\", \"LAS\", \"SAT\", \"JFK\", \"GRU\", \"IST\", \"TIF\", \"DXB\", \"TBZ\"], [\"WUH\", \"TYN\", \"SHA\", \"KMG\", \"CGD\", \"XIY\", \"HKG\", \"AKL\", \"PER\", \"BME\"  …  \"LYS\", \"ETZ\", \"MRS\", \"CZL\", \"ORY\", \"BES\", \"AJA\", \"MPL\", \"HHN\", \"SDR\"], [\"WUH\", \"WUX\", \"TPE\", \"KMG\", \"CZX\", \"KMG\", \"DSN\", \"TYN\", \"CGQ\", \"NBS\"  …  \"MEX\", \"YVR\", \"LGW\", \"SPU\", \"DTM\", \"ONQ\", \"DTM\", \"LWO\", \"VKO\", \"NYM\"], [\"WUH\", \"LYG\", \"DLC\", \"SJW\", \"SZX\", \"SHA\", \"CIH\", \"HAK\", \"HKG\", \"ZHA\"  …  \"MAN\", \"BFS\", \"NBE\", \"BRS\", \"AGP\", \"SEN\", \"PMI\", \"MUC\", \"MXP\", \"UGC\"], [\"WUH\", \"NTG\", \"CAN\", \"JIU\", \"CAN\", \"AEB\", \"CKG\", \"BFJ\", \"CKG\", \"WUX\"  …  \"CDG\", \"NBO\", \"IST\", \"BOM\", \"PAT\", \"LKO\", \"DEL\", \"MAA\", \"FRA\", \"CUN\"], [\"WUH\", \"MFM\", \"RMQ\", \"MZG\", \"RMQ\", \"HAN\", \"CTU\", \"ICN\", \"CMB\", \"BLR\"  …  \"KTM\", \"CAN\", \"RMQ\", \"SGN\", \"PXU\", \"HAN\", \"DAD\", \"REP\", \"PUS\", \"KLO\"], [\"WUH\", \"URC\", \"CKG\", \"LZH\", \"SHA\", \"LCX\", \"SHA\", \"KWL\", \"KWE\", \"XNN\"  …  \"ADB\", \"ZRH\", \"RIX\", \"BGO\", \"FDE\", \"BGO\", \"ALC\", \"GSE\", \"BVA\", \"BDS\"], [\"WUH\", \"HGH\", \"LYI\", \"HGH\", \"BHY\", \"HAK\", \"NKG\", \"CIF\", \"HLD\", \"TGO\"  …  \"CSX\", \"MIG\", \"LXA\", \"PEK\", \"WXN\", \"KMG\", \"MIG\", \"KWE\", \"BFJ\", \"KWE\"], [\"WUH\", \"PEK\", \"UYN\", \"TSN\", \"XIY\", \"LYI\", \"CAN\", \"XUZ\", \"XMN\", \"KWL\"  …  \"KHN\", \"PEK\", \"CKG\", \"CTU\", \"CKG\", \"KHN\", \"HRB\", \"DOY\", \"PEK\", \"ZYI\"]])"
      ]
     },
     "execution_count": 58,
     "metadata": {},
     "output_type": "execute_result"
    }
   ],
   "source": [
    "GERMANY_MX2 = busca_vuelos_INF_MX(germany_pasa_inf2, germany_WUH_MX2)"
   ]
  },
  {
   "cell_type": "code",
   "execution_count": null,
   "metadata": {},
   "outputs": [],
   "source": []
  },
  {
   "cell_type": "markdown",
   "metadata": {},
   "source": [
    "#### France\n",
    "\n",
    "Infected person arrived from France on March 06. (approx. 204 steps from WUH)"
   ]
  },
  {
   "cell_type": "code",
   "execution_count": 59,
   "metadata": {},
   "outputs": [
    {
     "data": {
      "text/plain": [
       "208-element Array{String,1}:\n",
       " \"LBI\"\n",
       " \"XMK\"\n",
       " \"RNE\"\n",
       " \"XAB\"\n",
       " \"XAN\"\n",
       " \"NIT\"\n",
       " \"ZAO\"\n",
       " \"LBY\"\n",
       " \"AGF\"\n",
       " \"JAH\"\n",
       " \"SOZ\"\n",
       " \"LVA\"\n",
       " \"QXB\"\n",
       " ⋮    \n",
       " \"TLS\"\n",
       " \"TUF\"\n",
       " \"TNF\"\n",
       " \"QYR\"\n",
       " \"VAF\"\n",
       " \"XVS\"\n",
       " \"VIY\"\n",
       " \"XVN\"\n",
       " \"XVO\"\n",
       " \"VHY\"\n",
       " \"XVF\"\n",
       " \"VTL\""
      ]
     },
     "execution_count": 59,
     "metadata": {},
     "output_type": "execute_result"
    }
   ],
   "source": [
    "#List of french airports\n",
    "france_airp = readdlm(\"/Users/yuriko/Documents/UNAM/Tesis_Lic/Articulo/france_airp.csv\", ',', String)[:,1]"
   ]
  },
  {
   "cell_type": "code",
   "execution_count": 60,
   "metadata": {
    "scrolled": false
   },
   "outputs": [
    {
     "data": {
      "text/plain": [
       "1000-element Array{Any,1}:\n",
       " [\"WUH\", \"SHA\", \"URC\", \"TPE\", \"HKD\", \"TPE\", \"KOJ\", \"FSZ\", \"KOJ\", \"UKB\"  …  \"BIS\", \"LAS\", \"MEM\", \"MSP\", \"BWI\", \"CMH\", \"CLT\", \"ORF\", \"PHL\", \"PDX\"]\n",
       " [\"WUH\", \"SZX\", \"TSN\", \"SZX\", \"DYG\", \"CKG\", \"FOC\", \"CTU\", \"LZH\", \"KMG\"  …  \" \", \" \", \" \", \" \", \" \", \" \", \" \", \" \", \" \", \" \"]                    \n",
       " [\"WUH\", \"YNT\", \"HGH\", \"WUH\", \"HET\", \"NZH\", \"OVB\", \"PYJ\", \"OVB\", \"EVN\"  …  \"BPN\", \"BTH\", \"PDG\", \"KUL\", \"TRZ\", \"SIN\", \"MDC\", \"CGK\", \"MNL\", \"POM\"]\n",
       " [\"WUH\", \"LZH\", \"KMG\", \"CZX\", \"FOC\", \"MFM\", \"NKG\", \"KMG\", \"BSD\", \"KMG\"  …  \"RKV\", \"AEY\", \"RKV\", \"KUS\", \"GOH\", \"SFJ\", \"JAV\", \"GOH\", \"UAK\", \"SFJ\"]\n",
       " [\"WUH\", \"WNZ\", \"CTU\", \"KMG\", \"CNX\", \"UTH\", \"DMK\", \"NAW\", \"DMK\", \"HKG\"  …  \"YZF\", \"YWJ\", \"YZF\", \"YHK\", \"YYH\", \"YCB\", \"YCO\", \"YHI\", \"YCO\", \"YHI\"]\n",
       " [\"WUH\", \"SIN\", \"LOP\", \"SUB\", \"UPG\", \"DJJ\", \"UPG\", \"KUL\", \"BKK\", \"FCO\"  …  \" \", \" \", \" \", \" \", \" \", \" \", \" \", \" \", \" \", \" \"]                    \n",
       " [\"WUH\", \"HAK\", \"CGD\", \"CAN\", \"SIN\", \"TPE\", \"NRT\", \"CAN\", \"AEB\", \"CAN\"  …  \" \", \" \", \" \", \" \", \" \", \" \", \" \", \" \", \" \", \" \"]                    \n",
       " [\"WUH\", \"AQG\", \"XMN\", \"HAK\", \"KMG\", \"YIC\", \"KMG\", \"KHH\", \"XMN\", \"WUS\"  …  \"CAG\", \"TPS\", \"CIA\", \"DUB\", \"LUX\", \"FUE\", \"BIO\", \"FUE\", \"PAD\", \"PMI\"]\n",
       " [\"WUH\", \"XNN\", \"URC\", \"TBS\", \"RIX\", \"AMS\", \"INN\", \"EIN\", \"AHO\", \"AOI\"  …  \"DUS\", \"NCE\", \"KBP\", \"MUC\", \"LUX\", \"FUE\", \"BSL\", \"ALC\", \"BRE\", \"AGP\"]\n",
       " [\"WUH\", \"SZX\", \"HGH\", \"HKG\", \"DMK\", \"SNO\", \"DMK\", \"KBV\", \"KUL\", \"NRT\"  …  \"DKR\", \"DXB\", \"PZU\", \"CAI\", \"CDG\", \"BZV\", \"CDG\", \"ALG\", \"CDG\", \"TBS\"]\n",
       " [\"WUH\", \"LYI\", \"XIY\", \"RLK\", \"HET\", \"TSN\", \"WUH\", \"HGH\", \"TAO\", \"BKK\"  …  \"SVQ\", \"PMI\", \"BRU\", \"LIS\", \"CMN\", \"RUH\", \"CCJ\", \"AAN\", \"CCJ\", \"CJB\"]\n",
       " [\"WUH\", \"PEK\", \"JJN\", \"HGH\", \"CAN\", \"DEL\", \"RPR\", \"CCU\", \"HYD\", \"VTZ\"  …  \"AMD\", \"BOM\", \"PAT\", \"IXR\", \"PAT\", \"DEL\", \"CDG\", \"NTE\", \"BIA\", \"GVA\"]\n",
       " [\"WUH\", \"NTG\", \"DLC\", \"CJU\", \"TSN\", \"XNN\", \"CSX\", \"BHY\", \"CKG\", \"KRL\"  …  \"CGK\", \"PEN\", \"SZB\", \"PEN\", \"CGK\", \"SIN\", \"CGK\", \"CAN\", \"TPE\", \"AKJ\"]\n",
       " ⋮                                                                                                                                              \n",
       " [\"WUH\", \"CDG\", \"CLT\", \"VPS\", \"ATL\", \"CRW\", \"MYR\", \"ATL\", \"BWI\", \"CVG\"  …  \"SXM\", \"JFK\", \"RSW\", \"LGA\", \"MHT\", \"DCA\", \"PHX\", \"IAH\", \"DTW\", \"AMS\"]\n",
       " [\"WUH\", \"PUS\", \"OKA\", \"NRT\", \"SJC\", \"BUR\", \"SJC\", \"KOA\", \"PHX\", \"BWI\"  …  \"DEL\", \"ALA\", \"PRG\", \"OTP\", \"CRL\", \"PEG\", \"STN\", \"PGF\", \"STN\", \"LUZ\"]\n",
       " [\"WUH\", \"CTU\", \"AMS\", \"LTN\", \"AGP\", \"ARN\", \"OSL\", \"BOO\", \"BGO\", \"AGP\"  …  \"SVX\", \"ROV\", \"LBD\", \"TJM\", \"NUX\", \"DME\", \"LBD\", \"GOJ\", \"EVN\", \"SVX\"]\n",
       " [\"WUH\", \"MFM\", \"RMQ\", \"MZG\", \"RMQ\", \"HAN\", \"CTU\", \"ICN\", \"CMB\", \"BLR\"  …  \"KLO\", \"KUL\", \"PEK\", \"LXA\", \"BPX\", \"CTU\", \"LJG\", \"SIN\", \"PER\", \"BME\"]\n",
       " [\"WUH\", \"URC\", \"CKG\", \"LZH\", \"SHA\", \"LCX\", \"SHA\", \"KWL\", \"KWE\", \"XNN\"  …  \"BDS\", \"BGY\", \"TSR\", \"BLQ\", \"CLJ\", \"BCN\", \"ORY\", \"MLA\", \"LIN\", \"CAG\"]\n",
       " [\"WUH\", \"XFN\", \"PVG\", \"FRA\", \"PUJ\", \"YUL\", \"LHR\", \"MAN\", \"KGS\", \"KRK\"  …  \"TVS\", \"TYN\", \"KHN\", \"XIY\", \"YNZ\", \"XMN\", \"JIU\", \"CAN\", \"HGH\", \"HKT\"]\n",
       " [\"WUH\", \"CDG\", \"CZL\", \"NCE\", \"BCN\", \"EDI\", \"CDG\", \"CLY\", \"BOD\", \"MRS\"  …  \"BCN\", \"IST\", \"ORN\", \"FCO\", \"MXP\", \"SXF\", \"NBE\", \"ZRH\", \"ATL\", \"PNS\"]\n",
       " [\"WUH\", \"HGH\", \"LYI\", \"HGH\", \"BHY\", \"HAK\", \"NKG\", \"CIF\", \"HLD\", \"TGO\"  …  \"KWE\", \"WUZ\", \"KWE\", \"TYN\", \"KMG\", \"XNN\", \"ZHY\", \"PEK\", \"ISB\", \"MXP\"]\n",
       " [\"WUH\", \"PEK\", \"UYN\", \"TSN\", \"XIY\", \"LYI\", \"CAN\", \"XUZ\", \"XMN\", \"KWL\"  …  \"ZYI\", \"SHA\", \"TYN\", \"TNA\", \"TYN\", \"CSX\", \"HET\", \"NZH\", \"KJA\", \"FRU\"]\n",
       " [\"WUH\", \"TAO\", \"RMQ\", \"HAN\", \"PVG\", \"MRU\", \"JNB\", \"BEW\", \"UEL\", \"TET\"  …  \"VIE\", \"OTP\", \"BAY\", \"OTP\", \"STN\", \"MAD\", \"CLJ\", \"TLV\", \"MRV\", \"DXB\"]\n",
       " [\"WUH\", \"SIN\", \"KWE\", \"FOC\", \"ZUH\", \"WUH\", \"XMN\", \"HFE\", \"HAK\", \"SWA\"  …  \"NAY\", \"DAT\", \"SHE\", \"HKG\", \"KMG\", \"TNA\", \"SHE\", \"LYA\", \"CAN\", \"SYD\"]\n",
       " [\"WUH\", \"CGQ\", \"TNA\", \"CGQ\", \"TAO\", \"NGB\", \"CJU\", \"KUV\", \"CJU\", \"CJJ\"  …  \"LYG\", \"HGH\", \"KMG\", \"LXA\", \"LHW\", \"WUH\", \"DLC\", \"TNA\", \"YNT\", \"PEK\"]"
      ]
     },
     "execution_count": 60,
     "metadata": {},
     "output_type": "execute_result"
    }
   ],
   "source": [
    "#Random walks up to 204 steps\n",
    "france_RW = country_steps(204, walk_names_multiplex)"
   ]
  },
  {
   "cell_type": "code",
   "execution_count": 61,
   "metadata": {},
   "outputs": [
    {
     "data": {
      "text/plain": [
       "1000×4 Array{String,2}:\n",
       " \"CLT\"  \"ORF\"  \"PHL\"  \"PDX\"\n",
       " \" \"    \" \"    \" \"    \" \"  \n",
       " \"MDC\"  \"CGK\"  \"MNL\"  \"POM\"\n",
       " \"JAV\"  \"GOH\"  \"UAK\"  \"SFJ\"\n",
       " \"YCO\"  \"YHI\"  \"YCO\"  \"YHI\"\n",
       " \" \"    \" \"    \" \"    \" \"  \n",
       " \" \"    \" \"    \" \"    \" \"  \n",
       " \"BIO\"  \"FUE\"  \"PAD\"  \"PMI\"\n",
       " \"BSL\"  \"ALC\"  \"BRE\"  \"AGP\"\n",
       " \"CDG\"  \"ALG\"  \"CDG\"  \"TBS\"\n",
       " \"CCJ\"  \"AAN\"  \"CCJ\"  \"CJB\"\n",
       " \"CDG\"  \"NTE\"  \"BIA\"  \"GVA\"\n",
       " \"CGK\"  \"CAN\"  \"TPE\"  \"AKJ\"\n",
       " ⋮                         \n",
       " \"PHX\"  \"IAH\"  \"DTW\"  \"AMS\"\n",
       " \"STN\"  \"PGF\"  \"STN\"  \"LUZ\"\n",
       " \"LBD\"  \"GOJ\"  \"EVN\"  \"SVX\"\n",
       " \"LJG\"  \"SIN\"  \"PER\"  \"BME\"\n",
       " \"ORY\"  \"MLA\"  \"LIN\"  \"CAG\"\n",
       " \"JIU\"  \"CAN\"  \"HGH\"  \"HKT\"\n",
       " \"NBE\"  \"ZRH\"  \"ATL\"  \"PNS\"\n",
       " \"ZHY\"  \"PEK\"  \"ISB\"  \"MXP\"\n",
       " \"HET\"  \"NZH\"  \"KJA\"  \"FRU\"\n",
       " \"CLJ\"  \"TLV\"  \"MRV\"  \"DXB\"\n",
       " \"SHE\"  \"LYA\"  \"CAN\"  \"SYD\"\n",
       " \"DLC\"  \"TNA\"  \"YNT\"  \"PEK\""
      ]
     },
     "execution_count": 61,
     "metadata": {},
     "output_type": "execute_result"
    }
   ],
   "source": [
    "prueba_france = MX_llegada(france_RW, 204)"
   ]
  },
  {
   "cell_type": "code",
   "execution_count": 62,
   "metadata": {},
   "outputs": [
    {
     "data": {
      "text/plain": [
       "29-element Array{Any,1}:\n",
       " 128\n",
       " 130\n",
       " 179\n",
       " 198\n",
       " 211\n",
       " 271\n",
       " 281\n",
       " 311\n",
       " 380\n",
       " 410\n",
       " 423\n",
       " 454\n",
       " 486\n",
       "   ⋮\n",
       " 570\n",
       " 581\n",
       " 587\n",
       " 590\n",
       " 639\n",
       " 707\n",
       " 719\n",
       " 782\n",
       " 798\n",
       " 832\n",
       " 897\n",
       " 949"
      ]
     },
     "execution_count": 62,
     "metadata": {},
     "output_type": "execute_result"
    }
   ],
   "source": [
    "france_dia = mx_dia(prueba_france, mx_airp)"
   ]
  },
  {
   "cell_type": "code",
   "execution_count": 63,
   "metadata": {},
   "outputs": [
    {
     "data": {
      "text/plain": [
       "205×29 Array{String,2}:\n",
       " \"WUH\"  \"WUH\"  \"WUH\"  \"WUH\"  \"WUH\"  …  \"WUH\"  \"WUH\"  \"WUH\"  \"WUH\"  \"WUH\"\n",
       " \"TSN\"  \"NNG\"  \"PUS\"  \"LYI\"  \"NNG\"     \"LJG\"  \"YNT\"  \"LYG\"  \"XNN\"  \"XFN\"\n",
       " \"NBS\"  \"PNH\"  \"KLO\"  \"CSX\"  \"RGN\"     \"HFE\"  \"TPE\"  \"CAN\"  \"YUS\"  \"CKG\"\n",
       " \"PEK\"  \"REP\"  \"CEB\"  \"KMG\"  \"AKY\"     \"YNT\"  \"LAX\"  \"HRB\"  \"XNN\"  \"XUZ\"\n",
       " \"BAV\"  \"DAD\"  \"ILO\"  \"TYN\"  \"RGN\"     \"SHE\"  \"SYD\"  \"XUZ\"  \"TSN\"  \"INC\"\n",
       " \"URC\"  \"CTU\"  \"HKG\"  \"BAV\"  \"HKG\"  …  \"NRT\"  \"ICN\"  \"KWE\"  \"FUG\"  \"CKG\"\n",
       " \"XIY\"  \"HET\"  \"TNN\"  \"CTU\"  \"HEL\"     \"PUS\"  \"SPN\"  \"WUH\"  \"HGH\"  \"DSN\"\n",
       " \"FUG\"  \"TYN\"  \"HKG\"  \"TSN\"  \"HAM\"     \"VVO\"  \"NRT\"  \"SYX\"  \"YNT\"  \"SHE\"\n",
       " \"DLC\"  \"TSN\"  \"KWL\"  \"HET\"  \"TFS\"     \"ICN\"  \"KHV\"  \"KWL\"  \"DLC\"  \"YNT\"\n",
       " \"JNG\"  \"LHW\"  \"HKG\"  \"YIE\"  \"MAN\"     \"CTU\"  \"UUS\"  \"TSN\"  \"CHG\"  \"KIX\"\n",
       " \"CAN\"  \"CSX\"  \"WUX\"  \"HET\"  \"DME\"  …  \"CGO\"  \"CTS\"  \"ICN\"  \"DLC\"  \"CDG\"\n",
       " \"FOC\"  \"DYG\"  \"PEK\"  \"KHN\"  \"VAR\"     \"LHW\"  \"MMB\"  \"PNH\"  \"FUK\"  \"ORN\"\n",
       " \"KWE\"  \"SZX\"  \"FNJ\"  \"CTU\"  \"SVO\"     \"INC\"  \"HND\"  \"NNG\"  \"SGN\"  \"MRS\"\n",
       " ⋮                                  ⋱         ⋮                         \n",
       " \"ATL\"  \"ADD\"  \"LOS\"  \"NBO\"  \"PHL\"     \"CFU\"  \"YXX\"  \"CUL\"  \"CUZ\"  \"MSZ\"\n",
       " \"RTB\"  \"LOS\"  \"FNA\"  \"BKK\"  \"SAN\"     \"CIA\"  \"YEG\"  \"HMO\"  \"PEM\"  \"LAD\"\n",
       " \"IAH\"  \"ATL\"  \"CMN\"  \"CGK\"  \"EWR\"  …  \"CIY\"  \"YQR\"  \"CUL\"  \"CUZ\"  \"HAV\"\n",
       " \"PVR\"  \"FPO\"  \"CKY\"  \"KIX\"  \"BZE\"     \"STN\"  \"YWG\"  \"TIJ\"  \"JUL\"  \"SVO\"\n",
       " \"DEN\"  \"NAS\"  \"DKR\"  \"JFK\"  \"DFW\"     \"SNN\"  \"YXU\"  \"TPQ\"  \"AQP\"  \"HAV\"\n",
       " \"OKC\"  \"MYG\"  \"CMN\"  \"CUN\"  \"JAX\"     \"PMI\"  \"YYC\"  \"MEX\"  \"TCQ\"  \"CCS\"\n",
       " \"PHX\"  \"NAS\"  \"MAD\"  \"MEX\"  \"ATL\"     \"BHD\"  \"YBR\"  \"PXM\"  \"AQP\"  \"OPO\"\n",
       " \"MEX\"  \"DTW\"  \"ORY\"  \"HMO\"  \"MSN\"  …  \"LGW\"  \"YYC\"  \"MEX\"  \"LIM\"  \"LGW\"\n",
       " \"CZM\"  \"CUN\"  \"PAP\"  \"CUN\"  \"LGA\"     \"CUN\"  \"PVR\"  \"PAZ\"  \"CCS\"  \"CUN\"\n",
       " \"CUN\"  \"ATL\"  \"JFK\"  \"AGU\"  \"YUL\"     \"EWR\"  \"DFW\"  \"VSA\"  \"POS\"  \"LAX\"\n",
       " \"VSA\"  \"SAN\"  \"MEX\"  \"LAX\"  \"YEG\"     \"POP\"  \"CZM\"  \"MID\"  \"EWR\"  \"YVR\"\n",
       " \"CUN\"  \"IAD\"  \"MIA\"  \"YYZ\"  \"CUN\"     \"SJU\"  \"DFW\"  \"MEX\"  \"SJD\"  \"SJD\""
      ]
     },
     "execution_count": 63,
     "metadata": {},
     "output_type": "execute_result"
    }
   ],
   "source": [
    "france_N_RW = filtro_mx(france_dia, france_RW)"
   ]
  },
  {
   "cell_type": "code",
   "execution_count": 64,
   "metadata": {},
   "outputs": [
    {
     "data": {
      "text/plain": [
       "(65, Any[[\"FOC\", \"ROV\", \"LZH\", \"TPE\", \"TXL\", \"INC\", \"ATH\", \"LST\", \"XIY\", \"BOS\"  …  \"PEK\", \"LED\", \"HMI\", \"HKG\", \"DEN\", \"CAN\", \"HNA\", \"CUN\", \"HND\", \"SCQ\"], [\"TYN\", \"EVN\", \"XMN\", \"LJG\", \"AMS\", \"PEK\", \"RIX\", \"SYD\", \"GXH\", \"SXM\"  …  \"KIX\", \"FRA\", \"CGO\", \"KHN\", \"GSO\", \"AEB\", \"NKM\", \"MTY\", \"AKJ\", \"VLC\"], [\"CAN\", \"LED\", \"PEK\", \"CGO\", \"YUL\", \"SYX\", \"MAN\", \"ASP\", \"XIY\", \"CUR\"  …  \"SFO\", \"DEN\", \"RMQ\", \"TSN\", \"ATL\", \"KWL\", \"HNA\", \"VER\", \"HND\", \"LGW\"], [\"CAI\", \"TJM\", \"DTW\", \"HMI\", \"AMM\", \"CGO\", \"PUY\", \"MEL\", \"HAK\", \"PTY\"  …  \"TPE\", \"YYC\", \"TAO\", \"MWX\", \"DXB\", \"KWE\", \"NKM\", \"GDL\", \"AXT\", \"VIE\"], [\"YYZ\", \"NYM\", \"RDU\", \"PEK\", \"RUH\", \"DSN\", \"ZAD\", \"DRW\", \"NGB\", \"NAS\"  …  \"TYN\", \"CUN\", \"JXA\", \"TSN\", \"BDH\", \"CTU\", \"HNA\", \"IAH\", \"ICN\", \"STR\"], [\"TFS\", \"TLL\", \"SOF\", \"OKJ\", \"JNB\", \"JNB\", \"BCN\", \"LAX\", \"GDN\", \"YKQ\"  …  \"EMD\", \"AMS\", \"DLC\", \"BLQ\", \"INC\", \"BAH\", \"XIY\", \"MED\", \"CCU\", \"MAD\"], [\"KWL\", \"AGP\", \"LBA\", \"YCU\", \"TSF\", \"JNB\", \"SVO\", \"KIJ\", \"ARN\", \"YGW\"  …  \"ADL\", \"MSY\", \"SWA\", \"MXP\", \"JGN\", \"PVG\", \"PRN\", \"HAS\", \"TLL\", \"IST\"], [\"HKG\", \"CRL\", \"DBV\", \"CSX\", \"CAG\", \"CDG\", \"OMS\", \"HRB\", \"LHR\", \"YKU\"  …  \"BHQ\", \"IAH\", \"CTU\", \"KIV\", \"LHW\", \"DDG\", \"SAW\", \"DMM\", \"ARN\", \"BEN\"], [\"TLV\", \"WRO\", \"MMX\", \"KHN\", \"ISB\", \"KWE\", \"BOJ\", \"LJG\", \"SIN\", \"YKU\"  …  \"HKG\", \"CAN\", \"CUN\", \"LPA\", \"LED\", \"MCO\", \"CAI\", \"LHR\", \"RNS\", \"IKA\"], [\"CRL\", \"MHD\", \"ARN\", \"CKG\", \"CAN\", \"TSE\", \"ALG\", \"DPS\", \"KWL\", \"LAS\"  …  \"NGB\", \"BVC\", \"TBS\", \"AUS\", \"CAN\", \"BUF\", \"CRL\", \"ADB\", \"CPH\", \"BCN\"]  …  [\"IAH\", \"ATL\", \"CMN\", \"CGK\", \"EWR\", \"GRU\", \"KIN\", \"OAX\", \"NRN\", \"PMV\"  …  \"OMA\", \"LAS\", \"BRW\", \"MAO\", \"OKA\", \"CIY\", \"YQR\", \"CUL\", \"CUZ\", \"HAV\"], [\"PVR\", \"FPO\", \"CKY\", \"KIX\", \"BZE\", \"ORD\", \"POS\", \"MEX\", \"TSF\", \"MAR\"  …  \"LAS\", \"YEG\", \"SCC\", \"MIA\", \"KMJ\", \"STN\", \"YWG\", \"TIJ\", \"JUL\", \"SVO\"], [\"DEN\", \"NAS\", \"DKR\", \"JFK\", \"DFW\", \"RIC\", \"SLU\", \"MTY\", \"NYO\", \"PTY\"  …  \"BLI\", \"YOP\", \"ANC\", \"DEN\", \"HND\", \"SNN\", \"YXU\", \"TPQ\", \"AQP\", \"HAV\"], [\"OKC\", \"MYG\", \"CMN\", \"CUN\", \"JAX\", \"LGA\", \"FDF\", \"QRO\", \"AGP\", \"IAD\"  …  \"LAS\", \"YOJ\", \"SEA\", \"LAX\", \"MYJ\", \"PMI\", \"YYC\", \"MEX\", \"TCQ\", \"CCS\"], [\"PHX\", \"NAS\", \"MAD\", \"MEX\", \"ATL\", \"CAK\", \"SDQ\", \"TIJ\", \"TRF\", \"LAS\"  …  \"DFW\", \"YEG\", \"IAH\", \"LAS\", \"NRT\", \"BHD\", \"YBR\", \"PXM\", \"AQP\", \"OPO\"], [\"MEX\", \"DTW\", \"ORY\", \"HMO\", \"MSN\", \"CLT\", \"MAD\", \"VER\", \"AGP\", \"MEX\"  …  \"CCS\", \"CUN\", \"MTY\", \"SFO\", \"JFK\", \"LGW\", \"YYC\", \"MEX\", \"LIM\", \"LGW\"], [\"CZM\", \"CUN\", \"PAP\", \"CUN\", \"LGA\", \"CZM\", \"MEX\", \"CUN\", \"BRE\", \"ACA\"  …  \"MEX\", \"PBC\", \"TIJ\", \"SJD\", \"MUC\", \"CUN\", \"PVR\", \"PAZ\", \"CCS\", \"CUN\"], [\"CUN\", \"ATL\", \"JFK\", \"AGU\", \"YUL\", \"MEX\", \"AGU\", \"GDL\", \"FRA\", \"MTY\"  …  \"DFW\", \"CUN\", \"CUU\", \"SFO\", \"MEX\", \"EWR\", \"DFW\", \"VSA\", \"POS\", \"LAX\"], [\"VSA\", \"SAN\", \"MEX\", \"LAX\", \"YEG\", \"TAM\", \"LAX\", \"CUN\", \"NRT\", \"IAH\"  …  \"LAS\", \"MCI\", \"GDL\", \"CLE\", \"CJS\", \"POP\", \"CZM\", \"MID\", \"EWR\", \"YVR\"], [\"CUN\", \"IAD\", \"MIA\", \"YYZ\", \"CUN\", \"CUN\", \"PVR\", \"AMS\", \"MEX\", \"SNA\"  …  \"ICN\", \"SLC\", \"PTY\", \"PUJ\", \"GDL\", \"SJU\", \"DFW\", \"MEX\", \"SJD\", \"SJD\"]], Any[27, 27, 27, 27, 21, 14, 13, 13, 22, 14  …  8, 1, 8, 4, 4, 1, 1, 1, 1, 1])"
      ]
     },
     "execution_count": 64,
     "metadata": {},
     "output_type": "execute_result"
    }
   ],
   "source": [
    "france_WUH_MX = busca_vuelos_WUH_MX(france_N_RW, mx_airp)"
   ]
  },
  {
   "cell_type": "code",
   "execution_count": 65,
   "metadata": {},
   "outputs": [
    {
     "data": {
      "text/plain": [
       "(30, Any[[\"FOC\", \"ROV\", \"LZH\", \"TPE\", \"TXL\", \"INC\", \"ATH\", \"LST\", \"XIY\", \"BOS\"  …  \"PEK\", \"LED\", \"HMI\", \"HKG\", \"DEN\", \"CAN\", \"HNA\", \"CUN\", \"HND\", \"SCQ\"], [\"HKG\", \"CRL\", \"DBV\", \"CSX\", \"CAG\", \"CDG\", \"OMS\", \"HRB\", \"LHR\", \"YKU\"  …  \"BHQ\", \"IAH\", \"CTU\", \"KIV\", \"LHW\", \"DDG\", \"SAW\", \"DMM\", \"ARN\", \"BEN\"], [\"TLV\", \"WRO\", \"MMX\", \"KHN\", \"ISB\", \"KWE\", \"BOJ\", \"LJG\", \"SIN\", \"YKU\"  …  \"HKG\", \"CAN\", \"CUN\", \"LPA\", \"LED\", \"MCO\", \"CAI\", \"LHR\", \"RNS\", \"IKA\"], [\"AGP\", \"BND\", \"GCI\", \"SZX\", \"SIN\", \"OSS\", \"LHR\", \"CED\", \"JIQ\", \"YYC\"  …  \"YTY\", \"SFL\", \"BTK\", \"SJD\", \"JUH\", \"YWG\", \"VIL\", \"STR\", \"LIS\", \"BVA\"], [\"MGF\", \"ABZ\", \"BHX\", \"DAC\", \"MRX\", \"KMG\", \"MCO\", \"PUS\", \"SSA\", \"DUS\"  …  \"XFN\", \"LHR\", \"BZE\", \"PLS\", \"ISU\", \"OUD\", \"CLY\", \"PVR\", \"SGN\", \"TFS\"], [\"CGH\", \"MAN\", \"TXL\", \"RGN\", \"IFN\", \"CTU\", \"BWI\", \"TYN\", \"BPS\", \"CPH\"  …  \"WUH\", \"MRU\", \"MID\", \"BOS\", \"DUS\", \"BVA\", \"NCE\", \"LAX\", \"DOH\", \"CDG\"], [\"NVT\", \"JER\", \"RIX\", \"DAC\", \"SYZ\", \"WUH\", \"DFW\", \"CZX\", \"CGH\", \"KEF\"  …  \"DMK\", \"CDG\", \"MTY\", \"ALB\", \"BIO\", \"WAW\", \"NAP\", \"BLI\", \"ISU\", \"HAV\"], [\"CRD\", \"VER\", \"CAG\", \"AZA\", \"MAR\", \"IST\", \"GLA\", \"DEL\", \"MAD\", \"CPH\"  …  \"TAS\", \"VAA\", \"MCO\", \"SVG\", \"TCQ\", \"CDG\", \"TOS\", \"DTW\", \"BLL\", \"LCA\"], [\"NQN\", \"TAM\", \"GVA\", \"SGF\", \"VLN\", \"KWI\", \"SXF\", \"KWI\", \"VCE\", \"LBA\"  …  \"DEL\", \"HEL\", \"JFK\", \"CDG\", \"AQP\", \"MRS\", \"SVG\", \"LAX\", \"AYT\", \"LHR\"], [\"MDZ\", \"CUN\", \"ZRH\", \"PGD\", \"PTY\", \"HBE\", \"OLB\", \"KBL\", \"MRS\", \"PFO\"  …  \"DOH\", \"MHQ\", \"LCY\", \"KRK\", \"LPB\", \"CDG\", \"SXF\", \"IAD\", \"HAM\", \"KBP\"]  …  [\"MAN\", \"BUD\", \"GDL\", \"TOB\", \"SZX\", \"KRL\", \"MQN\", \"FOR\", \"BIQ\", \"CDG\"  …  \"NRT\", \"OAK\", \"BHY\", \"ZAD\", \"YTH\", \"GPA\", \"OAK\", \"YUL\", \"KUN\", \"PEK\"], [\"LIS\", \"EDI\", \"ZIH\", \"MED\", \"HKG\", \"YIW\", \"MQN\", \"GRU\", \"MPL\", \"BOS\"  …  \"EWR\", \"LAX\", \"SHA\", \"MLA\", \"YTH\", \"CFU\", \"IND\", \"YKQ\", \"CHQ\", \"SGN\"], [\"HKG\", \"MSN\", \"ADL\", \"SVO\", \"PKE\", \"MYG\", \"BZV\", \"YZY\", \"SHA\", \"BOG\"  …  \"DXB\", \"DSM\", \"YAK\", \"JFK\", \"LYI\", \"OVB\", \"ORY\", \"JAX\", \"CUN\", \"HAK\"], [\"CLT\", \"CDG\", \"NBO\", \"JNB\", \"KGD\", \"GYN\", \"TMR\", \"PUS\", \"FUE\", \"CUM\"  …  \"CLT\", \"BIS\", \"STG\", \"PPN\", \"ZYI\", \"CRL\", \"PTY\", \"GDL\", \"AUS\", \"XIY\"], [\"SAT\", \"ADD\", \"DOH\", \"EBB\", \"KBP\", \"CNF\", \"ALG\", \"TYN\", \"SNN\", \"CCS\"  …  \"XNA\", \"LAS\", \"ANC\", \"BOG\", \"WUH\", \"CCF\", \"PUJ\", \"VSA\", \"DFW\", \"XNN\"], [\"LAX\", \"SHC\", \"RUH\", \"ADD\", \"NTE\", \"UBA\", \"LYS\", \"TPE\", \"BSL\", \"CCS\"  …  \"SAT\", \"LAS\", \"ANC\", \"MAO\", \"WNZ\", \"BJV\", \"YWG\", \"TAM\", \"ANS\", \"PEK\"], [\"HOU\", \"MQX\", \"AMM\", \"MPM\", \"AMS\", \"CNF\", \"ORY\", \"SFO\", \"ADB\", \"MUN\"  …  \"TPA\", \"TUL\", \"DLG\", \"PIN\", \"HKG\", \"BRS\", \"YEG\", \"MTY\", \"LIM\", \"LAD\"], [\"IAH\", \"ATL\", \"CMN\", \"CGK\", \"EWR\", \"GRU\", \"KIN\", \"OAX\", \"NRN\", \"PMV\"  …  \"OMA\", \"LAS\", \"BRW\", \"MAO\", \"OKA\", \"CIY\", \"YQR\", \"CUL\", \"CUZ\", \"HAV\"], [\"DEN\", \"NAS\", \"DKR\", \"JFK\", \"DFW\", \"RIC\", \"SLU\", \"MTY\", \"NYO\", \"PTY\"  …  \"BLI\", \"YOP\", \"ANC\", \"DEN\", \"HND\", \"SNN\", \"YXU\", \"TPQ\", \"AQP\", \"HAV\"], [\"MEX\", \"DTW\", \"ORY\", \"HMO\", \"MSN\", \"CLT\", \"MAD\", \"VER\", \"AGP\", \"MEX\"  …  \"CCS\", \"CUN\", \"MTY\", \"SFO\", \"JFK\", \"LGW\", \"YYC\", \"MEX\", \"LIM\", \"LGW\"]], Any[11, 5, 27, 28, 25, 24, 20, 24, 10, 8  …  8, 8, 25, 1, 15, 4, 6, 10, 10, 2], Any[27, 13, 22, 23, 27, 22, 22, 2, 2, 2  …  3, 3, 28, 27, 27, 27, 13, 8, 8, 1])"
      ]
     },
     "execution_count": 65,
     "metadata": {},
     "output_type": "execute_result"
    }
   ],
   "source": [
    "france_pasa_inf = busca_vuelos_pasa_inf(france_WUH_MX, france_airp)"
   ]
  },
  {
   "cell_type": "code",
   "execution_count": 66,
   "metadata": {},
   "outputs": [
    {
     "data": {
      "text/plain": [
       "(14, Any[[\"FOC\", \"ROV\", \"LZH\", \"TPE\", \"TXL\", \"INC\", \"ATH\", \"LST\", \"XIY\", \"BOS\"  …  \"PEK\", \"LED\", \"HMI\", \"HKG\", \"DEN\", \"CAN\", \"HNA\", \"CUN\", \"HND\", \"SCQ\"], [\"HKG\", \"CRL\", \"DBV\", \"CSX\", \"CAG\", \"CDG\", \"OMS\", \"HRB\", \"LHR\", \"YKU\"  …  \"BHQ\", \"IAH\", \"CTU\", \"KIV\", \"LHW\", \"DDG\", \"SAW\", \"DMM\", \"ARN\", \"BEN\"], [\"MGF\", \"ABZ\", \"BHX\", \"DAC\", \"MRX\", \"KMG\", \"MCO\", \"PUS\", \"SSA\", \"DUS\"  …  \"XFN\", \"LHR\", \"BZE\", \"PLS\", \"ISU\", \"OUD\", \"CLY\", \"PVR\", \"SGN\", \"TFS\"], [\"NVT\", \"JER\", \"RIX\", \"DAC\", \"SYZ\", \"WUH\", \"DFW\", \"CZX\", \"CGH\", \"KEF\"  …  \"DMK\", \"CDG\", \"MTY\", \"ALB\", \"BIO\", \"WAW\", \"NAP\", \"BLI\", \"ISU\", \"HAV\"], [\"AEP\", \"MDW\", \"BLA\", \"MCI\", \"KEP\", \"BLQ\", \"CRL\", \"PVG\", \"DTM\", \"CRL\"  …  \"PEK\", \"NBO\", \"MAD\", \"LYS\", \"LIM\", \"VER\", \"MUC\", \"PDX\", \"KIR\", \"HAM\"], [\"BRC\", \"STL\", \"CCS\", \"SAN\", \"KTM\", \"MAD\", \"ACE\", \"OKA\", \"GDN\", \"LPA\"  …  \"MWX\", \"ADD\", \"TUN\", \"QSF\", \"CLO\", \"REX\", \"ESB\", \"SAN\", \"HHN\", \"VCE\"], [\"MDZ\", \"BOS\", \"PMV\", \"MSP\", \"HKG\", \"LIS\", \"MUC\", \"SDJ\", \"SVG\", \"BHX\"  …  \"MFM\", \"PNR\", \"BEN\", \"LYS\", \"MIA\", \"CUN\", \"ADB\", \"JFK\", \"CIA\", \"KIV\"], [\"PSS\", \"SAP\", \"PMV\", \"FLL\", \"JNB\", \"STR\", \"VIL\", \"NGO\", \"SIN\", \"CPH\"  …  \"PNH\", \"DLA\", \"ADD\", \"ORY\", \"JAX\", \"LAP\", \"RIX\", \"HAM\", \"KUN\", \"LTN\"], [\"HRE\", \"CDG\", \"LIM\", \"YYZ\", \"HFE\", \"LJG\", \"MJF\", \"BLA\", \"TLV\", \"ADD\"  …  \"NYM\", \"VVI\", \"HKG\", \"ACE\", \"YXP\", \"MUC\", \"NCE\", \"AGP\", \"DUB\", \"EMA\"], [\"HKG\", \"MSN\", \"ADL\", \"SVO\", \"PKE\", \"MYG\", \"BZV\", \"YZY\", \"SHA\", \"BOG\"  …  \"DXB\", \"DSM\", \"YAK\", \"JFK\", \"LYI\", \"OVB\", \"ORY\", \"JAX\", \"CUN\", \"HAK\"], [\"CLT\", \"CDG\", \"NBO\", \"JNB\", \"KGD\", \"GYN\", \"TMR\", \"PUS\", \"FUE\", \"CUM\"  …  \"CLT\", \"BIS\", \"STG\", \"PPN\", \"ZYI\", \"CRL\", \"PTY\", \"GDL\", \"AUS\", \"XIY\"], [\"SAT\", \"ADD\", \"DOH\", \"EBB\", \"KBP\", \"CNF\", \"ALG\", \"TYN\", \"SNN\", \"CCS\"  …  \"XNA\", \"LAS\", \"ANC\", \"BOG\", \"WUH\", \"CCF\", \"PUJ\", \"VSA\", \"DFW\", \"XNN\"], [\"LAX\", \"SHC\", \"RUH\", \"ADD\", \"NTE\", \"UBA\", \"LYS\", \"TPE\", \"BSL\", \"CCS\"  …  \"SAT\", \"LAS\", \"ANC\", \"MAO\", \"WNZ\", \"BJV\", \"YWG\", \"TAM\", \"ANS\", \"PEK\"], [\"HOU\", \"MQX\", \"AMM\", \"MPM\", \"AMS\", \"CNF\", \"ORY\", \"SFO\", \"ADB\", \"MUN\"  …  \"TPA\", \"TUL\", \"DLG\", \"PIN\", \"HKG\", \"BRS\", \"YEG\", \"MTY\", \"LIM\", \"LAD\"]])"
      ]
     },
     "execution_count": 66,
     "metadata": {},
     "output_type": "execute_result"
    }
   ],
   "source": [
    "FRANCE_MX = busca_vuelos_INF_MX(france_pasa_inf, france_WUH_MX)"
   ]
  },
  {
   "cell_type": "markdown",
   "metadata": {},
   "source": [
    "#### Type 2"
   ]
  },
  {
   "cell_type": "code",
   "execution_count": 67,
   "metadata": {},
   "outputs": [
    {
     "data": {
      "text/plain": [
       "(546, Any[Any[[\"WUH\", \"SHA\", \"URC\", \"TPE\", \"HKD\", \"TPE\", \"KOJ\", \"FSZ\", \"KOJ\", \"UKB\"  …  \"BIS\", \"LAS\", \"MEM\", \"MSP\", \"BWI\", \"CMH\", \"CLT\", \"ORF\", \"PHL\", \"PDX\"]], Any[[\"WUH\", \"SIN\", \"LOP\", \"SUB\", \"UPG\", \"DJJ\", \"UPG\", \"KUL\", \"BKK\", \"FCO\"  …  \" \", \" \", \" \", \" \", \" \", \" \", \" \", \" \", \" \", \" \"]], Any[[\"WUH\", \"HAK\", \"CGD\", \"CAN\", \"SIN\", \"TPE\", \"NRT\", \"CAN\", \"AEB\", \"CAN\"  …  \" \", \" \", \" \", \" \", \" \", \" \", \" \", \" \", \" \", \" \"]], Any[[\"WUH\", \"SZX\", \"HGH\", \"HKG\", \"DMK\", \"SNO\", \"DMK\", \"KBV\", \"KUL\", \"NRT\"  …  \"DKR\", \"DXB\", \"PZU\", \"CAI\", \"CDG\", \"BZV\", \"CDG\", \"ALG\", \"CDG\", \"TBS\"]], Any[[\"WUH\", \"LYI\", \"XIY\", \"RLK\", \"HET\", \"TSN\", \"WUH\", \"HGH\", \"TAO\", \"BKK\"  …  \"SVQ\", \"PMI\", \"BRU\", \"LIS\", \"CMN\", \"RUH\", \"CCJ\", \"AAN\", \"CCJ\", \"CJB\"]], Any[[\"WUH\", \"NTG\", \"DLC\", \"CJU\", \"TSN\", \"XNN\", \"CSX\", \"BHY\", \"CKG\", \"KRL\"  …  \"CGK\", \"PEN\", \"SZB\", \"PEN\", \"CGK\", \"SIN\", \"CGK\", \"CAN\", \"TPE\", \"AKJ\"]], Any[[\"WUH\", \"NNG\", \"PEK\", \"MRU\", \"LHR\", \"JFK\", \"STL\", \"LAX\", \"ZLO\", \"LAX\"  …  \"TSF\", \"CLJ\", \"TSF\", \"EIN\", \"WAW\", \"CRL\", \"BOD\", \"BLQ\", \"MUC\", \"AGA\"]], Any[[\"WUH\", \"CDG\", \"SPU\", \"HEL\", \"CKG\", \"JHG\", \"LPQ\", \"CNX\", \"UTH\", \"DMK\"  …  \"GLA\", \"BHD\", \"ABZ\", \"BGO\", \"SOG\", \"HOV\", \"SOG\", \"BGO\", \"AGP\", \"BGY\"]], Any[[\"WUH\", \"YCU\", \"HGH\", \"SIN\", \"REP\", \"PKZ\", \"SGN\", \"DME\", \"AGP\", \"TSF\"  …  \"HOU\", \"MCI\", \"MDW\", \"MEM\", \"SLC\", \"LGB\", \"LAS\", \"PDX\", \"OAK\", \"LIH\"]], Any[[\"WUH\", \"INC\", \"HKG\", \"KHV\", \"BQS\", \"HTA\", \"BQS\", \"VVO\", \"ICN\", \"AXT\"  …  \"BGO\", \"FDE\", \"BGO\", \"BOO\", \"SSJ\", \"OSL\", \"PUY\", \"ZAG\", \"AMS\", \"LJU\"]]  …  Any[[\"WUH\", \"TYN\", \"SHA\", \"KMG\", \"CGD\", \"XIY\", \"HKG\", \"AKL\", \"PER\", \"BME\"  …  \"SDR\", \"EDI\", \"VCE\", \"HAM\", \"HRG\", \"HAM\", \"SPU\", \"TXL\", \"SOF\", \"OTP\"]], Any[[\"WUH\", \"WUX\", \"TPE\", \"KMG\", \"CZX\", \"KMG\", \"DSN\", \"TYN\", \"CGQ\", \"NBS\"  …  \"NYM\", \"SVX\", \"NUX\", \"TJM\", \"EVN\", \"SCO\", \"URA\", \"SCO\", \"DME\", \"KRO\"]], Any[[\"WUH\", \"LYG\", \"DLC\", \"SJW\", \"SZX\", \"SHA\", \"CIH\", \"HAK\", \"HKG\", \"ZHA\"  …  \"UGC\", \"VOG\", \"DXB\", \"MUX\", \"MED\", \"AHB\", \"DXB\", \"AMM\", \"TUN\", \"AMS\"]], Any[[\"WUH\", \"NTG\", \"CAN\", \"JIU\", \"CAN\", \"AEB\", \"CKG\", \"BFJ\", \"CKG\", \"WUX\"  …  \"CUN\", \"MAD\", \"LPL\", \"LPA\", \"EMA\", \"CDG\", \"LHR\", \"GIB\", \"LGW\", \"AJA\"]], Any[[\"WUH\", \"MFM\", \"RMQ\", \"MZG\", \"RMQ\", \"HAN\", \"CTU\", \"ICN\", \"CMB\", \"BLR\"  …  \"KLO\", \"KUL\", \"PEK\", \"LXA\", \"BPX\", \"CTU\", \"LJG\", \"SIN\", \"PER\", \"BME\"]], Any[[\"WUH\", \"URC\", \"CKG\", \"LZH\", \"SHA\", \"LCX\", \"SHA\", \"KWL\", \"KWE\", \"XNN\"  …  \"BDS\", \"BGY\", \"TSR\", \"BLQ\", \"CLJ\", \"BCN\", \"ORY\", \"MLA\", \"LIN\", \"CAG\"]], Any[[\"WUH\", \"CDG\", \"CZL\", \"NCE\", \"BCN\", \"EDI\", \"CDG\", \"CLY\", \"BOD\", \"MRS\"  …  \"BCN\", \"IST\", \"ORN\", \"FCO\", \"MXP\", \"SXF\", \"NBE\", \"ZRH\", \"ATL\", \"PNS\"]], Any[[\"WUH\", \"HGH\", \"LYI\", \"HGH\", \"BHY\", \"HAK\", \"NKG\", \"CIF\", \"HLD\", \"TGO\"  …  \"KWE\", \"WUZ\", \"KWE\", \"TYN\", \"KMG\", \"XNN\", \"ZHY\", \"PEK\", \"ISB\", \"MXP\"]], Any[[\"WUH\", \"PEK\", \"UYN\", \"TSN\", \"XIY\", \"LYI\", \"CAN\", \"XUZ\", \"XMN\", \"KWL\"  …  \"ZYI\", \"SHA\", \"TYN\", \"TNA\", \"TYN\", \"CSX\", \"HET\", \"NZH\", \"KJA\", \"FRU\"]], Any[[\"WUH\", \"TAO\", \"RMQ\", \"HAN\", \"PVG\", \"MRU\", \"JNB\", \"BEW\", \"UEL\", \"TET\"  …  \"VIE\", \"OTP\", \"BAY\", \"OTP\", \"STN\", \"MAD\", \"CLJ\", \"TLV\", \"MRV\", \"DXB\"]]], Any[180, 35, 40, 60, 112, 171, 9, 166, 185, 76  …  164, 178, 41, 196, 128, 122, 26, 96, 79, 61])"
      ]
     },
     "execution_count": 67,
     "metadata": {},
     "output_type": "execute_result"
    }
   ],
   "source": [
    "france_WUH_MX2 = busca_vuelos_WUH_MX2(france_RW, mx_airp)"
   ]
  },
  {
   "cell_type": "code",
   "execution_count": 68,
   "metadata": {},
   "outputs": [
    {
     "data": {
      "text/plain": [
       "(508, Any[[\"WUH\", \"SHA\", \"URC\", \"TPE\", \"HKD\", \"TPE\", \"KOJ\", \"FSZ\", \"KOJ\", \"UKB\"  …  \"BIS\", \"LAS\", \"MEM\", \"MSP\", \"BWI\", \"CMH\", \"CLT\", \"ORF\", \"PHL\", \"PDX\"], [\"WUH\", \"SIN\", \"LOP\", \"SUB\", \"UPG\", \"DJJ\", \"UPG\", \"KUL\", \"BKK\", \"FCO\"  …  \" \", \" \", \" \", \" \", \" \", \" \", \" \", \" \", \" \", \" \"], [\"WUH\", \"HAK\", \"CGD\", \"CAN\", \"SIN\", \"TPE\", \"NRT\", \"CAN\", \"AEB\", \"CAN\"  …  \" \", \" \", \" \", \" \", \" \", \" \", \" \", \" \", \" \", \" \"], [\"WUH\", \"SZX\", \"HGH\", \"HKG\", \"DMK\", \"SNO\", \"DMK\", \"KBV\", \"KUL\", \"NRT\"  …  \"DKR\", \"DXB\", \"PZU\", \"CAI\", \"CDG\", \"BZV\", \"CDG\", \"ALG\", \"CDG\", \"TBS\"], [\"WUH\", \"LYI\", \"XIY\", \"RLK\", \"HET\", \"TSN\", \"WUH\", \"HGH\", \"TAO\", \"BKK\"  …  \"SVQ\", \"PMI\", \"BRU\", \"LIS\", \"CMN\", \"RUH\", \"CCJ\", \"AAN\", \"CCJ\", \"CJB\"], [\"WUH\", \"NTG\", \"DLC\", \"CJU\", \"TSN\", \"XNN\", \"CSX\", \"BHY\", \"CKG\", \"KRL\"  …  \"CGK\", \"PEN\", \"SZB\", \"PEN\", \"CGK\", \"SIN\", \"CGK\", \"CAN\", \"TPE\", \"AKJ\"], [\"WUH\", \"NNG\", \"PEK\", \"MRU\", \"LHR\", \"JFK\", \"STL\", \"LAX\", \"ZLO\", \"LAX\"  …  \"TSF\", \"CLJ\", \"TSF\", \"EIN\", \"WAW\", \"CRL\", \"BOD\", \"BLQ\", \"MUC\", \"AGA\"], [\"WUH\", \"CDG\", \"SPU\", \"HEL\", \"CKG\", \"JHG\", \"LPQ\", \"CNX\", \"UTH\", \"DMK\"  …  \"GLA\", \"BHD\", \"ABZ\", \"BGO\", \"SOG\", \"HOV\", \"SOG\", \"BGO\", \"AGP\", \"BGY\"], [\"WUH\", \"YCU\", \"HGH\", \"SIN\", \"REP\", \"PKZ\", \"SGN\", \"DME\", \"AGP\", \"TSF\"  …  \"HOU\", \"MCI\", \"MDW\", \"MEM\", \"SLC\", \"LGB\", \"LAS\", \"PDX\", \"OAK\", \"LIH\"], [\"WUH\", \"INC\", \"HKG\", \"KHV\", \"BQS\", \"HTA\", \"BQS\", \"VVO\", \"ICN\", \"AXT\"  …  \"BGO\", \"FDE\", \"BGO\", \"BOO\", \"SSJ\", \"OSL\", \"PUY\", \"ZAG\", \"AMS\", \"LJU\"]  …  [\"WUH\", \"TYN\", \"SHA\", \"KMG\", \"CGD\", \"XIY\", \"HKG\", \"AKL\", \"PER\", \"BME\"  …  \"SDR\", \"EDI\", \"VCE\", \"HAM\", \"HRG\", \"HAM\", \"SPU\", \"TXL\", \"SOF\", \"OTP\"], [\"WUH\", \"WUX\", \"TPE\", \"KMG\", \"CZX\", \"KMG\", \"DSN\", \"TYN\", \"CGQ\", \"NBS\"  …  \"NYM\", \"SVX\", \"NUX\", \"TJM\", \"EVN\", \"SCO\", \"URA\", \"SCO\", \"DME\", \"KRO\"], [\"WUH\", \"LYG\", \"DLC\", \"SJW\", \"SZX\", \"SHA\", \"CIH\", \"HAK\", \"HKG\", \"ZHA\"  …  \"UGC\", \"VOG\", \"DXB\", \"MUX\", \"MED\", \"AHB\", \"DXB\", \"AMM\", \"TUN\", \"AMS\"], [\"WUH\", \"NTG\", \"CAN\", \"JIU\", \"CAN\", \"AEB\", \"CKG\", \"BFJ\", \"CKG\", \"WUX\"  …  \"CUN\", \"MAD\", \"LPL\", \"LPA\", \"EMA\", \"CDG\", \"LHR\", \"GIB\", \"LGW\", \"AJA\"], [\"WUH\", \"MFM\", \"RMQ\", \"MZG\", \"RMQ\", \"HAN\", \"CTU\", \"ICN\", \"CMB\", \"BLR\"  …  \"KLO\", \"KUL\", \"PEK\", \"LXA\", \"BPX\", \"CTU\", \"LJG\", \"SIN\", \"PER\", \"BME\"], [\"WUH\", \"URC\", \"CKG\", \"LZH\", \"SHA\", \"LCX\", \"SHA\", \"KWL\", \"KWE\", \"XNN\"  …  \"BDS\", \"BGY\", \"TSR\", \"BLQ\", \"CLJ\", \"BCN\", \"ORY\", \"MLA\", \"LIN\", \"CAG\"], [\"WUH\", \"CDG\", \"CZL\", \"NCE\", \"BCN\", \"EDI\", \"CDG\", \"CLY\", \"BOD\", \"MRS\"  …  \"BCN\", \"IST\", \"ORN\", \"FCO\", \"MXP\", \"SXF\", \"NBE\", \"ZRH\", \"ATL\", \"PNS\"], [\"WUH\", \"HGH\", \"LYI\", \"HGH\", \"BHY\", \"HAK\", \"NKG\", \"CIF\", \"HLD\", \"TGO\"  …  \"KWE\", \"WUZ\", \"KWE\", \"TYN\", \"KMG\", \"XNN\", \"ZHY\", \"PEK\", \"ISB\", \"MXP\"], [\"WUH\", \"PEK\", \"UYN\", \"TSN\", \"XIY\", \"LYI\", \"CAN\", \"XUZ\", \"XMN\", \"KWL\"  …  \"ZYI\", \"SHA\", \"TYN\", \"TNA\", \"TYN\", \"CSX\", \"HET\", \"NZH\", \"KJA\", \"FRU\"], [\"WUH\", \"TAO\", \"RMQ\", \"HAN\", \"PVG\", \"MRU\", \"JNB\", \"BEW\", \"UEL\", \"TET\"  …  \"VIE\", \"OTP\", \"BAY\", \"OTP\", \"STN\", \"MAD\", \"CLJ\", \"TLV\", \"MRV\", \"DXB\"]], Any[13, 21, 29, 108, 34, 76, 67, 1, 16, 55  …  61, 71, 75, 186, 38, 27, 1, 81, 42, 59], Any[180, 35, 40, 60, 112, 171, 9, 166, 185, 76  …  164, 178, 41, 196, 128, 122, 26, 96, 79, 61])"
      ]
     },
     "execution_count": 68,
     "metadata": {},
     "output_type": "execute_result"
    }
   ],
   "source": [
    "france_pasa_inf2 = busca_vuelos_pasa_inf2(france_WUH_MX2, france_airp)"
   ]
  },
  {
   "cell_type": "code",
   "execution_count": 69,
   "metadata": {},
   "outputs": [
    {
     "data": {
      "text/plain": [
       "(338, Any[[\"WUH\", \"SHA\", \"URC\", \"TPE\", \"HKD\", \"TPE\", \"KOJ\", \"FSZ\", \"KOJ\", \"UKB\"  …  \"BIS\", \"LAS\", \"MEM\", \"MSP\", \"BWI\", \"CMH\", \"CLT\", \"ORF\", \"PHL\", \"PDX\"], [\"WUH\", \"SIN\", \"LOP\", \"SUB\", \"UPG\", \"DJJ\", \"UPG\", \"KUL\", \"BKK\", \"FCO\"  …  \" \", \" \", \" \", \" \", \" \", \" \", \" \", \" \", \" \", \" \"], [\"WUH\", \"HAK\", \"CGD\", \"CAN\", \"SIN\", \"TPE\", \"NRT\", \"CAN\", \"AEB\", \"CAN\"  …  \" \", \" \", \" \", \" \", \" \", \" \", \" \", \" \", \" \", \" \"], [\"WUH\", \"LYI\", \"XIY\", \"RLK\", \"HET\", \"TSN\", \"WUH\", \"HGH\", \"TAO\", \"BKK\"  …  \"SVQ\", \"PMI\", \"BRU\", \"LIS\", \"CMN\", \"RUH\", \"CCJ\", \"AAN\", \"CCJ\", \"CJB\"], [\"WUH\", \"NTG\", \"DLC\", \"CJU\", \"TSN\", \"XNN\", \"CSX\", \"BHY\", \"CKG\", \"KRL\"  …  \"CGK\", \"PEN\", \"SZB\", \"PEN\", \"CGK\", \"SIN\", \"CGK\", \"CAN\", \"TPE\", \"AKJ\"], [\"WUH\", \"CDG\", \"SPU\", \"HEL\", \"CKG\", \"JHG\", \"LPQ\", \"CNX\", \"UTH\", \"DMK\"  …  \"GLA\", \"BHD\", \"ABZ\", \"BGO\", \"SOG\", \"HOV\", \"SOG\", \"BGO\", \"AGP\", \"BGY\"], [\"WUH\", \"YCU\", \"HGH\", \"SIN\", \"REP\", \"PKZ\", \"SGN\", \"DME\", \"AGP\", \"TSF\"  …  \"HOU\", \"MCI\", \"MDW\", \"MEM\", \"SLC\", \"LGB\", \"LAS\", \"PDX\", \"OAK\", \"LIH\"], [\"WUH\", \"INC\", \"HKG\", \"KHV\", \"BQS\", \"HTA\", \"BQS\", \"VVO\", \"ICN\", \"AXT\"  …  \"BGO\", \"FDE\", \"BGO\", \"BOO\", \"SSJ\", \"OSL\", \"PUY\", \"ZAG\", \"AMS\", \"LJU\"], [\"WUH\", \"AQG\", \"PEK\", \"YIC\", \"SHA\", \"SHE\", \"TAO\", \"PEK\", \"NZH\", \"UUD\"  …  \"LHE\", \"BKK\", \"ARN\", \"OLB\", \"BLQ\", \"BCN\", \"LCG\", \"BIO\", \"SCQ\", \"BIO\"], [\"WUH\", \"HAK\", \"HFE\", \"KWL\", \"TPE\", \"WUH\", \"LZH\", \"SZX\", \"HAK\", \"SIN\"  …  \"OSL\", \"SRP\", \"MOL\", \"CPH\", \"HAU\", \"OSL\", \"KEF\", \"ZRH\", \"AYT\", \"LED\"]  …  [\"WUH\", \"LYG\", \"DLC\", \"CJU\", \"TSN\", \"NTG\", \"XMN\", \"TXN\", \"DLC\", \"CIF\"  …  \"TBZ\", \"IST\", \"AAE\", \"LYS\", \"AAE\", \"CDG\", \"KIX\", \"MYJ\", \"HND\", \"KKJ\"], [\"WUH\", \"TYN\", \"SHA\", \"KMG\", \"CGD\", \"XIY\", \"HKG\", \"AKL\", \"PER\", \"BME\"  …  \"SDR\", \"EDI\", \"VCE\", \"HAM\", \"HRG\", \"HAM\", \"SPU\", \"TXL\", \"SOF\", \"OTP\"], [\"WUH\", \"WUX\", \"TPE\", \"KMG\", \"CZX\", \"KMG\", \"DSN\", \"TYN\", \"CGQ\", \"NBS\"  …  \"NYM\", \"SVX\", \"NUX\", \"TJM\", \"EVN\", \"SCO\", \"URA\", \"SCO\", \"DME\", \"KRO\"], [\"WUH\", \"NTG\", \"CAN\", \"JIU\", \"CAN\", \"AEB\", \"CKG\", \"BFJ\", \"CKG\", \"WUX\"  …  \"CUN\", \"MAD\", \"LPL\", \"LPA\", \"EMA\", \"CDG\", \"LHR\", \"GIB\", \"LGW\", \"AJA\"], [\"WUH\", \"MFM\", \"RMQ\", \"MZG\", \"RMQ\", \"HAN\", \"CTU\", \"ICN\", \"CMB\", \"BLR\"  …  \"KLO\", \"KUL\", \"PEK\", \"LXA\", \"BPX\", \"CTU\", \"LJG\", \"SIN\", \"PER\", \"BME\"], [\"WUH\", \"URC\", \"CKG\", \"LZH\", \"SHA\", \"LCX\", \"SHA\", \"KWL\", \"KWE\", \"XNN\"  …  \"BDS\", \"BGY\", \"TSR\", \"BLQ\", \"CLJ\", \"BCN\", \"ORY\", \"MLA\", \"LIN\", \"CAG\"], [\"WUH\", \"CDG\", \"CZL\", \"NCE\", \"BCN\", \"EDI\", \"CDG\", \"CLY\", \"BOD\", \"MRS\"  …  \"BCN\", \"IST\", \"ORN\", \"FCO\", \"MXP\", \"SXF\", \"NBE\", \"ZRH\", \"ATL\", \"PNS\"], [\"WUH\", \"HGH\", \"LYI\", \"HGH\", \"BHY\", \"HAK\", \"NKG\", \"CIF\", \"HLD\", \"TGO\"  …  \"KWE\", \"WUZ\", \"KWE\", \"TYN\", \"KMG\", \"XNN\", \"ZHY\", \"PEK\", \"ISB\", \"MXP\"], [\"WUH\", \"PEK\", \"UYN\", \"TSN\", \"XIY\", \"LYI\", \"CAN\", \"XUZ\", \"XMN\", \"KWL\"  …  \"ZYI\", \"SHA\", \"TYN\", \"TNA\", \"TYN\", \"CSX\", \"HET\", \"NZH\", \"KJA\", \"FRU\"], [\"WUH\", \"TAO\", \"RMQ\", \"HAN\", \"PVG\", \"MRU\", \"JNB\", \"BEW\", \"UEL\", \"TET\"  …  \"VIE\", \"OTP\", \"BAY\", \"OTP\", \"STN\", \"MAD\", \"CLJ\", \"TLV\", \"MRV\", \"DXB\"]])"
      ]
     },
     "execution_count": 69,
     "metadata": {},
     "output_type": "execute_result"
    }
   ],
   "source": [
    "FRANCE_MX2 = busca_vuelos_INF_MX(france_pasa_inf2, france_WUH_MX2)"
   ]
  },
  {
   "cell_type": "code",
   "execution_count": null,
   "metadata": {},
   "outputs": [],
   "source": []
  },
  {
   "cell_type": "markdown",
   "metadata": {},
   "source": [
    "#### Singapore\n",
    "\n",
    "Infected person arrived from Singapore on March 11. (approx. 219 steps from WUH)"
   ]
  },
  {
   "cell_type": "code",
   "execution_count": 70,
   "metadata": {},
   "outputs": [
    {
     "data": {
      "text/plain": [
       "4-element Array{String,1}:\n",
       " \"QPG\"\n",
       " \"XSP\"\n",
       " \"SIN\"\n",
       " \"TGA\""
      ]
     },
     "execution_count": 70,
     "metadata": {},
     "output_type": "execute_result"
    }
   ],
   "source": [
    "#List of singapore airports\n",
    "singapore_airp = readdlm(\"/Users/yuriko/Documents/UNAM/Tesis_Lic/Articulo/singapore_airp.csv\", ',', String)[:,1]"
   ]
  },
  {
   "cell_type": "code",
   "execution_count": 71,
   "metadata": {
    "scrolled": false
   },
   "outputs": [
    {
     "data": {
      "text/plain": [
       "1000-element Array{Any,1}:\n",
       " [\"WUH\", \"SHA\", \"URC\", \"TPE\", \"HKD\", \"TPE\", \"KOJ\", \"FSZ\", \"KOJ\", \"UKB\"  …  \"BRU\", \"CDG\", \"BIO\", \"STR\", \"RJK\", \"HAM\", \"VIE\", \"HAM\", \"WAW\", \"ARN\"]\n",
       " [\"WUH\", \"SZX\", \"TSN\", \"SZX\", \"DYG\", \"CKG\", \"FOC\", \"CTU\", \"LZH\", \"KMG\"  …  \" \", \" \", \" \", \" \", \" \", \" \", \" \", \" \", \" \", \" \"]                    \n",
       " [\"WUH\", \"YNT\", \"HGH\", \"WUH\", \"HET\", \"NZH\", \"OVB\", \"PYJ\", \"OVB\", \"EVN\"  …  \"BHX\", \"CDG\", \"EZE\", \"USH\", \"EZE\", \"FOR\", \"RAI\", \"BJL\", \"BCN\", \"CMN\"]\n",
       " [\"WUH\", \"LZH\", \"KMG\", \"CZX\", \"FOC\", \"MFM\", \"NKG\", \"KMG\", \"BSD\", \"KMG\"  …  \"SFJ\", \"UAK\", \"SFJ\", \"GOH\", \"KEF\", \"IAD\", \"BDL\", \"LAX\", \"ZLO\", \"MEX\"]\n",
       " [\"WUH\", \"WNZ\", \"CTU\", \"KMG\", \"CNX\", \"UTH\", \"DMK\", \"NAW\", \"DMK\", \"HKG\"  …  \"ZFM\", \"YEV\", \"YGH\", \"YEV\", \"YVQ\", \"YEV\", \"YSY\", \"YHI\", \"YSY\", \"YHI\"]\n",
       " [\"WUH\", \"SIN\", \"LOP\", \"SUB\", \"UPG\", \"DJJ\", \"UPG\", \"KUL\", \"BKK\", \"FCO\"  …  \" \", \" \", \" \", \" \", \" \", \" \", \" \", \" \", \" \", \" \"]                    \n",
       " [\"WUH\", \"HAK\", \"CGD\", \"CAN\", \"SIN\", \"TPE\", \"NRT\", \"CAN\", \"AEB\", \"CAN\"  …  \" \", \" \", \" \", \" \", \" \", \" \", \" \", \" \", \" \", \" \"]                    \n",
       " [\"WUH\", \"AQG\", \"XMN\", \"HAK\", \"KMG\", \"YIC\", \"KMG\", \"KHH\", \"XMN\", \"WUS\"  …  \"DBV\", \"FRA\", \"RZE\", \"FCO\", \"BEY\", \"BAH\", \"BKK\", \"PUS\", \"MNL\", \"GUM\"]\n",
       " [\"WUH\", \"XNN\", \"URC\", \"TBS\", \"RIX\", \"AMS\", \"INN\", \"EIN\", \"AHO\", \"AOI\"  …  \"MEX\", \"IAD\", \"AUH\", \"MUC\", \"MXP\", \"KBP\", \"TFS\", \"BOD\", \"CRL\", \"PMI\"]\n",
       " [\"WUH\", \"SZX\", \"HGH\", \"HKG\", \"DMK\", \"SNO\", \"DMK\", \"KBV\", \"KUL\", \"NRT\"  …  \"TSF\", \"BUD\", \"BEG\", \"OSL\", \"NCE\", \"TRF\", \"ALC\", \"NYO\", \"PMI\", \"NTE\"]\n",
       " [\"WUH\", \"LYI\", \"XIY\", \"RLK\", \"HET\", \"TSN\", \"WUH\", \"HGH\", \"TAO\", \"BKK\"  …  \"AAY\", \"SAH\", \"AMM\", \"DMM\", \"BAH\", \"AMM\", \"MRA\", \"IST\", \"DOK\", \"LCA\"]\n",
       " [\"WUH\", \"PEK\", \"JJN\", \"HGH\", \"CAN\", \"DEL\", \"RPR\", \"CCU\", \"HYD\", \"VTZ\"  …  \"MUC\", \"KLX\", \"ARN\", \"PEK\", \"ORD\", \"GRU\", \"MGF\", \"CWB\", \"LDB\", \"VCP\"]\n",
       " [\"WUH\", \"NTG\", \"DLC\", \"CJU\", \"TSN\", \"XNN\", \"CSX\", \"BHY\", \"CKG\", \"KRL\"  …  \"ARN\", \"BEG\", \"FMM\", \"CIA\", \"BUD\", \"FRA\", \"VCE\", \"JFK\", \"MSP\", \"DCA\"]\n",
       " ⋮                                                                                                                                              \n",
       " [\"WUH\", \"CDG\", \"CLT\", \"VPS\", \"ATL\", \"CRW\", \"MYR\", \"ATL\", \"BWI\", \"CVG\"  …  \"LTX\", \"GYE\", \"LTX\", \"GYE\", \"SCY\", \"GYE\", \"CLO\", \"GPI\", \"CLO\", \"ESM\"]\n",
       " [\"WUH\", \"PUS\", \"OKA\", \"NRT\", \"SJC\", \"BUR\", \"SJC\", \"KOA\", \"PHX\", \"BWI\"  …  \"MAD\", \"DUB\", \"HEL\", \"SVX\", \"NJC\", \"OMS\", \"DME\", \"MLA\", \"TPS\", \"TRS\"]\n",
       " [\"WUH\", \"CTU\", \"AMS\", \"LTN\", \"AGP\", \"ARN\", \"OSL\", \"BOO\", \"BGO\", \"AGP\"  …  \"SKG\", \"DOK\", \"KUT\", \"DOK\", \"KBP\", \"AMM\", \"DME\", \"NYM\", \"SVX\", \"FCO\"]\n",
       " [\"WUH\", \"MFM\", \"RMQ\", \"MZG\", \"RMQ\", \"HAN\", \"CTU\", \"ICN\", \"CMB\", \"BLR\"  …  \"PHL\", \"BRU\", \"DUB\", \"MCO\", \"FLL\", \"HPN\", \"MVY\", \"HPN\", \"HYA\", \"BOS\"]\n",
       " [\"WUH\", \"URC\", \"CKG\", \"LZH\", \"SHA\", \"LCX\", \"SHA\", \"KWL\", \"KWE\", \"XNN\"  …  \"PHL\", \"AVP\", \"SFB\", \"SPI\", \" \", \" \", \" \", \" \", \" \", \" \"]            \n",
       " [\"WUH\", \"XFN\", \"PVG\", \"FRA\", \"PUJ\", \"YUL\", \"LHR\", \"MAN\", \"KGS\", \"KRK\"  …  \"AVA\", \"NAY\", \"JUH\", \"SHA\", \"LCX\", \"SHA\", \"AQG\", \"XMN\", \"SIN\", \"FRA\"]\n",
       " [\"WUH\", \"CDG\", \"CZL\", \"NCE\", \"BCN\", \"EDI\", \"CDG\", \"CLY\", \"BOD\", \"MRS\"  …  \"LEX\", \"SFB\", \"PSM\", \"SFB\", \"GFK\", \"TVF\", \"GFK\", \"AZA\", \"FAR\", \"LAS\"]\n",
       " [\"WUH\", \"HGH\", \"LYI\", \"HGH\", \"BHY\", \"HAK\", \"NKG\", \"CIF\", \"HLD\", \"TGO\"  …  \"AMS\", \"JTR\", \"MAN\", \"VIE\", \"TXL\", \"FCO\", \"CMN\", \"MUC\", \"FRA\", \"CPH\"]\n",
       " [\"WUH\", \"PEK\", \"UYN\", \"TSN\", \"XIY\", \"LYI\", \"CAN\", \"XUZ\", \"XMN\", \"KWL\"  …  \"MRV\", \"ASF\", \"SCO\", \"AKX\", \"TSE\", \"FRA\", \"KIX\", \"DOH\", \"ALG\", \"MLA\"]\n",
       " [\"WUH\", \"TAO\", \"RMQ\", \"HAN\", \"PVG\", \"MRU\", \"JNB\", \"BEW\", \"UEL\", \"TET\"  …  \"HRE\", \"JNB\", \"ACC\", \"TKD\", \"ACC\", \"ADD\", \"DMM\", \"AMM\", \"KBP\", \"TLL\"]\n",
       " [\"WUH\", \"SIN\", \"KWE\", \"FOC\", \"ZUH\", \"WUH\", \"XMN\", \"HFE\", \"HAK\", \"SWA\"  …  \"GTE\", \"DRW\", \"TSV\", \"SYD\", \"MQL\", \"ADL\", \"PUG\", \"ADL\", \"DPS\", \"NRT\"]\n",
       " [\"WUH\", \"CGQ\", \"TNA\", \"CGQ\", \"TAO\", \"NGB\", \"CJU\", \"KUV\", \"CJU\", \"CJJ\"  …  \"YIH\", \"CAN\", \"TVS\", \"PVG\", \"XIY\", \"YBP\", \"PEK\", \"ALG\", \"LIS\", \"BCN\"]"
      ]
     },
     "execution_count": 71,
     "metadata": {},
     "output_type": "execute_result"
    }
   ],
   "source": [
    "#Random walks up to 219 steps\n",
    "singapore_RW = country_steps(219, walk_names_multiplex)"
   ]
  },
  {
   "cell_type": "code",
   "execution_count": 72,
   "metadata": {},
   "outputs": [
    {
     "data": {
      "text/plain": [
       "1000×4 Array{String,2}:\n",
       " \"VIE\"  \"HAM\"  \"WAW\"  \"ARN\"\n",
       " \" \"    \" \"    \" \"    \" \"  \n",
       " \"RAI\"  \"BJL\"  \"BCN\"  \"CMN\"\n",
       " \"BDL\"  \"LAX\"  \"ZLO\"  \"MEX\"\n",
       " \"YSY\"  \"YHI\"  \"YSY\"  \"YHI\"\n",
       " \" \"    \" \"    \" \"    \" \"  \n",
       " \" \"    \" \"    \" \"    \" \"  \n",
       " \"BKK\"  \"PUS\"  \"MNL\"  \"GUM\"\n",
       " \"TFS\"  \"BOD\"  \"CRL\"  \"PMI\"\n",
       " \"ALC\"  \"NYO\"  \"PMI\"  \"NTE\"\n",
       " \"MRA\"  \"IST\"  \"DOK\"  \"LCA\"\n",
       " \"MGF\"  \"CWB\"  \"LDB\"  \"VCP\"\n",
       " \"VCE\"  \"JFK\"  \"MSP\"  \"DCA\"\n",
       " ⋮                         \n",
       " \"CLO\"  \"GPI\"  \"CLO\"  \"ESM\"\n",
       " \"DME\"  \"MLA\"  \"TPS\"  \"TRS\"\n",
       " \"DME\"  \"NYM\"  \"SVX\"  \"FCO\"\n",
       " \"MVY\"  \"HPN\"  \"HYA\"  \"BOS\"\n",
       " \" \"    \" \"    \" \"    \" \"  \n",
       " \"AQG\"  \"XMN\"  \"SIN\"  \"FRA\"\n",
       " \"GFK\"  \"AZA\"  \"FAR\"  \"LAS\"\n",
       " \"CMN\"  \"MUC\"  \"FRA\"  \"CPH\"\n",
       " \"KIX\"  \"DOH\"  \"ALG\"  \"MLA\"\n",
       " \"DMM\"  \"AMM\"  \"KBP\"  \"TLL\"\n",
       " \"PUG\"  \"ADL\"  \"DPS\"  \"NRT\"\n",
       " \"PEK\"  \"ALG\"  \"LIS\"  \"BCN\""
      ]
     },
     "execution_count": 72,
     "metadata": {},
     "output_type": "execute_result"
    }
   ],
   "source": [
    "prueba_singapore = MX_llegada(singapore_RW, 219)"
   ]
  },
  {
   "cell_type": "code",
   "execution_count": 73,
   "metadata": {},
   "outputs": [
    {
     "data": {
      "text/plain": [
       "33-element Array{Any,1}:\n",
       "   4\n",
       "  38\n",
       "  95\n",
       " 123\n",
       " 187\n",
       " 190\n",
       " 238\n",
       " 243\n",
       " 245\n",
       " 275\n",
       " 327\n",
       " 334\n",
       " 377\n",
       "   ⋮\n",
       " 590\n",
       " 596\n",
       " 648\n",
       " 732\n",
       " 812\n",
       " 824\n",
       " 858\n",
       " 861\n",
       " 879\n",
       " 902\n",
       " 910\n",
       " 948"
      ]
     },
     "execution_count": 73,
     "metadata": {},
     "output_type": "execute_result"
    }
   ],
   "source": [
    "singapore_dia = mx_dia(prueba_singapore, mx_airp)"
   ]
  },
  {
   "cell_type": "code",
   "execution_count": 74,
   "metadata": {},
   "outputs": [
    {
     "data": {
      "text/plain": [
       "220×33 Array{String,2}:\n",
       " \"WUH\"  \"WUH\"  \"WUH\"  \"WUH\"  \"WUH\"  …  \"WUH\"  \"WUH\"  \"WUH\"  \"WUH\"  \"WUH\"\n",
       " \"LZH\"  \"FOC\"  \"TNA\"  \"SIN\"  \"SZX\"     \"JJN\"  \"DLC\"  \"WNZ\"  \"TPE\"  \"XFN\"\n",
       " \"KMG\"  \"HRB\"  \"WUS\"  \"AMS\"  \"LZO\"     \"SZX\"  \"CGO\"  \"TAO\"  \"WUH\"  \"SZX\"\n",
       " \"CZX\"  \"NAY\"  \"HKG\"  \"IKA\"  \"XIY\"     \"HFE\"  \"KWL\"  \"JXA\"  \"TAO\"  \"DPS\"\n",
       " \"FOC\"  \"UYN\"  \"BNE\"  \"TAS\"  \"NGB\"     \"YNT\"  \"SHE\"  \"HRB\"  \"NDG\"  \"PHE\"\n",
       " \"MFM\"  \"KMG\"  \"PQQ\"  \"BHK\"  \"LJG\"  …  \"TNA\"  \"FUK\"  \"JXA\"  \"PVG\"  \"MEL\"\n",
       " \"NKG\"  \"HAK\"  \"BNE\"  \"DME\"  \"TYN\"     \"CGO\"  \"CTS\"  \"SHE\"  \"CDG\"  \"PER\"\n",
       " \"KMG\"  \"SIN\"  \"ICN\"  \"TJU\"  \"XMN\"     \"CTU\"  \"BKK\"  \"MFM\"  \"TLS\"  \"CBR\"\n",
       " \"BSD\"  \"KUA\"  \"CSX\"  \"CIT\"  \"CIH\"     \"XMN\"  \"MUC\"  \"XMN\"  \"ATH\"  \"PER\"\n",
       " \"KMG\"  \"SIN\"  \"DSN\"  \"ALA\"  \"WUH\"     \"HSN\"  \"IST\"  \"TSA\"  \"CAI\"  \"EPR\"\n",
       " \"BKK\"  \"CDG\"  \"WUH\"  \"GUW\"  \"LZH\"  …  \"XMN\"  \"BLQ\"  \"MZG\"  \"AMS\"  \"PER\"\n",
       " \"DAC\"  \"CTA\"  \"HRB\"  \"URA\"  \"SZX\"     \"SZX\"  \"SVQ\"  \"TSA\"  \"SAW\"  \"PHE\"\n",
       " \"ZYL\"  \"MRS\"  \"ICN\"  \"SCO\"  \"TYN\"     \"HIA\"  \"STN\"  \"TSN\"  \"ERZ\"  \"PER\"\n",
       " ⋮                                  ⋱                ⋮                  \n",
       " \"JAV\"  \"GDL\"  \"HAV\"  \"DAC\"  \"MXP\"     \"PVD\"  \"YPJ\"  \"SQS\"  \"MCO\"  \"FAO\"\n",
       " \"JEG\"  \"LAP\"  \"MEX\"  \"IST\"  \"BCN\"     \"CLT\"  \"YTQ\"  \"BZE\"  \"MHH\"  \"CRL\"\n",
       " \"SFJ\"  \"MZT\"  \"CPE\"  \"ORD\"  \"TUN\"  …  \"JAX\"  \"YPJ\"  \"PLJ\"  \"JAX\"  \"BLQ\"\n",
       " \"UAK\"  \"LAP\"  \"MEX\"  \"SAN\"  \"NCE\"     \"BWI\"  \"YVP\"  \"BZE\"  \"ORD\"  \"CDG\"\n",
       " \"SFJ\"  \"MZT\"  \"AUS\"  \"DCA\"  \"FRA\"     \"LAS\"  \"YUL\"  \"TZA\"  \"PHL\"  \"SFO\"\n",
       " \"GOH\"  \"LAP\"  \"CUN\"  \"PHL\"  \"YVR\"     \"BIL\"  \"CCC\"  \"SQS\"  \"ORD\"  \"JFK\"\n",
       " \"KEF\"  \"MTY\"  \"QRO\"  \"PVD\"  \"LIH\"     \"LAS\"  \"YYZ\"  \"BZE\"  \"MAD\"  \"MEX\"\n",
       " \"IAD\"  \"OAX\"  \"TIJ\"  \"CLT\"  \"SFO\"  …  \"MDW\"  \"LIR\"  \"SAP\"  \"EWR\"  \"AGU\"\n",
       " \"BDL\"  \"MEX\"  \"CLQ\"  \"SJD\"  \"SJD\"     \"SLC\"  \"MIA\"  \"SAL\"  \"SJD\"  \"MEX\"\n",
       " \"LAX\"  \"EZE\"  \"TIJ\"  \"PHX\"  \"ATL\"     \"ONT\"  \"CUN\"  \"BOG\"  \"LAX\"  \"CDG\"\n",
       " \"ZLO\"  \"FCO\"  \"CUL\"  \"MCO\"  \"SFO\"     \"GDL\"  \"MIA\"  \"CUN\"  \"YYC\"  \"LPA\"\n",
       " \"MEX\"  \"LWO\"  \"SJD\"  \"IND\"  \"PEK\"     \"HMO\"  \"STX\"  \"MXP\"  \"YXJ\"  \"PIK\""
      ]
     },
     "execution_count": 74,
     "metadata": {},
     "output_type": "execute_result"
    }
   ],
   "source": [
    "singapore_N_RW = filtro_mx(singapore_dia, singapore_RW)"
   ]
  },
  {
   "cell_type": "code",
   "execution_count": 75,
   "metadata": {},
   "outputs": [
    {
     "data": {
      "text/plain": [
       "(117, Any[[\"BSD\", \"KUA\", \"CSX\", \"CIT\", \"CIH\", \"TYN\", \"MNG\", \"MEL\", \"HFE\", \"GDL\"  …  \"PKU\", \"LYA\", \"KWL\", \"HGH\", \"MUC\", \"XMN\", \"MUC\", \"XMN\", \"ATH\", \"PER\"], [\"KMG\", \"SIN\", \"DSN\", \"ALA\", \"WUH\", \"TXN\", \"ELC\", \"SYD\", \"LHW\", \"VSA\"  …  \"JOG\", \"DLC\", \"SYX\", \"HKT\", \"DEL\", \"HSN\", \"IST\", \"TSA\", \"CAI\", \"EPR\"], [\"BKK\", \"CDG\", \"WUH\", \"GUW\", \"LZH\", \"TSN\", \"MNG\", \"NRA\", \"CSX\", \"MID\"  …  \"CGK\", \"NKG\", \"TPE\", \"DMK\", \"CCU\", \"XMN\", \"BLQ\", \"MZG\", \"AMS\", \"PER\"], [\"DAC\", \"CTA\", \"HRB\", \"URA\", \"SZX\", \"NTG\", \"DRW\", \"SYD\", \"HRB\", \"VSA\"  …  \"SRG\", \"KWE\", \"ICN\", \"NGB\", \"HYD\", \"SZX\", \"SVQ\", \"TSA\", \"SAW\", \"PHE\"], [\"ZYL\", \"MRS\", \"ICN\", \"SCO\", \"TYN\", \"TSN\", \"TSV\", \"RAR\", \"NGB\", \"CUN\"  …  \"SIN\", \"YIH\", \"CRK\", \"SHE\", \"IXM\", \"HIA\", \"STN\", \"TSN\", \"ERZ\", \"PER\"], [\"DAC\", \"TXL\", \"RGN\", \"KRR\", \"NKG\", \"YNT\", \"BNE\", \"SYD\", \"WUH\", \"OAX\"  …  \"NKG\", \"NGB\", \"MFM\", \"YNZ\", \"MAA\", \"CKG\", \"CIA\", \"DSN\", \"SAW\", \"HKG\"], [\"FCO\", \"ATH\", \"TPE\", \"FRU\", \"KMG\", \"CSX\", \"ADL\", \"NLK\", \"HET\", \"MTY\"  …  \"KHN\", \"TAO\", \"WUX\", \"NTG\", \"DMM\", \"WUH\", \"EIN\", \"PEK\", \"FRA\", \"KHH\"], [\"GYD\", \"EFL\", \"HNL\", \"KZN\", \"HKT\", \"LLF\", \"MEL\", \"AKL\", \"SJW\", \"TAM\"  …  \"CGO\", \"HRB\", \"CSX\", \"SZX\", \"AMS\", \"DLC\", \"PSA\", \"NAO\", \"ADD\", \"NRT\"], [\"IKA\", \"STN\", \"PEK\", \"FRU\", \"CGK\", \"CSX\", \"ZQN\", \"LAX\", \"YNT\", \"VER\"  …  \"HKG\", \"NZH\", \"JJN\", \"TAO\", \"SFB\", \"WUX\", \"VLC\", \"KMG\", \"PVG\", \"KHV\"], [\"KUL\", \"SZZ\", \"FOC\", \"SVO\", \"TNJ\", \"HRB\", \"AKL\", \"MFR\", \"SHE\", \"MEX\"  …  \"SIN\", \"IKT\", \"CAN\", \"HET\", \"OKC\", \"WUH\", \"MRS\", \"ICN\", \"DAD\", \"IKT\"]  …  [\"SFJ\", \"MZT\", \"CPE\", \"ORD\", \"TUN\", \"SUB\", \"TFS\", \"DME\", \"RDU\", \"SAV\"  …  \"SHJ\", \"VRA\", \"KBP\", \"OGG\", \"TAS\", \"JAX\", \"YPJ\", \"PLJ\", \"JAX\", \"BLQ\"], [\"UAK\", \"LAP\", \"MEX\", \"SAN\", \"NCE\", \"JOG\", \"ALC\", \"IAH\", \"MSP\", \"CLT\"  …  \"BAH\", \"CUN\", \"JFK\", \"PDX\", \"ALA\", \"BWI\", \"YVP\", \"BZE\", \"ORD\", \"CDG\"], [\"SFJ\", \"MZT\", \"AUS\", \"DCA\", \"FRA\", \"DPS\", \"BHX\", \"SJU\", \"RDU\", \"BTR\"  …  \"SAH\", \"YEG\", \"SDF\", \"DEN\", \"HKG\", \"LAS\", \"YUL\", \"TZA\", \"PHL\", \"SFO\"], [\"GOH\", \"LAP\", \"CUN\", \"PHL\", \"YVR\", \"HND\", \"DEL\", \"PHL\", \"DEN\", \"ATL\"  …  \"DOH\", \"YXY\", \"CLT\", \"ABQ\", \"FCO\", \"BIL\", \"CCC\", \"SQS\", \"ORD\", \"JFK\"], [\"KEF\", \"MTY\", \"QRO\", \"PVD\", \"LIH\", \"KUL\", \"NRT\", \"PHX\", \"MEX\", \"ILM\"  …  \"IAH\", \"YZF\", \"RDU\", \"DAL\", \"GRU\", \"LAS\", \"YYZ\", \"BZE\", \"MAD\", \"MEX\"], [\"IAD\", \"OAX\", \"TIJ\", \"CLT\", \"SFO\", \"ICN\", \"DFW\", \"IAH\", \"GDL\", \"CLT\"  …  \"SNA\", \"YSG\", \"DEN\", \"OKC\", \"MAO\", \"MDW\", \"LIR\", \"SAP\", \"EWR\", \"AGU\"], [\"BDL\", \"MEX\", \"CLQ\", \"SJD\", \"SJD\", \"SFO\", \"CZM\", \"SJD\", \"MDW\", \"CZM\"  …  \"MSP\", \"YZF\", \"SJC\", \"MDW\", \"PTY\", \"SLC\", \"MIA\", \"SAL\", \"SJD\", \"MEX\"], [\"LAX\", \"EZE\", \"TIJ\", \"PHX\", \"ATL\", \"MLM\", \"MIA\", \"TLC\", \"OMA\", \"MIA\"  …  \"CMH\", \"YEG\", \"MSP\", \"BJX\", \"DFW\", \"ONT\", \"CUN\", \"BOG\", \"LAX\", \"CDG\"], [\"ZLO\", \"FCO\", \"CUL\", \"MCO\", \"SFO\", \"TIJ\", \"CTG\", \"PVR\", \"MDW\", \"ORD\"  …  \"MDW\", \"PVR\", \"CUN\", \"LAX\", \"MTY\", \"GDL\", \"MIA\", \"CUN\", \"YYC\", \"LPA\"], [\"MEX\", \"LWO\", \"SJD\", \"IND\", \"PEK\", \"CUN\", \"JFK\", \"LAX\", \"GDL\", \"PSP\"  …  \"BJX\", \"MEX\", \"CDG\", \"CVG\", \"CUU\", \"HMO\", \"STX\", \"MXP\", \"YXJ\", \"PIK\"]], Any[10, 10, 10, 10, 10, 10, 10, 10, 10, 10  …  2, 2, 2, 2, 2, 2, 2, 3, 1, 1])"
      ]
     },
     "execution_count": 75,
     "metadata": {},
     "output_type": "execute_result"
    }
   ],
   "source": [
    "singapore_WUH_MX = busca_vuelos_WUH_MX(singapore_N_RW, mx_airp)"
   ]
  },
  {
   "cell_type": "code",
   "execution_count": 76,
   "metadata": {},
   "outputs": [
    {
     "data": {
      "text/plain": [
       "(19, Any[[\"KMG\", \"SIN\", \"DSN\", \"ALA\", \"WUH\", \"TXN\", \"ELC\", \"SYD\", \"LHW\", \"VSA\"  …  \"JOG\", \"DLC\", \"SYX\", \"HKT\", \"DEL\", \"HSN\", \"IST\", \"TSA\", \"CAI\", \"EPR\"], [\"ZYL\", \"MRS\", \"ICN\", \"SCO\", \"TYN\", \"TSN\", \"TSV\", \"RAR\", \"NGB\", \"CUN\"  …  \"SIN\", \"YIH\", \"CRK\", \"SHE\", \"IXM\", \"HIA\", \"STN\", \"TSN\", \"ERZ\", \"PER\"], [\"KUL\", \"SZZ\", \"FOC\", \"SVO\", \"TNJ\", \"HRB\", \"AKL\", \"MFR\", \"SHE\", \"MEX\"  …  \"SIN\", \"IKT\", \"CAN\", \"HET\", \"OKC\", \"WUH\", \"MRS\", \"ICN\", \"DAD\", \"IKT\"], [\"SBW\", \"DUB\", \"SZX\", \"GVA\", \"CGK\", \"YNT\", \"APW\", \"LAS\", \"KIX\", \"CPE\"  …  \"REP\", \"KJA\", \"REP\", \"PEK\", \"DAL\", \"CDG\", \"AGA\", \"TAO\", \"PXU\", \"TAS\"], [\"KUL\", \"LHR\", \"DLC\", \"ALG\", \"TJQ\", \"CAN\", \"HNL\", \"MFR\", \"NOU\", \"MEX\"  …  \"KOS\", \"SVO\", \"SIN\", \"ZHA\", \"TUL\", \"DXB\", \"ORY\", \"KMG\", \"DAD\", \"LHR\"], [\"DPS\", \"HAJ\", \"CJU\", \"MAD\", \"CGK\", \"YTY\", \"ANC\", \"LAS\", \"AKL\", \"CPE\"  …  \"REP\", \"LCA\", \"SZB\", \"NAY\", \"LAS\", \"BEY\", \"MPL\", \"KTM\", \"SIN\", \"SEA\"], [\"KUS\", \"DUS\", \"HKG\", \"SIN\", \"CHC\", \"IAD\", \"YAK\", \"MEX\", \"OAG\", \"MEX\"  …  \"MTY\", \"FRU\", \"HAJ\", \"CGK\", \"MDT\", \"HIA\", \"SKP\", \"LYG\", \"BME\", \"LAS\"], [\"OBY\", \"NYA\", \"HAN\", \"KTM\", \"RAR\", \"HOU\", \"SEA\", \"CID\", \"SIN\", \"ADK\"  …  \"MTY\", \"SVO\", \"LHR\", \"LZH\", \"FLL\", \"CKG\", \"BCN\", \"XFN\", \"BNE\", \"SFB\"], [\"OBY\", \"FRU\", \"DLI\", \"BKK\", \"RAR\", \"ATL\", \"PHL\", \"SBN\", \"AUH\", \"LAS\"  …  \"CUN\", \"SHJ\", \"LHR\", \"SZX\", \"MYR\", \"YNZ\", \"MSQ\", \"SIN\", \"BNE\", \"ATL\"], [\"IOQ\", \"ICN\", \"KIX\", \"MCT\", \"LSY\", \"FRA\", \"GVA\", \"DMK\", \"LRS\", \"BUD\"  …  \"TMU\", \"RUH\", \"SYD\", \"MEX\", \"BUD\", \"TUS\", \"MAN\", \"BND\", \"PRG\", \"MNL\"], [\"IOQ\", \"PKC\", \"FUK\", \"DWC\", \"SUV\", \"ARN\", \"LTN\", \"DMK\", \"SKU\", \"ATH\"  …  \"DRK\", \"IKA\", \"DUD\", \"MEX\", \"YYZ\", \"YXE\", \"LBA\", \"KER\", \"JED\", \"YVR\"], [\"AGM\", \"PYJ\", \"MEL\", \"URC\", \"SIN\", \"MUC\", \"WMN\", \"FSZ\", \"GRU\", \"ORD\"  …  \"ATL\", \"ZRH\", \"LAX\", \"DFW\", \"AUS\", \"CAN\", \"FAE\", \"THR\", \"KHI\", \"YMM\"], [\"KUZ\", \"DME\", \"AVA\", \"TAO\", \"SIN\", \"NYO\", \"TMM\", \"DTW\", \"GDL\", \"HPN\"  …  \"TYS\", \"KNX\", \"RAP\", \"BON\", \"PHX\", \"CGO\", \"BGO\", \"DXB\", \"PNQ\", \"IAH\"], [\"AGM\", \"SAH\", \"SYX\", \"HOU\", \"HRE\", \"DAC\", \"GUM\", \"CIT\", \"STR\", \"CPH\"  …  \"INC\", \"SIN\", \"BHX\", \"CDG\", \"PHX\", \"CDG\", \"COR\", \"VSA\", \"IXD\", \"MDW\"], [\"AGM\", \"HRE\", \"KWE\", \"KEF\", \"NBO\", \"CMN\", \"SZX\", \"HKG\", \"CGN\", \"PUJ\"  …  \"ALA\", \"WUX\", \"NBE\", \"MLE\", \"SFO\", \"BTS\", \"AEP\", \"REX\", \"IXD\", \"ATL\"], [\"KUS\", \"SVO\", \"WNZ\", \"LRM\", \"HER\", \"MRS\", \"OSS\", \"PNP\", \"FLW\", \"DMU\"  …  \"AUH\", \"KOE\", \"SIN\", \"CKG\", \"SZX\", \"PEK\", \"VIE\", \"BKO\", \"RHO\", \"HAV\"], [\"IOQ\", \"ARN\", \"SIN\", \"YUL\", \"NYO\", \"LGB\", \"ALA\", \"BNE\", \"LPA\", \"AMD\"  …  \"AUH\", \"UPG\", \"HAM\", \"CSX\", \"SZX\", \"TSF\", \"BBK\", \"OUZ\", \"BSL\", \"JOS\"], [\"CNP\", \"CUN\", \"KPO\", \"MED\", \"FUK\", \"SVX\", \"AMS\", \"SIN\", \"BVC\", \"LTN\"  …  \"DEN\", \"SHA\", \"MCO\", \"DLM\", \"HAK\", \"AGP\", \"MII\", \"CGN\", \"ALC\", \"GOT\"], [\"SFJ\", \"LAX\", \"NRT\", \"HAS\", \"GRO\", \"SIN\", \"ORD\", \"ICN\", \"PSP\", \"PHL\"  …  \"MZV\", \"DFW\", \"TPA\", \"SYD\", \"SIP\", \"DFW\", \"YPX\", \"YYZ\", \"YYR\", \"INV\"]], Any[1, 23, 23, 17, 25, 31, 3, 8, 30, 22, 22, 4, 4, 24, 22, 25, 2, 7, 5], Any[10, 10, 10, 10, 10, 10, 8, 24, 24, 27, 27, 15, 9, 31, 31, 19, 19, 2, 18])"
      ]
     },
     "execution_count": 76,
     "metadata": {},
     "output_type": "execute_result"
    }
   ],
   "source": [
    "singapore_pasa_inf = busca_vuelos_pasa_inf(singapore_WUH_MX, singapore_airp)"
   ]
  },
  {
   "cell_type": "code",
   "execution_count": 77,
   "metadata": {},
   "outputs": [
    {
     "data": {
      "text/plain": [
       "(11, Any[[\"KMG\", \"SIN\", \"DSN\", \"ALA\", \"WUH\", \"TXN\", \"ELC\", \"SYD\", \"LHW\", \"VSA\"  …  \"JOG\", \"DLC\", \"SYX\", \"HKT\", \"DEL\", \"HSN\", \"IST\", \"TSA\", \"CAI\", \"EPR\"], [\"KUS\", \"DUS\", \"HKG\", \"SIN\", \"CHC\", \"IAD\", \"YAK\", \"MEX\", \"OAG\", \"MEX\"  …  \"MTY\", \"FRU\", \"HAJ\", \"CGK\", \"MDT\", \"HIA\", \"SKP\", \"LYG\", \"BME\", \"LAS\"], [\"OBY\", \"NYA\", \"HAN\", \"KTM\", \"RAR\", \"HOU\", \"SEA\", \"CID\", \"SIN\", \"ADK\"  …  \"MTY\", \"SVO\", \"LHR\", \"LZH\", \"FLL\", \"CKG\", \"BCN\", \"XFN\", \"BNE\", \"SFB\"], [\"IOQ\", \"ICN\", \"KIX\", \"MCT\", \"LSY\", \"FRA\", \"GVA\", \"DMK\", \"LRS\", \"BUD\"  …  \"TMU\", \"RUH\", \"SYD\", \"MEX\", \"BUD\", \"TUS\", \"MAN\", \"BND\", \"PRG\", \"MNL\"], [\"IOQ\", \"PKC\", \"FUK\", \"DWC\", \"SUV\", \"ARN\", \"LTN\", \"DMK\", \"SKU\", \"ATH\"  …  \"DRK\", \"IKA\", \"DUD\", \"MEX\", \"YYZ\", \"YXE\", \"LBA\", \"KER\", \"JED\", \"YVR\"], [\"AGM\", \"PYJ\", \"MEL\", \"URC\", \"SIN\", \"MUC\", \"WMN\", \"FSZ\", \"GRU\", \"ORD\"  …  \"ATL\", \"ZRH\", \"LAX\", \"DFW\", \"AUS\", \"CAN\", \"FAE\", \"THR\", \"KHI\", \"YMM\"], [\"KUZ\", \"DME\", \"AVA\", \"TAO\", \"SIN\", \"NYO\", \"TMM\", \"DTW\", \"GDL\", \"HPN\"  …  \"TYS\", \"KNX\", \"RAP\", \"BON\", \"PHX\", \"CGO\", \"BGO\", \"DXB\", \"PNQ\", \"IAH\"], [\"AGM\", \"SAH\", \"SYX\", \"HOU\", \"HRE\", \"DAC\", \"GUM\", \"CIT\", \"STR\", \"CPH\"  …  \"INC\", \"SIN\", \"BHX\", \"CDG\", \"PHX\", \"CDG\", \"COR\", \"VSA\", \"IXD\", \"MDW\"], [\"AGM\", \"HRE\", \"KWE\", \"KEF\", \"NBO\", \"CMN\", \"SZX\", \"HKG\", \"CGN\", \"PUJ\"  …  \"ALA\", \"WUX\", \"NBE\", \"MLE\", \"SFO\", \"BTS\", \"AEP\", \"REX\", \"IXD\", \"ATL\"], [\"IOQ\", \"ARN\", \"SIN\", \"YUL\", \"NYO\", \"LGB\", \"ALA\", \"BNE\", \"LPA\", \"AMD\"  …  \"AUH\", \"UPG\", \"HAM\", \"CSX\", \"SZX\", \"TSF\", \"BBK\", \"OUZ\", \"BSL\", \"JOS\"], [\"SFJ\", \"LAX\", \"NRT\", \"HAS\", \"GRO\", \"SIN\", \"ORD\", \"ICN\", \"PSP\", \"PHL\"  …  \"MZV\", \"DFW\", \"TPA\", \"SYD\", \"SIP\", \"DFW\", \"YPX\", \"YYZ\", \"YYR\", \"INV\"]])"
      ]
     },
     "execution_count": 77,
     "metadata": {},
     "output_type": "execute_result"
    }
   ],
   "source": [
    "SINGAPORE_MX = busca_vuelos_INF_MX(singapore_pasa_inf, singapore_WUH_MX)"
   ]
  },
  {
   "cell_type": "markdown",
   "metadata": {},
   "source": [
    "#### Type 2"
   ]
  },
  {
   "cell_type": "code",
   "execution_count": 78,
   "metadata": {},
   "outputs": [
    {
     "data": {
      "text/plain": [
       "(571, Any[Any[[\"WUH\", \"SHA\", \"URC\", \"TPE\", \"HKD\", \"TPE\", \"KOJ\", \"FSZ\", \"KOJ\", \"UKB\"  …  \"BRU\", \"CDG\", \"BIO\", \"STR\", \"RJK\", \"HAM\", \"VIE\", \"HAM\", \"WAW\", \"ARN\"]], Any[[\"WUH\", \"LZH\", \"KMG\", \"CZX\", \"FOC\", \"MFM\", \"NKG\", \"KMG\", \"BSD\", \"KMG\"  …  \"SFJ\", \"UAK\", \"SFJ\", \"GOH\", \"KEF\", \"IAD\", \"BDL\", \"LAX\", \"ZLO\", \"MEX\"]], Any[[\"WUH\", \"SIN\", \"LOP\", \"SUB\", \"UPG\", \"DJJ\", \"UPG\", \"KUL\", \"BKK\", \"FCO\"  …  \" \", \" \", \" \", \" \", \" \", \" \", \" \", \" \", \" \", \" \"]], Any[[\"WUH\", \"HAK\", \"CGD\", \"CAN\", \"SIN\", \"TPE\", \"NRT\", \"CAN\", \"AEB\", \"CAN\"  …  \" \", \" \", \" \", \" \", \" \", \" \", \" \", \" \", \" \", \" \"]], Any[[\"WUH\", \"XNN\", \"URC\", \"TBS\", \"RIX\", \"AMS\", \"INN\", \"EIN\", \"AHO\", \"AOI\"  …  \"MEX\", \"IAD\", \"AUH\", \"MUC\", \"MXP\", \"KBP\", \"TFS\", \"BOD\", \"CRL\", \"PMI\"]], Any[[\"WUH\", \"SZX\", \"HGH\", \"HKG\", \"DMK\", \"SNO\", \"DMK\", \"KBV\", \"KUL\", \"NRT\"  …  \"TSF\", \"BUD\", \"BEG\", \"OSL\", \"NCE\", \"TRF\", \"ALC\", \"NYO\", \"PMI\", \"NTE\"]], Any[[\"WUH\", \"LYI\", \"XIY\", \"RLK\", \"HET\", \"TSN\", \"WUH\", \"HGH\", \"TAO\", \"BKK\"  …  \"AAY\", \"SAH\", \"AMM\", \"DMM\", \"BAH\", \"AMM\", \"MRA\", \"IST\", \"DOK\", \"LCA\"]], Any[[\"WUH\", \"NTG\", \"DLC\", \"CJU\", \"TSN\", \"XNN\", \"CSX\", \"BHY\", \"CKG\", \"KRL\"  …  \"ARN\", \"BEG\", \"FMM\", \"CIA\", \"BUD\", \"FRA\", \"VCE\", \"JFK\", \"MSP\", \"DCA\"]], Any[[\"WUH\", \"NNG\", \"PEK\", \"MRU\", \"LHR\", \"JFK\", \"STL\", \"LAX\", \"ZLO\", \"LAX\"  …  \"KHI\", \"DOH\", \"KIX\", \"HAN\", \"KIX\", \"SGN\", \"REP\", \"CAN\", \"NBO\", \"ICN\"]], Any[[\"WUH\", \"CDG\", \"SPU\", \"HEL\", \"CKG\", \"JHG\", \"LPQ\", \"CNX\", \"UTH\", \"DMK\"  …  \"AMM\", \"KWI\", \"AMS\", \"BGO\", \"FAE\", \"SVG\", \"KRK\", \"NYO\", \"RJK\", \"HAM\"]]  …  Any[[\"WUH\", \"TYN\", \"SHA\", \"KMG\", \"CGD\", \"XIY\", \"HKG\", \"AKL\", \"PER\", \"BME\"  …  \"AMS\", \"EBL\", \"SHJ\", \"IXE\", \"BLR\", \"JED\", \"KAN\", \"ABV\", \"ADD\", \"JED\"]], Any[[\"WUH\", \"WUX\", \"TPE\", \"KMG\", \"CZX\", \"KMG\", \"DSN\", \"TYN\", \"CGQ\", \"NBS\"  …  \"BUD\", \"EIN\", \"CTA\", \"BSL\", \"BDS\", \"BVA\", \"KRK\", \"HEL\", \"TXL\", \"HEL\"]], Any[[\"WUH\", \"LYG\", \"DLC\", \"SJW\", \"SZX\", \"SHA\", \"CIH\", \"HAK\", \"HKG\", \"ZHA\"  …  \"LAX\", \"BZE\", \"FRS\", \"GUA\", \"ATL\", \"LAX\", \"RAR\", \"AIT\", \"AIU\", \"RAR\"]], Any[[\"WUH\", \"NTG\", \"CAN\", \"JIU\", \"CAN\", \"AEB\", \"CKG\", \"BFJ\", \"CKG\", \"WUX\"  …  \"LYS\", \"DUB\", \"EDI\", \"HER\", \"MUC\", \"CDG\", \"SCQ\", \"BIO\", \"LPA\", \"MAD\"]], Any[[\"WUH\", \"MFM\", \"RMQ\", \"MZG\", \"RMQ\", \"HAN\", \"CTU\", \"ICN\", \"CMB\", \"BLR\"  …  \"PHL\", \"BRU\", \"DUB\", \"MCO\", \"FLL\", \"HPN\", \"MVY\", \"HPN\", \"HYA\", \"BOS\"]], Any[[\"WUH\", \"URC\", \"CKG\", \"LZH\", \"SHA\", \"LCX\", \"SHA\", \"KWL\", \"KWE\", \"XNN\"  …  \"PHL\", \"AVP\", \"SFB\", \"SPI\", \" \", \" \", \" \", \" \", \" \", \" \"]], Any[[\"WUH\", \"CDG\", \"CZL\", \"NCE\", \"BCN\", \"EDI\", \"CDG\", \"CLY\", \"BOD\", \"MRS\"  …  \"LEX\", \"SFB\", \"PSM\", \"SFB\", \"GFK\", \"TVF\", \"GFK\", \"AZA\", \"FAR\", \"LAS\"]], Any[[\"WUH\", \"HGH\", \"LYI\", \"HGH\", \"BHY\", \"HAK\", \"NKG\", \"CIF\", \"HLD\", \"TGO\"  …  \"AMS\", \"JTR\", \"MAN\", \"VIE\", \"TXL\", \"FCO\", \"CMN\", \"MUC\", \"FRA\", \"CPH\"]], Any[[\"WUH\", \"PEK\", \"UYN\", \"TSN\", \"XIY\", \"LYI\", \"CAN\", \"XUZ\", \"XMN\", \"KWL\"  …  \"MRV\", \"ASF\", \"SCO\", \"AKX\", \"TSE\", \"FRA\", \"KIX\", \"DOH\", \"ALG\", \"MLA\"]], Any[[\"WUH\", \"TAO\", \"RMQ\", \"HAN\", \"PVG\", \"MRU\", \"JNB\", \"BEW\", \"UEL\", \"TET\"  …  \"HRE\", \"JNB\", \"ACC\", \"TKD\", \"ACC\", \"ADD\", \"DMM\", \"AMM\", \"KBP\", \"TLL\"]]], Any[180, 219, 35, 40, 211, 60, 112, 171, 9, 166  …  164, 178, 41, 196, 128, 122, 26, 96, 79, 61])"
      ]
     },
     "execution_count": 78,
     "metadata": {},
     "output_type": "execute_result"
    }
   ],
   "source": [
    "singapore_WUH_MX2 = busca_vuelos_WUH_MX2(singapore_RW, mx_airp)"
   ]
  },
  {
   "cell_type": "code",
   "execution_count": 79,
   "metadata": {},
   "outputs": [
    {
     "data": {
      "text/plain": [
       "(316, Any[[\"WUH\", \"LZH\", \"KMG\", \"CZX\", \"FOC\", \"MFM\", \"NKG\", \"KMG\", \"BSD\", \"KMG\"  …  \"SFJ\", \"UAK\", \"SFJ\", \"GOH\", \"KEF\", \"IAD\", \"BDL\", \"LAX\", \"ZLO\", \"MEX\"], [\"WUH\", \"SIN\", \"LOP\", \"SUB\", \"UPG\", \"DJJ\", \"UPG\", \"KUL\", \"BKK\", \"FCO\"  …  \" \", \" \", \" \", \" \", \" \", \" \", \" \", \" \", \" \", \" \"], [\"WUH\", \"HAK\", \"CGD\", \"CAN\", \"SIN\", \"TPE\", \"NRT\", \"CAN\", \"AEB\", \"CAN\"  …  \" \", \" \", \" \", \" \", \" \", \" \", \" \", \" \", \" \", \" \"], [\"WUH\", \"SZX\", \"HGH\", \"HKG\", \"DMK\", \"SNO\", \"DMK\", \"KBV\", \"KUL\", \"NRT\"  …  \"TSF\", \"BUD\", \"BEG\", \"OSL\", \"NCE\", \"TRF\", \"ALC\", \"NYO\", \"PMI\", \"NTE\"], [\"WUH\", \"NTG\", \"DLC\", \"CJU\", \"TSN\", \"XNN\", \"CSX\", \"BHY\", \"CKG\", \"KRL\"  …  \"ARN\", \"BEG\", \"FMM\", \"CIA\", \"BUD\", \"FRA\", \"VCE\", \"JFK\", \"MSP\", \"DCA\"], [\"WUH\", \"NNG\", \"PEK\", \"MRU\", \"LHR\", \"JFK\", \"STL\", \"LAX\", \"ZLO\", \"LAX\"  …  \"KHI\", \"DOH\", \"KIX\", \"HAN\", \"KIX\", \"SGN\", \"REP\", \"CAN\", \"NBO\", \"ICN\"], [\"WUH\", \"CDG\", \"SPU\", \"HEL\", \"CKG\", \"JHG\", \"LPQ\", \"CNX\", \"UTH\", \"DMK\"  …  \"AMM\", \"KWI\", \"AMS\", \"BGO\", \"FAE\", \"SVG\", \"KRK\", \"NYO\", \"RJK\", \"HAM\"], [\"WUH\", \"YCU\", \"HGH\", \"SIN\", \"REP\", \"PKZ\", \"SGN\", \"DME\", \"AGP\", \"TSF\"  …  \"YVR\", \"YOW\", \"YEG\", \"YHM\", \"YHZ\", \"YYC\", \"EWR\", \"ANU\", \"YYZ\", \"SJU\"], [\"WUH\", \"HAK\", \"HFE\", \"KWL\", \"TPE\", \"WUH\", \"LZH\", \"SZX\", \"HAK\", \"SIN\"  …  \"CKY\", \"DKR\", \"CKY\", \"OXB\", \"RAI\", \"BVC\", \"MAN\", \"LAS\", \"BZN\", \"DEN\"], [\"WUH\", \"LYG\", \"FOC\", \"CTU\", \"KOW\", \"SZX\", \"RMQ\", \"KIX\", \"PEK\", \"JDZ\"  …  \"STL\", \"DFW\", \"PNS\", \"HOU\", \"STL\", \"BRL\", \"STL\", \"PUJ\", \"STL\", \"GRR\"]  …  [\"WUH\", \"HKG\", \"ICN\", \"OKA\", \"UEO\", \"OKA\", \"PUS\", \"KLO\", \"CEB\", \"SIN\"  …  \"LIR\", \"CLT\", \"CLE\", \"MSP\", \"MDW\", \"MEM\", \"HOU\", \"BWI\", \"SFO\", \"DTW\"], [\"WUH\", \"PUS\", \"SHE\", \"HFE\", \"TPE\", \"CTS\", \"HND\", \"HKG\", \"CDG\", \"AAE\"  …  \"JSU\", \"SFJ\", \"CPH\", \"PRG\", \"LHR\", \"ZRH\", \"MAD\", \"FLR\", \"BRU\", \"TSF\"], [\"WUH\", \"LYG\", \"DLC\", \"SJW\", \"SZX\", \"SHA\", \"CIH\", \"HAK\", \"HKG\", \"ZHA\"  …  \"LAX\", \"BZE\", \"FRS\", \"GUA\", \"ATL\", \"LAX\", \"RAR\", \"AIT\", \"AIU\", \"RAR\"], [\"WUH\", \"NTG\", \"CAN\", \"JIU\", \"CAN\", \"AEB\", \"CKG\", \"BFJ\", \"CKG\", \"WUX\"  …  \"LYS\", \"DUB\", \"EDI\", \"HER\", \"MUC\", \"CDG\", \"SCQ\", \"BIO\", \"LPA\", \"MAD\"], [\"WUH\", \"MFM\", \"RMQ\", \"MZG\", \"RMQ\", \"HAN\", \"CTU\", \"ICN\", \"CMB\", \"BLR\"  …  \"PHL\", \"BRU\", \"DUB\", \"MCO\", \"FLL\", \"HPN\", \"MVY\", \"HPN\", \"HYA\", \"BOS\"], [\"WUH\", \"URC\", \"CKG\", \"LZH\", \"SHA\", \"LCX\", \"SHA\", \"KWL\", \"KWE\", \"XNN\"  …  \"PHL\", \"AVP\", \"SFB\", \"SPI\", \" \", \" \", \" \", \" \", \" \", \" \"], [\"WUH\", \"CDG\", \"CZL\", \"NCE\", \"BCN\", \"EDI\", \"CDG\", \"CLY\", \"BOD\", \"MRS\"  …  \"LEX\", \"SFB\", \"PSM\", \"SFB\", \"GFK\", \"TVF\", \"GFK\", \"AZA\", \"FAR\", \"LAS\"], [\"WUH\", \"HGH\", \"LYI\", \"HGH\", \"BHY\", \"HAK\", \"NKG\", \"CIF\", \"HLD\", \"TGO\"  …  \"AMS\", \"JTR\", \"MAN\", \"VIE\", \"TXL\", \"FCO\", \"CMN\", \"MUC\", \"FRA\", \"CPH\"], [\"WUH\", \"PEK\", \"UYN\", \"TSN\", \"XIY\", \"LYI\", \"CAN\", \"XUZ\", \"XMN\", \"KWL\"  …  \"MRV\", \"ASF\", \"SCO\", \"AKX\", \"TSE\", \"FRA\", \"KIX\", \"DOH\", \"ALG\", \"MLA\"], [\"WUH\", \"TAO\", \"RMQ\", \"HAN\", \"PVG\", \"MRU\", \"JNB\", \"BEW\", \"UEL\", \"TET\"  …  \"HRE\", \"JNB\", \"ACC\", \"TKD\", \"ACC\", \"ADD\", \"DMM\", \"AMM\", \"KBP\", \"TLL\"]], Any[22, 1, 4, 165, 24, 50, 18, 3, 9, 14  …  9, 88, 108, 127, 202, 129, 46, 27, 14, 114], Any[219, 35, 40, 60, 171, 9, 166, 185, 148, 181  …  96, 64, 41, 196, 128, 122, 26, 96, 79, 61])"
      ]
     },
     "execution_count": 79,
     "metadata": {},
     "output_type": "execute_result"
    }
   ],
   "source": [
    "singapore_pasa_inf2 = busca_vuelos_pasa_inf2(singapore_WUH_MX2, singapore_airp)"
   ]
  },
  {
   "cell_type": "code",
   "execution_count": 80,
   "metadata": {},
   "outputs": [
    {
     "data": {
      "text/plain": [
       "(213, Any[[\"WUH\", \"LZH\", \"KMG\", \"CZX\", \"FOC\", \"MFM\", \"NKG\", \"KMG\", \"BSD\", \"KMG\"  …  \"SFJ\", \"UAK\", \"SFJ\", \"GOH\", \"KEF\", \"IAD\", \"BDL\", \"LAX\", \"ZLO\", \"MEX\"], [\"WUH\", \"SIN\", \"LOP\", \"SUB\", \"UPG\", \"DJJ\", \"UPG\", \"KUL\", \"BKK\", \"FCO\"  …  \" \", \" \", \" \", \" \", \" \", \" \", \" \", \" \", \" \", \" \"], [\"WUH\", \"HAK\", \"CGD\", \"CAN\", \"SIN\", \"TPE\", \"NRT\", \"CAN\", \"AEB\", \"CAN\"  …  \" \", \" \", \" \", \" \", \" \", \" \", \" \", \" \", \" \", \" \"], [\"WUH\", \"NTG\", \"DLC\", \"CJU\", \"TSN\", \"XNN\", \"CSX\", \"BHY\", \"CKG\", \"KRL\"  …  \"ARN\", \"BEG\", \"FMM\", \"CIA\", \"BUD\", \"FRA\", \"VCE\", \"JFK\", \"MSP\", \"DCA\"], [\"WUH\", \"CDG\", \"SPU\", \"HEL\", \"CKG\", \"JHG\", \"LPQ\", \"CNX\", \"UTH\", \"DMK\"  …  \"AMM\", \"KWI\", \"AMS\", \"BGO\", \"FAE\", \"SVG\", \"KRK\", \"NYO\", \"RJK\", \"HAM\"], [\"WUH\", \"YCU\", \"HGH\", \"SIN\", \"REP\", \"PKZ\", \"SGN\", \"DME\", \"AGP\", \"TSF\"  …  \"YVR\", \"YOW\", \"YEG\", \"YHM\", \"YHZ\", \"YYC\", \"EWR\", \"ANU\", \"YYZ\", \"SJU\"], [\"WUH\", \"HAK\", \"HFE\", \"KWL\", \"TPE\", \"WUH\", \"LZH\", \"SZX\", \"HAK\", \"SIN\"  …  \"CKY\", \"DKR\", \"CKY\", \"OXB\", \"RAI\", \"BVC\", \"MAN\", \"LAS\", \"BZN\", \"DEN\"], [\"WUH\", \"LYG\", \"FOC\", \"CTU\", \"KOW\", \"SZX\", \"RMQ\", \"KIX\", \"PEK\", \"JDZ\"  …  \"STL\", \"DFW\", \"PNS\", \"HOU\", \"STL\", \"BRL\", \"STL\", \"PUJ\", \"STL\", \"GRR\"], [\"WUH\", \"XNN\", \"CGO\", \"CGQ\", \"PEK\", \"LED\", \"KSQ\", \"LED\", \"NSK\", \"AER\"  …  \"FLL\", \"LIM\", \"TBP\", \"LIM\", \"ATL\", \"TTN\", \"MCO\", \"POS\", \"FLL\", \"CTG\"], [\"WUH\", \"DMK\", \"NNT\", \"CNX\", \"WUH\", \"YNT\", \"CAN\", \"BFJ\", \"SZX\", \"TAO\"  …  \"KJA\", \"LBD\", \"KJA\", \"KRR\", \"VKO\", \"KRR\", \"NUX\", \"OMS\", \"TAS\", \"GOJ\"]  …  [\"WUH\", \"ZYI\", \"HAK\", \"CAN\", \"JNG\", \"CTU\", \"NKG\", \"SHE\", \"XIY\", \"CTU\"  …  \"BIO\", \"LCG\", \"BIO\", \"MAN\", \"PSA\", \"MAD\", \"ICN\", \"YVR\", \"TPE\", \"TAO\"], [\"WUH\", \"CTU\", \"HAK\", \"TPE\", \"URC\", \"ISB\", \"GIL\", \"ISB\", \"CDG\", \"SVG\"  …  \"PMI\", \"GRQ\", \"MST\", \"TPS\", \"BVA\", \"MAN\", \"NOC\", \"TFS\", \"HAM\", \"MAH\"], [\"WUH\", \"MFM\", \"KIX\", \"HGH\", \"FOC\", \"SHA\", \"KWE\", \"HKT\", \"ICN\", \"NBO\"  …  \"AUS\", \"LAS\", \"AMA\", \"DAL\", \"HRL\", \"AUS\", \"MSP\", \"PUJ\", \"MAD\", \"DOH\"], [\"WUH\", \"DMK\", \"KOP\", \"DMK\", \"MFM\", \"SIN\", \"BDO\", \"JHB\", \"CGK\", \"TJQ\"  …  \"DUS\", \"TXL\", \"CDG\", \"PUF\", \"MRS\", \"BIA\", \"TLS\", \"ATH\", \"LYS\", \"ORN\"], [\"WUH\", \"TSN\", \"HAK\", \"TSN\", \"DYG\", \"PVG\", \"KIJ\", \"ITM\", \"HND\", \"MMY\"  …  \"TLE\", \"TNR\", \"NOS\", \"DIE\", \"RUN\", \"TNR\", \"SVB\", \"TNR\", \"MRU\", \"HKG\"], [\"WUH\", \"YNT\", \"HGH\", \"JHG\", \"TCZ\", \"LJG\", \"SHA\", \"XUZ\", \"SHE\", \"CAN\"  …  \"MMY\", \"ISG\", \"OKA\", \"HND\", \"TOY\", \"PVG\", \"KWE\", \"WNZ\", \"NAY\", \"DSN\"], [\"WUH\", \"HKG\", \"ICN\", \"OKA\", \"UEO\", \"OKA\", \"PUS\", \"KLO\", \"CEB\", \"SIN\"  …  \"LIR\", \"CLT\", \"CLE\", \"MSP\", \"MDW\", \"MEM\", \"HOU\", \"BWI\", \"SFO\", \"DTW\"], [\"WUH\", \"NTG\", \"CAN\", \"JIU\", \"CAN\", \"AEB\", \"CKG\", \"BFJ\", \"CKG\", \"WUX\"  …  \"LYS\", \"DUB\", \"EDI\", \"HER\", \"MUC\", \"CDG\", \"SCQ\", \"BIO\", \"LPA\", \"MAD\"], [\"WUH\", \"HGH\", \"LYI\", \"HGH\", \"BHY\", \"HAK\", \"NKG\", \"CIF\", \"HLD\", \"TGO\"  …  \"AMS\", \"JTR\", \"MAN\", \"VIE\", \"TXL\", \"FCO\", \"CMN\", \"MUC\", \"FRA\", \"CPH\"], [\"WUH\", \"PEK\", \"UYN\", \"TSN\", \"XIY\", \"LYI\", \"CAN\", \"XUZ\", \"XMN\", \"KWL\"  …  \"MRV\", \"ASF\", \"SCO\", \"AKX\", \"TSE\", \"FRA\", \"KIX\", \"DOH\", \"ALG\", \"MLA\"]])"
      ]
     },
     "execution_count": 80,
     "metadata": {},
     "output_type": "execute_result"
    }
   ],
   "source": [
    "SINGAPORE_MX2 = busca_vuelos_INF_MX(singapore_pasa_inf2, singapore_WUH_MX2)"
   ]
  }
 ],
 "metadata": {
  "@webio": {
   "lastCommId": null,
   "lastKernelId": null
  },
  "kernelspec": {
   "display_name": "Julia 1.1.0",
   "language": "julia",
   "name": "julia-1.1"
  },
  "language_info": {
   "file_extension": ".jl",
   "mimetype": "application/julia",
   "name": "julia",
   "version": "1.1.0"
  }
 },
 "nbformat": 4,
 "nbformat_minor": 2
}
