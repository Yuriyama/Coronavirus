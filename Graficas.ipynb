{
 "cells": [
  {
   "cell_type": "markdown",
   "metadata": {},
   "source": [
    "# Gráficas y Coeficiente de Difusión"
   ]
  },
  {
   "cell_type": "code",
   "execution_count": 1,
   "metadata": {},
   "outputs": [
    {
     "data": {
      "text/plain": [
       "Plots.PyPlotBackend()"
      ]
     },
     "execution_count": 1,
     "metadata": {},
     "output_type": "execute_result"
    }
   ],
   "source": [
    "using DelimitedFiles\n",
    "using Plots\n",
    "pyplot()"
   ]
  },
  {
   "cell_type": "code",
   "execution_count": 2,
   "metadata": {},
   "outputs": [
    {
     "data": {
      "text/plain": [
       "30-element Array{String,1}:\n",
       " \"Airlines\"     \n",
       " \"global\"       \n",
       " \"Star_Alliance\"\n",
       " \"Sky_Team\"     \n",
       " \"oneworld\"     \n",
       " \"MU\"           \n",
       " \"CZ\"           \n",
       " \"AF\"           \n",
       " \"CA\"           \n",
       " \"KE\"           \n",
       " \"HU\"           \n",
       " \"CX\"           \n",
       " \"GS\"           \n",
       " ⋮              \n",
       " \"SC\"           \n",
       " \"HO\"           \n",
       " \"JD\"           \n",
       " \"KA\"           \n",
       " \"8L\"           \n",
       " \"MI\"           \n",
       " \"FD\"           \n",
       " \"PN\"           \n",
       " \"EU\"           \n",
       " \"NS\"           \n",
       " \"KY\"           \n",
       " \"BX\"           "
      ]
     },
     "execution_count": 2,
     "metadata": {},
     "output_type": "execute_result"
    }
   ],
   "source": [
    "info_aerolineas = readdlm(\"/Users/yuriko/Documents/UNAM/Tesis_Lic/data/aerolineas_matrices/nueva_lista_aerolineas_art.csv\", ',', String)\n",
    "lista_aerolineas = info_aerolineas[:, 2]"
   ]
  },
  {
   "cell_type": "code",
   "execution_count": 3,
   "metadata": {},
   "outputs": [
    {
     "data": {
      "text/plain": [
       "29-element Array{Any,1}:\n",
       " [0]\n",
       " [0]\n",
       " [0]\n",
       " [0]\n",
       " [0]\n",
       " [0]\n",
       " [0]\n",
       " [0]\n",
       " [0]\n",
       " [0]\n",
       " [0]\n",
       " [0]\n",
       " [0]\n",
       " ⋮  \n",
       " [0]\n",
       " [0]\n",
       " [0]\n",
       " [0]\n",
       " [0]\n",
       " [0]\n",
       " [0]\n",
       " [0]\n",
       " [0]\n",
       " [0]\n",
       " [0]\n",
       " [0]"
      ]
     },
     "execution_count": 3,
     "metadata": {},
     "output_type": "execute_result"
    }
   ],
   "source": [
    "#LEO CANTIDAD DE CAMINATAS (DE 1000) QUE PASAN POR MÉXICO Y ES INFECTADO POR WUH\n",
    "\n",
    "num_vuelos_directos = []\n",
    "\n",
    "for k in 2:length(lista_aerolineas)\n",
    "    \n",
    "    airline_code = lista_aerolineas[k]\n",
    "    aerolinea_carpeta = airline_code\n",
    "    archivo_rw_MX_inf_num = string(airline_code, \"_cantidad_MX.csv\")\n",
    "   \n",
    "    wuh_mx = readdlm(\"/Users/yuriko/Downloads/codejulia/datart/$aerolinea_carpeta/caminatas/$archivo_rw_MX_inf_num\", ',', Int64)\n",
    "    \n",
    "    push!(num_vuelos_directos, wuh_mx)\n",
    "    \n",
    "end\n",
    "\n",
    "return num_vuelos_directos"
   ]
  },
  {
   "cell_type": "code",
   "execution_count": 4,
   "metadata": {},
   "outputs": [
    {
     "data": {
      "text/plain": [
       "29-element Array{Any,1}:\n",
       " [894]\n",
       " [936]\n",
       " [893]\n",
       " [744]\n",
       " [0]  \n",
       " [0]  \n",
       " [577]\n",
       " [566]\n",
       " [0]  \n",
       " [0]  \n",
       " [0]  \n",
       " [0]  \n",
       " [0]  \n",
       " ⋮    \n",
       " [0]  \n",
       " [0]  \n",
       " [0]  \n",
       " [0]  \n",
       " [0]  \n",
       " [0]  \n",
       " [0]  \n",
       " [0]  \n",
       " [0]  \n",
       " [0]  \n",
       " [0]  \n",
       " [0]  "
      ]
     },
     "execution_count": 4,
     "metadata": {},
     "output_type": "execute_result"
    }
   ],
   "source": [
    "#LEO CANTIDAD DE CAMINATAS (DE 1000) QUE PASAN POR MÉXICO Y ES INFECTADO POR OTROS AEROPUERTOS INFECTADOS\n",
    "\n",
    "num_vuelos_infectados = []\n",
    "\n",
    "for k in 2:length(lista_aerolineas)\n",
    "    \n",
    "    airline_code = lista_aerolineas[k]\n",
    "    aerolinea_carpeta = airline_code\n",
    "    archivo_rw_inf_MX_num = string(airline_code, \"_cantidad_inf_MX.csv\")\n",
    "   \n",
    "    wuh_inf = readdlm(\"/Users/yuriko/Downloads/codejulia/datart/$aerolinea_carpeta/caminatas/$archivo_rw_inf_MX_num\", ',', Int64)\n",
    "    \n",
    "    push!(num_vuelos_infectados, wuh_inf)\n",
    "    \n",
    "end\n",
    "\n",
    "return num_vuelos_infectados"
   ]
  },
  {
   "cell_type": "code",
   "execution_count": 5,
   "metadata": {
    "scrolled": true
   },
   "outputs": [
    {
     "name": "stdout",
     "output_type": "stream",
     "text": [
      "L = 729490726\n",
      "D = 407992.5760626398\n",
      "L = 750831010\n",
      "D = 401084.94123931625\n",
      "L = 494151547\n",
      "D = 276680.5974244121\n",
      "L = 148081358\n",
      "D = 99517.04166666667\n",
      "L = 293177444\n",
      "D = 254053.24436741768\n",
      "L = 566000000\n",
      "D = 500000.0\n"
     ]
    }
   ],
   "source": [
    "#function coef_difusion()\n",
    "redes_a_analizar = [2, 3, 4, 5, 8, 9]\n",
    "\n",
    "for k in 1:6\n",
    "       \n",
    "    L = 0\n",
    "    red = redes_a_analizar[k]\n",
    "    airline_code = lista_aerolineas[red]\n",
    "    aerolinea_carpeta = airline_code\n",
    "    archivo_rw_inf_MX_num = string(airline_code, \"_cantidad_inf_MX.csv\") #nombre cantidad caminatas infectadas-MX\n",
    "    archivo_rw_inf_MX_sub = string(airline_code, \"_subconj_inf_MX.csv\") #nombre subconjunto caminatas infectadas-MX\n",
    "  \n",
    "    n = readdlm(\"/Users/yuriko/Downloads/codejulia/datart/$aerolinea_carpeta/caminatas/$archivo_rw_inf_MX_num\", ',', Int64)\n",
    "    S = readdlm(\"/Users/yuriko/Downloads/codejulia/datart/$aerolinea_carpeta/caminatas/$archivo_rw_inf_MX_sub\", ',', String)\n",
    "       \n",
    "    for i in 1:n[]\n",
    "        \n",
    "        if S[i, :][end] == \" \"\n",
    "       \n",
    "            L += (findfirst(x -> x == \" \", S[i, :]) - 1)^2\n",
    "            \n",
    "            elseif S[i, :][end] != \" \"\n",
    "            \n",
    "            L += (1000)^2\n",
    "        end\n",
    "    end\n",
    "    \n",
    "    D = L / 2n[] \n",
    "    @show L\n",
    "    @show D\n",
    "   \n",
    "    #archivo_coef_dif = string(airline_code, \"_coef_difusion.csv\") #nombre coef difusion\n",
    "    #writedlm(\"/Users/yuriko/Downloads/codejulia/datart/$aerolinea_carpeta/caminatas/$archivo_coef_dif\", D, ',')\n",
    "\n",
    "end    "
   ]
  },
  {
   "cell_type": "code",
   "execution_count": 6,
   "metadata": {},
   "outputs": [
    {
     "data": {
      "text/plain": [
       "0-element Array{Any,1}"
      ]
     },
     "execution_count": 6,
     "metadata": {},
     "output_type": "execute_result"
    }
   ],
   "source": [
    "Ls = []"
   ]
  },
  {
   "cell_type": "markdown",
   "metadata": {},
   "source": [
    "## Histogramas caminatas infectadas"
   ]
  },
  {
   "cell_type": "code",
   "execution_count": 7,
   "metadata": {},
   "outputs": [
    {
     "data": {
      "image/png": "[encoded data removed]"
     },
     "execution_count": 7,
     "metadata": {},
     "output_type": "execute_result"
    }
   ],
   "source": [
    "#Airlines porcentaje_WUH_inf_MX\n",
    "aerolineas_inf = [\"ATN\", \"Star Alliance\", \"Sky Team\", \"oneworld\", \"AF\", \"CA\"]\n",
    "porcentaje_inf = [89.4, 93.6, 89.3, 74.4, 57.7, 56.6]\n",
    "\n",
    "graph = bar(aerolineas_inf, porcentaje_inf, \n",
    "    fillcolor = :coral, \n",
    "    alpha = 0.8,\n",
    "    grid = :y,\n",
    "    #markersize = 3, \n",
    "    linealpha = 0,\n",
    "    title = \"Porcentaje de Caminatas Infectadas\",\n",
    "    xlabel = \"Redes\",\n",
    "    ylabel = \"Porcentaje\",\n",
    "    legend = :none,\n",
    "    #xlims = (-10,250), #obtener límites\n",
    "    ylims = (0,100)) #obtener límites"
   ]
  },
  {
   "cell_type": "markdown",
   "metadata": {},
   "source": [
    "## Cobertura de cada red"
   ]
  },
  {
   "cell_type": "code",
   "execution_count": 8,
   "metadata": {
    "scrolled": false
   },
   "outputs": [
    {
     "data": {
      "text/plain": [
       "29-element Array{Any,1}:\n",
       " 418.34 \n",
       " 295.176\n",
       " 243.242\n",
       " 133.974\n",
       " 148.012\n",
       " 116.66 \n",
       " 103.28 \n",
       " 139.194\n",
       "  99.903\n",
       "  62.247\n",
       "  93.714\n",
       "  86.36 \n",
       "  82.606\n",
       "   ⋮    \n",
       "  58.409\n",
       "  52.773\n",
       "  48.333\n",
       "  46.997\n",
       "  44.809\n",
       "  44.999\n",
       "  37.0  \n",
       "  34.517\n",
       "  31.98 \n",
       "  28.982\n",
       "  21.999\n",
       "  15.0  "
      ]
     },
     "execution_count": 8,
     "metadata": {},
     "output_type": "execute_result"
    }
   ],
   "source": [
    "#LEO TODAS LAS COBERTURAS DEL VÉRTICE/AEROPUERTO WUH\n",
    "\n",
    "coberturas_wuh = []\n",
    "\n",
    "for k in 2:length(lista_aerolineas)\n",
    "    \n",
    "    airline_code = lista_aerolineas[k]\n",
    "    aerolinea_carpeta = airline_code\n",
    "    \n",
    "    archivo_cobertura_vertex = string(airline_code, \"_vertex_coverage.csv\")\n",
    "   \n",
    "    cobertura = readdlm(\"/Users/yuriko/Downloads/codejulia/datart/$aerolinea_carpeta/cobertura/$archivo_cobertura_vertex\", ',', Float64)\n",
    "    \n",
    "    push!(coberturas_wuh, cobertura[])\n",
    "    \n",
    "end\n",
    "\n",
    "return coberturas_wuh"
   ]
  },
  {
   "cell_type": "code",
   "execution_count": 9,
   "metadata": {},
   "outputs": [],
   "source": [
    "coberturas_wuh = convert(Array{Float64,1}, coberturas_wuh);"
   ]
  },
  {
   "cell_type": "code",
   "execution_count": 10,
   "metadata": {},
   "outputs": [
    {
     "data": {
      "text/plain": [
       "30×3 Array{Any,2}:\n",
       "    \"Cobertura prom\"  \"Airlines\"         \"%Cobertura\"\n",
       " 418.34               \"global\"         13.6178       \n",
       " 295.176              \"Star Alliance\"   9.60859      \n",
       " 243.242              \"Sky Team\"        7.91803      \n",
       " 133.974              \"oneworld\"        4.36113      \n",
       " 148.012              \"MU\"              4.8181       \n",
       " 116.66               \"CZ\"              3.79753      \n",
       " 103.28               \"AF\"              3.36198      \n",
       " 139.194              \"CA\"              4.53105      \n",
       "  99.903              \"KE\"              3.25205      \n",
       "  62.247              \"HU\"              2.02627      \n",
       "  93.714              \"CX\"              3.05059      \n",
       "  86.36               \"GS\"              2.8112       \n",
       "   ⋮                                                 \n",
       "  58.409              \"SC\"              1.90133      \n",
       "  52.773              \"HO\"              1.71787      \n",
       "  48.333              \"JD\"              1.57334      \n",
       "  46.997              \"KA\"              1.52985      \n",
       "  44.809              \"8L\"              1.45863      \n",
       "  44.999              \"MI\"              1.46481      \n",
       "  37.0                \"FD\"              1.2          \n",
       "  34.517              \"PN\"              1.1236       \n",
       "  31.98               \"EU\"              1.04102      \n",
       "  28.982              \"NS\"              0.943424     \n",
       "  21.999              \"KY\"              0.716113     \n",
       "  15.0                \"BX\"              0.5          "
      ]
     },
     "execution_count": 10,
     "metadata": {},
     "output_type": "execute_result"
    }
   ],
   "source": [
    "porcentaje_cobert = readdlm(\"/Users/yuriko/Documents/UNAM/Tesis_Lic/Articulo/Random_walks/Tabla_riesgo-mex/Porcentaje_coberturas.csv\", '\\t', Any)"
   ]
  },
  {
   "cell_type": "code",
   "execution_count": 11,
   "metadata": {},
   "outputs": [],
   "source": [
    "porc = porcentaje_cobert[:,3][2:end];\n",
    "porc = convert(Array{Float64,1}, porc);"
   ]
  },
  {
   "cell_type": "code",
   "execution_count": 12,
   "metadata": {},
   "outputs": [
    {
     "data": {
      "image/png": "[encoded data removed]"
     },
     "execution_count": 12,
     "metadata": {},
     "output_type": "execute_result"
    }
   ],
   "source": [
    "# COBERTURA DE CADA RED\n",
    "\n",
    "aerolinea_red = [\"ATN\", \"Star Alliance\", \"Sky Team\", \"oneworld\", \"MU\", \"CZ\", \"AF\", \"CA\", \"KE\", \n",
    "    \"HU\", \"CX\", \"GS\", \"3U\", \"FM\", \"CI\", \"ZH\", \"MF\", \"SC\", \"HO\", \"JD\", \"KA\", \"8L\", \"MI\", \"FD\", \n",
    "    \"FD\", \"PN\", \"EU\", \"NS\", \"KY\", \"BX\"] #lista_aerolineas[2:end]\n",
    "#@show aerolinea_red\n",
    "cobertura_red = porc #coberturas_wuh\n",
    "#@show cobertura_red\n",
    "\n",
    "graph = bar(aerolinea_red, cobertura_red,   \n",
    "    bar_width = 0.8,\n",
    "    orientation = :horizontal,\n",
    "    fillcolor = :crimson, \n",
    "    alpha = 0.8,\n",
    "    grid = :x,\n",
    "    #markersize = 3, \n",
    "    linealpha = 0,\n",
    "    title = \"Porcentaje de Cobertura\",\n",
    "    xlabel = \"Porcentaje\",\n",
    "    ylabel = \"Redes\",\n",
    "    xticks = :all,\n",
    "    yticks = :all,\n",
    "    tickfonthalign = :hcenter,\n",
    "    tickfontvalign = :vcenter,\n",
    "    #tick_direction = :out,\n",
    "    legend = :none,\n",
    "    xrotation = 0)\n",
    "    #xlims = (-10,250), #obtener límites\n",
    "    #ylims = (0,100)) #obtener límites"
   ]
  },
  {
   "cell_type": "markdown",
   "metadata": {},
   "source": [
    "## Histograma por tiempos \n",
    "## ATN"
   ]
  },
  {
   "cell_type": "code",
   "execution_count": 13,
   "metadata": {},
   "outputs": [
    {
     "data": {
      "text/plain": [
       "10-element Array{Int64,1}:\n",
       "  85\n",
       " 167\n",
       " 260\n",
       " 350\n",
       " 442\n",
       " 531\n",
       " 617\n",
       " 714\n",
       " 806\n",
       " 894"
      ]
     },
     "execution_count": 13,
     "metadata": {},
     "output_type": "execute_result"
    }
   ],
   "source": [
    "#LEO CANTIDAD DE CAMINATAS (DE 1000) QUE PASAN POR MÉXICO Y ES INFECTADO POR OTROS AEROPUERTOS INFECTADOS\n",
    "\n",
    "cantidad_infectados_t = []\n",
    "\n",
    "for k = 2 #2:length(lista_aerolineas)\n",
    "    \n",
    "    airline_code = lista_aerolineas[k]\n",
    "    aerolinea_carpeta = airline_code\n",
    "    \n",
    "    for i in 1:10\n",
    "    \n",
    "        archivo_cantidad_t = string(airline_code, \"_cantidad_inf_MX_t\", i, \".csv\")\n",
    "        #@show archivo_cantidad_t\n",
    "        cant_inf_t = readdlm(\"/Users/yuriko/Downloads/codejulia/datart/$aerolinea_carpeta/caminatas/$archivo_cantidad_t\", ',', Int64)\n",
    "        #@show cant_inf_t\n",
    "        push!(cantidad_infectados_t, cant_inf_t[])\n",
    "        \n",
    "    end\n",
    "    \n",
    "   \n",
    "end\n",
    "cantidad_infectados_t = convert(Array{Int64, 1}, cantidad_infectados_t)\n",
    "return cantidad_infectados_t"
   ]
  },
  {
   "cell_type": "code",
   "execution_count": 14,
   "metadata": {},
   "outputs": [
    {
     "data": {
      "text/plain": [
       "10-element Array{Float64,1}:\n",
       "  8.5\n",
       " 16.7\n",
       " 26.0\n",
       " 35.0\n",
       " 44.2\n",
       " 53.1\n",
       " 61.7\n",
       " 71.4\n",
       " 80.6\n",
       " 89.4"
      ]
     },
     "execution_count": 14,
     "metadata": {},
     "output_type": "execute_result"
    }
   ],
   "source": [
    "porcent_cant_inf = []\n",
    "\n",
    "for j in 1:10\n",
    "    \n",
    "    push!(porcent_cant_inf, (cantidad_infectados_t[j] * 100) / 1000)\n",
    "    \n",
    "end\n",
    "\n",
    "porcent_cant_inf = convert(Array{Float64, 1}, porcent_cant_inf)\n",
    "    "
   ]
  },
  {
   "cell_type": "code",
   "execution_count": 31,
   "metadata": {},
   "outputs": [
    {
     "data": {
      "image/png": "[encoded data removed]"
     },
     "execution_count": 31,
     "metadata": {},
     "output_type": "execute_result"
    }
   ],
   "source": [
    "#aerolineas_inf = [\"ATN\", \"Star Alliance\", \"Sky Team\", \"oneworld\", \"AF\", \"CA\"]\n",
    "#porcentaje_inf = [89.4, 93.6, 89.3, 74.4, 57.7, 56.6]\n",
    "xx = [\"t1\", \"t2\", \"t3\", \"t4\", \"t5\", \"t6\", \"t7\", \"t8\", \"t9\", \"t10\"]\n",
    "\n",
    "graph = plot(xx, porcent_cant_inf)\n",
    "scatter!(xx, porcent_cant_inf, \n",
    "    #line=(:dot, 4),\n",
    "    markersize = 5,\n",
    "    markercolor = :dodgerblue,\n",
    "    markerstrokealpha = 0,\n",
    "    markerstrokewidth = 0,\n",
    "    fillcolor = :coral, \n",
    "    alpha = 0.8,\n",
    "    grid = :y,\n",
    "    #markersize = 3, \n",
    "    #linealpha = 0,\n",
    "    title = \"Caminatas de la ATN Infectadas en el Tiempo\",\n",
    "    xlabel = \"Tiempo\",\n",
    "    ylabel = \"Porcentaje\",\n",
    "    legend = :none,\n",
    "    yticks = 0:10:100,\n",
    "    #xlims = (-10,250), #obtener límites\n",
    "    ylims = (0,100)) #obtener límites\n"
   ]
  },
  {
   "cell_type": "code",
   "execution_count": null,
   "metadata": {},
   "outputs": [],
   "source": []
  },
  {
   "cell_type": "markdown",
   "metadata": {},
   "source": [
    "## Histograma por tiempos \n",
    "## Star Alliance"
   ]
  },
  {
   "cell_type": "code",
   "execution_count": 16,
   "metadata": {},
   "outputs": [
    {
     "data": {
      "text/plain": [
       "10-element Array{Int64,1}:\n",
       "  91\n",
       " 185\n",
       " 281\n",
       " 378\n",
       " 475\n",
       " 567\n",
       " 658\n",
       " 751\n",
       " 841\n",
       " 936"
      ]
     },
     "execution_count": 16,
     "metadata": {},
     "output_type": "execute_result"
    }
   ],
   "source": [
    "#LEO CANTIDAD DE CAMINATAS (DE 1000) QUE PASAN POR MÉXICO Y ES INFECTADO POR OTROS AEROPUERTOS INFECTADOS\n",
    "\n",
    "cantidad_infectados_t = []\n",
    "\n",
    "for k = 3 #2:length(lista_aerolineas)\n",
    "    \n",
    "    airline_code = lista_aerolineas[k]\n",
    "    aerolinea_carpeta = airline_code\n",
    "    \n",
    "    for i in 1:10\n",
    "    \n",
    "        archivo_cantidad_t = string(airline_code, \"_cantidad_inf_MX_t\", i, \".csv\")\n",
    "        #@show archivo_cantidad_t\n",
    "        cant_inf_t = readdlm(\"/Users/yuriko/Downloads/codejulia/datart/$aerolinea_carpeta/caminatas/$archivo_cantidad_t\", ',', Int64)\n",
    "        #@show cant_inf_t\n",
    "        push!(cantidad_infectados_t, cant_inf_t[])\n",
    "        \n",
    "    end\n",
    "    \n",
    "   \n",
    "end\n",
    "cantidad_infectados_t = convert(Array{Int64, 1}, cantidad_infectados_t)\n",
    "return cantidad_infectados_t"
   ]
  },
  {
   "cell_type": "code",
   "execution_count": 17,
   "metadata": {},
   "outputs": [
    {
     "data": {
      "text/plain": [
       "10-element Array{Float64,1}:\n",
       "  9.1\n",
       " 18.5\n",
       " 28.1\n",
       " 37.8\n",
       " 47.5\n",
       " 56.7\n",
       " 65.8\n",
       " 75.1\n",
       " 84.1\n",
       " 93.6"
      ]
     },
     "execution_count": 17,
     "metadata": {},
     "output_type": "execute_result"
    }
   ],
   "source": [
    "porcent_cant_inf = []\n",
    "\n",
    "for j in 1:10\n",
    "    \n",
    "    push!(porcent_cant_inf, (cantidad_infectados_t[j] * 100) / 1000)\n",
    "    \n",
    "end\n",
    "\n",
    "porcent_cant_inf = convert(Array{Float64, 1}, porcent_cant_inf)\n",
    "    "
   ]
  },
  {
   "cell_type": "code",
   "execution_count": 18,
   "metadata": {},
   "outputs": [
    {
     "data": {
      "image/png": "[encoded data removed]"
     },
     "execution_count": 18,
     "metadata": {},
     "output_type": "execute_result"
    }
   ],
   "source": [
    "#aerolineas_inf = [\"ATN\", \"Star Alliance\", \"Sky Team\", \"oneworld\", \"AF\", \"CA\"]\n",
    "#porcentaje_inf = [89.4, 93.6, 89.3, 74.4, 57.7, 56.6]\n",
    "x = [\"t1\", \"t2\", \"t3\", \"t4\", \"t5\", \"t6\", \"t7\", \"t8\", \"t9\", \"t10\"]\n",
    "\n",
    "graph = scatter(x, porcent_cant_inf, \n",
    "    #line=(:dot, 4),\n",
    "    #markersize = 4,\n",
    "    #markerstrokestyle = :dot,\n",
    "    fillcolor = :coral, \n",
    "    alpha = 0.8,\n",
    "    grid = :y,\n",
    "    #markersize = 3, \n",
    "    #linealpha = 0,\n",
    "    title = \"Porcentaje de Caminatas Infectadas en el Tiempo\",\n",
    "    xlabel = \"Tiempo\",\n",
    "    ylabel = \"Porcentaje\",\n",
    "    legend = :none,\n",
    "    yticks = 0:10:100,\n",
    "    #xlims = (-10,250), #obtener límites\n",
    "    ylims = (0,100)) #obtener límites\n",
    "plot!(x, porcent_cant_inf)\n"
   ]
  },
  {
   "cell_type": "code",
   "execution_count": null,
   "metadata": {},
   "outputs": [],
   "source": []
  }
 ],
 "metadata": {
  "@webio": {
   "lastCommId": null,
   "lastKernelId": null
  },
  "kernelspec": {
   "display_name": "Julia 1.1.0",
   "language": "julia",
   "name": "julia-1.1"
  },
  "language_info": {
   "file_extension": ".jl",
   "mimetype": "application/julia",
   "name": "julia",
   "version": "1.1.0"
  }
 },
 "nbformat": 4,
 "nbformat_minor": 2
}
