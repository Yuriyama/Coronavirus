{
 "cells": [
  {
   "cell_type": "markdown",
   "metadata": {},
   "source": [
    "# Gráficas"
   ]
  },
  {
   "cell_type": "code",
   "execution_count": 1,
   "metadata": {},
   "outputs": [
    {
     "data": {
      "text/plain": [
       "Plots.PyPlotBackend()"
      ]
     },
     "execution_count": 1,
     "metadata": {},
     "output_type": "execute_result"
    }
   ],
   "source": [
    "using DelimitedFiles\n",
    "using Plots\n",
    "pyplot()"
   ]
  },
  {
   "cell_type": "code",
   "execution_count": 2,
   "metadata": {},
   "outputs": [
    {
     "data": {
      "text/plain": [
       "30-element Array{String,1}:\n",
       " \"Airlines\"     \n",
       " \"global\"       \n",
       " \"Star_Alliance\"\n",
       " \"Sky_Team\"     \n",
       " \"oneworld\"     \n",
       " \"MU\"           \n",
       " \"CZ\"           \n",
       " \"AF\"           \n",
       " \"CA\"           \n",
       " \"KE\"           \n",
       " \"HU\"           \n",
       " \"CX\"           \n",
       " \"GS\"           \n",
       " ⋮              \n",
       " \"SC\"           \n",
       " \"HO\"           \n",
       " \"JD\"           \n",
       " \"KA\"           \n",
       " \"8L\"           \n",
       " \"MI\"           \n",
       " \"FD\"           \n",
       " \"PN\"           \n",
       " \"EU\"           \n",
       " \"NS\"           \n",
       " \"KY\"           \n",
       " \"BX\"           "
      ]
     },
     "execution_count": 2,
     "metadata": {},
     "output_type": "execute_result"
    }
   ],
   "source": [
    "info_aerolineas = readdlm(\"/Users/yuriko/Documents/UNAM/Tesis_Lic/data/aerolineas_matrices/nueva_lista_aerolineas_art.csv\", ',', String)\n",
    "lista_aerolineas = info_aerolineas[:, 2]"
   ]
  },
  {
   "cell_type": "code",
   "execution_count": 3,
   "metadata": {},
   "outputs": [
    {
     "data": {
      "text/plain": [
       "29-element Array{Any,1}:\n",
       " [0]\n",
       " [0]\n",
       " [0]\n",
       " [0]\n",
       " [0]\n",
       " [0]\n",
       " [0]\n",
       " [0]\n",
       " [0]\n",
       " [0]\n",
       " [0]\n",
       " [0]\n",
       " [0]\n",
       " ⋮  \n",
       " [0]\n",
       " [0]\n",
       " [0]\n",
       " [0]\n",
       " [0]\n",
       " [0]\n",
       " [0]\n",
       " [0]\n",
       " [0]\n",
       " [0]\n",
       " [0]\n",
       " [0]"
      ]
     },
     "execution_count": 3,
     "metadata": {},
     "output_type": "execute_result"
    }
   ],
   "source": [
    "#LEO CANTIDAD DE CAMINATAS (DE 1000) QUE PASAN POR MÉXICO Y ES INFECTADO POR WUH\n",
    "\n",
    "num_vuelos_directos = []\n",
    "\n",
    "for k in 2:length(lista_aerolineas)\n",
    "    \n",
    "    airline_code = lista_aerolineas[k]\n",
    "    aerolinea_carpeta = airline_code\n",
    "    archivo_rw_MX_inf_num = string(airline_code, \"_cantidad_MX.csv\")\n",
    "   \n",
    "    wuh_mx = readdlm(\"/Users/yuriko/Downloads/codejulia/datart/$aerolinea_carpeta/caminatas/$archivo_rw_MX_inf_num\", ',', Int64)\n",
    "    \n",
    "    push!(num_vuelos_directos, wuh_mx)\n",
    "    \n",
    "end\n",
    "\n",
    "return num_vuelos_directos"
   ]
  },
  {
   "cell_type": "code",
   "execution_count": null,
   "metadata": {},
   "outputs": [],
   "source": [
    "readdlm(\"/Users/yuriko/Downloads/codejulia/datart/aerolineas_matrices/nueva_lista_aerolineas_art.csv\", ',', String)"
   ]
  }
 ],
 "metadata": {
  "kernelspec": {
   "display_name": "Julia 1.1.0",
   "language": "julia",
   "name": "julia-1.1"
  },
  "language_info": {
   "file_extension": ".jl",
   "mimetype": "application/julia",
   "name": "julia",
   "version": "1.1.0"
  }
 },
 "nbformat": 4,
 "nbformat_minor": 2
}
